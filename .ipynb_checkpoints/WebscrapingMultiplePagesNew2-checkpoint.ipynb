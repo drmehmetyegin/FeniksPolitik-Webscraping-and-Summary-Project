{
 "cells": [
  {
   "cell_type": "code",
   "execution_count": 22,
   "metadata": {
    "scrolled": true
   },
   "outputs": [],
   "source": [
    "\n",
    "import requests"
   ]
  },
  {
   "cell_type": "code",
   "execution_count": 23,
   "metadata": {},
   "outputs": [],
   "source": [
    "from bs4 import BeautifulSoup"
   ]
  },
  {
   "cell_type": "code",
   "execution_count": 24,
   "metadata": {},
   "outputs": [],
   "source": [
    "import pandas as pd"
   ]
  },
  {
   "cell_type": "code",
   "execution_count": 25,
   "metadata": {},
   "outputs": [],
   "source": [
    "url_list=['https://www.hurriyet.com.tr/yazarlar/abdulkadir-selvi/mit-ile-mossad-arasinda-casuslar-savasi-mi-yasanacak-42372908','https://www.hurriyet.com.tr/yazarlar/abdulkadir-selvi/denizbank-yoneticileri-ponzi-secil-olayinda-ifadeye-cagrilmis-42372337','https://www.hurriyet.com.tr/yazarlar/abdulkadir-selvi/icisleri-bakani-ile-konustuklarimiz-ve-izlenimim-42371864','https://www.hurriyet.com.tr/yazarlar/abdulkadir-selvi/iyi-partinin-karari-secim-sonuclarini-etkileyecek-42371339','https://www.hurriyet.com.tr/yazarlar/abdulkadir-selvi/iyi-parti-chp-ile-secim-isbirligi-karari-alacak-mi-42370843','https://www.hurriyet.com.tr/yazarlar/abdulkadir-selvi/cumhurbaskani-erdogan-dubai-donusu-gazetecilere-konustu-dilan-polat-secil-erzan-sorusu-ve-erdoganin-tavri-42370462','https://www.hurriyet.com.tr/yazarlar/abdulkadir-selvi/ponzi-secilin-verdigi-sifre-ve-denizbankin-dilekcesindeki-celiski-42369442']"
   ]
  },
  {
   "cell_type": "code",
   "execution_count": 26,
   "metadata": {},
   "outputs": [
    {
     "name": "stderr",
     "output_type": "stream",
     "text": [
      "Some characters could not be decoded, and were replaced with REPLACEMENT CHARACTER.\n",
      "Some characters could not be decoded, and were replaced with REPLACEMENT CHARACTER.\n"
     ]
    },
    {
     "name": "stdout",
     "output_type": "stream",
     "text": [
      "[['Abdulkadir Selvi', 'MİT ile MOSSAD arasında casuslar savaşı mı yaşanacak', 'Aralık 08, 2023', 'Haberin Devamı1. ERDOĞAN UYARDICumhurbaşkanı Erdoğan, “Her şeyden önce bu haberi yapanlar demek ki Türkiye’yi tanımıyorlar. Türkleri tanımıyorlar. Bizi tanımıyorlar. Böyle bir yanlışa tevessül etmeleri halinde şunu bilmeleri gerekir ki bunun bedelini, bunun faturasını çok ama çok ağır öderler” dedi.Erdoğan’ın bu uyarısının sahada ne anlama geldiğini en iyi MOSSAD bilir.2. İSTİHBARATIN TEPKİSİAnadolu Ajansı’na konuşan istihbarat yetkilileri, muhtelif istihbarat servislerinin daha önce de Türkiye Cumhuriyeti topraklarında yasadışı faaliyetler gerçekleştirmeye çalıştığını anımsatarak, hiçbir servisin bu tür operasyonlarına müsaade edilmeyeceğini vurguladı.3. MOSSAD ENSELENMİŞTİİstihbarat yetkililerinin uyarısını en iyi MOSSAD bilir. Çünkü 2021 yılında İstanbul’da Filistinli aktivistlere yönelik suikast hazırlığı içinde olan 7 MOSSAD ajanı yakalanmıştı. MOSSAD’ın güvenli evlerine baskın yapılmış Türkiye’deki hücreleri çökertilmişti. Ajanlar şimdi cezaevinde gün dolduruyorlar.Haberin Devamı4. MOSSAD’IN İMAJI SARSILDIHamas’ın 7 Ekim’de yaptığı eylem MOSSAD’ın imajını sarstı. Hatta alay konusu olmasına neden oldu. Netanyahu kendini kurtarmak, MOSSAD bozulan imajını düzeltmek için bu tür açıklamalar yapıyor ama bunun bedeli çok ağır olabilir. Çünkü ne MOSSAD eski MOSSAD ne MİT eski MİT.5. MOSSAD, MİT’E BAŞVURMUŞHamas’ın 7 Ekim’de yaptığı eylemin istihbaratını alamayan MOSSAD rehinelerin kurtarılması konusunda MİT’ten yardım istemiş. Rehinelerin kurtarılması için Katar, Mısır ve ABD ile yoğun bir müzakere yürüten MİT, geçici ateşkes sürecinde Hamas’ın rehinelerin bir bölümünün bırakılmasını sağlamıştı. MOSSAD bunun üzerine MİT’e teşekkür üzerine teşekkür etmiş.6. İSRAİLLİ TURİST KAFİLESİ2022 yılında MİT ile İstanbul Emniyeti ortak bir operasyon yaparak İsrailli bir turist kafilesine yönelik İran istihbaratının suikast girişimi önlemişti. İran ajanları silahları ile kıskıvrak yakalanmış, İsrailli turist kafilesi MİT’in zırhlı araçları ile uçağa yerleştirilip burunları kanamadan İsrail’e gönderilmişti. MOSSAD bunun üzerine MİT’e çok ama çok teşekkür etmiş.Haberin DevamıMOSSAD DÜŞÜNSÜNDemem o ki İsrail Türkiye’yi Türkiye İsrail’i, MOSSAD MİT’i, MİT MOSSAD’ı iyi tanır. Eğer buna rağmen MOSSAD bir çılgınlık yapmaya kalkışırsa sonucuna da katlanır. Gerisini Netanyahu ve MOSSAD düşünsün.CHP VE İYİ PARTİ’DE EKREM İMAMOĞLU SORUNSALI BÜYÜYORASLINDA başlıkta, “Ekrem İmamoğlu sorunu” demem gerekiyordu. Biraz janjanlı olsun diye “sorunsalı” demeyi tercih ettim.Bir süre önce, “Ekrem İmamoğlu’nun parmağı İYİ Parti’nin içinde. Partiyi mikser gibi karıştırıyor” diye yazmıştım.Meral Akşener, ne zaman ki Ekrem İmamoğlu’nu hedef aldı, “başkalarının siyasi kariyerine zıplama tahtası olmadan yapacağız” dedi...MİLLETVEKİLİNİN İSTİFASIHaberin DevamıMeral Akşener bu konuşmayı yaptıktan 5 saat sonra İstanbul Milletvekili Ayşe Sibel Yanıkömeroğlu İYİ Parti’den istifa etti. Yanıkömeroğlu, Meral Akşener’in kontenjanından milletvekili listelerine giren bir isimdi. İYİ Parti’den Kadıköy belediye başkan adaylığı için başvuruda bulunan sanatçı Emre Kınay’ı partiye getirecek kadar Akşener’e yakın bir milletvekiliydi.İYİ Parti’de cinsel taciz ve parasal iddialar üzerinde büyük bir kriz patlak verdiğinde Meral Akşener ne zaman ki ittifaksız, kendi başlarına seçimlere girme kararı aldıklarını, ondan sonra partinin karışmaya başladığını söylemişti.Akşener’in dikkat çektiği zamanlama önemliydi.İMAMOĞLU’NU HEDEF ALINCAHaberin DevamıMeral Akşener ne zaman ki Ekrem İmamoğlu’nu hedef aldı, İYİ Parti’den istifalar başladı. İYİ Parti Ankara Milletvekili Yüksel Arslan’ın Ayşe Sibel Yanıkömeroğlu’nun istifası üzerine atıp sonra sildiği tweet manidardı. Yüksel Arslan, “İmamoğlu satın aldı” dedi.MANSUR YAVAŞ’A YAKINYüksel Arslan’ın Mansur Yavaş’ın eski özel kalem müdürü olduğunun altını çizmem gerekiyor. Mansur Yavaş desteklenmediği taktirde Yüksel Arslan’ın İYİ Parti’den istifa edeceği söyleniyordu. Sanıyorum Akşener özel bir görüşme yapmış. Mansur Yavaş’la karşı karşıya getirmeyeceği konusunda güvence vermiş. Yüksel Arslan bunun üzerine istifa kararını gözden geçirmiş.EKREM’E DOKUNAN YANARTekrar İstanbul Milletvekili Ayşe Sibel Yanıkömeroğlu’nun istifasına gelecek olursak, Meral Akşener’e, “Ekrem’e dokunan yanar” mesajını verdi.\\xa0Haberin DevamıÖzgür Özel görmezden gelmeye çalışsa da CHP’de de Ekrem İmamoğlu sorunsalı büyümeye başladı. Ekrem İmamoğlu, gerçek genel başkan gibi hareket ediyor. İl başkanlarını İstanbul’da topladı. Oradaki pozisyonu İmamoğlu genel başkan, Özgür Özel onun vekili gibiydi.İTTİFAK GÖRÜŞMELERİNİ YAPIYORMuharrem İnce ile ittifak görüşmelerini Ekrem İmamoğlu yürütüyor. İmamoğlu’nun Muharrem İnce’ye CHP’lilerin, “Terlik koysak kazanırız” diye düşündüğü İzmir büyükşehir belediye başkan adaylığını önerdiği söyleniyor. Zaten Muharrem İnce bunu reddetmedi.Düşünün ki CHP, Muharrem İnce ile ittifak yapacak. Ama ittifak görüşmeleri CHP Genel Merkezi’nde değil, Ekrem İmamoğlu’nun makamında yapılıyor. Muharrem İnce ile görüşmeleri Genel Başkan Özgür Özel değil, İstanbul Büyükşehir Belediye Başkanı Ekrem İmamoğlu yapıyor. Muharrem İnce’ye İzmir büyükşehir belediye başkan adaylığını Özgür Özel değil, Ekrem İmamoğlu öneriyor.EMANETÇİ DAMGASICHP’de tam anlamıyla bir Ekrem İmamoğlu vesayeti yaşanıyor. Belediye başkan adayları da zaten CHP Genel Başkanı Özgür Özel’le değil, Ekrem İmamoğlu ile görüşüyorlar.Özgür Özel bu emanetçi damgasıyla daha ne kadar devam edecek orasını bilmiyorum.'], ['Abdulkadir Selvi', 'Denizbank yöneticileri Ponzi Seçil olayında ifadeye çağrılmış', 'Aralık 07, 2023', 'Haberin DevamıKimi müşteki, kimi mağdur olarak ifade veriyor. Seçil Erzan, Denizbank’ın şube müdürü. Fon işini Denizbank Florya Şubesi’nden yürütmüş. İşlemlerin bir kısmı Denizbank şubesinde gerçekleştirilmiş. Bankanın antetli kâğıdı ve kaşesi kullanılmış. Bazı evraklarda Denizbank’ın operasyon müdürü Asiye Öztürk imza atmış. Denizbank Genel Müdürü Hakan Ateş ve Genel Müdür Yardımcısı Mehmet Aydoğdu’nun ismini güvence olarak kullanmış.Herkes araştırılıyor, herkesin ifadesine başvuruluyor. Ama bir tek Denizbank hariç. Bir de Denizbank Genel Müdürü Hakan Ateş ve Mehmet Aydoğdu bu işten muaf.ERDOĞAN DA TATMİN OLMAMIŞHakan Ateş ve Mehmet Aydoğdu’nun ifadesine ya da en azından bilgisine neden başvurulmadı sorusu büyük bir muammayı oluşturuyor. Cumhurbaşkanı Erdoğan da bu konuda ikna olmamış ki, “Bankanın en üst düzey yöneticileriyle ilgili de şu anda bütün soruşturmalar devam ediyor. Öyle zannediyorum ki kısa zamanda netice alırız” dedi.Haberin DevamıBDDK KARARI VAROrtada BDDK’nın kararı var. O yüzden Hakan Ateş ve Mehmet Aydoğdu’nun ifadesi alınamaz denilebilir. BDDK kararının farkındayım. Ama isterseniz yazımın sonunu bekleyin.Seçil Erzan soruşturmasında en önemli kırılma noktasını BDDK’nın 14.8.2023 tarihli “Yazılı başvuruda bulunulmasına yer olmadığı” şeklindeki kararı oluşturuyor. BDDK’nın kararı nedeniyle Seçil Erzan ve Denizbank Genel Müdürü Hakan Ateş ile Mehmet Aydoğdu hakkında ‘zimmet’ suçlaması nedeniyle açılan soruşturmada takipsizlik kararı veriliyor.VERECEKLERİ BİLGİLER ÖNEMLİYDİBöylece Hakan Ateş ve Mehmet Aydoğdu’nun ifadesine başvurulması mümkün olmuyor. Oysa Seçil Erzan fona para toplarken Hakan Ateş ve Mehmet Aydoğdu’nun ismini referans olarak kullanıyor. Seçil Erzan olayı henüz yargıya intikal etmeden önce Hakan Ateş olaya müdahale ediyor.Seçil Erzan’a, bunun zimmet suçu olmadığını, kendisine avukat tutacaklarını telkin ediyor. O nedenle Hakan Ateş ve Mehmet Aydoğdu’nun mahkemede vereceği bilgiler olayın aydınlatılması açısından yararlı olabilirdi.Neyse, bu fırsat şimdilik kaçırıldı. Ama müştekilerin avukatları, BDDK’nın kararının iptali yönünde hukuki mücadelelerini sürdürüyorlar.Haberin DevamıSAVCILIK YAZI YAZMIŞBu arada İstanbul Cumhuriyet Başsavcılığı soruşturma kapsamında, 24 Nisan 2023 tarihinde Hakan Ateş’in Başsavcılık’ta hazır bulundurulması için Beşiktaş İlçe Emniyet Müdürlüğü’ne, yine aynı tarihte Mehmet Aydoğdu’nun Başsavcılık’ta hazır bulundurulması için Eyüpsultan\\xa0 İlçe Emniyet Müdürlüğü’ne yazılı olarak talimat vermiş.MOSTUROĞLU’NUN ÖNEMLİ SORUSUBu noktada Av. Şekip Mosturoğlu’nun sorusu devreye giriyor. Mosturoğlu katıldığı bir yayında, “Savcı dördüncü aydan yedinci aya kadar bankacıların ifadesini alabilirdi. Neden almadı?” diye sormuştu.Sahi bu arada bankacıların ifadesi neden alınmadı?AKŞENER, EKREM İMAMOĞLU’NU NEDEN HEDEF ALDIMERAL Akşener’in herkese her şey söyleyeceğini düşünürdüm de Ekrem İmamoğlu’nu hedef alacağını rüyamda görsem inanmazdım.Haberin DevamıO nedenle Meral Akşener’in grup konuşmasını izledikten sonra, İYİ Parti’de değerlendirmeleri önemli olan isimlere ulaşıp “Akşener, bu cümlede Ekrem İmamoğlu’nu mu kastetti?”diye sorma gereği duydum.İKİNCİ FATİH DEMİŞTİÇünkü Meral Akşener, Ekrem İmamoğlu’nu ‘İkinci Fatih’ ilan etmişti. Yüzünde Rabbi Yessir görmüştü. Saraçhane’de, “Ekrem yeni başlıyor” diyerek çak işareti yapmışlardı. Daha da öte cumhurbaşkanı adadıydı. 6’lı Masa’dan kalktıktan sonra Ekrem İmamoğlu ve Mansur Yavaş’ın cumhurbaşkanı yardımcısı olması koşuluyla dönmüştü.Yani bir anlamda Ekrem İmamoğlu için siyasi hayatını riske atmıştı. Bunu baba, oğula yapmaz. Ama ana, oğula yapmıştı.Haberin DevamıİMAMOĞLU’NUN KARİYER PLANIGeldiğimiz noktada ise Meral Akşener, “Bu mücadeleyi başkasının yazdığı senaryoya figüran olmadan, başkalarının siyasi kariyerine zıplama tahtası olmadan yapacağız” dedi.Bu sözün muhatabı doğrudan Ekrem İmamoğlu. Akşener’in burada İmamoğlu’nun sadece İstanbul Büyükşehir Belediye Başkanlığı hedefini kastettiğini zannetmiyorum. İmamoğlu’nun 2028 yılında cumhurbaşkanı adayı olma hedefine gönderme yaptığını düşünüyorum.Belli ki abla ile kardeşin arasına kara kedi girmiş. Ama ben bu derecede olduğunu bilmiyordum.AKŞENER’İN TAVRIİYİ Parti’nin seçimlere “Hür ve müstakil” olarak girme sürecini yakından takip etmeme rağmen bu yazıyı yazmak için Meral Akşener’in açıklamasını bekledim.Haberin DevamıNeden? Çünkü Meral Akşener, CHP’nin teklifi üzerine ikinci kez toplanıp seçimlere kendi başına girme kararının yeniden alındığı GİK toplantısında, “CHP’den yeni bir teklif gelirse değerlendirecek miyiz? Bu karar kesin mi?” diye soran GİK üyelerine, “Kararımız kesindir” yanıtını vermişti. Buna rağmen Meclis kürsüsünden deklare etmesini bekledim.ÖZÜ BAŞIMIZAMeral Akşener, ”Bu mücadeleyi omuzlarımızda sadece ve sadece milletimizin bize yüklediği sorumlulukla vereceğiz. Bu mücadeleyi başkasının yazdığı senaryoya figüran olmadan, başkalarının siyasi kariyerine zıplama tahtası olmadan, başkasının sevabına da günahına da ortak olmadan, özü başımıza birlikte hür ve müstakil olarak vereceğiz” dedi.İYİ Parti geleceği açısından doğru ama riskli bir karar aldı. Şimdiye kadar seçimlere kendi başına girmediği için partinin kimliği oluşmamıştı. ‘İYİ Parti demek sanki CHP’ye seçim kazandırma partisi demek’ gibi bir algısı oluşmuştu.MANDA HİMAYEMeral Akşener ilginç bir itirafta bulundu. “Adına ittifak dedikleri manda ve himaye tuzağına geçit vermeyeceğiz. Türk milletine ölümü gösterip sıtmaya razı eden bu maskeli baloya boyun eğmeyeceğiz” dedi. Kurulduğu günden bu yana girdiği her seçimde ittifak yapan İYİ Parti, demek ki manda ve himaye altındaymış.Meral Akşener bunu itiraf etmiş oldu.AKŞENER’E HAKARET AYIBIMeral Akşener, 6’lı Masa’dan kalktığında da siyasi hayatının en ağır hakaretlerine maruz kalmıştı. Üzerine sifon çeken ahlaksızlar çıkmıştı. Şimdi de CHP’nin işbirliği önerisi kabul edilmedi ya, CHP medyasından küfür ve hakaret sezonunu açtılar. Hem de Özgür Özel’in çok makul bir açıklama yapmasına rağmen.“Girdisi çıktısı” bile ağıza alındı. Pes doğrusu.CHP, bu medyadan ve bu dilden kurtulmadığı sürece seçim kazanamaz.GÖKHAN GÜNAYDIN’IN KONUŞMASITopuğuna sıkmak derler ya tam bu işe oturuyor.İYİ Parti’nin Genel İdare Kurulu, CHP’nin işbirliği önerisini görüşmek üzere toplanmış. Tam o sırada CHP Grup Başkanvekili Gökhan Günaydın, muhalif bir kanalda yayına çıkıyor. “İYİ Parti seçim ittifakını reddederse kendi bilecekleri iştir. Bunun hem CHP hem de İYİ Parti tabanında bir karşılığı olacaktır” diyor.Bu açıklama yıldırım hızıyla o sırada toplantı halinde olan GİK’e ulaşıyor. Bazı GİK üyeleri telefonlarından yayını izliyorlar. Toplantıda hava değişiyor. CHP ile ittifaka karşı çıkanların eli güçleniyor. “İbret almadılar” yorumu yapılıyor.Sonuç ortada.Gökhan Günaydın iyi ki iktidara yakın bir medyada konuşmamış. Yoksa Erdoğan konuşturmuş derlerdi.'], ['Abdulkadir Selvi', 'İçişleri Bakanı ile konuştuklarımız ve izlenimim', 'Aralık 06, 2023', 'Haberin DevamıSonra bir film başladı.Helikopter dağ başında ıssız bir köyde, top oynayan çocukları fark ediyor. Bir süre sonra askeri bir araç geliyor köye, top oynayan çocuklara ay yıldızlı forma ve futbol topu veriyorlar. Askerler ile çocuklar seviçle kucaklaşıyor. İçişleri Bakanı Ali Yerlikaya ile medya buluşmamız işte bu sıcak görüntülerle başladı. Gazze’ye savaş uçaklarının bomba yağdırdığı, helikopterlerin ölüm kustuğu bir sırada jandarma ile çocukların sevinçle kucaklaşması içimi ısıttı.İÇİŞLERİ BAKANI İLE BULUŞMAMilletin tüylerini diken diken eden fenomenlerin tek tek hesaba çekildiği, Seçil Erzan’ın ünlü futbolcuları dolandırdığı fon olayının patlak verdiği, çetelerle amansız bir şekilde mücadele edildiği bir sırada İçişleri Bakanı Ali Yerlikaya ile bir araya gelmek habercilik açısından önemliydi. Bakanlığındaki 180 günün hesabını verdi. Kısa adı NARVAS olan Narkotik Vaka Analiz Sistemi’ni anlattı. NARVAS’a gelen tüm ihbarlar doğru olarak kabul ediliyor, değerlendiriliyor.Haberin DevamıHİTABETİ İYİYDİAli Yerlikaya’ya farklı bir gözle baktım. İçişleri Bakanı kısa ama verilerle dolu bir konuşma yaptı. Söylediklerini yaptığı için, meydanı çetelere ve uyuşturucu tacirlerine dar ettiği için sözlerinin bir ağırlığı vardı. Dikkat ettim, prompteri çok iyi kullandı. Hitabeti iyiydi. Seçim meydanında kitleleri coşturur. Bakanlığı devraldığı gün, ‘Referansımız hukuk’ demişti. Son sözü de yine ‘Temel referansımız hukuk ve insan hakları’ oldu.ÇETELERLE MÜCADELEAli Yerlikaya çetelerle mücadelesi nedeniyle Meclis’teki bütçe görüşmeleri sırasında hem iktidarın hem muhalefetin alkışladığı bir bakan oldu. Yerlikaya yine çetelerle mücadelede kararlı mesajlar verdi.“Milletimiz müsterih olsun. Hedefimiz, şehir eşkiyaları olarak ifade ettiğimiz organize suç örgütlerinden sokaklarımızı, mahallelerimizi, şehirlerimizi temizlemektir. Bu suç örgütlerine zerre kadar tahammülümüz yoktur” dedi.Haberin DevamıKısa sürede 191 çete çökertilmiş, 4 bin 303 şüpheli gözaltına alınmış. Yürü Ali Bakan, çetelerle mücadelende millet yanında.CUMHURBAŞKANI TAKİPTEBu vesileyle bir kulis bilgisini paylaşayım; Ali Yerlikaya İçişleri Bakanı olduğunda Cumhurbaşkanı Erdoğan, çetelerin üzerine gidilmesi konusunda talimatlar vermiş. Her Kabine toplantısında, İçişleri Bakanı Yerlikaya ile bir araya geldiğinde, her defasında çetelerle mücadele konusundaki son durum hakkında bilgi alıyormuş. Sanıyorum birkaç ay sonra çeteler konusu Türkiye’nin gündeminde geri sıralara düşecek. Cumhurbaşkanı Erdoğan’ın desteğiyle güçlü bir mücadele yürütülüyor.İSRAİL İSTİHBARATINA YANITNetanyahu, Hamas yöneticilerini bulundukları ülkede tespit edip ortadan kaldıracaklarını açıkladı. Gazze kasabı Netanyahu, sen önce Gazze’deki Hamas’ı yenmeyi başar. Hastane vurarak, çocukları öldürerek savaş kazanılmaz. Türkiye sana 10 numara büyük gelir.Haberin Devamıİsrail iç istihbaratı Şin Bet’in Başkanı; Türkiye, Katar ve Lübnan’ın ismini vererek, buralardaki Hamas yöneticilerini ortadan kaldıracaklarını açıkladı. 7 Ekim saldırısının istihbaratını alamadığı için alay konusu olan İsrail istihbaratı kuru gürültü ile itibar kazanmaya çalışıyor. O devirler bitti.İSRAİL’E HATIRLATMA İçişleri Bakanı Yerlikaya, “Ulusal, uluslararası hiçbir kişinin, ülkemizde bir şey yapmasına izin vermeyiz” dedi. MİT, İsrail’e gereken uyarıda bulundu. ‘Yüreğin yetiyorsa böyle bir işe soyun da görelim’ havasında bir yanıt verdi. MİT, sadece sözlü olarak değil sahada da gereken cevabı veriyor. Zaten geçen yıl İsrail istihbaratından 7 kişi enselerinden yakalanıp cezaevine atılmıştı. Eğer önümüzdeki günlerde İsrail istihbaratından birilerinin kafeslendiğini duyarsanız şaşırmayın.Haberin DevamıPONZİ SEÇİL OLAYI-İçişleri Bakanı’na sorular dolu gibi yağdı. Tahmin edeceğiniz gibi sosyal medya fenomenleri ve Ponzi Seçil olayı ilk sırada geliyordu. Ali Yerlikaya, Seçil Erzan olayında birilerinin nüfuz kullandığı iddialarına sert bir yanıt verdi. “Hiçbir nüfuz girişimini kabul etmiyoruz, reddediyoruz. Ben 6 ay içinde böyle bir şeyi hissetmiş değilim. Sosyal medyada gördüğümüz o tavırları biz de kabul etmiyoruz. Bu olayların görünür tarafının arkasında bir kanun dışılık varsa, o zaman Maliye ve Hazine, MASAK, Adalet ve İçişleri olarak gereğini yapıyoruz” dedi.TURPUN BÜYÜĞÜ�Ali Yerlikaya’nın açıklamalarından Hazine ve Maliye Bakanı Mehmet Şimşek’in, sosyal medya fenomenleri konusunda MASAK’ı çok önceden harekete geçirdiği sonucunu çıkardım. “Hazine ve Maliye Bakanlığı çok kapsamlı bir çalışma yapıyor. Görünen ne varsa onlarla mücadele edeceğiz” dedi. Bu konuda İçişleri Bakanlığı, Hazine ve Maliye Bakanlığı ile savcılar ortak çalışıyormuş. Sosyal medya fenomenleri konusunda turpun büyüğünün heybede olduğu izlenimi edindim.BAHİS ÇETESİHaberin DevamıGünlerdir yazıyorum. Sosyal medya fenomenlerinin bir ucu bahis çetesine dayanıyor. Hiçbir çete devletten güçlü değil. Ama sorun onlara devletin gücünü göstermekte. İçişleri Bakanı Yerlikaya, “Ne tür bir yasadışılık varsa azimle, kararlılıkla onların üzerine gidip, sporumuzu kirletmelerine izin vermeyeceğiz. Kendinde güç vehmeden kim varsa ensesine çökeceğiz. Onlara devletin gücünü göstermekte kararlıyız” dedi.SÜLEYMAN SOYLU KONUSUAli Yerlikaya nerede bir basın toplantısı düzenlese, İçişleri Bakanlığı ne zaman çetelere yönelik bir operasyon yapsa, Ali Yerlikaya ile Süleyman Soylu’yu karşı karşıya getirmek için başlıyorlar konuşmaya... Maksat çetelerle mücadeleyi desteklemek değil. Bunlar değil miydi seçim öncesinde organize suç örgütü liderini kanaat önderi olarak gösteren? Bunlar değil miydi yabancı istihbarat servislerinin kucağına oturup oradan Türkiye’ye saldıran, Erdoğan’ı devirmek için çalışan organize suç örgütü liderlerinin sözcülüğüne soyunan? Çete liderlerinin sözcülüğünü yaptınız. Sizin siciliniz bozuk.Onların asıl derdi fitne çıkarmak. Ali Yerlikaya ne zaman basınla bir araya gelse ilk soruları bu oluyor.Yine sordular. Ama Ali Yerlikaya bir devlet adamına yakışan bir şekilde cevap verdi.İSTANBUL’A ADAY OLACAK MI Ali Yerlikaya’nın İçişleri Bakanı olarak yapacağı çok iş var.\\xa0 Özellikle 4-5 ay çok kritik. Ama İstanbul seçmeniyle de iyi bir sinerji yakaladı. İstanbul Valiliği yaptı. O nedenle yerel seçimlerde İstanbul\\xa0 Büyükşehir Belediye Başkanlığı için ismi konuşuluyor. Bir meslektaşımız bu konuyu sordu. Ali Yerlikaya, “Gündemimizde böyle bir şey yok” diyerek kısa ve net bir cevap verdi. Ben de daha önce yoklamıştım. Ser verip sır vermemişti.Cumhurbaşkanı Erdoğan da İstanbul’da kazanacak adaya bakıyor. Bakalım bu isim kim olacak?'], ['Abdulkadir Selvi', 'İYİ Parti’nin kararı seçim sonuçlarını etkileyecek', 'Aralık 05, 2023', 'Haberin DevamıGeçen seçimlerde CHP ile ittifak yapan, 2019 yerel seçimlerinde CHP’nin İstanbul ve Ankara Büyükşehir Belediye Başkanlığını kazanmasını sağlayan İYİ Parti, yerel seçimlere kendi başına girme kararı aldı.ÖZGÜR ÖZEL TEKLİF ETMİŞTİ Daha doğrusu İYİ Parti Genel İdare Kurulu daha önce yerel seçimlere, “Hür ve müstakil olarak” girme kararı almıştı. CHP Genel Başkanı Özgür Özel’in Meral Akşener’i ziyaret ederek yerel seçimlerde işbirliği yapma teklifi üzerine İYİ Parti GİK toplandı. Tüm gözler GİK’ten çıkacak karara çevrilmişti.HÜR VE MÜSTAKİL OLARAK \\xa0İYİ Parti seçimlere kendi başına girme kararının arkasında durdu. İYİ Parti sözcüsü Kürşad Zorlu kararın oy çokluğu ile alındığını açıkladı. 15 üye CHP ile ittifak yapılmasını isterken 35 üye seçimlere “Hür ve Müstakil” olarak girme kararının arkasında durdu.Haberin DevamıŞÜKÜR NAMAZI KILMIŞTI \\xa0Meral Akşener, CHP kurultayında seçim ittifakından dolayı HDP’ye, 6’lı Masa’nın diğer üyelerine teşekkür edilirken İYİ Parti’ye teşekkür edilmediği belirterek sitem etmişti. Hatta, “Şükür namazı kıldım” demişti.AKŞENER’İN MANEVRASI Buna rağmen Akşener, Özgür Özel’e “Bizim seçimlere parti olarak girme kararımız var. Ben diğer partilere de hür ve müstakil olarak girmeleri yönünde çağrı yaptım. Bu aşamadan sonra sizin seçim işbirliği teklifinizi kabul edemem” demedi. “GİK’te kendi adımıza girme kararımız var” dedi. Akşener siyasi olarak doğru bir hamle yaptı.GİK’TE İKİ GÖRÜŞ ÇARPIŞTI \\xa0İYİ Parti içinde iki görüş vardı. GİK toplantısında\\xa0 ağırlıklı bir grup CHP ile ittifakın İYİ Parti’ye zarar verdiği görüşünü savundu. İYİ Parti’nin CHP gölgesinde kaldığı için yeterince büyüyemediğini savundu. “CHP seçimleri kaybederse biz de kaybetmiş sayılırız. Seçimden sonra partiyi toparlamamız mümkün olmayabilir” görüşünü savundular. “Kendimize saygımız gereği daha önce aldığımız kararın arkasında duralım” görüşünü savundu.SEVİNÇ TWEETİ İYİ Parti Genel Başkan yardımcıları Metin Ergun ile Şükrü Kuleyin başından itibaren seçimlere parti olarak girme kararını savunan isimlerdi. Şükrü Kuleyin toplantının ardından sevincini “Allah utandırmasın. Hür müstakil seçimlere katılıyoruz” \\xa0diye attığı tweetle ortaya koydu.Haberin DevamıİTTİFAKI SAVUNANLAR Seçim işbirliğini savunanlar ise İstanbul ve Ankara Büyükşehir Belediyelerini\\xa0 iktidara kaptırmamak için, “Kazan kazan” yöntemiyle işbirliği yapılmasını savundu. Ama sonuçta İYİ Parti seçimlere kendi başına girme kararının arkasında durdu.İYİ PARTİ TABANINDA NASIL KARŞILANACAK PEKİ bu karar İYİ Parti tabanında nasıl karşılacak? Tavanda sağlanamayan ittifak tabanda kurulabilecek mi? Özellikle de İstanbul ve Ankara’da İYİ Parti seçmeni Ekrem İmamoğlu ve Mansur Yavaş’ı desteklemeye devam edecek mi? Yoksa İYİ Parti adayına oy verecekler mi? İYİ Parti’nin İstanbul’daki oy oranı yüzde 8, Ankara’da ise yüzde 13 olduğu dikkate alınırsa seçimler üzerinde etkili olacak.Haberin DevamıSEÇİMİN KADERİNİ ETKİLEYECEK Meral Akşener bu seçimlere “Kantara çıkacağız ne kadar ağırlığımız olduğu ortaya çıkacak” demişti. İYİ Parti aldığı bu kararla hem kendi siyasi kaderi hem yerel seçimlerin kaderini etkileyecek bir adım attı. Şimdiye kadar yaptığı zikzaklar nedeniyle güvenilirliği zedelenen Meral Akşener ise siyasi tutarlılık adına önemli bir karar aldı.İMAMOĞLU VE YAVAŞ’IN SEÇİMİ İYİ Parti’nin bu kararı en çok�Ekrem İmamoğlu ve Mansur Yavaş’ın kaderini etkileyecek. Bundan sonrasını İmamoğlu ve Yavaş düşünsün. Ama sadece İmamoğlu ve Yavaş’ın değil başta Antalya, Adana, Balıkesir ve Manisa olmak üzere en az 10 büyükşehir seçimleri üzerinde etkili olacak.Haberin DevamıİYİ PARTİ’NİN GELECEĞİ İYİ Parti kendi siyasi geleceği açısından kritik bir karar aldı. Her seçimde CHP ile ittifak yapan parti neredeyse CHP’ye seçim kazandırma partisi konumuna düşmüştü. İYİ Parti bu kararıyla Türk siyasetinde kendi adı ve adaylarıyla yer alacağını ilan etmiş oldu. İYİ Parti kendi siyasi geleceği açısından doğru bir karar verdi.TERİM’İN 3 MİLYON DOLARIDİLAN Polat olayını unutma, unutturma.Ponzi Seçil olayını unutma, unutturma.Eğer bunları unutursan daha büyük fenomenler, daha büyük ponziler ortaya çıkar.Eğer unutursan; milyonlarca çalışanın asgari ücret ne kadar olacak diye hesap üstüne hesap yaptığı, insanların Halk Ekmek kuyruğunda beklediği, elektrik, su faturasını ödemek için kılı kırk yardığı, emeklinin zam beklediği bir dönemde sonradan görme fenomenlerin ortalığa dolarları saçarak dolaşmaları karşısında alın teriyle geçinen milyonlar umutsuzluğa kapılır. Orhan Gencebay modunda, “Batsın Bu Dünya” şarkılarını söylemeye devam ederler...Haberin DevamıSANAL BAHİS ÇETESİ Çünkü o fenomenler işin vitrini. Asıl arkada bir ucu Gürcistan’da, bir ucu Kıbrıs’ta, diğer ucu Dubai’de olan bahis çetesi, kumar mafyası ve kara para baronları var.Güzellik merkezleri; kozmetik ürün pazarlamaları adı altında kirli paralarını sisteme sokmaya çalışıyorlar.Etrafa saçılan Dilan Polat’ın, “Enercii”si değil, kara para...ÇETELERLE MÜCADELE O nedenle İçişleri Bakanı Ali Yerlikaya’nın çetelerle mücadelesini yürekten destekliyorum. Çünkü bu işin sonu Kıbrıs’taki Halil Falyalı cinayetinde olduğu gibi silahlı hesaplaşmaya kadar gider.PONZİ SEÇİL TEK BAŞINA MIYDI Yüksek kâr getirisi altında ünlü futbolcuları dolandıran Seçil Erzan gibilerden, onlara kol kanat gerenlerden hesap sormazsan banka şubeleri Ponzi Seçil’ler ile dolar.‘Seçil Erzan bu işleri tek başına mı yapmış, ona referans olanların, onu koruyup kollayan banka yöneticilerinin hiç suçu yok mu?’ demezsen; bir Seçil bulur, tüm faturayı ona keser, onlar büyük futbol adamı, büyük bankacı olarak ortalarda dolaşmaya devam ederler.'], ['Abdulkadir Selvi', 'İYİ Parti CHP ile seçim işbirliği kararı alacak mı', 'Aralık 04, 2023', 'Haberin DevamıAkşener o gün “İttifak sisteminin bu yapısı içinde milli bir siyaset, sürdürülebilir bir başarı, milletin kazanması mümkün değildir” demiştiLİDERLERE ÇAĞRI YAPMIŞTIMeral Akşener, Afyon Kocatepe’nin tarihi havası içinde siyasette büyük taaruzu başlatıyor gibi bir edayla konuşmuş, Erdoğan ve Bahçeli başta olmak üzere diğer liderlere de seçimlere ittifaksız girmeleri yönünde çağrı yapmıştı. Gürül gürül akan konuşmasıyla, “Tüm siyasi partilere açık ve net bir çağrıda bulunmak istiyorum; Gelin tüm siyasi partiler hep birlikte ayrı ayrı seçimlere girelim. Her birimiz ayrı ayrı seçimlere girelim, biz varız! Biz varız, sizleri de bekleriz” demişti.ELÇİBEY’İ REFERANS GÖSTERDİ5 Ekim’de Eskişehir’de yaptığı konuşmada ise ittifaksız seçime girme kararlarını Elçibey’in bir sözüne atıf yaparak açıklamış ve “Seçimi kazanmak için ittifak sisteminin başarılı olmadığını gördük. An itibarıyla rahmetli Elçibey’in dediği gibi, ‘Özü başımıza, yalnız başımıza peşine gideceğiz ve göreceğiz. Boyun kaçmış, kilon kaçmış. Hep beraber göreceğiz. Bu arada benim boyum kaçmış, kilom kaçmış, hep beraber göreceğiz” demişti.Haberin DevamıİYİ PARTİ’Yİ KARIŞTIRDILAR MI?Öyle ki Meral Akşener, partisinin son dönemde yaşadığı cinsel taciz ve parasal iddiaların, ittifaksız seçime girme kararı aldıklarından sonra başlamasına dikkat çekme gereği duymuştu.İYİ Parti’nin en yüksek karar organı olan Genel İdare Kurulu da seçimlere tek başına girme kararı almıştı. Bahadır Erdem ve Faruk Köylüoğlu sırf bu nedenle partiden istifa etmişlerdi.ÖZGÜR ÖZEL’İN TEKLİFİCHP Genel Başkanı Özgür Özel, Meral Akşener’i ziyaret ederek seçimlerde işbirliği yapma teklifini iletti. Akşener, hayır biz ittifak yapmayacağız. Bu kararımızı ben tüm kamuoyuna ilan ettim. Hatta bu konuda diğer liderlere de çağrı yaptım, demedi. Genel İdare Kurulu’nun ittifaksız seçim kararı olduğunu belirtti, GİK’i toplayacağını, orada bu karar değişirse CHP’nin teklifini değerlendirebileceklerini söyledi. GİK kararında ısrar ederse yapacak bir şey olmadığını ifade etti.Haberin DevamıİMAMOĞLU VE YAVAŞ TAKİP EDİYORHerkes biliyor ki CHP’nin İstanbul ve Ankara’yı kazanmak için İYİ Parti’nin desteğine ihtiyacı var. O nedenle Özgür Özel’in, Ekrem İmamoğlu’nun, Mansur Yavaş’ın gözleri İYİ Parti’nin üzerinde olacak. Sadece gözleri değil, elleri de İYİ Parti’nin içinde olacak. İstanbul ve Ankara’da seçim işbirliği kararının çıkması için çalışacaklar.İYİ PARTİ CEPHESİPEKİ İYİ Parti cephesinde durum ne? Ne bekleniyor?GİK üyelerinin bir kısmı “İttifaksız seçim kararını alalı 2 ay oldu. Kararımızın arkasında duralım” diyor. Bir kısmı ise İstanbul ve Ankara’da işbirliği kapısının açılmasını istiyor.AKŞENER BELİRLEYİCİ OLACAKBurada elbette ki Akşener’in tavrı belirleyici olacak. Akşener kararın değiştirilmesi yönünde çaba gösterirse kapı aralanabilir. Yoksa ittifak teklifi rafa kaldırılır. O nedenle İYİ Parti GİK toplantısının sonucunu beklemek gerekiyor.Haberin DevamıSEÇİMİN KADERİNİ ETKİLEYECEKİYİ Parti’nin kararı yerel seçimlerin kaderi açısından etkili olacak. Ama aslında İYİ Parti ve zikzakları nedeniyle güvenilirliği iyice yıpranan Meral Akşener kendi siyasi kaderlerini belirleyecek bir karar alacaklar.Son yaşananlara bakınca, söz konusu İYİ Parti olunca bir kez düşünmek gerekiyor. Ama söz konusu Meral Akşener olunca iki kez düşünmek gerekiyor.ABD’NİN GAZZE PLANI TEHLİKELİGEÇİCİ ateşkesin ardından İsrail, Gazze’deki katliamlarına kaldığı yerden devam ediyor. Peki ne olacak? İsrail, Gazze’yi insansızlaştırana kadar katliamlarına devam edecek mi? Cumhurbaşkanı Erdoğan’ın sorduğu gibi kalıcı ateşkesin sağlanması için, “Daha ne kadar insan ölmesi lazım? Ne kadar çocuk ölmesi lazım...”Haberin DevamıİSRAİL’İN ÇIKIŞ PLANI YOKKonuştuğum yetkililerin neredeyse tamamı İsrail’in bir çıkış planı olmadığını, sadece katliama odaklandıklarını söylüyorlar.Ama ABD’nin bir çıkış planı olduğu anlaşılıyor.İsrail katliama devam ederken, ABD şimdi yeni planını devreye sokmaya çalışıyor. Yeni planı dedim dikkat ettiyseniz.Çünkü ABD Başkanı Biden’ın Tel Aviv’i ziyaret ettiğinde çantasında bir plan vardı. Ancak İsrail’in hastane vurması nedeniyle bir gün sonra Ürdün’de Mısır, Filistin ve Ürdün devlet başkanlarıyla yapacağı toplantı iptal edilmişti. Yoksa Biden’in çantasında, Gazze’lilerin Mısır’daki Sina Çölüne ve Ürdün’e sürülmesi, Gazze’nin yönetiminin uluslararası barış gücüne devredilmesi vardı.Haberin DevamıMısır Devlet Başkanı Sisi, Filistinlilerin Sina çölüne sürülmesi planına sert tepki gösterdi. Ürdün bu teklife yanaşmadı. ABD’nin planı suya düştü.GERİ ADIM ATMAK ZORUNDA KALDIBölge ülkelerin direnci karşısında ABD geri adım atmak zorunda kaldı.ABD Başkan Yardımcısı Kamala Harris, Birleşik Arap Emirlikleri’nde Sisi ile yaptığı görüşmede, ‘ABD’nin hiçbir şart altında Filistinlilerin Gazze’den ya da Batı Şeria’dan zorla yerinden edilmesine, Gazze’nin kuşatılmasına ya da Gazze’nin sınırlarının yeniden çizilmesine izin vermeyeceğini’ söyledi.\\xa0ABD’NİN YENİ PLANI Ama ABD’nin planını güncellediği anlaşılıyor. Harris, yeni planı “Filistin Yönetimi altında birleşmiş bir Gazze ve Batı Şeria görmek istiyoruz” diye açıkladı.Bir yerde ABD’nin bir planı varsa eyvah demek gerekiyor. Çünkü felaket geliyor demektir.11 Eylül’den sonra Ortadoğu’ya demokrasi getireceklerdi. Irak’ı işgal edip, bölgeyi cehenneme çevirdiler.Afganistan’ı Taliban’dan kurtaracaklardı. İki kez işgal edip, büyük katliamlara imza attıkları Afganistan’ı Taliban’a teslim ederek çekildiler.HAMAS YOKABD bu planı yaparken Gazze halkına sormuyor. ABD bu planı yaparken Filistinlilerin ne istediğini dikkate almıyor.ABD’nin bu planında Gazze’nin iradesi yok. Gazze’nin seçilmiş yönetimi olan Hamas yok. Zaten planın özü, Hamas’ı dışlamaya dayanıyor.ULUSLARARASI BARIŞ GÜCÜPeki ne var?Gazze’de Filistinliler katledilirken sesini dahi çıkaramayan Mahmut Abbas yönetiminde bir Filistin var. Birleşik Filistin’in güvenliğini ise Uluslararası Barış gücü sağlayacak.Kıbrıs Barış Harekâtı’ndan önce Ada’da uluslararası barış gücü vardı. Türklere yönelik katliamlara sesini çıkarmayıp, Rumlara hizmet eden barış gücünü kast ediyorum. Bosna’da da uluslararası barış gücü vardı. Kendisine sığınan Boşnakları, katledileceklerini bilmelerine rağmen Sırp milislere teslim etmişlerdi.İSRAİL’E TESLİMGazze’ye uluslararası barış gücü demek, Gazze’yi İsrail’e teslim etmekten başka bir şey demek değil.\\xa0'], ['Abdulkadir Selvi', 'Cumhurbaşkanı Erdoğan Dubai dönüşü gazetecilere konuştu: Dilan Polat- Seçil Erzan sorusu ve Erdoğan’ın tavrı', 'Aralık 03, 2023', 'Haberin DevamıO da tahmin ettiğiniz gibi Dilan Polat olayı ile patlak veren ve bir çorap söküğü gibi devam eden fenomenler olayı ve Seçil Erzan ile ünlü futbolcuların içinde yer aldığı ponzi dolandırıcılığıydı.Elbette öncelikle Gazze olayına ilişkin sorularla başladık. Geçici ateşkes bitmiş, İsrail’in katliamı kaldığı yerden daha şiddetli bir şekilde başlamıştı.HAKAN FİDANCumhurbaşkanı, Gazze olayına ilişkin çok ayrıntılı bilgi verdi. Öyle ki NATO ülkeleri Dışişleri Bakanları toplantısı için bulunduğu Brüksel’den Cumhurbaşkanı Erdoğan’ın programına eşlik etmek üzere Dubai’ye gelen Dışişleri Bakanı Hakan Fidan’dan temasları hakkında bilgi vermesini istedi.STRATEJİ DEĞİŞİKLİĞİYandaki haberde Erdoğan’ın cevaplarını okuyacaksınız. Cumhurbaşkanı kalıcı ateşkes konusunda umudunu kaybetmiş değil. Bu yönde çabalarını arttırarak sürdürecek. Ayrıca Erdoğan’ın verdiği yanıtlardan Gazze konusunda bir strateji değişikliğine de gidildiğini öğrenmiş olduk. Erdoğan, Gazze konusunun, başkenti Doğu Kudüs olan bağımsız Filistin Devleti tartışılmadan tek başına ele alınmaması gerektiğini savundu. Bu tezin Batılı muhataplar tarafından kabul edilmeye başlandığının altını çizdi.Haberin DevamıNETANYAHU’NUN YARGILANMASIFilistin konusunu da habere bırakıp hızla diğer konuya geçmek istiyorum ama Erdoğan’ın bu konu üzerinde çok yoğunlaştığı dikkatimi çekti. O da Netanyahu başta olmak üzere savaş suçu işleyen İsrailli yöneticilerin Uluslararası Ceza Mahkemesi’nde yargılanması. Erdoğan bu yöndeki girişimleri birinci elden takip ediyor. Avukat Yasin Şamlı’nın başkanı olduğu İkinci Baro başta olmak üzere bini aşkın avukat, Netanyahu ve savaş suçu işlemeye devam edenler hakkında Lahey’e suç duyurusunda bulunuyor. Erdoğan, uluslararası bir hukukçu olan AK Parti İstanbul Milletvekili Prof. Dr. Cüneyt Yüksel’i bu konuda görevlendirmiş durumda.SAVAŞ SUÇUNUN ‘KANIT’IKanıt niteliğinde ikinci ve önemli bir adımın ise Anadolu Ajansı’ndan geldiğini öğrendik. Cumhurbaşkanı Erdoğan, Anadolu Ajansı fotomuhabirlerinin bir kısmı hiç yayınlanmamış olan Gazze’deki katliam fotoğraflarından oluşan ve Türkçe, İngilizce ve Arapça olarak hazırlanan “Kanıt” isimli kitabı gösterdi. Oradaki fotoğraflar, Uluslararası Ceza Hukuku’nda hangi maddeye karşılık olarak geliyorsa hukukçular tarafından ona karşılık olarak seçilmiş. Gezide yer alan Anadolu Ajansı Genel Müdürü Serdar Karagöz de Cumhurbaşkanı’nın isteği üzerine “Kanıt” isimli kitap hakkında ayrıntılı bilgi verdi.Haberin DevamıAHMET HAKAN SORDUFilistin konusundan sonra yerel seçim hazırlıklarına, asgari ücret konusuna girdik. Ama aklımız Dilan Polat ve Ponzi Seçil’deydi.Hürriyet Genel Yayın Yönetmeni Ahmet Hakan bu konuyu sordu. Benim beklentim Cumhurbaşkanı’nın bu konuya pek girmeyeceği yönündeydi. Ama tam tersi oldu. Erdoğan, Ahmet Hakan’dan sorusunu daha ayrıntılı bir şekilde sormasını istedi.Ahmet Hakan soruyu sorduktan sonra gözlerimizi Cumhurbaşkanı Erdoğan’a çevirdik.Erdoğan, konunun yargıda olduğunun ve kim hukuksuzluk yaptıysa cezasını çekeceğinin altını çizdi.Vatandaşları kolay para kazanma tuzaklarına düşmeleri konusunda uyardı.FUTBOLCULARLA İLGİLİ SÜREÇErdoğan, Seçil Erzan’ın merkezinde yer aldığı Arda Turan, Emre Belözoğlu, Selçuk İnan gibi ünlü futbolcuların isimlerinin yer aldığı fon olayını iki noktadan ele aldı.Haberin Devamı1- Futbolcularla ilgili bölüm; Erdoğan o konuda, “Buradan sakınma diye bir şey söz konusu değil. Bu olayda adı geçen şüphelilerle ilgili araştırmalar devam ediyor. Futbolcu arkadaşlarla ilgili de aynı şekilde süreç devam ediyor” dedi.DENİZBANK YÖNETİCİLERİ2- Soruda yer almamasına rağmen Erdoğan, bu olayda Denizbank’ın yöneticilerinin sorumluluğunu da gündeme getirdi. “Bankanın en üst düzey yöneticileri ile ilgili de şu anda bütün soruşturmalar devam ediyor” diye konuştu. Denizbank Genel Müdürü Hakan Ateş ve Mehmet\\xa0 Aydoğdu’nun yargılanmasına BDDK izin vermemişti. İddianamede isimleri yer almıyordu. Ancak Cumhurbaşkanı Erdoğan’ın açıklamasından banka yöneticileriyle ilgili soruşturmanın da devam ettiğini öğrenmiş bulunuyoruz. Konu yargıda olması nedeniyle Cumhurbaşkanı Erdoğan bu değerlendirmeyi yapmakla yetindi.\\xa0'], ['Abdulkadir Selvi', 'Ponzi Seçil’in verdiği şifre ve Denizbank’ın dilekçesindeki çelişki', 'Aralık 01, 2023', 'Haberin DevamıO nedenle şimdilik “Omerta” kuralı işliyor. Ancak bu bir yere kadar tabii ki. Sonuçta genç ömrünü hapiste çürütmek var.İddianameyi yetersiz bulduğumu söylemiştim. Ama yargılama süreci sıkı tutuluyor. Eğer Seçil Erzan’a yeterli güvence sağlanırsa duruşmalarda birçok ifşaata tanıklık edebiliriz.ŞİFREYİ VERDİSeçil Erzan, Denizbank’ta sorgulandığı sırada telefonunun alındığını ve sim kartın kırıldığını söylemişti. Futbolcuların avukatlarından Şekip Mosturoğlu, “Seçil Erzan mahkemede ‘Telefonumu aldılar, kır dediler kırdım. Temizle dediler, temizledim’ dedi. Mahkemeye de kırık bir telefon teslim etti. Neyi temizlediler acaba?” diye sormuştu.Bu haklı ve yerinde bir soru. Denizbank’ın açıklamasında ise, “Seçil Erzan, mevcut telefonlarını, iddia sahiplerinin ve ismini veremeyeceği kişilerin devamlı olarak rahatsız etmesi dolayısıyla açamadığını beyan ettiğinden, gerekirse emniyet güçlerine veya bizlere haber vermesi maksadıyla Bankamıza ait bir hattı içeren telefon da kendisine teslim edilmiştir” denilmişti.Haberin DevamıSeçil Erzan mahkemeye kullandığı telefonları teslim ediyor. Ama asıl önemli olan para toplarken kullandığı telefon hattında yer alan görüşme ve mesajlaşma trafiği. Telefonun sim kartı kırıldığı için mahkeme iPhone’a müracaat ederek, iCloud’da saklanan bilgileri talep edecek.ICLOUD ŞİFRESİEdindiğim bilgiye göre Seçil Erzan, bu telefonun iCloud şifresini mahkemeye iletmiş. Bu gelişme soruşturmanın hızla ilerlemesi açısından önem taşıyor. Mahkemenin bunu Siber Suçlar’a gönderdiği söyleniyor. Siber Suçlar bu işi çözer ama gerekirse iPhone’a müracaat edip, buluta yüklenen görüşme ve yazışmalara da ulaşılabilecek. iCloud’daki bilgilere ulaşıldığı taktirde Seçil Erzan’ın parasal ilişkilerine ulaşılacak.PARA NE OLDUSEÇİL Erzan’ın hazırladığı tabloda, yüksek getirili fon adı altında futbolculardan 45 milyon dolar topladığı gözüküyor. Erzan bu paraların bir kısmını ödemiş, tefecilere ve bazı spor adamlarına ise fazlasıyla ödeme yapmış. Ama yine de ortada kimine göre 13 milyon dolar kimine göre ise 20 milyon dolar yok. Bu para ne oldu?GİZLİ TANIKHaberin DevamıMahkemeye müracaat eden bir gizli tanık, Seçil Erzan’ın parayı üst düzey bir bankacıyla birlikte İsviçre’ye kaçırdığını söylüyor. Elbette ki mahkeme Seçil Erzan’ın yurtdışına giriş-çıkışını inceleyecektir. Ben de bir ara Bulgaristan’a günlük olarak gidip gelen, her defasında başka bir aracı kullanan Ali Yörük’ün paraları Bulgaristan’a kaçırabileceği ihtimali üzerinde durmuştum. Seçil Erzan, Ali Yörük’ün kendisinden fazla para aldığını söylüyor. Ali Yörük kendi tahsil ettiği parayı da Bulgaristan’a çıkarmış olabilir deniliyor. Ama bu İsviçre işi önemli. İsviçre’ye birlikte gittiği üst düzey bankacının kimliği çok daha önemli. Netice itibariyle ortada buharlaşan 20 milyon dolar gibi bir para var.KORKTUĞU KİŞİHaberin DevamıSeçil Erzan’ın mahkemede, “Korkuyorum. İsmini kesinlikle vermek istemiyorum” dediği gizemli kişinin kim olduğu merak ediliyor. Hürriyet’ten Musa Kesler, Kapalıçarşı etrafında tefecilik yapan isimleri gündeme taşıdı. Yine tekrar altını çizerek söylüyorum. Eğer Seçil Erzan’a yeterince güvence sağlanırsa mahkemeye bu kişinin ismini verebilir. Eğer bu isim ortaya çıkarsa yurtdışına kaçırılan para dahil olmak üzere birçok gizli kapaklı ilişki aydınlatılabilir.FATİH TERİM BU İŞİN NERESİNDESEÇİL Erzan’a Denizbank’ta hazırlatılan tabloda; Fatih Terim’in 700 bin dolar verip 1.5 milyon dolar aldığı yer alıyor. Seçil Erzan da mahkemede, “İstediği para çok, çok, çok fazla olmaya başladı. Bana 300 bin dolar ödedi” demişti. Mahkeme başkanının, “Bu 300 bin doları size kim verdi?” sorusu üzerine Seçil Erzan, “Bu kişi Fatih Terim’dir” yanıtını vermişti.Haberin DevamıTERİM’İN ESKİ AVUKATI ANLATIYORFatih Terim’in futbolcularla birlikte gittiği Hakan Ateş’in yanında, “Erzan’ın yaptıklarını anlamıyorum. Kaybım olmakla beraber miktarını bilmiyorum” diye konuştuğunu Denizbank’ın açıklamasından öğrenmiştik. Seçil Erzan’ın sevgilisi ve Terim’in de bir dönem avukatı olan Candaş Gürol, “Terim’in evine gittiğimizde bana Seçil Erzan’ın fonlarına para yatırdığını söyledi. Bununla birlikte kızı Buse Terim, yeğeni Terim Arcan ve damadı Volkan Bahçekapılı’nın da aynı fona para yatırdığını söyledi” demişti.Sır bu işin neresinde?Türk futboluna yıllarca emek veren Fatih Terim artık konuşmalı ve ismi etrafında oluşan bu spekülasyonlara bir son vermeli. Yoksa zaten iCloud şifresi bulunan telefondan elde edilecek bilgiler Terim’i konuşmak zorunda bırakabilir.Haberin DevamıSEÇİL ERZAN’A ‘ZİMMET’ BASKISIÖNCE Seçil Erzan’ın ifadesinden bir bölüm aktarmak istiyorum. “9 Nisan’da beni korumalar eşliğinde Zincirlikuyu’daki Denizbank Genel Müdürlüğü’ne götürdüler. Koluma serumlar takılarak bana bu işi banka dışında yaptım diye söylettirdiler” diyor. Erzan devam ediyor: “9 Nisan Pazar günü, akşam saatlerinde bu sefer Hakan Ateş bankaya geldi. Bulunduğumuz toplantı salonuna girerek, ’Kızım biz zaten insanların parasını vereceğiz ama ortada bir enkaz var, kimden ne aldıysan söyle zaten bu bir zimmet değil, zimmet olsa sen yıllarca içeride çürürdün. Bu sebeple de kendin banka dışında ne aldıysan onları söyle, sen bizi koru biz de seni koruruz’ dedi.”DENİZBANK’IN DİLEKÇESİNDEBenim bu iş zimmettir diye bir iddiam yok. Ayrıca bu kararı verecek olan merci gazeteciler değil. Sadece habercilik açısından önemli olan bir çelişkiye dikkat çekmek istiyorum. Denizbank’ın avukatları Murat Özcanlı ve Ramazan Erkut Alperen, 7 Nisan 2023 tarihinde İstanbul Cumhuriyet Başsavcılığı’na Seçil Erzan hakkında yurtdışına çıkış yasağı konulmasını talep ediyorlar. Avukat Murat Özcanlı’nın imzasını taşıyan dilekçeye elyazısı ile eklenen bir iddia yer alıyor. Avukat Özcanlı elyazısı ile eklenen cümleyi paraf ediyor. Dilekçede “Somut olayda aynı zamanda zimmet suçu şüphesi bulunmaktadır” deniliyor. Zaten mahkeme de bu talep üzerine Seçil Erzan’a yurtdışına çıkış yasağı getiriyor.\\xa0E hani zimmet işi yoktu?']]\n"
     ]
    }
   ],
   "source": [
    "rows=[]\n",
    "for i in url_list:\n",
    "    response = requests.get(i)\n",
    "    response = response.content\n",
    "    soup = BeautifulSoup(response, 'html.parser')\n",
    "    author=soup.find('span', class_='author-detail-title').text\n",
    "    title=soup.find('h1').text\n",
    "    date=soup.find('time').text[:-6]\n",
    "    text=soup.find('div',class_='author-content readingTime').text\n",
    "    rows.append([author,title, date, text])\n",
    "print(rows)  "
   ]
  },
  {
   "cell_type": "code",
   "execution_count": null,
   "metadata": {},
   "outputs": [],
   "source": []
  },
  {
   "cell_type": "code",
   "execution_count": 27,
   "metadata": {},
   "outputs": [],
   "source": [
    "df = pd.DataFrame(rows, columns=['author', 'title', 'date','text'])\n",
    "df.to_csv('rows.csv')"
   ]
  },
  {
   "cell_type": "code",
   "execution_count": 29,
   "metadata": {},
   "outputs": [
    {
     "data": {
      "text/html": [
       "<div>\n",
       "<style scoped>\n",
       "    .dataframe tbody tr th:only-of-type {\n",
       "        vertical-align: middle;\n",
       "    }\n",
       "\n",
       "    .dataframe tbody tr th {\n",
       "        vertical-align: top;\n",
       "    }\n",
       "\n",
       "    .dataframe thead th {\n",
       "        text-align: right;\n",
       "    }\n",
       "</style>\n",
       "<table border=\"1\" class=\"dataframe\">\n",
       "  <thead>\n",
       "    <tr style=\"text-align: right;\">\n",
       "      <th></th>\n",
       "      <th>Unnamed: 0</th>\n",
       "      <th>author</th>\n",
       "      <th>title</th>\n",
       "      <th>date</th>\n",
       "      <th>text</th>\n",
       "    </tr>\n",
       "  </thead>\n",
       "  <tbody>\n",
       "    <tr>\n",
       "      <th>0</th>\n",
       "      <td>0</td>\n",
       "      <td>Abdulkadir Selvi</td>\n",
       "      <td>MİT ile MOSSAD arasında casuslar savaşı mı yaş...</td>\n",
       "      <td>Aralık 08, 2023</td>\n",
       "      <td>Haberin Devamı1. ERDOĞAN UYARDICumhurbaşkanı E...</td>\n",
       "    </tr>\n",
       "    <tr>\n",
       "      <th>1</th>\n",
       "      <td>1</td>\n",
       "      <td>Abdulkadir Selvi</td>\n",
       "      <td>Denizbank yöneticileri Ponzi Seçil olayında if...</td>\n",
       "      <td>Aralık 07, 2023</td>\n",
       "      <td>Haberin DevamıKimi müşteki, kimi mağdur olarak...</td>\n",
       "    </tr>\n",
       "    <tr>\n",
       "      <th>2</th>\n",
       "      <td>2</td>\n",
       "      <td>Abdulkadir Selvi</td>\n",
       "      <td>İçişleri Bakanı ile konuştuklarımız ve izlenimim</td>\n",
       "      <td>Aralık 06, 2023</td>\n",
       "      <td>Haberin DevamıSonra bir film başladı.Helikopte...</td>\n",
       "    </tr>\n",
       "    <tr>\n",
       "      <th>3</th>\n",
       "      <td>3</td>\n",
       "      <td>Abdulkadir Selvi</td>\n",
       "      <td>İYİ Parti’nin kararı seçim sonuçlarını etkiley...</td>\n",
       "      <td>Aralık 05, 2023</td>\n",
       "      <td>Haberin DevamıGeçen seçimlerde CHP ile ittifak...</td>\n",
       "    </tr>\n",
       "    <tr>\n",
       "      <th>4</th>\n",
       "      <td>4</td>\n",
       "      <td>Abdulkadir Selvi</td>\n",
       "      <td>İYİ Parti CHP ile seçim işbirliği kararı alaca...</td>\n",
       "      <td>Aralık 04, 2023</td>\n",
       "      <td>Haberin DevamıAkşener o gün “İttifak sistemini...</td>\n",
       "    </tr>\n",
       "    <tr>\n",
       "      <th>5</th>\n",
       "      <td>5</td>\n",
       "      <td>Abdulkadir Selvi</td>\n",
       "      <td>Cumhurbaşkanı Erdoğan Dubai dönüşü gazeteciler...</td>\n",
       "      <td>Aralık 03, 2023</td>\n",
       "      <td>Haberin DevamıO da tahmin ettiğiniz gibi Dilan...</td>\n",
       "    </tr>\n",
       "    <tr>\n",
       "      <th>6</th>\n",
       "      <td>6</td>\n",
       "      <td>Abdulkadir Selvi</td>\n",
       "      <td>Ponzi Seçil’in verdiği şifre ve Denizbank’ın d...</td>\n",
       "      <td>Aralık 01, 2023</td>\n",
       "      <td>Haberin DevamıO nedenle şimdilik “Omerta” kura...</td>\n",
       "    </tr>\n",
       "  </tbody>\n",
       "</table>\n",
       "</div>"
      ],
      "text/plain": [
       "   Unnamed: 0            author  \\\n",
       "0           0  Abdulkadir Selvi   \n",
       "1           1  Abdulkadir Selvi   \n",
       "2           2  Abdulkadir Selvi   \n",
       "3           3  Abdulkadir Selvi   \n",
       "4           4  Abdulkadir Selvi   \n",
       "5           5  Abdulkadir Selvi   \n",
       "6           6  Abdulkadir Selvi   \n",
       "\n",
       "                                               title             date  \\\n",
       "0  MİT ile MOSSAD arasında casuslar savaşı mı yaş...  Aralık 08, 2023   \n",
       "1  Denizbank yöneticileri Ponzi Seçil olayında if...  Aralık 07, 2023   \n",
       "2   İçişleri Bakanı ile konuştuklarımız ve izlenimim  Aralık 06, 2023   \n",
       "3  İYİ Parti’nin kararı seçim sonuçlarını etkiley...  Aralık 05, 2023   \n",
       "4  İYİ Parti CHP ile seçim işbirliği kararı alaca...  Aralık 04, 2023   \n",
       "5  Cumhurbaşkanı Erdoğan Dubai dönüşü gazeteciler...  Aralık 03, 2023   \n",
       "6  Ponzi Seçil’in verdiği şifre ve Denizbank’ın d...  Aralık 01, 2023   \n",
       "\n",
       "                                                text  \n",
       "0  Haberin Devamı1. ERDOĞAN UYARDICumhurbaşkanı E...  \n",
       "1  Haberin DevamıKimi müşteki, kimi mağdur olarak...  \n",
       "2  Haberin DevamıSonra bir film başladı.Helikopte...  \n",
       "3  Haberin DevamıGeçen seçimlerde CHP ile ittifak...  \n",
       "4  Haberin DevamıAkşener o gün “İttifak sistemini...  \n",
       "5  Haberin DevamıO da tahmin ettiğiniz gibi Dilan...  \n",
       "6  Haberin DevamıO nedenle şimdilik “Omerta” kura...  "
      ]
     },
     "execution_count": 29,
     "metadata": {},
     "output_type": "execute_result"
    }
   ],
   "source": [
    "df=pd.read_csv('rows.csv')\n",
    "df.head(7)"
   ]
  },
  {
   "cell_type": "code",
   "execution_count": 10,
   "metadata": {},
   "outputs": [
    {
     "name": "stdout",
     "output_type": "stream",
     "text": [
      "MİT ile MOSSAD arasında casuslar savaşı mı yaşanacak\n"
     ]
    }
   ],
   "source": [
    "url='https://www.hurriyet.com.tr/yazarlar/abdulkadir-selvi/mit-ile-mossad-arasinda-casuslar-savasi-mi-yasanacak-42372908'\n",
    "response = requests.get(url)\n",
    "response = response.content\n",
    "soup = BeautifulSoup(response, 'html.parser')\n",
    "title=soup.find('h1').text\n",
    "print(title)"
   ]
  },
  {
   "cell_type": "code",
   "execution_count": null,
   "metadata": {
    "id": "-FGhELn0xnKE"
   },
   "outputs": [],
   "source": [
    "def meeting_minutes(transcription):\n",
    "    abstract_summary = abstract_summary_extraction(transcription)\n",
    "    key_points = key_points_extraction(transcription)\n",
    "    action_items = action_item_extraction(transcription)\n",
    "    sentiment = sentiment_analysis(transcription)\n",
    "    return {\n",
    "        'abstract_summary': abstract_summary,\n",
    "        'key_points': key_points,\n",
    "        'action_items': action_items,\n",
    "        'sentiment': sentiment\n",
    "    }"
   ]
  },
  {
   "cell_type": "code",
   "execution_count": null,
   "metadata": {
    "id": "H9FemPr2rjQm"
   },
   "outputs": [],
   "source": [
    "def summarize(system, text):\n",
    "  import openai\n",
    "\n",
    "  response = openai.Completion.create(\n",
    "    model=\"gpt-4\",\n",
    "    prompt=system+\"\\n\\n\"+text,\n",
    "    temperature=0.7,\n",
    "    max_tokens=100,\n",
    "    top_p=1.0,\n",
    "    frequency_penalty=0.0,\n",
    "    presence_penalty=0.0\n",
    "  )\n",
    "  return print(response[\"choices\"][0][\"text\"])"
   ]
  }
 ],
 "metadata": {
  "colab": {
   "provenance": []
  },
  "kernelspec": {
   "display_name": "Python 3 (ipykernel)",
   "language": "python",
   "name": "python3"
  },
  "language_info": {
   "codemirror_mode": {
    "name": "ipython",
    "version": 3
   },
   "file_extension": ".py",
   "mimetype": "text/x-python",
   "name": "python",
   "nbconvert_exporter": "python",
   "pygments_lexer": "ipython3",
   "version": "3.11.4"
  }
 },
 "nbformat": 4,
 "nbformat_minor": 1
}
