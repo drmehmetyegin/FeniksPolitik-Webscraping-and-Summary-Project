{
 "cells": [
  {
   "cell_type": "code",
   "execution_count": 22,
   "metadata": {
    "scrolled": true
   },
   "outputs": [],
   "source": [
    "\n",
    "import requests"
   ]
  },
  {
   "cell_type": "code",
   "execution_count": 23,
   "metadata": {},
   "outputs": [],
   "source": [
    "from bs4 import BeautifulSoup"
   ]
  },
  {
   "cell_type": "code",
   "execution_count": 24,
   "metadata": {},
   "outputs": [],
   "source": [
    "import pandas as pd"
   ]
  },
  {
   "cell_type": "code",
   "execution_count": 25,
   "metadata": {},
   "outputs": [],
   "source": [
    "url_list=['https://www.hurriyet.com.tr/yazarlar/abdulkadir-selvi/mit-ile-mossad-arasinda-casuslar-savasi-mi-yasanacak-42372908','https://www.hurriyet.com.tr/yazarlar/abdulkadir-selvi/denizbank-yoneticileri-ponzi-secil-olayinda-ifadeye-cagrilmis-42372337','https://www.hurriyet.com.tr/yazarlar/abdulkadir-selvi/icisleri-bakani-ile-konustuklarimiz-ve-izlenimim-42371864','https://www.hurriyet.com.tr/yazarlar/abdulkadir-selvi/iyi-partinin-karari-secim-sonuclarini-etkileyecek-42371339','https://www.hurriyet.com.tr/yazarlar/abdulkadir-selvi/iyi-parti-chp-ile-secim-isbirligi-karari-alacak-mi-42370843','https://www.hurriyet.com.tr/yazarlar/abdulkadir-selvi/cumhurbaskani-erdogan-dubai-donusu-gazetecilere-konustu-dilan-polat-secil-erzan-sorusu-ve-erdoganin-tavri-42370462','https://www.hurriyet.com.tr/yazarlar/abdulkadir-selvi/ponzi-secilin-verdigi-sifre-ve-denizbankin-dilekcesindeki-celiski-42369442']"
   ]
  },
  {
   "cell_type": "code",
   "execution_count": 26,
   "metadata": {},
   "outputs": [
    {
     "name": "stderr",
     "output_type": "stream",
     "text": [
      "Some characters could not be decoded, and were replaced with REPLACEMENT CHARACTER.\n",
      "Some characters could not be decoded, and were replaced with REPLACEMENT CHARACTER.\n"
     ]
    },
    {
     "name": "stdout",
     "output_type": "stream",
     "text": [
      "[['Abdulkadir Selvi', 'MİT ile MOSSAD arasında casuslar savaşı mı yaşanacak', 'Aralık 08, 2023', 'Haberin Devamı1. ERDOĞAN UYARDICumhurbaşkanı Erdoğan, “Her şeyden önce bu haberi yapanlar demek ki Türkiye’yi tanımıyorlar. Türkleri tanımıyorlar. Bizi tanımıyorlar. Böyle bir yanlışa tevessül etmeleri halinde şunu bilmeleri gerekir ki bunun bedelini, bunun faturasını çok ama çok ağır öderler” dedi.Erdoğan’ın bu uyarısının sahada ne anlama geldiğini en iyi MOSSAD bilir.2. İSTİHBARATIN TEPKİSİAnadolu Ajansı’na konuşan istihbarat yetkilileri, muhtelif istihbarat servislerinin daha önce de Türkiye Cumhuriyeti topraklarında yasadışı faaliyetler gerçekleştirmeye çalıştığını anımsatarak, hiçbir servisin bu tür operasyonlarına müsaade edilmeyeceğini vurguladı.3. MOSSAD ENSELENMİŞTİİstihbarat yetkililerinin uyarısını en iyi MOSSAD bilir. Çünkü 2021 yılında İstanbul’da Filistinli aktivistlere yönelik suikast hazırlığı içinde olan 7 MOSSAD ajanı yakalanmıştı. MOSSAD’ın güvenli evlerine baskın yapılmış Türkiye’deki hücreleri çökertilmişti. Ajanlar şimdi cezaevinde gün dolduruyorlar.Haberin Devamı4. MOSSAD’IN İMAJI SARSILDIHamas’ın 7 Ekim’de yaptığı eylem MOSSAD’ın imajını sarstı. Hatta alay konusu olmasına neden oldu. Netanyahu kendini kurtarmak, MOSSAD bozulan imajını düzeltmek için bu tür açıklamalar yapıyor ama bunun bedeli çok ağır olabilir. Çünkü ne MOSSAD eski MOSSAD ne MİT eski MİT.5. MOSSAD, MİT’E BAŞVURMUŞHamas’ın 7 Ekim’de yaptığı eylemin istihbaratını alamayan MOSSAD rehinelerin kurtarılması konusunda MİT’ten yardım istemiş. Rehinelerin kurtarılması için Katar, Mısır ve ABD ile yoğun bir müzakere yürüten MİT, geçici ateşkes sürecinde Hamas’ın rehinelerin bir bölümünün bırakılmasını sağlamıştı. MOSSAD bunun üzerine MİT’e teşekkür üzerine teşekkür etmiş.6. İSRAİLLİ TURİST KAFİLESİ2022 yılında MİT ile İstanbul Emniyeti ortak bir operasyon yaparak İsrailli bir turist kafilesine yönelik İran istihbaratının suikast girişimi önlemişti. İran ajanları silahları ile kıskıvrak yakalanmış, İsrailli turist kafilesi MİT’in zırhlı araçları ile uçağa yerleştirilip burunları kanamadan İsrail’e gönderilmişti. MOSSAD bunun üzerine MİT’e çok ama çok teşekkür etmiş.Haberin DevamıMOSSAD DÜŞÜNSÜNDemem o ki İsrail Türkiye’yi Türkiye İsrail’i, MOSSAD MİT’i, MİT MOSSAD’ı iyi tanır. Eğer buna rağmen MOSSAD bir çılgınlık yapmaya kalkışırsa sonucuna da katlanır. Gerisini Netanyahu ve MOSSAD düşünsün.CHP VE İYİ PARTİ’DE EKREM İMAMOĞLU SORUNSALI BÜYÜYORASLINDA başlıkta, “Ekrem İmamoğlu sorunu” demem gerekiyordu. Biraz janjanlı olsun diye “sorunsalı” demeyi tercih ettim.Bir süre önce, “Ekrem İmamoğlu’nun parmağı İYİ Parti’nin içinde. Partiyi mikser gibi karıştırıyor” diye yazmıştım.Meral Akşener, ne zaman ki Ekrem İmamoğlu’nu hedef aldı, “başkalarının siyasi kariyerine zıplama tahtası olmadan yapacağız” dedi...MİLLETVEKİLİNİN İSTİFASIHaberin DevamıMeral Akşener bu konuşmayı yaptıktan 5 saat sonra İstanbul Milletvekili Ayşe Sibel Yanıkömeroğlu İYİ Parti’den istifa etti. Yanıkömeroğlu, Meral Akşener’in kontenjanından milletvekili listelerine giren bir isimdi. İYİ Parti’den Kadıköy belediye başkan adaylığı için başvuruda bulunan sanatçı Emre Kınay’ı partiye getirecek kadar Akşener’e yakın bir milletvekiliydi.İYİ Parti’de cinsel taciz ve parasal iddialar üzerinde büyük bir kriz patlak verdiğinde Meral Akşener ne zaman ki ittifaksız, kendi başlarına seçimlere girme kararı aldıklarını, ondan sonra partinin karışmaya başladığını söylemişti.Akşener’in dikkat çektiği zamanlama önemliydi.İMAMOĞLU’NU HEDEF ALINCAHaberin DevamıMeral Akşener ne zaman ki Ekrem İmamoğlu’nu hedef aldı, İYİ Parti’den istifalar başladı. İYİ Parti Ankara Milletvekili Yüksel Arslan’ın Ayşe Sibel Yanıkömeroğlu’nun istifası üzerine atıp sonra sildiği tweet manidardı. Yüksel Arslan, “İmamoğlu satın aldı” dedi.MANSUR YAVAŞ’A YAKINYüksel Arslan’ın Mansur Yavaş’ın eski özel kalem müdürü olduğunun altını çizmem gerekiyor. Mansur Yavaş desteklenmediği taktirde Yüksel Arslan’ın İYİ Parti’den istifa edeceği söyleniyordu. Sanıyorum Akşener özel bir görüşme yapmış. Mansur Yavaş’la karşı karşıya getirmeyeceği konusunda güvence vermiş. Yüksel Arslan bunun üzerine istifa kararını gözden geçirmiş.EKREM’E DOKUNAN YANARTekrar İstanbul Milletvekili Ayşe Sibel Yanıkömeroğlu’nun istifasına gelecek olursak, Meral Akşener’e, “Ekrem’e dokunan yanar” mesajını verdi.\\xa0Haberin DevamıÖzgür Özel görmezden gelmeye çalışsa da CHP’de de Ekrem İmamoğlu sorunsalı büyümeye başladı. Ekrem İmamoğlu, gerçek genel başkan gibi hareket ediyor. İl başkanlarını İstanbul’da topladı. Oradaki pozisyonu İmamoğlu genel başkan, Özgür Özel onun vekili gibiydi.İTTİFAK GÖRÜŞMELERİNİ YAPIYORMuharrem İnce ile ittifak görüşmelerini Ekrem İmamoğlu yürütüyor. İmamoğlu’nun Muharrem İnce’ye CHP’lilerin, “Terlik koysak kazanırız” diye düşündüğü İzmir büyükşehir belediye başkan adaylığını önerdiği söyleniyor. Zaten Muharrem İnce bunu reddetmedi.Düşünün ki CHP, Muharrem İnce ile ittifak yapacak. Ama ittifak görüşmeleri CHP Genel Merkezi’nde değil, Ekrem İmamoğlu’nun makamında yapılıyor. Muharrem İnce ile görüşmeleri Genel Başkan Özgür Özel değil, İstanbul Büyükşehir Belediye Başkanı Ekrem İmamoğlu yapıyor. Muharrem İnce’ye İzmir büyükşehir belediye başkan adaylığını Özgür Özel değil, Ekrem İmamoğlu öneriyor.EMANETÇİ DAMGASICHP’de tam anlamıyla bir Ekrem İmamoğlu vesayeti yaşanıyor. Belediye başkan adayları da zaten CHP Genel Başkanı Özgür Özel’le değil, Ekrem İmamoğlu ile görüşüyorlar.Özgür Özel bu emanetçi damgasıyla daha ne kadar devam edecek orasını bilmiyorum.'], ['Abdulkadir Selvi', 'Denizbank yöneticileri Ponzi Seçil olayında ifadeye çağrılmış', 'Aralık 07, 2023', 'Haberin DevamıKimi müşteki, kimi mağdur olarak ifade veriyor. Seçil Erzan, Denizbank’ın şube müdürü. Fon işini Denizbank Florya Şubesi’nden yürütmüş. İşlemlerin bir kısmı Denizbank şubesinde gerçekleştirilmiş. Bankanın antetli kâğıdı ve kaşesi kullanılmış. Bazı evraklarda Denizbank’ın operasyon müdürü Asiye Öztürk imza atmış. Denizbank Genel Müdürü Hakan Ateş ve Genel Müdür Yardımcısı Mehmet Aydoğdu’nun ismini güvence olarak kullanmış.Herkes araştırılıyor, herkesin ifadesine başvuruluyor. Ama bir tek Denizbank hariç. Bir de Denizbank Genel Müdürü Hakan Ateş ve Mehmet Aydoğdu bu işten muaf.ERDOĞAN DA TATMİN OLMAMIŞHakan Ateş ve Mehmet Aydoğdu’nun ifadesine ya da en azından bilgisine neden başvurulmadı sorusu büyük bir muammayı oluşturuyor. Cumhurbaşkanı Erdoğan da bu konuda ikna olmamış ki, “Bankanın en üst düzey yöneticileriyle ilgili de şu anda bütün soruşturmalar devam ediyor. Öyle zannediyorum ki kısa zamanda netice alırız” dedi.Haberin DevamıBDDK KARARI VAROrtada BDDK’nın kararı var. O yüzden Hakan Ateş ve Mehmet Aydoğdu’nun ifadesi alınamaz denilebilir. BDDK kararının farkındayım. Ama isterseniz yazımın sonunu bekleyin.Seçil Erzan soruşturmasında en önemli kırılma noktasını BDDK’nın 14.8.2023 tarihli “Yazılı başvuruda bulunulmasına yer olmadığı” şeklindeki kararı oluşturuyor. BDDK’nın kararı nedeniyle Seçil Erzan ve Denizbank Genel Müdürü Hakan Ateş ile Mehmet Aydoğdu hakkında ‘zimmet’ suçlaması nedeniyle açılan soruşturmada takipsizlik kararı veriliyor.VERECEKLERİ BİLGİLER ÖNEMLİYDİBöylece Hakan Ateş ve Mehmet Aydoğdu’nun ifadesine başvurulması mümkün olmuyor. Oysa Seçil Erzan fona para toplarken Hakan Ateş ve Mehmet Aydoğdu’nun ismini referans olarak kullanıyor. Seçil Erzan olayı henüz yargıya intikal etmeden önce Hakan Ateş olaya müdahale ediyor.Seçil Erzan’a, bunun zimmet suçu olmadığını, kendisine avukat tutacaklarını telkin ediyor. O nedenle Hakan Ateş ve Mehmet Aydoğdu’nun mahkemede vereceği bilgiler olayın aydınlatılması açısından yararlı olabilirdi.Neyse, bu fırsat şimdilik kaçırıldı. Ama müştekilerin avukatları, BDDK’nın kararının iptali yönünde hukuki mücadelelerini sürdürüyorlar.Haberin DevamıSAVCILIK YAZI YAZMIŞBu arada İstanbul Cumhuriyet Başsavcılığı soruşturma kapsamında, 24 Nisan 2023 tarihinde Hakan Ateş’in Başsavcılık’ta hazır bulundurulması için Beşiktaş İlçe Emniyet Müdürlüğü’ne, yine aynı tarihte Mehmet Aydoğdu’nun Başsavcılık’ta hazır bulundurulması için Eyüpsultan\\xa0 İlçe Emniyet Müdürlüğü’ne yazılı olarak talimat vermiş.MOSTUROĞLU’NUN ÖNEMLİ SORUSUBu noktada Av. Şekip Mosturoğlu’nun sorusu devreye giriyor. Mosturoğlu katıldığı bir yayında, “Savcı dördüncü aydan yedinci aya kadar bankacıların ifadesini alabilirdi. Neden almadı?” diye sormuştu.Sahi bu arada bankacıların ifadesi neden alınmadı?AKŞENER, EKREM İMAMOĞLU’NU NEDEN HEDEF ALDIMERAL Akşener’in herkese her şey söyleyeceğini düşünürdüm de Ekrem İmamoğlu’nu hedef alacağını rüyamda görsem inanmazdım.Haberin DevamıO nedenle Meral Akşener’in grup konuşmasını izledikten sonra, İYİ Parti’de değerlendirmeleri önemli olan isimlere ulaşıp “Akşener, bu cümlede Ekrem İmamoğlu’nu mu kastetti?”diye sorma gereği duydum.İKİNCİ FATİH DEMİŞTİÇünkü Meral Akşener, Ekrem İmamoğlu’nu ‘İkinci Fatih’ ilan etmişti. Yüzünde Rabbi Yessir görmüştü. Saraçhane’de, “Ekrem yeni başlıyor” diyerek çak işareti yapmışlardı. Daha da öte cumhurbaşkanı adadıydı. 6’lı Masa’dan kalktıktan sonra Ekrem İmamoğlu ve Mansur Yavaş’ın cumhurbaşkanı yardımcısı olması koşuluyla dönmüştü.Yani bir anlamda Ekrem İmamoğlu için siyasi hayatını riske atmıştı. Bunu baba, oğula yapmaz. Ama ana, oğula yapmıştı.Haberin DevamıİMAMOĞLU’NUN KARİYER PLANIGeldiğimiz noktada ise Meral Akşener, “Bu mücadeleyi başkasının yazdığı senaryoya figüran olmadan, başkalarının siyasi kariyerine zıplama tahtası olmadan yapacağız” dedi.Bu sözün muhatabı doğrudan Ekrem İmamoğlu. Akşener’in burada İmamoğlu’nun sadece İstanbul Büyükşehir Belediye Başkanlığı hedefini kastettiğini zannetmiyorum. İmamoğlu’nun 2028 yılında cumhurbaşkanı adayı olma hedefine gönderme yaptığını düşünüyorum.Belli ki abla ile kardeşin arasına kara kedi girmiş. Ama ben bu derecede olduğunu bilmiyordum.AKŞENER’İN TAVRIİYİ Parti’nin seçimlere “Hür ve müstakil” olarak girme sürecini yakından takip etmeme rağmen bu yazıyı yazmak için Meral Akşener’in açıklamasını bekledim.Haberin DevamıNeden? Çünkü Meral Akşener, CHP’nin teklifi üzerine ikinci kez toplanıp seçimlere kendi başına girme kararının yeniden alındığı GİK toplantısında, “CHP’den yeni bir teklif gelirse değerlendirecek miyiz? Bu karar kesin mi?” diye soran GİK üyelerine, “Kararımız kesindir” yanıtını vermişti. Buna rağmen Meclis kürsüsünden deklare etmesini bekledim.ÖZÜ BAŞIMIZAMeral Akşener, ”Bu mücadeleyi omuzlarımızda sadece ve sadece milletimizin bize yüklediği sorumlulukla vereceğiz. Bu mücadeleyi başkasının yazdığı senaryoya figüran olmadan, başkalarının siyasi kariyerine zıplama tahtası olmadan, başkasının sevabına da günahına da ortak olmadan, özü başımıza birlikte hür ve müstakil olarak vereceğiz” dedi.İYİ Parti geleceği açısından doğru ama riskli bir karar aldı. Şimdiye kadar seçimlere kendi başına girmediği için partinin kimliği oluşmamıştı. ‘İYİ Parti demek sanki CHP’ye seçim kazandırma partisi demek’ gibi bir algısı oluşmuştu.MANDA HİMAYEMeral Akşener ilginç bir itirafta bulundu. “Adına ittifak dedikleri manda ve himaye tuzağına geçit vermeyeceğiz. Türk milletine ölümü gösterip sıtmaya razı eden bu maskeli baloya boyun eğmeyeceğiz” dedi. Kurulduğu günden bu yana girdiği her seçimde ittifak yapan İYİ Parti, demek ki manda ve himaye altındaymış.Meral Akşener bunu itiraf etmiş oldu.AKŞENER’E HAKARET AYIBIMeral Akşener, 6’lı Masa’dan kalktığında da siyasi hayatının en ağır hakaretlerine maruz kalmıştı. Üzerine sifon çeken ahlaksızlar çıkmıştı. Şimdi de CHP’nin işbirliği önerisi kabul edilmedi ya, CHP medyasından küfür ve hakaret sezonunu açtılar. Hem de Özgür Özel’in çok makul bir açıklama yapmasına rağmen.“Girdisi çıktısı” bile ağıza alındı. Pes doğrusu.CHP, bu medyadan ve bu dilden kurtulmadığı sürece seçim kazanamaz.GÖKHAN GÜNAYDIN’IN KONUŞMASITopuğuna sıkmak derler ya tam bu işe oturuyor.İYİ Parti’nin Genel İdare Kurulu, CHP’nin işbirliği önerisini görüşmek üzere toplanmış. Tam o sırada CHP Grup Başkanvekili Gökhan Günaydın, muhalif bir kanalda yayına çıkıyor. “İYİ Parti seçim ittifakını reddederse kendi bilecekleri iştir. Bunun hem CHP hem de İYİ Parti tabanında bir karşılığı olacaktır” diyor.Bu açıklama yıldırım hızıyla o sırada toplantı halinde olan GİK’e ulaşıyor. Bazı GİK üyeleri telefonlarından yayını izliyorlar. Toplantıda hava değişiyor. CHP ile ittifaka karşı çıkanların eli güçleniyor. “İbret almadılar” yorumu yapılıyor.Sonuç ortada.Gökhan Günaydın iyi ki iktidara yakın bir medyada konuşmamış. Yoksa Erdoğan konuşturmuş derlerdi.'], ['Abdulkadir Selvi', 'İçişleri Bakanı ile konuştuklarımız ve izlenimim', 'Aralık 06, 2023', 'Haberin DevamıSonra bir film başladı.Helikopter dağ başında ıssız bir köyde, top oynayan çocukları fark ediyor. Bir süre sonra askeri bir araç geliyor köye, top oynayan çocuklara ay yıldızlı forma ve futbol topu veriyorlar. Askerler ile çocuklar seviçle kucaklaşıyor. İçişleri Bakanı Ali Yerlikaya ile medya buluşmamız işte bu sıcak görüntülerle başladı. Gazze’ye savaş uçaklarının bomba yağdırdığı, helikopterlerin ölüm kustuğu bir sırada jandarma ile çocukların sevinçle kucaklaşması içimi ısıttı.İÇİŞLERİ BAKANI İLE BULUŞMAMilletin tüylerini diken diken eden fenomenlerin tek tek hesaba çekildiği, Seçil Erzan’ın ünlü futbolcuları dolandırdığı fon olayının patlak verdiği, çetelerle amansız bir şekilde mücadele edildiği bir sırada İçişleri Bakanı Ali Yerlikaya ile bir araya gelmek habercilik açısından önemliydi. Bakanlığındaki 180 günün hesabını verdi. Kısa adı NARVAS olan Narkotik Vaka Analiz Sistemi’ni anlattı. NARVAS’a gelen tüm ihbarlar doğru olarak kabul ediliyor, değerlendiriliyor.Haberin DevamıHİTABETİ İYİYDİAli Yerlikaya’ya farklı bir gözle baktım. İçişleri Bakanı kısa ama verilerle dolu bir konuşma yaptı. Söylediklerini yaptığı için, meydanı çetelere ve uyuşturucu tacirlerine dar ettiği için sözlerinin bir ağırlığı vardı. Dikkat ettim, prompteri çok iyi kullandı. Hitabeti iyiydi. Seçim meydanında kitleleri coşturur. Bakanlığı devraldığı gün, ‘Referansımız hukuk’ demişti. Son sözü de yine ‘Temel referansımız hukuk ve insan hakları’ oldu.ÇETELERLE MÜCADELEAli Yerlikaya çetelerle mücadelesi nedeniyle Meclis’teki bütçe görüşmeleri sırasında hem iktidarın hem muhalefetin alkışladığı bir bakan oldu. Yerlikaya yine çetelerle mücadelede kararlı mesajlar verdi.“Milletimiz müsterih olsun. Hedefimiz, şehir eşkiyaları olarak ifade ettiğimiz organize suç örgütlerinden sokaklarımızı, mahallelerimizi, şehirlerimizi temizlemektir. Bu suç örgütlerine zerre kadar tahammülümüz yoktur” dedi.Haberin DevamıKısa sürede 191 çete çökertilmiş, 4 bin 303 şüpheli gözaltına alınmış. Yürü Ali Bakan, çetelerle mücadelende millet yanında.CUMHURBAŞKANI TAKİPTEBu vesileyle bir kulis bilgisini paylaşayım; Ali Yerlikaya İçişleri Bakanı olduğunda Cumhurbaşkanı Erdoğan, çetelerin üzerine gidilmesi konusunda talimatlar vermiş. Her Kabine toplantısında, İçişleri Bakanı Yerlikaya ile bir araya geldiğinde, her defasında çetelerle mücadele konusundaki son durum hakkında bilgi alıyormuş. Sanıyorum birkaç ay sonra çeteler konusu Türkiye’nin gündeminde geri sıralara düşecek. Cumhurbaşkanı Erdoğan’ın desteğiyle güçlü bir mücadele yürütülüyor.İSRAİL İSTİHBARATINA YANITNetanyahu, Hamas yöneticilerini bulundukları ülkede tespit edip ortadan kaldıracaklarını açıkladı. Gazze kasabı Netanyahu, sen önce Gazze’deki Hamas’ı yenmeyi başar. Hastane vurarak, çocukları öldürerek savaş kazanılmaz. Türkiye sana 10 numara büyük gelir.Haberin Devamıİsrail iç istihbaratı Şin Bet’in Başkanı; Türkiye, Katar ve Lübnan’ın ismini vererek, buralardaki Hamas yöneticilerini ortadan kaldıracaklarını açıkladı. 7 Ekim saldırısının istihbaratını alamadığı için alay konusu olan İsrail istihbaratı kuru gürültü ile itibar kazanmaya çalışıyor. O devirler bitti.İSRAİL’E HATIRLATMA İçişleri Bakanı Yerlikaya, “Ulusal, uluslararası hiçbir kişinin, ülkemizde bir şey yapmasına izin vermeyiz” dedi. MİT, İsrail’e gereken uyarıda bulundu. ‘Yüreğin yetiyorsa böyle bir işe soyun da görelim’ havasında bir yanıt verdi. MİT, sadece sözlü olarak değil sahada da gereken cevabı veriyor. Zaten geçen yıl İsrail istihbaratından 7 kişi enselerinden yakalanıp cezaevine atılmıştı. Eğer önümüzdeki günlerde İsrail istihbaratından birilerinin kafeslendiğini duyarsanız şaşırmayın.Haberin DevamıPONZİ SEÇİL OLAYI-İçişleri Bakanı’na sorular dolu gibi yağdı. Tahmin edeceğiniz gibi sosyal medya fenomenleri ve Ponzi Seçil olayı ilk sırada geliyordu. Ali Yerlikaya, Seçil Erzan olayında birilerinin nüfuz kullandığı iddialarına sert bir yanıt verdi. “Hiçbir nüfuz girişimini kabul etmiyoruz, reddediyoruz. Ben 6 ay içinde böyle bir şeyi hissetmiş değilim. Sosyal medyada gördüğümüz o tavırları biz de kabul etmiyoruz. Bu olayların görünür tarafının arkasında bir kanun dışılık varsa, o zaman Maliye ve Hazine, MASAK, Adalet ve İçişleri olarak gereğini yapıyoruz” dedi.TURPUN BÜYÜĞÜ�Ali Yerlikaya’nın açıklamalarından Hazine ve Maliye Bakanı Mehmet Şimşek’in, sosyal medya fenomenleri konusunda MASAK’ı çok önceden harekete geçirdiği sonucunu çıkardım. “Hazine ve Maliye Bakanlığı çok kapsamlı bir çalışma yapıyor. Görünen ne varsa onlarla mücadele edeceğiz” dedi. Bu konuda İçişleri Bakanlığı, Hazine ve Maliye Bakanlığı ile savcılar ortak çalışıyormuş. Sosyal medya fenomenleri konusunda turpun büyüğünün heybede olduğu izlenimi edindim.BAHİS ÇETESİHaberin DevamıGünlerdir yazıyorum. Sosyal medya fenomenlerinin bir ucu bahis çetesine dayanıyor. Hiçbir çete devletten güçlü değil. Ama sorun onlara devletin gücünü göstermekte. İçişleri Bakanı Yerlikaya, “Ne tür bir yasadışılık varsa azimle, kararlılıkla onların üzerine gidip, sporumuzu kirletmelerine izin vermeyeceğiz. Kendinde güç vehmeden kim varsa ensesine çökeceğiz. Onlara devletin gücünü göstermekte kararlıyız” dedi.SÜLEYMAN SOYLU KONUSUAli Yerlikaya nerede bir basın toplantısı düzenlese, İçişleri Bakanlığı ne zaman çetelere yönelik bir operasyon yapsa, Ali Yerlikaya ile Süleyman Soylu’yu karşı karşıya getirmek için başlıyorlar konuşmaya... Maksat çetelerle mücadeleyi desteklemek değil. Bunlar değil miydi seçim öncesinde organize suç örgütü liderini kanaat önderi olarak gösteren? Bunlar değil miydi yabancı istihbarat servislerinin kucağına oturup oradan Türkiye’ye saldıran, Erdoğan’ı devirmek için çalışan organize suç örgütü liderlerinin sözcülüğüne soyunan? Çete liderlerinin sözcülüğünü yaptınız. Sizin siciliniz bozuk.Onların asıl derdi fitne çıkarmak. Ali Yerlikaya ne zaman basınla bir araya gelse ilk soruları bu oluyor.Yine sordular. Ama Ali Yerlikaya bir devlet adamına yakışan bir şekilde cevap verdi.İSTANBUL’A ADAY OLACAK MI Ali Yerlikaya’nın İçişleri Bakanı olarak yapacağı çok iş var.\\xa0 Özellikle 4-5 ay çok kritik. Ama İstanbul seçmeniyle de iyi bir sinerji yakaladı. İstanbul Valiliği yaptı. O nedenle yerel seçimlerde İstanbul\\xa0 Büyükşehir Belediye Başkanlığı için ismi konuşuluyor. Bir meslektaşımız bu konuyu sordu. Ali Yerlikaya, “Gündemimizde böyle bir şey yok” diyerek kısa ve net bir cevap verdi. Ben de daha önce yoklamıştım. Ser verip sır vermemişti.Cumhurbaşkanı Erdoğan da İstanbul’da kazanacak adaya bakıyor. Bakalım bu isim kim olacak?'], ['Abdulkadir Selvi', 'İYİ Parti’nin kararı seçim sonuçlarını etkileyecek', 'Aralık 05, 2023', 'Haberin DevamıGeçen seçimlerde CHP ile ittifak yapan, 2019 yerel seçimlerinde CHP’nin İstanbul ve Ankara Büyükşehir Belediye Başkanlığını kazanmasını sağlayan İYİ Parti, yerel seçimlere kendi başına girme kararı aldı.ÖZGÜR ÖZEL TEKLİF ETMİŞTİ Daha doğrusu İYİ Parti Genel İdare Kurulu daha önce yerel seçimlere, “Hür ve müstakil olarak” girme kararı almıştı. CHP Genel Başkanı Özgür Özel’in Meral Akşener’i ziyaret ederek yerel seçimlerde işbirliği yapma teklifi üzerine İYİ Parti GİK toplandı. Tüm gözler GİK’ten çıkacak karara çevrilmişti.HÜR VE MÜSTAKİL OLARAK \\xa0İYİ Parti seçimlere kendi başına girme kararının arkasında durdu. İYİ Parti sözcüsü Kürşad Zorlu kararın oy çokluğu ile alındığını açıkladı. 15 üye CHP ile ittifak yapılmasını isterken 35 üye seçimlere “Hür ve Müstakil” olarak girme kararının arkasında durdu.Haberin DevamıŞÜKÜR NAMAZI KILMIŞTI \\xa0Meral Akşener, CHP kurultayında seçim ittifakından dolayı HDP’ye, 6’lı Masa’nın diğer üyelerine teşekkür edilirken İYİ Parti’ye teşekkür edilmediği belirterek sitem etmişti. Hatta, “Şükür namazı kıldım” demişti.AKŞENER’İN MANEVRASI Buna rağmen Akşener, Özgür Özel’e “Bizim seçimlere parti olarak girme kararımız var. Ben diğer partilere de hür ve müstakil olarak girmeleri yönünde çağrı yaptım. Bu aşamadan sonra sizin seçim işbirliği teklifinizi kabul edemem” demedi. “GİK’te kendi adımıza girme kararımız var” dedi. Akşener siyasi olarak doğru bir hamle yaptı.GİK’TE İKİ GÖRÜŞ ÇARPIŞTI \\xa0İYİ Parti içinde iki görüş vardı. GİK toplantısında\\xa0 ağırlıklı bir grup CHP ile ittifakın İYİ Parti’ye zarar verdiği görüşünü savundu. İYİ Parti’nin CHP gölgesinde kaldığı için yeterince büyüyemediğini savundu. “CHP seçimleri kaybederse biz de kaybetmiş sayılırız. Seçimden sonra partiyi toparlamamız mümkün olmayabilir” görüşünü savundular. “Kendimize saygımız gereği daha önce aldığımız kararın arkasında duralım” görüşünü savundu.SEVİNÇ TWEETİ İYİ Parti Genel Başkan yardımcıları Metin Ergun ile Şükrü Kuleyin başından itibaren seçimlere parti olarak girme kararını savunan isimlerdi. Şükrü Kuleyin toplantının ardından sevincini “Allah utandırmasın. Hür müstakil seçimlere katılıyoruz” \\xa0diye attığı tweetle ortaya koydu.Haberin DevamıİTTİFAKI SAVUNANLAR Seçim işbirliğini savunanlar ise İstanbul ve Ankara Büyükşehir Belediyelerini\\xa0 iktidara kaptırmamak için, “Kazan kazan” yöntemiyle işbirliği yapılmasını savundu. Ama sonuçta İYİ Parti seçimlere kendi başına girme kararının arkasında durdu.İYİ PARTİ TABANINDA NASIL KARŞILANACAK PEKİ bu karar İYİ Parti tabanında nasıl karşılacak? Tavanda sağlanamayan ittifak tabanda kurulabilecek mi? Özellikle de İstanbul ve Ankara’da İYİ Parti seçmeni Ekrem İmamoğlu ve Mansur Yavaş’ı desteklemeye devam edecek mi? Yoksa İYİ Parti adayına oy verecekler mi? İYİ Parti’nin İstanbul’daki oy oranı yüzde 8, Ankara’da ise yüzde 13 olduğu dikkate alınırsa seçimler üzerinde etkili olacak.Haberin DevamıSEÇİMİN KADERİNİ ETKİLEYECEK Meral Akşener bu seçimlere “Kantara çıkacağız ne kadar ağırlığımız olduğu ortaya çıkacak” demişti. İYİ Parti aldığı bu kararla hem kendi siyasi kaderi hem yerel seçimlerin kaderini etkileyecek bir adım attı. Şimdiye kadar yaptığı zikzaklar nedeniyle güvenilirliği zedelenen Meral Akşener ise siyasi tutarlılık adına önemli bir karar aldı.İMAMOĞLU VE YAVAŞ’IN SEÇİMİ İYİ Parti’nin bu kararı en çok�Ekrem İmamoğlu ve Mansur Yavaş’ın kaderini etkileyecek. Bundan sonrasını İmamoğlu ve Yavaş düşünsün. Ama sadece İmamoğlu ve Yavaş’ın değil başta Antalya, Adana, Balıkesir ve Manisa olmak üzere en az 10 büyükşehir seçimleri üzerinde etkili olacak.Haberin DevamıİYİ PARTİ’NİN GELECEĞİ İYİ Parti kendi siyasi geleceği açısından kritik bir karar aldı. Her seçimde CHP ile ittifak yapan parti neredeyse CHP’ye seçim kazandırma partisi konumuna düşmüştü. İYİ Parti bu kararıyla Türk siyasetinde kendi adı ve adaylarıyla yer alacağını ilan etmiş oldu. İYİ Parti kendi siyasi geleceği açısından doğru bir karar verdi.TERİM’İN 3 MİLYON DOLARIDİLAN Polat olayını unutma, unutturma.Ponzi Seçil olayını unutma, unutturma.Eğer bunları unutursan daha büyük fenomenler, daha büyük ponziler ortaya çıkar.Eğer unutursan; milyonlarca çalışanın asgari ücret ne kadar olacak diye hesap üstüne hesap yaptığı, insanların Halk Ekmek kuyruğunda beklediği, elektrik, su faturasını ödemek için kılı kırk yardığı, emeklinin zam beklediği bir dönemde sonradan görme fenomenlerin ortalığa dolarları saçarak dolaşmaları karşısında alın teriyle geçinen milyonlar umutsuzluğa kapılır. Orhan Gencebay modunda, “Batsın Bu Dünya” şarkılarını söylemeye devam ederler...Haberin DevamıSANAL BAHİS ÇETESİ Çünkü o fenomenler işin vitrini. Asıl arkada bir ucu Gürcistan’da, bir ucu Kıbrıs’ta, diğer ucu Dubai’de olan bahis çetesi, kumar mafyası ve kara para baronları var.Güzellik merkezleri; kozmetik ürün pazarlamaları adı altında kirli paralarını sisteme sokmaya çalışıyorlar.Etrafa saçılan Dilan Polat’ın, “Enercii”si değil, kara para...ÇETELERLE MÜCADELE O nedenle İçişleri Bakanı Ali Yerlikaya’nın çetelerle mücadelesini yürekten destekliyorum. Çünkü bu işin sonu Kıbrıs’taki Halil Falyalı cinayetinde olduğu gibi silahlı hesaplaşmaya kadar gider.PONZİ SEÇİL TEK BAŞINA MIYDI Yüksek kâr getirisi altında ünlü futbolcuları dolandıran Seçil Erzan gibilerden, onlara kol kanat gerenlerden hesap sormazsan banka şubeleri Ponzi Seçil’ler ile dolar.‘Seçil Erzan bu işleri tek başına mı yapmış, ona referans olanların, onu koruyup kollayan banka yöneticilerinin hiç suçu yok mu?’ demezsen; bir Seçil bulur, tüm faturayı ona keser, onlar büyük futbol adamı, büyük bankacı olarak ortalarda dolaşmaya devam ederler.'], ['Abdulkadir Selvi', 'İYİ Parti CHP ile seçim işbirliği kararı alacak mı', 'Aralık 04, 2023', 'Haberin DevamıAkşener o gün “İttifak sisteminin bu yapısı içinde milli bir siyaset, sürdürülebilir bir başarı, milletin kazanması mümkün değildir” demiştiLİDERLERE ÇAĞRI YAPMIŞTIMeral Akşener, Afyon Kocatepe’nin tarihi havası içinde siyasette büyük taaruzu başlatıyor gibi bir edayla konuşmuş, Erdoğan ve Bahçeli başta olmak üzere diğer liderlere de seçimlere ittifaksız girmeleri yönünde çağrı yapmıştı. Gürül gürül akan konuşmasıyla, “Tüm siyasi partilere açık ve net bir çağrıda bulunmak istiyorum; Gelin tüm siyasi partiler hep birlikte ayrı ayrı seçimlere girelim. Her birimiz ayrı ayrı seçimlere girelim, biz varız! Biz varız, sizleri de bekleriz” demişti.ELÇİBEY’İ REFERANS GÖSTERDİ5 Ekim’de Eskişehir’de yaptığı konuşmada ise ittifaksız seçime girme kararlarını Elçibey’in bir sözüne atıf yaparak açıklamış ve “Seçimi kazanmak için ittifak sisteminin başarılı olmadığını gördük. An itibarıyla rahmetli Elçibey’in dediği gibi, ‘Özü başımıza, yalnız başımıza peşine gideceğiz ve göreceğiz. Boyun kaçmış, kilon kaçmış. Hep beraber göreceğiz. Bu arada benim boyum kaçmış, kilom kaçmış, hep beraber göreceğiz” demişti.Haberin DevamıİYİ PARTİ’Yİ KARIŞTIRDILAR MI?Öyle ki Meral Akşener, partisinin son dönemde yaşadığı cinsel taciz ve parasal iddiaların, ittifaksız seçime girme kararı aldıklarından sonra başlamasına dikkat çekme gereği duymuştu.İYİ Parti’nin en yüksek karar organı olan Genel İdare Kurulu da seçimlere tek başına girme kararı almıştı. Bahadır Erdem ve Faruk Köylüoğlu sırf bu nedenle partiden istifa etmişlerdi.ÖZGÜR ÖZEL’İN TEKLİFİCHP Genel Başkanı Özgür Özel, Meral Akşener’i ziyaret ederek seçimlerde işbirliği yapma teklifini iletti. Akşener, hayır biz ittifak yapmayacağız. Bu kararımızı ben tüm kamuoyuna ilan ettim. Hatta bu konuda diğer liderlere de çağrı yaptım, demedi. Genel İdare Kurulu’nun ittifaksız seçim kararı olduğunu belirtti, GİK’i toplayacağını, orada bu karar değişirse CHP’nin teklifini değerlendirebileceklerini söyledi. GİK kararında ısrar ederse yapacak bir şey olmadığını ifade etti.Haberin DevamıİMAMOĞLU VE YAVAŞ TAKİP EDİYORHerkes biliyor ki CHP’nin İstanbul ve Ankara’yı kazanmak için İYİ Parti’nin desteğine ihtiyacı var. O nedenle Özgür Özel’in, Ekrem İmamoğlu’nun, Mansur Yavaş’ın gözleri İYİ Parti’nin üzerinde olacak. Sadece gözleri değil, elleri de İYİ Parti’nin içinde olacak. İstanbul ve Ankara’da seçim işbirliği kararının çıkması için çalışacaklar.İYİ PARTİ CEPHESİPEKİ İYİ Parti cephesinde durum ne? Ne bekleniyor?GİK üyelerinin bir kısmı “İttifaksız seçim kararını alalı 2 ay oldu. Kararımızın arkasında duralım” diyor. Bir kısmı ise İstanbul ve Ankara’da işbirliği kapısının açılmasını istiyor.AKŞENER BELİRLEYİCİ OLACAKBurada elbette ki Akşener’in tavrı belirleyici olacak. Akşener kararın değiştirilmesi yönünde çaba gösterirse kapı aralanabilir. Yoksa ittifak teklifi rafa kaldırılır. O nedenle İYİ Parti GİK toplantısının sonucunu beklemek gerekiyor.Haberin DevamıSEÇİMİN KADERİNİ ETKİLEYECEKİYİ Parti’nin kararı yerel seçimlerin kaderi açısından etkili olacak. Ama aslında İYİ Parti ve zikzakları nedeniyle güvenilirliği iyice yıpranan Meral Akşener kendi siyasi kaderlerini belirleyecek bir karar alacaklar.Son yaşananlara bakınca, söz konusu İYİ Parti olunca bir kez düşünmek gerekiyor. Ama söz konusu Meral Akşener olunca iki kez düşünmek gerekiyor.ABD’NİN GAZZE PLANI TEHLİKELİGEÇİCİ ateşkesin ardından İsrail, Gazze’deki katliamlarına kaldığı yerden devam ediyor. Peki ne olacak? İsrail, Gazze’yi insansızlaştırana kadar katliamlarına devam edecek mi? Cumhurbaşkanı Erdoğan’ın sorduğu gibi kalıcı ateşkesin sağlanması için, “Daha ne kadar insan ölmesi lazım? Ne kadar çocuk ölmesi lazım...”Haberin DevamıİSRAİL’İN ÇIKIŞ PLANI YOKKonuştuğum yetkililerin neredeyse tamamı İsrail’in bir çıkış planı olmadığını, sadece katliama odaklandıklarını söylüyorlar.Ama ABD’nin bir çıkış planı olduğu anlaşılıyor.İsrail katliama devam ederken, ABD şimdi yeni planını devreye sokmaya çalışıyor. Yeni planı dedim dikkat ettiyseniz.Çünkü ABD Başkanı Biden’ın Tel Aviv’i ziyaret ettiğinde çantasında bir plan vardı. Ancak İsrail’in hastane vurması nedeniyle bir gün sonra Ürdün’de Mısır, Filistin ve Ürdün devlet başkanlarıyla yapacağı toplantı iptal edilmişti. Yoksa Biden’in çantasında, Gazze’lilerin Mısır’daki Sina Çölüne ve Ürdün’e sürülmesi, Gazze’nin yönetiminin uluslararası barış gücüne devredilmesi vardı.Haberin DevamıMısır Devlet Başkanı Sisi, Filistinlilerin Sina çölüne sürülmesi planına sert tepki gösterdi. Ürdün bu teklife yanaşmadı. ABD’nin planı suya düştü.GERİ ADIM ATMAK ZORUNDA KALDIBölge ülkelerin direnci karşısında ABD geri adım atmak zorunda kaldı.ABD Başkan Yardımcısı Kamala Harris, Birleşik Arap Emirlikleri’nde Sisi ile yaptığı görüşmede, ‘ABD’nin hiçbir şart altında Filistinlilerin Gazze’den ya da Batı Şeria’dan zorla yerinden edilmesine, Gazze’nin kuşatılmasına ya da Gazze’nin sınırlarının yeniden çizilmesine izin vermeyeceğini’ söyledi.\\xa0ABD’NİN YENİ PLANI Ama ABD’nin planını güncellediği anlaşılıyor. Harris, yeni planı “Filistin Yönetimi altında birleşmiş bir Gazze ve Batı Şeria görmek istiyoruz” diye açıkladı.Bir yerde ABD’nin bir planı varsa eyvah demek gerekiyor. Çünkü felaket geliyor demektir.11 Eylül’den sonra Ortadoğu’ya demokrasi getireceklerdi. Irak’ı işgal edip, bölgeyi cehenneme çevirdiler.Afganistan’ı Taliban’dan kurtaracaklardı. İki kez işgal edip, büyük katliamlara imza attıkları Afganistan’ı Taliban’a teslim ederek çekildiler.HAMAS YOKABD bu planı yaparken Gazze halkına sormuyor. ABD bu planı yaparken Filistinlilerin ne istediğini dikkate almıyor.ABD’nin bu planında Gazze’nin iradesi yok. Gazze’nin seçilmiş yönetimi olan Hamas yok. Zaten planın özü, Hamas’ı dışlamaya dayanıyor.ULUSLARARASI BARIŞ GÜCÜPeki ne var?Gazze’de Filistinliler katledilirken sesini dahi çıkaramayan Mahmut Abbas yönetiminde bir Filistin var. Birleşik Filistin’in güvenliğini ise Uluslararası Barış gücü sağlayacak.Kıbrıs Barış Harekâtı’ndan önce Ada’da uluslararası barış gücü vardı. Türklere yönelik katliamlara sesini çıkarmayıp, Rumlara hizmet eden barış gücünü kast ediyorum. Bosna’da da uluslararası barış gücü vardı. Kendisine sığınan Boşnakları, katledileceklerini bilmelerine rağmen Sırp milislere teslim etmişlerdi.İSRAİL’E TESLİMGazze’ye uluslararası barış gücü demek, Gazze’yi İsrail’e teslim etmekten başka bir şey demek değil.\\xa0'], ['Abdulkadir Selvi', 'Cumhurbaşkanı Erdoğan Dubai dönüşü gazetecilere konuştu: Dilan Polat- Seçil Erzan sorusu ve Erdoğan’ın tavrı', 'Aralık 03, 2023', 'Haberin DevamıO da tahmin ettiğiniz gibi Dilan Polat olayı ile patlak veren ve bir çorap söküğü gibi devam eden fenomenler olayı ve Seçil Erzan ile ünlü futbolcuların içinde yer aldığı ponzi dolandırıcılığıydı.Elbette öncelikle Gazze olayına ilişkin sorularla başladık. Geçici ateşkes bitmiş, İsrail’in katliamı kaldığı yerden daha şiddetli bir şekilde başlamıştı.HAKAN FİDANCumhurbaşkanı, Gazze olayına ilişkin çok ayrıntılı bilgi verdi. Öyle ki NATO ülkeleri Dışişleri Bakanları toplantısı için bulunduğu Brüksel’den Cumhurbaşkanı Erdoğan’ın programına eşlik etmek üzere Dubai’ye gelen Dışişleri Bakanı Hakan Fidan’dan temasları hakkında bilgi vermesini istedi.STRATEJİ DEĞİŞİKLİĞİYandaki haberde Erdoğan’ın cevaplarını okuyacaksınız. Cumhurbaşkanı kalıcı ateşkes konusunda umudunu kaybetmiş değil. Bu yönde çabalarını arttırarak sürdürecek. Ayrıca Erdoğan’ın verdiği yanıtlardan Gazze konusunda bir strateji değişikliğine de gidildiğini öğrenmiş olduk. Erdoğan, Gazze konusunun, başkenti Doğu Kudüs olan bağımsız Filistin Devleti tartışılmadan tek başına ele alınmaması gerektiğini savundu. Bu tezin Batılı muhataplar tarafından kabul edilmeye başlandığının altını çizdi.Haberin DevamıNETANYAHU’NUN YARGILANMASIFilistin konusunu da habere bırakıp hızla diğer konuya geçmek istiyorum ama Erdoğan’ın bu konu üzerinde çok yoğunlaştığı dikkatimi çekti. O da Netanyahu başta olmak üzere savaş suçu işleyen İsrailli yöneticilerin Uluslararası Ceza Mahkemesi’nde yargılanması. Erdoğan bu yöndeki girişimleri birinci elden takip ediyor. Avukat Yasin Şamlı’nın başkanı olduğu İkinci Baro başta olmak üzere bini aşkın avukat, Netanyahu ve savaş suçu işlemeye devam edenler hakkında Lahey’e suç duyurusunda bulunuyor. Erdoğan, uluslararası bir hukukçu olan AK Parti İstanbul Milletvekili Prof. Dr. Cüneyt Yüksel’i bu konuda görevlendirmiş durumda.SAVAŞ SUÇUNUN ‘KANIT’IKanıt niteliğinde ikinci ve önemli bir adımın ise Anadolu Ajansı’ndan geldiğini öğrendik. Cumhurbaşkanı Erdoğan, Anadolu Ajansı fotomuhabirlerinin bir kısmı hiç yayınlanmamış olan Gazze’deki katliam fotoğraflarından oluşan ve Türkçe, İngilizce ve Arapça olarak hazırlanan “Kanıt” isimli kitabı gösterdi. Oradaki fotoğraflar, Uluslararası Ceza Hukuku’nda hangi maddeye karşılık olarak geliyorsa hukukçular tarafından ona karşılık olarak seçilmiş. Gezide yer alan Anadolu Ajansı Genel Müdürü Serdar Karagöz de Cumhurbaşkanı’nın isteği üzerine “Kanıt” isimli kitap hakkında ayrıntılı bilgi verdi.Haberin DevamıAHMET HAKAN SORDUFilistin konusundan sonra yerel seçim hazırlıklarına, asgari ücret konusuna girdik. Ama aklımız Dilan Polat ve Ponzi Seçil’deydi.Hürriyet Genel Yayın Yönetmeni Ahmet Hakan bu konuyu sordu. Benim beklentim Cumhurbaşkanı’nın bu konuya pek girmeyeceği yönündeydi. Ama tam tersi oldu. Erdoğan, Ahmet Hakan’dan sorusunu daha ayrıntılı bir şekilde sormasını istedi.Ahmet Hakan soruyu sorduktan sonra gözlerimizi Cumhurbaşkanı Erdoğan’a çevirdik.Erdoğan, konunun yargıda olduğunun ve kim hukuksuzluk yaptıysa cezasını çekeceğinin altını çizdi.Vatandaşları kolay para kazanma tuzaklarına düşmeleri konusunda uyardı.FUTBOLCULARLA İLGİLİ SÜREÇErdoğan, Seçil Erzan’ın merkezinde yer aldığı Arda Turan, Emre Belözoğlu, Selçuk İnan gibi ünlü futbolcuların isimlerinin yer aldığı fon olayını iki noktadan ele aldı.Haberin Devamı1- Futbolcularla ilgili bölüm; Erdoğan o konuda, “Buradan sakınma diye bir şey söz konusu değil. Bu olayda adı geçen şüphelilerle ilgili araştırmalar devam ediyor. Futbolcu arkadaşlarla ilgili de aynı şekilde süreç devam ediyor” dedi.DENİZBANK YÖNETİCİLERİ2- Soruda yer almamasına rağmen Erdoğan, bu olayda Denizbank’ın yöneticilerinin sorumluluğunu da gündeme getirdi. “Bankanın en üst düzey yöneticileri ile ilgili de şu anda bütün soruşturmalar devam ediyor” diye konuştu. Denizbank Genel Müdürü Hakan Ateş ve Mehmet\\xa0 Aydoğdu’nun yargılanmasına BDDK izin vermemişti. İddianamede isimleri yer almıyordu. Ancak Cumhurbaşkanı Erdoğan’ın açıklamasından banka yöneticileriyle ilgili soruşturmanın da devam ettiğini öğrenmiş bulunuyoruz. Konu yargıda olması nedeniyle Cumhurbaşkanı Erdoğan bu değerlendirmeyi yapmakla yetindi.\\xa0'], ['Abdulkadir Selvi', 'Ponzi Seçil’in verdiği şifre ve Denizbank’ın dilekçesindeki çelişki', 'Aralık 01, 2023', 'Haberin DevamıO nedenle şimdilik “Omerta” kuralı işliyor. Ancak bu bir yere kadar tabii ki. Sonuçta genç ömrünü hapiste çürütmek var.İddianameyi yetersiz bulduğumu söylemiştim. Ama yargılama süreci sıkı tutuluyor. Eğer Seçil Erzan’a yeterli güvence sağlanırsa duruşmalarda birçok ifşaata tanıklık edebiliriz.ŞİFREYİ VERDİSeçil Erzan, Denizbank’ta sorgulandığı sırada telefonunun alındığını ve sim kartın kırıldığını söylemişti. Futbolcuların avukatlarından Şekip Mosturoğlu, “Seçil Erzan mahkemede ‘Telefonumu aldılar, kır dediler kırdım. Temizle dediler, temizledim’ dedi. Mahkemeye de kırık bir telefon teslim etti. Neyi temizlediler acaba?” diye sormuştu.Bu haklı ve yerinde bir soru. Denizbank’ın açıklamasında ise, “Seçil Erzan, mevcut telefonlarını, iddia sahiplerinin ve ismini veremeyeceği kişilerin devamlı olarak rahatsız etmesi dolayısıyla açamadığını beyan ettiğinden, gerekirse emniyet güçlerine veya bizlere haber vermesi maksadıyla Bankamıza ait bir hattı içeren telefon da kendisine teslim edilmiştir” denilmişti.Haberin DevamıSeçil Erzan mahkemeye kullandığı telefonları teslim ediyor. Ama asıl önemli olan para toplarken kullandığı telefon hattında yer alan görüşme ve mesajlaşma trafiği. Telefonun sim kartı kırıldığı için mahkeme iPhone’a müracaat ederek, iCloud’da saklanan bilgileri talep edecek.ICLOUD ŞİFRESİEdindiğim bilgiye göre Seçil Erzan, bu telefonun iCloud şifresini mahkemeye iletmiş. Bu gelişme soruşturmanın hızla ilerlemesi açısından önem taşıyor. Mahkemenin bunu Siber Suçlar’a gönderdiği söyleniyor. Siber Suçlar bu işi çözer ama gerekirse iPhone’a müracaat edip, buluta yüklenen görüşme ve yazışmalara da ulaşılabilecek. iCloud’daki bilgilere ulaşıldığı taktirde Seçil Erzan’ın parasal ilişkilerine ulaşılacak.PARA NE OLDUSEÇİL Erzan’ın hazırladığı tabloda, yüksek getirili fon adı altında futbolculardan 45 milyon dolar topladığı gözüküyor. Erzan bu paraların bir kısmını ödemiş, tefecilere ve bazı spor adamlarına ise fazlasıyla ödeme yapmış. Ama yine de ortada kimine göre 13 milyon dolar kimine göre ise 20 milyon dolar yok. Bu para ne oldu?GİZLİ TANIKHaberin DevamıMahkemeye müracaat eden bir gizli tanık, Seçil Erzan’ın parayı üst düzey bir bankacıyla birlikte İsviçre’ye kaçırdığını söylüyor. Elbette ki mahkeme Seçil Erzan’ın yurtdışına giriş-çıkışını inceleyecektir. Ben de bir ara Bulgaristan’a günlük olarak gidip gelen, her defasında başka bir aracı kullanan Ali Yörük’ün paraları Bulgaristan’a kaçırabileceği ihtimali üzerinde durmuştum. Seçil Erzan, Ali Yörük’ün kendisinden fazla para aldığını söylüyor. Ali Yörük kendi tahsil ettiği parayı da Bulgaristan’a çıkarmış olabilir deniliyor. Ama bu İsviçre işi önemli. İsviçre’ye birlikte gittiği üst düzey bankacının kimliği çok daha önemli. Netice itibariyle ortada buharlaşan 20 milyon dolar gibi bir para var.KORKTUĞU KİŞİHaberin DevamıSeçil Erzan’ın mahkemede, “Korkuyorum. İsmini kesinlikle vermek istemiyorum” dediği gizemli kişinin kim olduğu merak ediliyor. Hürriyet’ten Musa Kesler, Kapalıçarşı etrafında tefecilik yapan isimleri gündeme taşıdı. Yine tekrar altını çizerek söylüyorum. Eğer Seçil Erzan’a yeterince güvence sağlanırsa mahkemeye bu kişinin ismini verebilir. Eğer bu isim ortaya çıkarsa yurtdışına kaçırılan para dahil olmak üzere birçok gizli kapaklı ilişki aydınlatılabilir.FATİH TERİM BU İŞİN NERESİNDESEÇİL Erzan’a Denizbank’ta hazırlatılan tabloda; Fatih Terim’in 700 bin dolar verip 1.5 milyon dolar aldığı yer alıyor. Seçil Erzan da mahkemede, “İstediği para çok, çok, çok fazla olmaya başladı. Bana 300 bin dolar ödedi” demişti. Mahkeme başkanının, “Bu 300 bin doları size kim verdi?” sorusu üzerine Seçil Erzan, “Bu kişi Fatih Terim’dir” yanıtını vermişti.Haberin DevamıTERİM’İN ESKİ AVUKATI ANLATIYORFatih Terim’in futbolcularla birlikte gittiği Hakan Ateş’in yanında, “Erzan’ın yaptıklarını anlamıyorum. Kaybım olmakla beraber miktarını bilmiyorum” diye konuştuğunu Denizbank’ın açıklamasından öğrenmiştik. Seçil Erzan’ın sevgilisi ve Terim’in de bir dönem avukatı olan Candaş Gürol, “Terim’in evine gittiğimizde bana Seçil Erzan’ın fonlarına para yatırdığını söyledi. Bununla birlikte kızı Buse Terim, yeğeni Terim Arcan ve damadı Volkan Bahçekapılı’nın da aynı fona para yatırdığını söyledi” demişti.Sır bu işin neresinde?Türk futboluna yıllarca emek veren Fatih Terim artık konuşmalı ve ismi etrafında oluşan bu spekülasyonlara bir son vermeli. Yoksa zaten iCloud şifresi bulunan telefondan elde edilecek bilgiler Terim’i konuşmak zorunda bırakabilir.Haberin DevamıSEÇİL ERZAN’A ‘ZİMMET’ BASKISIÖNCE Seçil Erzan’ın ifadesinden bir bölüm aktarmak istiyorum. “9 Nisan’da beni korumalar eşliğinde Zincirlikuyu’daki Denizbank Genel Müdürlüğü’ne götürdüler. Koluma serumlar takılarak bana bu işi banka dışında yaptım diye söylettirdiler” diyor. Erzan devam ediyor: “9 Nisan Pazar günü, akşam saatlerinde bu sefer Hakan Ateş bankaya geldi. Bulunduğumuz toplantı salonuna girerek, ’Kızım biz zaten insanların parasını vereceğiz ama ortada bir enkaz var, kimden ne aldıysan söyle zaten bu bir zimmet değil, zimmet olsa sen yıllarca içeride çürürdün. Bu sebeple de kendin banka dışında ne aldıysan onları söyle, sen bizi koru biz de seni koruruz’ dedi.”DENİZBANK’IN DİLEKÇESİNDEBenim bu iş zimmettir diye bir iddiam yok. Ayrıca bu kararı verecek olan merci gazeteciler değil. Sadece habercilik açısından önemli olan bir çelişkiye dikkat çekmek istiyorum. Denizbank’ın avukatları Murat Özcanlı ve Ramazan Erkut Alperen, 7 Nisan 2023 tarihinde İstanbul Cumhuriyet Başsavcılığı’na Seçil Erzan hakkında yurtdışına çıkış yasağı konulmasını talep ediyorlar. Avukat Murat Özcanlı’nın imzasını taşıyan dilekçeye elyazısı ile eklenen bir iddia yer alıyor. Avukat Özcanlı elyazısı ile eklenen cümleyi paraf ediyor. Dilekçede “Somut olayda aynı zamanda zimmet suçu şüphesi bulunmaktadır” deniliyor. Zaten mahkeme de bu talep üzerine Seçil Erzan’a yurtdışına çıkış yasağı getiriyor.\\xa0E hani zimmet işi yoktu?']]\n"
     ]
    }
   ],
   "source": [
    "rows=[]\n",
    "for i in url_list:\n",
    "    response = requests.get(i)\n",
    "    response = response.content\n",
    "    soup = BeautifulSoup(response, 'html.parser')\n",
    "    author=soup.find('span', class_='author-detail-title').text\n",
    "    title=soup.find('h1').text\n",
    "    date=soup.find('time').text[:-6]\n",
    "    text=soup.find('div',class_='author-content readingTime').text\n",
    "    rows.append([author,title, date, text])\n",
    "print(rows)  "
   ]
  },
  {
   "cell_type": "code",
   "execution_count": null,
   "metadata": {},
   "outputs": [],
   "source": []
  },
  {
   "cell_type": "code",
   "execution_count": 27,
   "metadata": {},
   "outputs": [],
   "source": [
    "df = pd.DataFrame(rows, columns=['author', 'title', 'date','text'])\n",
    "df.to_csv('rows.csv')"
   ]
  },
  {
   "cell_type": "code",
   "execution_count": 29,
   "metadata": {},
   "outputs": [
    {
     "data": {
      "text/html": [
       "<div>\n",
       "<style scoped>\n",
       "    .dataframe tbody tr th:only-of-type {\n",
       "        vertical-align: middle;\n",
       "    }\n",
       "\n",
       "    .dataframe tbody tr th {\n",
       "        vertical-align: top;\n",
       "    }\n",
       "\n",
       "    .dataframe thead th {\n",
       "        text-align: right;\n",
       "    }\n",
       "</style>\n",
       "<table border=\"1\" class=\"dataframe\">\n",
       "  <thead>\n",
       "    <tr style=\"text-align: right;\">\n",
       "      <th></th>\n",
       "      <th>Unnamed: 0</th>\n",
       "      <th>author</th>\n",
       "      <th>title</th>\n",
       "      <th>date</th>\n",
       "      <th>text</th>\n",
       "    </tr>\n",
       "  </thead>\n",
       "  <tbody>\n",
       "    <tr>\n",
       "      <th>0</th>\n",
       "      <td>0</td>\n",
       "      <td>Abdulkadir Selvi</td>\n",
       "      <td>MİT ile MOSSAD arasında casuslar savaşı mı yaş...</td>\n",
       "      <td>Aralık 08, 2023</td>\n",
       "      <td>Haberin Devamı1. ERDOĞAN UYARDICumhurbaşkanı E...</td>\n",
       "    </tr>\n",
       "    <tr>\n",
       "      <th>1</th>\n",
       "      <td>1</td>\n",
       "      <td>Abdulkadir Selvi</td>\n",
       "      <td>Denizbank yöneticileri Ponzi Seçil olayında if...</td>\n",
       "      <td>Aralık 07, 2023</td>\n",
       "      <td>Haberin DevamıKimi müşteki, kimi mağdur olarak...</td>\n",
       "    </tr>\n",
       "    <tr>\n",
       "      <th>2</th>\n",
       "      <td>2</td>\n",
       "      <td>Abdulkadir Selvi</td>\n",
       "      <td>İçişleri Bakanı ile konuştuklarımız ve izlenimim</td>\n",
       "      <td>Aralık 06, 2023</td>\n",
       "      <td>Haberin DevamıSonra bir film başladı.Helikopte...</td>\n",
       "    </tr>\n",
       "    <tr>\n",
       "      <th>3</th>\n",
       "      <td>3</td>\n",
       "      <td>Abdulkadir Selvi</td>\n",
       "      <td>İYİ Parti’nin kararı seçim sonuçlarını etkiley...</td>\n",
       "      <td>Aralık 05, 2023</td>\n",
       "      <td>Haberin DevamıGeçen seçimlerde CHP ile ittifak...</td>\n",
       "    </tr>\n",
       "    <tr>\n",
       "      <th>4</th>\n",
       "      <td>4</td>\n",
       "      <td>Abdulkadir Selvi</td>\n",
       "      <td>İYİ Parti CHP ile seçim işbirliği kararı alaca...</td>\n",
       "      <td>Aralık 04, 2023</td>\n",
       "      <td>Haberin DevamıAkşener o gün “İttifak sistemini...</td>\n",
       "    </tr>\n",
       "    <tr>\n",
       "      <th>5</th>\n",
       "      <td>5</td>\n",
       "      <td>Abdulkadir Selvi</td>\n",
       "      <td>Cumhurbaşkanı Erdoğan Dubai dönüşü gazeteciler...</td>\n",
       "      <td>Aralık 03, 2023</td>\n",
       "      <td>Haberin DevamıO da tahmin ettiğiniz gibi Dilan...</td>\n",
       "    </tr>\n",
       "    <tr>\n",
       "      <th>6</th>\n",
       "      <td>6</td>\n",
       "      <td>Abdulkadir Selvi</td>\n",
       "      <td>Ponzi Seçil’in verdiği şifre ve Denizbank’ın d...</td>\n",
       "      <td>Aralık 01, 2023</td>\n",
       "      <td>Haberin DevamıO nedenle şimdilik “Omerta” kura...</td>\n",
       "    </tr>\n",
       "  </tbody>\n",
       "</table>\n",
       "</div>"
      ],
      "text/plain": [
       "   Unnamed: 0            author  \\\n",
       "0           0  Abdulkadir Selvi   \n",
       "1           1  Abdulkadir Selvi   \n",
       "2           2  Abdulkadir Selvi   \n",
       "3           3  Abdulkadir Selvi   \n",
       "4           4  Abdulkadir Selvi   \n",
       "5           5  Abdulkadir Selvi   \n",
       "6           6  Abdulkadir Selvi   \n",
       "\n",
       "                                               title             date  \\\n",
       "0  MİT ile MOSSAD arasında casuslar savaşı mı yaş...  Aralık 08, 2023   \n",
       "1  Denizbank yöneticileri Ponzi Seçil olayında if...  Aralık 07, 2023   \n",
       "2   İçişleri Bakanı ile konuştuklarımız ve izlenimim  Aralık 06, 2023   \n",
       "3  İYİ Parti’nin kararı seçim sonuçlarını etkiley...  Aralık 05, 2023   \n",
       "4  İYİ Parti CHP ile seçim işbirliği kararı alaca...  Aralık 04, 2023   \n",
       "5  Cumhurbaşkanı Erdoğan Dubai dönüşü gazeteciler...  Aralık 03, 2023   \n",
       "6  Ponzi Seçil’in verdiği şifre ve Denizbank’ın d...  Aralık 01, 2023   \n",
       "\n",
       "                                                text  \n",
       "0  Haberin Devamı1. ERDOĞAN UYARDICumhurbaşkanı E...  \n",
       "1  Haberin DevamıKimi müşteki, kimi mağdur olarak...  \n",
       "2  Haberin DevamıSonra bir film başladı.Helikopte...  \n",
       "3  Haberin DevamıGeçen seçimlerde CHP ile ittifak...  \n",
       "4  Haberin DevamıAkşener o gün “İttifak sistemini...  \n",
       "5  Haberin DevamıO da tahmin ettiğiniz gibi Dilan...  \n",
       "6  Haberin DevamıO nedenle şimdilik “Omerta” kura...  "
      ]
     },
     "execution_count": 29,
     "metadata": {},
     "output_type": "execute_result"
    }
   ],
   "source": [
    "df=pd.read_csv('rows.csv')\n",
    "df.head(7)"
   ]
  },
  {
   "cell_type": "code",
   "execution_count": 10,
   "metadata": {},
   "outputs": [
    {
     "name": "stdout",
     "output_type": "stream",
     "text": [
      "MİT ile MOSSAD arasında casuslar savaşı mı yaşanacak\n"
     ]
    }
   ],
   "source": [
    "url='https://www.hurriyet.com.tr/yazarlar/abdulkadir-selvi/mit-ile-mossad-arasinda-casuslar-savasi-mi-yasanacak-42372908'\n",
    "response = requests.get(url)\n",
    "response = response.content\n",
    "soup = BeautifulSoup(response, 'html.parser')\n",
    "title=soup.find('h1').text\n",
    "print(title)"
   ]
  },
  {
   "cell_type": "code",
   "execution_count": 14,
   "metadata": {},
   "outputs": [
    {
     "data": {
      "text/plain": [
       "'Aralık 08, 2023'"
      ]
     },
     "execution_count": 14,
     "metadata": {},
     "output_type": "execute_result"
    }
   ],
   "source": [
    "date=soup.find('time').text[:-6]\n",
    "date"
   ]
  },
  {
   "cell_type": "code",
   "execution_count": 19,
   "metadata": {},
   "outputs": [
    {
     "data": {
      "text/plain": [
       "'Abdulkadir Selvi'"
      ]
     },
     "execution_count": 19,
     "metadata": {},
     "output_type": "execute_result"
    }
   ],
   "source": [
    "author=soup.find('span', class_='author-detail-title').text\n",
    "author"
   ]
  },
  {
   "cell_type": "code",
   "execution_count": 21,
   "metadata": {},
   "outputs": [
    {
     "data": {
      "text/plain": [
       "'Haberin Devamı1. ERDOĞAN UYARDICumhurbaşkanı Erdoğan, “Her şeyden önce bu haberi yapanlar demek ki Türkiye’yi tanımıyorlar. Türkleri tanımıyorlar. Bizi tanımıyorlar. Böyle bir yanlışa tevessül etmeleri halinde şunu bilmeleri gerekir ki bunun bedelini, bunun faturasını çok ama çok ağır öderler” dedi.Erdoğan’ın bu uyarısının sahada ne anlama geldiğini en iyi MOSSAD bilir.2. İSTİHBARATIN TEPKİSİAnadolu Ajansı’na konuşan istihbarat yetkilileri, muhtelif istihbarat servislerinin daha önce de Türkiye Cumhuriyeti topraklarında yasadışı faaliyetler gerçekleştirmeye çalıştığını anımsatarak, hiçbir servisin bu tür operasyonlarına müsaade edilmeyeceğini vurguladı.3. MOSSAD ENSELENMİŞTİİstihbarat yetkililerinin uyarısını en iyi MOSSAD bilir. Çünkü 2021 yılında İstanbul’da Filistinli aktivistlere yönelik suikast hazırlığı içinde olan 7 MOSSAD ajanı yakalanmıştı. MOSSAD’ın güvenli evlerine baskın yapılmış Türkiye’deki hücreleri çökertilmişti. Ajanlar şimdi cezaevinde gün dolduruyorlar.Haberin Devamı4. MOSSAD’IN İMAJI SARSILDIHamas’ın 7 Ekim’de yaptığı eylem MOSSAD’ın imajını sarstı. Hatta alay konusu olmasına neden oldu. Netanyahu kendini kurtarmak, MOSSAD bozulan imajını düzeltmek için bu tür açıklamalar yapıyor ama bunun bedeli çok ağır olabilir. Çünkü ne MOSSAD eski MOSSAD ne MİT eski MİT.5. MOSSAD, MİT’E BAŞVURMUŞHamas’ın 7 Ekim’de yaptığı eylemin istihbaratını alamayan MOSSAD rehinelerin kurtarılması konusunda MİT’ten yardım istemiş. Rehinelerin kurtarılması için Katar, Mısır ve ABD ile yoğun bir müzakere yürüten MİT, geçici ateşkes sürecinde Hamas’ın rehinelerin bir bölümünün bırakılmasını sağlamıştı. MOSSAD bunun üzerine MİT’e teşekkür üzerine teşekkür etmiş.6. İSRAİLLİ TURİST KAFİLESİ2022 yılında MİT ile İstanbul Emniyeti ortak bir operasyon yaparak İsrailli bir turist kafilesine yönelik İran istihbaratının suikast girişimi önlemişti. İran ajanları silahları ile kıskıvrak yakalanmış, İsrailli turist kafilesi MİT’in zırhlı araçları ile uçağa yerleştirilip burunları kanamadan İsrail’e gönderilmişti. MOSSAD bunun üzerine MİT’e çok ama çok teşekkür etmiş.Haberin DevamıMOSSAD DÜŞÜNSÜNDemem o ki İsrail Türkiye’yi Türkiye İsrail’i, MOSSAD MİT’i, MİT MOSSAD’ı iyi tanır. Eğer buna rağmen MOSSAD bir çılgınlık yapmaya kalkışırsa sonucuna da katlanır. Gerisini Netanyahu ve MOSSAD düşünsün.CHP VE İYİ PARTİ’DE EKREM İMAMOĞLU SORUNSALI BÜYÜYORASLINDA başlıkta, “Ekrem İmamoğlu sorunu” demem gerekiyordu. Biraz janjanlı olsun diye “sorunsalı” demeyi tercih ettim.Bir süre önce, “Ekrem İmamoğlu’nun parmağı İYİ Parti’nin içinde. Partiyi mikser gibi karıştırıyor” diye yazmıştım.Meral Akşener, ne zaman ki Ekrem İmamoğlu’nu hedef aldı, “başkalarının siyasi kariyerine zıplama tahtası olmadan yapacağız” dedi...MİLLETVEKİLİNİN İSTİFASIHaberin DevamıMeral Akşener bu konuşmayı yaptıktan 5 saat sonra İstanbul Milletvekili Ayşe Sibel Yanıkömeroğlu İYİ Parti’den istifa etti. Yanıkömeroğlu, Meral Akşener’in kontenjanından milletvekili listelerine giren bir isimdi. İYİ Parti’den Kadıköy belediye başkan adaylığı için başvuruda bulunan sanatçı Emre Kınay’ı partiye getirecek kadar Akşener’e yakın bir milletvekiliydi.İYİ Parti’de cinsel taciz ve parasal iddialar üzerinde büyük bir kriz patlak verdiğinde Meral Akşener ne zaman ki ittifaksız, kendi başlarına seçimlere girme kararı aldıklarını, ondan sonra partinin karışmaya başladığını söylemişti.Akşener’in dikkat çektiği zamanlama önemliydi.İMAMOĞLU’NU HEDEF ALINCAHaberin DevamıMeral Akşener ne zaman ki Ekrem İmamoğlu’nu hedef aldı, İYİ Parti’den istifalar başladı. İYİ Parti Ankara Milletvekili Yüksel Arslan’ın Ayşe Sibel Yanıkömeroğlu’nun istifası üzerine atıp sonra sildiği tweet manidardı. Yüksel Arslan, “İmamoğlu satın aldı” dedi.MANSUR YAVAŞ’A YAKINYüksel Arslan’ın Mansur Yavaş’ın eski özel kalem müdürü olduğunun altını çizmem gerekiyor. Mansur Yavaş desteklenmediği taktirde Yüksel Arslan’ın İYİ Parti’den istifa edeceği söyleniyordu. Sanıyorum Akşener özel bir görüşme yapmış. Mansur Yavaş’la karşı karşıya getirmeyeceği konusunda güvence vermiş. Yüksel Arslan bunun üzerine istifa kararını gözden geçirmiş.EKREM’E DOKUNAN YANARTekrar İstanbul Milletvekili Ayşe Sibel Yanıkömeroğlu’nun istifasına gelecek olursak, Meral Akşener’e, “Ekrem’e dokunan yanar” mesajını verdi.\\xa0Haberin DevamıÖzgür Özel görmezden gelmeye çalışsa da CHP’de de Ekrem İmamoğlu sorunsalı büyümeye başladı. Ekrem İmamoğlu, gerçek genel başkan gibi hareket ediyor. İl başkanlarını İstanbul’da topladı. Oradaki pozisyonu İmamoğlu genel başkan, Özgür Özel onun vekili gibiydi.İTTİFAK GÖRÜŞMELERİNİ YAPIYORMuharrem İnce ile ittifak görüşmelerini Ekrem İmamoğlu yürütüyor. İmamoğlu’nun Muharrem İnce’ye CHP’lilerin, “Terlik koysak kazanırız” diye düşündüğü İzmir büyükşehir belediye başkan adaylığını önerdiği söyleniyor. Zaten Muharrem İnce bunu reddetmedi.Düşünün ki CHP, Muharrem İnce ile ittifak yapacak. Ama ittifak görüşmeleri CHP Genel Merkezi’nde değil, Ekrem İmamoğlu’nun makamında yapılıyor. Muharrem İnce ile görüşmeleri Genel Başkan Özgür Özel değil, İstanbul Büyükşehir Belediye Başkanı Ekrem İmamoğlu yapıyor. Muharrem İnce’ye İzmir büyükşehir belediye başkan adaylığını Özgür Özel değil, Ekrem İmamoğlu öneriyor.EMANETÇİ DAMGASICHP’de tam anlamıyla bir Ekrem İmamoğlu vesayeti yaşanıyor. Belediye başkan adayları da zaten CHP Genel Başkanı Özgür Özel’le değil, Ekrem İmamoğlu ile görüşüyorlar.Özgür Özel bu emanetçi damgasıyla daha ne kadar devam edecek orasını bilmiyorum.'"
      ]
     },
     "execution_count": 21,
     "metadata": {},
     "output_type": "execute_result"
    }
   ],
   "source": [
    "text=soup.find('div',class_='author-content readingTime').text\n",
    "text"
   ]
  },
  {
   "cell_type": "code",
   "execution_count": null,
   "metadata": {},
   "outputs": [],
   "source": [
    "author=soup.find('span').text\n",
    "author\n",
    "\n",
    "title = soup.find('h1', class_='author-title news-detail-title title-passed')\n",
    "title\n",
    "\n",
    "link=box.find('a', class_=\"title title-news-detail\")\n",
    "#link=link.find('href')\n",
    "print(link)"
   ]
  },
  {
   "cell_type": "code",
   "execution_count": 51,
   "metadata": {},
   "outputs": [
    {
     "name": "stdout",
     "output_type": "stream",
     "text": [
      "<h2><a class=\"title title-news-detail\" href=\"/yazarlar/abdulkadir-selvi/mit-ile-mossad-arasinda-casuslar-savasi-mi-yasanacak-42372908\" title=\"\">MİT ile MOSSAD arasında casuslar savaşı mı yaşanacak</a></h2>\n"
     ]
    }
   ],
   "source": [
    "path=soup.find('h2')\n",
    "print(path)"
   ]
  },
  {
   "cell_type": "code",
   "execution_count": 52,
   "metadata": {},
   "outputs": [
    {
     "name": "stdout",
     "output_type": "stream",
     "text": [
      "MİT ile MOSSAD arasında casuslar savaşı mı yaşanacak\n"
     ]
    }
   ],
   "source": [
    "print(path.text)"
   ]
  },
  {
   "cell_type": "code",
   "execution_count": 49,
   "metadata": {},
   "outputs": [
    {
     "data": {
      "text/plain": [
       "'/yazarlar/abdulkadir-selvi/mit-ile-mossad-arasinda-casuslar-savasi-mi-yasanacak-42372908'"
      ]
     },
     "execution_count": 49,
     "metadata": {},
     "output_type": "execute_result"
    }
   ],
   "source": [
    "link1"
   ]
  },
  {
   "cell_type": "code",
   "execution_count": 42,
   "metadata": {},
   "outputs": [
    {
     "name": "stdout",
     "output_type": "stream",
     "text": [
      "<h2><a class=\"title title-news-detail\" href=\"/yazarlar/abdulkadir-selvi/mit-ile-mossad-arasinda-casuslar-savasi-mi-yasanacak-42372908\" title=\"\">MİT ile MOSSAD arasında casuslar savaşı mı yaşanacak</a></h2>\n"
     ]
    }
   ],
   "source": [
    "print(box)"
   ]
  },
  {
   "cell_type": "code",
   "execution_count": 45,
   "metadata": {},
   "outputs": [
    {
     "name": "stdout",
     "output_type": "stream",
     "text": [
      "8 Aralık 2023\n"
     ]
    }
   ],
   "source": [
    "date=box.find('div', class_= 'date').text\n",
    "print(date)"
   ]
  },
  {
   "cell_type": "code",
   "execution_count": 46,
   "metadata": {},
   "outputs": [
    {
     "ename": "KeyError",
     "evalue": "'title'",
     "output_type": "error",
     "traceback": [
      "\u001b[0;31m---------------------------------------------------------------------------\u001b[0m",
      "\u001b[0;31mKeyError\u001b[0m                                  Traceback (most recent call last)",
      "Cell \u001b[0;32mIn[46], line 1\u001b[0m\n\u001b[0;32m----> 1\u001b[0m title_name\u001b[38;5;241m=\u001b[39mbox\u001b[38;5;241m.\u001b[39mattrs[\u001b[38;5;124m'\u001b[39m\u001b[38;5;124mtitle\u001b[39m\u001b[38;5;124m'\u001b[39m]\n\u001b[1;32m      2\u001b[0m title_name\n",
      "\u001b[0;31mKeyError\u001b[0m: 'title'"
     ]
    }
   ],
   "source": [
    "title_name=box.attrs['title']\n",
    "title_name"
   ]
  },
  {
   "cell_type": "code",
   "execution_count": null,
   "metadata": {},
   "outputs": [],
   "source": []
  },
  {
   "cell_type": "code",
   "execution_count": 1,
   "metadata": {
    "colab": {
     "base_uri": "https://localhost:8080/"
    },
    "id": "mimcewozPxCM",
    "outputId": "51af7ef8-183a-4462-9694-09a44901158c",
    "scrolled": true
   },
   "outputs": [
    {
     "name": "stdout",
     "output_type": "stream",
     "text": [
      "Requirement already satisfied: beautifulsoup4 in /Users/mehmetzeki/anaconda3/lib/python3.11/site-packages (4.12.2)\n",
      "Requirement already satisfied: soupsieve>1.2 in /Users/mehmetzeki/anaconda3/lib/python3.11/site-packages (from beautifulsoup4) (2.4)\n",
      "Note: you may need to restart the kernel to use updated packages.\n"
     ]
    }
   ],
   "source": [
    "pip install beautifulsoup4"
   ]
  },
  {
   "cell_type": "code",
   "execution_count": null,
   "metadata": {},
   "outputs": [],
   "source": [
    "\n",
    "books = []\n",
    "\n",
    "for i in range(1,5):\n",
    "  url = f\"https://books.toscrape.com/catalogue/page-{i}.html\"\n",
    "  response = requests.get(url)\n",
    "  response = response.content\n",
    "  soup = BeautifulSoup(response, 'html.parser')\n",
    "  ol = soup.find('ol')\n",
    "  articles = ol.find_all('article', class_='product_pod')\n",
    "  for article in articles:\n",
    "    image = article.find('img')\n",
    "    title = image.attrs['alt']\n",
    "    starTag = article.find('p')\n",
    "    star = starTag['class'][1]\n",
    "    price = article.find('p', class_='price_color').text\n",
    "    price = float(price[1:])\n",
    "    books.append([title, star, price])\n",
    "    \n",
    "\n",
    "df = pd.DataFrame(books, columns=['Title', 'Star Rating', 'Price'])\n",
    "df.to_csv('books.csv')"
   ]
  },
  {
   "cell_type": "code",
   "execution_count": 2,
   "metadata": {
    "colab": {
     "base_uri": "https://localhost:8080/"
    },
    "id": "69K8okKQWtOD",
    "outputId": "63eb9ed5-faca-458d-81a0-03b19fec581b"
   },
   "outputs": [
    {
     "name": "stdout",
     "output_type": "stream",
     "text": [
      "Requirement already satisfied: lxml in /Users/mehmetzeki/anaconda3/lib/python3.11/site-packages (4.9.2)\n",
      "Note: you may need to restart the kernel to use updated packages.\n"
     ]
    }
   ],
   "source": [
    "pip install lxml"
   ]
  },
  {
   "cell_type": "code",
   "execution_count": 3,
   "metadata": {
    "colab": {
     "base_uri": "https://localhost:8080/"
    },
    "id": "8colAAMbOwqv",
    "outputId": "cce57c29-a77b-40eb-81a2-bb6db9701018"
   },
   "outputs": [
    {
     "name": "stdout",
     "output_type": "stream",
     "text": [
      "Requirement already satisfied: requests in /Users/mehmetzeki/anaconda3/lib/python3.11/site-packages (2.31.0)\n",
      "Requirement already satisfied: charset-normalizer<4,>=2 in /Users/mehmetzeki/anaconda3/lib/python3.11/site-packages (from requests) (2.0.4)\n",
      "Requirement already satisfied: idna<4,>=2.5 in /Users/mehmetzeki/anaconda3/lib/python3.11/site-packages (from requests) (3.4)\n",
      "Requirement already satisfied: urllib3<3,>=1.21.1 in /Users/mehmetzeki/anaconda3/lib/python3.11/site-packages (from requests) (1.26.16)\n",
      "Requirement already satisfied: certifi>=2017.4.17 in /Users/mehmetzeki/anaconda3/lib/python3.11/site-packages (from requests) (2023.7.22)\n",
      "Note: you may need to restart the kernel to use updated packages.\n"
     ]
    }
   ],
   "source": [
    "pip install requests"
   ]
  },
  {
   "cell_type": "code",
   "execution_count": 9,
   "metadata": {
    "id": "6gulkh8aXYIl"
   },
   "outputs": [],
   "source": [
    "from bs4 import BeautifulSoup\n",
    "import requests"
   ]
  },
  {
   "cell_type": "code",
   "execution_count": null,
   "metadata": {},
   "outputs": [],
   "source": [
    "\n",
    "\n",
    "\n",
    "# Find all links matching the specified criteria\n",
    "links = soup.find_all('a', class_='title title-news-detail', href=True)\n",
    "\n",
    "# Extract the href attribute of each link\n",
    "extracted_links = [link['href'] for link in links]\n",
    "\n",
    "# Print the extracted links\n",
    "for link in extracted_links:\n",
    "    print(link)"
   ]
  },
  {
   "cell_type": "code",
   "execution_count": null,
   "metadata": {},
   "outputs": [],
   "source": [
    "from bs4 import BeautifulSoup\n",
    "\n",
    "# Load the HTML content from the file\n",
    "file_path = 'path_to_your_html_file.html'\n",
    "with open(file_path, 'r', encoding='utf-8') as file:\n",
    "    html_content = file.read()\n",
    "\n",
    "# Parse the HTML\n",
    "soup = BeautifulSoup(html_content, 'html.parser')\n",
    "\n",
    "# Find all links matching the specified criteria\n",
    "links = soup.find_all('a', class_='title title-news-detail', href=True)\n",
    "\n",
    "# Extract the href attribute of each link\n",
    "extracted_links = [link['href'] for link in links]\n",
    "\n",
    "# Print the extracted links\n",
    "for link in extracted_links:\n",
    "    print(link)"
   ]
  },
  {
   "cell_type": "code",
   "execution_count": 11,
   "metadata": {},
   "outputs": [],
   "source": [
    "url=\"https://www.hurriyet.com.tr/yazarlar/abdulkadir-selvi/\"\n",
    "def get_soup(url):\n",
    "    response = requests.get(url)\n",
    "    return BeautifulSoup(response.text, 'lxml')\n",
    "\n",
    "def get_links(url):\n",
    "    soup = get_soup(url)\n",
    "    links = []\n",
    "\n",
    "    # Assuming links are in 'a' tags and within a specific part of the website\n",
    "    # Modify the find_all() parameters as per the website's structure\n",
    "    for link in soup.find_all('a'):\n",
    "        href = link.get('href')\n",
    "        if href and href.startswith('http'):  # This checks if the link is a valid URL\n",
    "            links.append(href)\n",
    "\n",
    "    return links"
   ]
  },
  {
   "cell_type": "code",
   "execution_count": 12,
   "metadata": {},
   "outputs": [
    {
     "name": "stdout",
     "output_type": "stream",
     "text": [
      "['https://www.hurriyet.com.tr/', 'https://www.hurriyet.com.tr/gundem/', 'https://bigpara.hurriyet.com.tr/', 'https://bigpara.hurriyet.com.tr/borsa/canli-borsa/', 'https://bigpara.hurriyet.com.tr/doviz/', 'https://bigpara.hurriyet.com.tr/altin/', 'https://bigpara.hurriyet.com.tr/viop-varant/', 'https://bigpara.hurriyet.com.tr/analiz/', 'https://bigpara.hurriyet.com.tr/kobi/', 'https://bigpara.hurriyet.com.tr/kripto-paralar/', 'https://www.hurriyet.com.tr/cumartesi/ ', 'https://www.hurriyet.com.tr/lezzetli-hayat/', 'https://www.hurriyet.com.tr/cocuklu-hayat/', 'https://uyelikyonetim.hurriyet.com.tr/', 'https://hesabim.hurriyet.com.tr/#/e-gazete', 'https://www.facebook.com/hurriyet/', 'https://twitter.com/Hurriyet', 'https://www.linkedin.com/company/hurriyet/', 'https://www.youtube.com/user/hurriyettvcom', 'https://www.instagram.com/hurriyetcomtr/', 'https://www.hurriyet.com.tr/kullanim-kosullari/', 'https://www.hurriyet.com.tr/veri-politikasi/', 'https://www.hurriyet.com.tr/bizeulasin/', 'https://apps.apple.com/tr/app/h%C3%BCrriyet-son-dakika-haberler/id307878588?l=tr', 'https://play.google.com/store/apps/details?id=hurriyet.mobil.android&gl=TR', 'https://www.hurriyet.com.tr/dunya/', 'https://bigpara.hurriyet.com.tr/', 'https://u.hurriyet.com.tr/accounts/login', 'https://www.hurriyet.com.tr', 'https://www.hurriyet.com.tr/yazarlar/', 'https://www.facebook.com/hurriyet/', 'https://twitter.com/Hurriyet', 'https://www.instagram.com/hurriyetcomtr/', 'https://www.linkedin.com/company/hurriyet/', 'https://www.youtube.com/c/hurriyet', 'https://www.hurriyet.com.tr/', 'http://bigpara.hurriyet.com.tr/borsa/canli-borsa/', 'https://bigpara.hurriyet.com.tr/doviz/euro/', 'https://satis.hurriyet.com.tr/Default.aspx', 'https://www.hurriyet.com.tr/yerel-haberler/', 'https://bigpara.hurriyet.com.tr/kripto/bitcoin-fiyati/', 'http://bigpara.hurriyet.com.tr/borsa/canli-borsa/', 'http://e-gazete.hurriyet.com.tr/', 'https://bigpara.hurriyet.com.tr/doviz/', 'http://bigpara.hurriyet.com.tr/altin/22-ayar-bilezik-fiyati/', 'https://seriilan.hurriyet.com.tr/emlak.aspx', 'http://bigpara.hurriyet.com.tr/doviz/dolar/', 'http://bigpara.hurriyet.com.tr/doviz/dolar/', 'http://reklamver.hurriyet.com.tr/', 'https://www.hurriyetkurumsal.com/', 'https://www.hurriyetkurumsal.com/']\n"
     ]
    }
   ],
   "source": [
    "print(links)"
   ]
  },
  {
   "cell_type": "code",
   "execution_count": null,
   "metadata": {},
   "outputs": [],
   "source": []
  },
  {
   "cell_type": "code",
   "execution_count": null,
   "metadata": {},
   "outputs": [],
   "source": []
  },
  {
   "cell_type": "code",
   "execution_count": null,
   "metadata": {},
   "outputs": [],
   "source": []
  },
  {
   "cell_type": "code",
   "execution_count": null,
   "metadata": {},
   "outputs": [],
   "source": []
  },
  {
   "cell_type": "code",
   "execution_count": null,
   "metadata": {},
   "outputs": [],
   "source": []
  },
  {
   "cell_type": "code",
   "execution_count": null,
   "metadata": {},
   "outputs": [],
   "source": []
  },
  {
   "cell_type": "code",
   "execution_count": 10,
   "metadata": {
    "colab": {
     "base_uri": "https://localhost:8080/",
     "height": 399
    },
    "id": "4Hf2Y748_pNo",
    "outputId": "a0a708c8-f608-46a0-d7f1-cbbce4449f56"
   },
   "outputs": [
    {
     "ename": "SSLError",
     "evalue": "HTTPSConnectionPool(host='hesabim.hurriyet.com.tr', port=443): Max retries exceeded with url: / (Caused by SSLError(SSLCertVerificationError(1, '[SSL: CERTIFICATE_VERIFY_FAILED] certificate verify failed: unable to get local issuer certificate (_ssl.c:1002)')))",
     "output_type": "error",
     "traceback": [
      "\u001b[0;31m---------------------------------------------------------------------------\u001b[0m",
      "\u001b[0;31mSSLCertVerificationError\u001b[0m                  Traceback (most recent call last)",
      "File \u001b[0;32m~/anaconda3/lib/python3.11/site-packages/urllib3/connectionpool.py:714\u001b[0m, in \u001b[0;36mHTTPConnectionPool.urlopen\u001b[0;34m(self, method, url, body, headers, retries, redirect, assert_same_host, timeout, pool_timeout, release_conn, chunked, body_pos, **response_kw)\u001b[0m\n\u001b[1;32m    713\u001b[0m \u001b[38;5;66;03m# Make the request on the httplib connection object.\u001b[39;00m\n\u001b[0;32m--> 714\u001b[0m httplib_response \u001b[38;5;241m=\u001b[39m \u001b[38;5;28mself\u001b[39m\u001b[38;5;241m.\u001b[39m_make_request(\n\u001b[1;32m    715\u001b[0m     conn,\n\u001b[1;32m    716\u001b[0m     method,\n\u001b[1;32m    717\u001b[0m     url,\n\u001b[1;32m    718\u001b[0m     timeout\u001b[38;5;241m=\u001b[39mtimeout_obj,\n\u001b[1;32m    719\u001b[0m     body\u001b[38;5;241m=\u001b[39mbody,\n\u001b[1;32m    720\u001b[0m     headers\u001b[38;5;241m=\u001b[39mheaders,\n\u001b[1;32m    721\u001b[0m     chunked\u001b[38;5;241m=\u001b[39mchunked,\n\u001b[1;32m    722\u001b[0m )\n\u001b[1;32m    724\u001b[0m \u001b[38;5;66;03m# If we're going to release the connection in ``finally:``, then\u001b[39;00m\n\u001b[1;32m    725\u001b[0m \u001b[38;5;66;03m# the response doesn't need to know about the connection. Otherwise\u001b[39;00m\n\u001b[1;32m    726\u001b[0m \u001b[38;5;66;03m# it will also try to release it and we'll have a double-release\u001b[39;00m\n\u001b[1;32m    727\u001b[0m \u001b[38;5;66;03m# mess.\u001b[39;00m\n",
      "File \u001b[0;32m~/anaconda3/lib/python3.11/site-packages/urllib3/connectionpool.py:403\u001b[0m, in \u001b[0;36mHTTPConnectionPool._make_request\u001b[0;34m(self, conn, method, url, timeout, chunked, **httplib_request_kw)\u001b[0m\n\u001b[1;32m    402\u001b[0m \u001b[38;5;28;01mtry\u001b[39;00m:\n\u001b[0;32m--> 403\u001b[0m     \u001b[38;5;28mself\u001b[39m\u001b[38;5;241m.\u001b[39m_validate_conn(conn)\n\u001b[1;32m    404\u001b[0m \u001b[38;5;28;01mexcept\u001b[39;00m (SocketTimeout, BaseSSLError) \u001b[38;5;28;01mas\u001b[39;00m e:\n\u001b[1;32m    405\u001b[0m     \u001b[38;5;66;03m# Py2 raises this as a BaseSSLError, Py3 raises it as socket timeout.\u001b[39;00m\n",
      "File \u001b[0;32m~/anaconda3/lib/python3.11/site-packages/urllib3/connectionpool.py:1053\u001b[0m, in \u001b[0;36mHTTPSConnectionPool._validate_conn\u001b[0;34m(self, conn)\u001b[0m\n\u001b[1;32m   1052\u001b[0m \u001b[38;5;28;01mif\u001b[39;00m \u001b[38;5;129;01mnot\u001b[39;00m \u001b[38;5;28mgetattr\u001b[39m(conn, \u001b[38;5;124m\"\u001b[39m\u001b[38;5;124msock\u001b[39m\u001b[38;5;124m\"\u001b[39m, \u001b[38;5;28;01mNone\u001b[39;00m):  \u001b[38;5;66;03m# AppEngine might not have  `.sock`\u001b[39;00m\n\u001b[0;32m-> 1053\u001b[0m     conn\u001b[38;5;241m.\u001b[39mconnect()\n\u001b[1;32m   1055\u001b[0m \u001b[38;5;28;01mif\u001b[39;00m \u001b[38;5;129;01mnot\u001b[39;00m conn\u001b[38;5;241m.\u001b[39mis_verified:\n",
      "File \u001b[0;32m~/anaconda3/lib/python3.11/site-packages/urllib3/connection.py:419\u001b[0m, in \u001b[0;36mHTTPSConnection.connect\u001b[0;34m(self)\u001b[0m\n\u001b[1;32m    417\u001b[0m     context\u001b[38;5;241m.\u001b[39mload_default_certs()\n\u001b[0;32m--> 419\u001b[0m \u001b[38;5;28mself\u001b[39m\u001b[38;5;241m.\u001b[39msock \u001b[38;5;241m=\u001b[39m ssl_wrap_socket(\n\u001b[1;32m    420\u001b[0m     sock\u001b[38;5;241m=\u001b[39mconn,\n\u001b[1;32m    421\u001b[0m     keyfile\u001b[38;5;241m=\u001b[39m\u001b[38;5;28mself\u001b[39m\u001b[38;5;241m.\u001b[39mkey_file,\n\u001b[1;32m    422\u001b[0m     certfile\u001b[38;5;241m=\u001b[39m\u001b[38;5;28mself\u001b[39m\u001b[38;5;241m.\u001b[39mcert_file,\n\u001b[1;32m    423\u001b[0m     key_password\u001b[38;5;241m=\u001b[39m\u001b[38;5;28mself\u001b[39m\u001b[38;5;241m.\u001b[39mkey_password,\n\u001b[1;32m    424\u001b[0m     ca_certs\u001b[38;5;241m=\u001b[39m\u001b[38;5;28mself\u001b[39m\u001b[38;5;241m.\u001b[39mca_certs,\n\u001b[1;32m    425\u001b[0m     ca_cert_dir\u001b[38;5;241m=\u001b[39m\u001b[38;5;28mself\u001b[39m\u001b[38;5;241m.\u001b[39mca_cert_dir,\n\u001b[1;32m    426\u001b[0m     ca_cert_data\u001b[38;5;241m=\u001b[39m\u001b[38;5;28mself\u001b[39m\u001b[38;5;241m.\u001b[39mca_cert_data,\n\u001b[1;32m    427\u001b[0m     server_hostname\u001b[38;5;241m=\u001b[39mserver_hostname,\n\u001b[1;32m    428\u001b[0m     ssl_context\u001b[38;5;241m=\u001b[39mcontext,\n\u001b[1;32m    429\u001b[0m     tls_in_tls\u001b[38;5;241m=\u001b[39mtls_in_tls,\n\u001b[1;32m    430\u001b[0m )\n\u001b[1;32m    432\u001b[0m \u001b[38;5;66;03m# If we're using all defaults and the connection\u001b[39;00m\n\u001b[1;32m    433\u001b[0m \u001b[38;5;66;03m# is TLSv1 or TLSv1.1 we throw a DeprecationWarning\u001b[39;00m\n\u001b[1;32m    434\u001b[0m \u001b[38;5;66;03m# for the host.\u001b[39;00m\n",
      "File \u001b[0;32m~/anaconda3/lib/python3.11/site-packages/urllib3/util/ssl_.py:449\u001b[0m, in \u001b[0;36mssl_wrap_socket\u001b[0;34m(sock, keyfile, certfile, cert_reqs, ca_certs, server_hostname, ssl_version, ciphers, ssl_context, ca_cert_dir, key_password, ca_cert_data, tls_in_tls)\u001b[0m\n\u001b[1;32m    448\u001b[0m \u001b[38;5;28;01mif\u001b[39;00m send_sni:\n\u001b[0;32m--> 449\u001b[0m     ssl_sock \u001b[38;5;241m=\u001b[39m _ssl_wrap_socket_impl(\n\u001b[1;32m    450\u001b[0m         sock, context, tls_in_tls, server_hostname\u001b[38;5;241m=\u001b[39mserver_hostname\n\u001b[1;32m    451\u001b[0m     )\n\u001b[1;32m    452\u001b[0m \u001b[38;5;28;01melse\u001b[39;00m:\n",
      "File \u001b[0;32m~/anaconda3/lib/python3.11/site-packages/urllib3/util/ssl_.py:493\u001b[0m, in \u001b[0;36m_ssl_wrap_socket_impl\u001b[0;34m(sock, ssl_context, tls_in_tls, server_hostname)\u001b[0m\n\u001b[1;32m    492\u001b[0m \u001b[38;5;28;01mif\u001b[39;00m server_hostname:\n\u001b[0;32m--> 493\u001b[0m     \u001b[38;5;28;01mreturn\u001b[39;00m ssl_context\u001b[38;5;241m.\u001b[39mwrap_socket(sock, server_hostname\u001b[38;5;241m=\u001b[39mserver_hostname)\n\u001b[1;32m    494\u001b[0m \u001b[38;5;28;01melse\u001b[39;00m:\n",
      "File \u001b[0;32m~/anaconda3/lib/python3.11/ssl.py:517\u001b[0m, in \u001b[0;36mSSLContext.wrap_socket\u001b[0;34m(self, sock, server_side, do_handshake_on_connect, suppress_ragged_eofs, server_hostname, session)\u001b[0m\n\u001b[1;32m    511\u001b[0m \u001b[38;5;28;01mdef\u001b[39;00m \u001b[38;5;21mwrap_socket\u001b[39m(\u001b[38;5;28mself\u001b[39m, sock, server_side\u001b[38;5;241m=\u001b[39m\u001b[38;5;28;01mFalse\u001b[39;00m,\n\u001b[1;32m    512\u001b[0m                 do_handshake_on_connect\u001b[38;5;241m=\u001b[39m\u001b[38;5;28;01mTrue\u001b[39;00m,\n\u001b[1;32m    513\u001b[0m                 suppress_ragged_eofs\u001b[38;5;241m=\u001b[39m\u001b[38;5;28;01mTrue\u001b[39;00m,\n\u001b[1;32m    514\u001b[0m                 server_hostname\u001b[38;5;241m=\u001b[39m\u001b[38;5;28;01mNone\u001b[39;00m, session\u001b[38;5;241m=\u001b[39m\u001b[38;5;28;01mNone\u001b[39;00m):\n\u001b[1;32m    515\u001b[0m     \u001b[38;5;66;03m# SSLSocket class handles server_hostname encoding before it calls\u001b[39;00m\n\u001b[1;32m    516\u001b[0m     \u001b[38;5;66;03m# ctx._wrap_socket()\u001b[39;00m\n\u001b[0;32m--> 517\u001b[0m     \u001b[38;5;28;01mreturn\u001b[39;00m \u001b[38;5;28mself\u001b[39m\u001b[38;5;241m.\u001b[39msslsocket_class\u001b[38;5;241m.\u001b[39m_create(\n\u001b[1;32m    518\u001b[0m         sock\u001b[38;5;241m=\u001b[39msock,\n\u001b[1;32m    519\u001b[0m         server_side\u001b[38;5;241m=\u001b[39mserver_side,\n\u001b[1;32m    520\u001b[0m         do_handshake_on_connect\u001b[38;5;241m=\u001b[39mdo_handshake_on_connect,\n\u001b[1;32m    521\u001b[0m         suppress_ragged_eofs\u001b[38;5;241m=\u001b[39msuppress_ragged_eofs,\n\u001b[1;32m    522\u001b[0m         server_hostname\u001b[38;5;241m=\u001b[39mserver_hostname,\n\u001b[1;32m    523\u001b[0m         context\u001b[38;5;241m=\u001b[39m\u001b[38;5;28mself\u001b[39m,\n\u001b[1;32m    524\u001b[0m         session\u001b[38;5;241m=\u001b[39msession\n\u001b[1;32m    525\u001b[0m     )\n",
      "File \u001b[0;32m~/anaconda3/lib/python3.11/ssl.py:1075\u001b[0m, in \u001b[0;36mSSLSocket._create\u001b[0;34m(cls, sock, server_side, do_handshake_on_connect, suppress_ragged_eofs, server_hostname, context, session)\u001b[0m\n\u001b[1;32m   1074\u001b[0m             \u001b[38;5;28;01mraise\u001b[39;00m \u001b[38;5;167;01mValueError\u001b[39;00m(\u001b[38;5;124m\"\u001b[39m\u001b[38;5;124mdo_handshake_on_connect should not be specified for non-blocking sockets\u001b[39m\u001b[38;5;124m\"\u001b[39m)\n\u001b[0;32m-> 1075\u001b[0m         \u001b[38;5;28mself\u001b[39m\u001b[38;5;241m.\u001b[39mdo_handshake()\n\u001b[1;32m   1076\u001b[0m \u001b[38;5;28;01mexcept\u001b[39;00m (\u001b[38;5;167;01mOSError\u001b[39;00m, \u001b[38;5;167;01mValueError\u001b[39;00m):\n",
      "File \u001b[0;32m~/anaconda3/lib/python3.11/ssl.py:1346\u001b[0m, in \u001b[0;36mSSLSocket.do_handshake\u001b[0;34m(self, block)\u001b[0m\n\u001b[1;32m   1345\u001b[0m         \u001b[38;5;28mself\u001b[39m\u001b[38;5;241m.\u001b[39msettimeout(\u001b[38;5;28;01mNone\u001b[39;00m)\n\u001b[0;32m-> 1346\u001b[0m     \u001b[38;5;28mself\u001b[39m\u001b[38;5;241m.\u001b[39m_sslobj\u001b[38;5;241m.\u001b[39mdo_handshake()\n\u001b[1;32m   1347\u001b[0m \u001b[38;5;28;01mfinally\u001b[39;00m:\n",
      "\u001b[0;31mSSLCertVerificationError\u001b[0m: [SSL: CERTIFICATE_VERIFY_FAILED] certificate verify failed: unable to get local issuer certificate (_ssl.c:1002)",
      "\nDuring handling of the above exception, another exception occurred:\n",
      "\u001b[0;31mMaxRetryError\u001b[0m                             Traceback (most recent call last)",
      "File \u001b[0;32m~/anaconda3/lib/python3.11/site-packages/requests/adapters.py:486\u001b[0m, in \u001b[0;36mHTTPAdapter.send\u001b[0;34m(self, request, stream, timeout, verify, cert, proxies)\u001b[0m\n\u001b[1;32m    485\u001b[0m \u001b[38;5;28;01mtry\u001b[39;00m:\n\u001b[0;32m--> 486\u001b[0m     resp \u001b[38;5;241m=\u001b[39m conn\u001b[38;5;241m.\u001b[39murlopen(\n\u001b[1;32m    487\u001b[0m         method\u001b[38;5;241m=\u001b[39mrequest\u001b[38;5;241m.\u001b[39mmethod,\n\u001b[1;32m    488\u001b[0m         url\u001b[38;5;241m=\u001b[39murl,\n\u001b[1;32m    489\u001b[0m         body\u001b[38;5;241m=\u001b[39mrequest\u001b[38;5;241m.\u001b[39mbody,\n\u001b[1;32m    490\u001b[0m         headers\u001b[38;5;241m=\u001b[39mrequest\u001b[38;5;241m.\u001b[39mheaders,\n\u001b[1;32m    491\u001b[0m         redirect\u001b[38;5;241m=\u001b[39m\u001b[38;5;28;01mFalse\u001b[39;00m,\n\u001b[1;32m    492\u001b[0m         assert_same_host\u001b[38;5;241m=\u001b[39m\u001b[38;5;28;01mFalse\u001b[39;00m,\n\u001b[1;32m    493\u001b[0m         preload_content\u001b[38;5;241m=\u001b[39m\u001b[38;5;28;01mFalse\u001b[39;00m,\n\u001b[1;32m    494\u001b[0m         decode_content\u001b[38;5;241m=\u001b[39m\u001b[38;5;28;01mFalse\u001b[39;00m,\n\u001b[1;32m    495\u001b[0m         retries\u001b[38;5;241m=\u001b[39m\u001b[38;5;28mself\u001b[39m\u001b[38;5;241m.\u001b[39mmax_retries,\n\u001b[1;32m    496\u001b[0m         timeout\u001b[38;5;241m=\u001b[39mtimeout,\n\u001b[1;32m    497\u001b[0m         chunked\u001b[38;5;241m=\u001b[39mchunked,\n\u001b[1;32m    498\u001b[0m     )\n\u001b[1;32m    500\u001b[0m \u001b[38;5;28;01mexcept\u001b[39;00m (ProtocolError, \u001b[38;5;167;01mOSError\u001b[39;00m) \u001b[38;5;28;01mas\u001b[39;00m err:\n",
      "File \u001b[0;32m~/anaconda3/lib/python3.11/site-packages/urllib3/connectionpool.py:798\u001b[0m, in \u001b[0;36mHTTPConnectionPool.urlopen\u001b[0;34m(self, method, url, body, headers, retries, redirect, assert_same_host, timeout, pool_timeout, release_conn, chunked, body_pos, **response_kw)\u001b[0m\n\u001b[1;32m    796\u001b[0m     e \u001b[38;5;241m=\u001b[39m ProtocolError(\u001b[38;5;124m\"\u001b[39m\u001b[38;5;124mConnection aborted.\u001b[39m\u001b[38;5;124m\"\u001b[39m, e)\n\u001b[0;32m--> 798\u001b[0m retries \u001b[38;5;241m=\u001b[39m retries\u001b[38;5;241m.\u001b[39mincrement(\n\u001b[1;32m    799\u001b[0m     method, url, error\u001b[38;5;241m=\u001b[39me, _pool\u001b[38;5;241m=\u001b[39m\u001b[38;5;28mself\u001b[39m, _stacktrace\u001b[38;5;241m=\u001b[39msys\u001b[38;5;241m.\u001b[39mexc_info()[\u001b[38;5;241m2\u001b[39m]\n\u001b[1;32m    800\u001b[0m )\n\u001b[1;32m    801\u001b[0m retries\u001b[38;5;241m.\u001b[39msleep()\n",
      "File \u001b[0;32m~/anaconda3/lib/python3.11/site-packages/urllib3/util/retry.py:592\u001b[0m, in \u001b[0;36mRetry.increment\u001b[0;34m(self, method, url, response, error, _pool, _stacktrace)\u001b[0m\n\u001b[1;32m    591\u001b[0m \u001b[38;5;28;01mif\u001b[39;00m new_retry\u001b[38;5;241m.\u001b[39mis_exhausted():\n\u001b[0;32m--> 592\u001b[0m     \u001b[38;5;28;01mraise\u001b[39;00m MaxRetryError(_pool, url, error \u001b[38;5;129;01mor\u001b[39;00m ResponseError(cause))\n\u001b[1;32m    594\u001b[0m log\u001b[38;5;241m.\u001b[39mdebug(\u001b[38;5;124m\"\u001b[39m\u001b[38;5;124mIncremented Retry for (url=\u001b[39m\u001b[38;5;124m'\u001b[39m\u001b[38;5;132;01m%s\u001b[39;00m\u001b[38;5;124m'\u001b[39m\u001b[38;5;124m): \u001b[39m\u001b[38;5;132;01m%r\u001b[39;00m\u001b[38;5;124m\"\u001b[39m, url, new_retry)\n",
      "\u001b[0;31mMaxRetryError\u001b[0m: HTTPSConnectionPool(host='hesabim.hurriyet.com.tr', port=443): Max retries exceeded with url: / (Caused by SSLError(SSLCertVerificationError(1, '[SSL: CERTIFICATE_VERIFY_FAILED] certificate verify failed: unable to get local issuer certificate (_ssl.c:1002)')))",
      "\nDuring handling of the above exception, another exception occurred:\n",
      "\u001b[0;31mSSLError\u001b[0m                                  Traceback (most recent call last)",
      "Cell \u001b[0;32mIn[10], line 35\u001b[0m\n\u001b[1;32m     33\u001b[0m scraped_data \u001b[38;5;241m=\u001b[39m []\n\u001b[1;32m     34\u001b[0m \u001b[38;5;28;01mfor\u001b[39;00m link \u001b[38;5;129;01min\u001b[39;00m links:\n\u001b[0;32m---> 35\u001b[0m     data \u001b[38;5;241m=\u001b[39m scrape_data(link)\n\u001b[1;32m     36\u001b[0m     \u001b[38;5;28;01mif\u001b[39;00m data:\n\u001b[1;32m     37\u001b[0m         scraped_data\u001b[38;5;241m.\u001b[39mappend(data)\n",
      "Cell \u001b[0;32mIn[10], line 22\u001b[0m, in \u001b[0;36mscrape_data\u001b[0;34m(url)\u001b[0m\n\u001b[1;32m     21\u001b[0m \u001b[38;5;28;01mdef\u001b[39;00m \u001b[38;5;21mscrape_data\u001b[39m(url):\n\u001b[0;32m---> 22\u001b[0m     soup \u001b[38;5;241m=\u001b[39m get_soup(url)\n\u001b[1;32m     23\u001b[0m     place \u001b[38;5;241m=\u001b[39m soup\u001b[38;5;241m.\u001b[39mfind(\u001b[38;5;124m'\u001b[39m\u001b[38;5;124mdiv\u001b[39m\u001b[38;5;124m'\u001b[39m,class_\u001b[38;5;241m=\u001b[39m\u001b[38;5;124m\"\u001b[39m\u001b[38;5;124mentry-content no-share\u001b[39m\u001b[38;5;124m\"\u001b[39m)\n\u001b[1;32m     24\u001b[0m     \u001b[38;5;28;01mif\u001b[39;00m place:\n",
      "Cell \u001b[0;32mIn[10], line 5\u001b[0m, in \u001b[0;36mget_soup\u001b[0;34m(url)\u001b[0m\n\u001b[1;32m      4\u001b[0m \u001b[38;5;28;01mdef\u001b[39;00m \u001b[38;5;21mget_soup\u001b[39m(url):\n\u001b[0;32m----> 5\u001b[0m     response \u001b[38;5;241m=\u001b[39m requests\u001b[38;5;241m.\u001b[39mget(url)\n\u001b[1;32m      6\u001b[0m     \u001b[38;5;28;01mreturn\u001b[39;00m BeautifulSoup(response\u001b[38;5;241m.\u001b[39mtext, \u001b[38;5;124m'\u001b[39m\u001b[38;5;124mlxml\u001b[39m\u001b[38;5;124m'\u001b[39m)\n",
      "File \u001b[0;32m~/anaconda3/lib/python3.11/site-packages/requests/api.py:73\u001b[0m, in \u001b[0;36mget\u001b[0;34m(url, params, **kwargs)\u001b[0m\n\u001b[1;32m     62\u001b[0m \u001b[38;5;28;01mdef\u001b[39;00m \u001b[38;5;21mget\u001b[39m(url, params\u001b[38;5;241m=\u001b[39m\u001b[38;5;28;01mNone\u001b[39;00m, \u001b[38;5;241m*\u001b[39m\u001b[38;5;241m*\u001b[39mkwargs):\n\u001b[1;32m     63\u001b[0m \u001b[38;5;250m    \u001b[39m\u001b[38;5;124mr\u001b[39m\u001b[38;5;124;03m\"\"\"Sends a GET request.\u001b[39;00m\n\u001b[1;32m     64\u001b[0m \n\u001b[1;32m     65\u001b[0m \u001b[38;5;124;03m    :param url: URL for the new :class:`Request` object.\u001b[39;00m\n\u001b[0;32m   (...)\u001b[0m\n\u001b[1;32m     70\u001b[0m \u001b[38;5;124;03m    :rtype: requests.Response\u001b[39;00m\n\u001b[1;32m     71\u001b[0m \u001b[38;5;124;03m    \"\"\"\u001b[39;00m\n\u001b[0;32m---> 73\u001b[0m     \u001b[38;5;28;01mreturn\u001b[39;00m request(\u001b[38;5;124m\"\u001b[39m\u001b[38;5;124mget\u001b[39m\u001b[38;5;124m\"\u001b[39m, url, params\u001b[38;5;241m=\u001b[39mparams, \u001b[38;5;241m*\u001b[39m\u001b[38;5;241m*\u001b[39mkwargs)\n",
      "File \u001b[0;32m~/anaconda3/lib/python3.11/site-packages/requests/api.py:59\u001b[0m, in \u001b[0;36mrequest\u001b[0;34m(method, url, **kwargs)\u001b[0m\n\u001b[1;32m     55\u001b[0m \u001b[38;5;66;03m# By using the 'with' statement we are sure the session is closed, thus we\u001b[39;00m\n\u001b[1;32m     56\u001b[0m \u001b[38;5;66;03m# avoid leaving sockets open which can trigger a ResourceWarning in some\u001b[39;00m\n\u001b[1;32m     57\u001b[0m \u001b[38;5;66;03m# cases, and look like a memory leak in others.\u001b[39;00m\n\u001b[1;32m     58\u001b[0m \u001b[38;5;28;01mwith\u001b[39;00m sessions\u001b[38;5;241m.\u001b[39mSession() \u001b[38;5;28;01mas\u001b[39;00m session:\n\u001b[0;32m---> 59\u001b[0m     \u001b[38;5;28;01mreturn\u001b[39;00m session\u001b[38;5;241m.\u001b[39mrequest(method\u001b[38;5;241m=\u001b[39mmethod, url\u001b[38;5;241m=\u001b[39murl, \u001b[38;5;241m*\u001b[39m\u001b[38;5;241m*\u001b[39mkwargs)\n",
      "File \u001b[0;32m~/anaconda3/lib/python3.11/site-packages/requests/sessions.py:589\u001b[0m, in \u001b[0;36mSession.request\u001b[0;34m(self, method, url, params, data, headers, cookies, files, auth, timeout, allow_redirects, proxies, hooks, stream, verify, cert, json)\u001b[0m\n\u001b[1;32m    584\u001b[0m send_kwargs \u001b[38;5;241m=\u001b[39m {\n\u001b[1;32m    585\u001b[0m     \u001b[38;5;124m\"\u001b[39m\u001b[38;5;124mtimeout\u001b[39m\u001b[38;5;124m\"\u001b[39m: timeout,\n\u001b[1;32m    586\u001b[0m     \u001b[38;5;124m\"\u001b[39m\u001b[38;5;124mallow_redirects\u001b[39m\u001b[38;5;124m\"\u001b[39m: allow_redirects,\n\u001b[1;32m    587\u001b[0m }\n\u001b[1;32m    588\u001b[0m send_kwargs\u001b[38;5;241m.\u001b[39mupdate(settings)\n\u001b[0;32m--> 589\u001b[0m resp \u001b[38;5;241m=\u001b[39m \u001b[38;5;28mself\u001b[39m\u001b[38;5;241m.\u001b[39msend(prep, \u001b[38;5;241m*\u001b[39m\u001b[38;5;241m*\u001b[39msend_kwargs)\n\u001b[1;32m    591\u001b[0m \u001b[38;5;28;01mreturn\u001b[39;00m resp\n",
      "File \u001b[0;32m~/anaconda3/lib/python3.11/site-packages/requests/sessions.py:703\u001b[0m, in \u001b[0;36mSession.send\u001b[0;34m(self, request, **kwargs)\u001b[0m\n\u001b[1;32m    700\u001b[0m start \u001b[38;5;241m=\u001b[39m preferred_clock()\n\u001b[1;32m    702\u001b[0m \u001b[38;5;66;03m# Send the request\u001b[39;00m\n\u001b[0;32m--> 703\u001b[0m r \u001b[38;5;241m=\u001b[39m adapter\u001b[38;5;241m.\u001b[39msend(request, \u001b[38;5;241m*\u001b[39m\u001b[38;5;241m*\u001b[39mkwargs)\n\u001b[1;32m    705\u001b[0m \u001b[38;5;66;03m# Total elapsed time of the request (approximately)\u001b[39;00m\n\u001b[1;32m    706\u001b[0m elapsed \u001b[38;5;241m=\u001b[39m preferred_clock() \u001b[38;5;241m-\u001b[39m start\n",
      "File \u001b[0;32m~/anaconda3/lib/python3.11/site-packages/requests/adapters.py:517\u001b[0m, in \u001b[0;36mHTTPAdapter.send\u001b[0;34m(self, request, stream, timeout, verify, cert, proxies)\u001b[0m\n\u001b[1;32m    513\u001b[0m         \u001b[38;5;28;01mraise\u001b[39;00m ProxyError(e, request\u001b[38;5;241m=\u001b[39mrequest)\n\u001b[1;32m    515\u001b[0m     \u001b[38;5;28;01mif\u001b[39;00m \u001b[38;5;28misinstance\u001b[39m(e\u001b[38;5;241m.\u001b[39mreason, _SSLError):\n\u001b[1;32m    516\u001b[0m         \u001b[38;5;66;03m# This branch is for urllib3 v1.22 and later.\u001b[39;00m\n\u001b[0;32m--> 517\u001b[0m         \u001b[38;5;28;01mraise\u001b[39;00m SSLError(e, request\u001b[38;5;241m=\u001b[39mrequest)\n\u001b[1;32m    519\u001b[0m     \u001b[38;5;28;01mraise\u001b[39;00m \u001b[38;5;167;01mConnectionError\u001b[39;00m(e, request\u001b[38;5;241m=\u001b[39mrequest)\n\u001b[1;32m    521\u001b[0m \u001b[38;5;28;01mexcept\u001b[39;00m ClosedPoolError \u001b[38;5;28;01mas\u001b[39;00m e:\n",
      "\u001b[0;31mSSLError\u001b[0m: HTTPSConnectionPool(host='hesabim.hurriyet.com.tr', port=443): Max retries exceeded with url: / (Caused by SSLError(SSLCertVerificationError(1, '[SSL: CERTIFICATE_VERIFY_FAILED] certificate verify failed: unable to get local issuer certificate (_ssl.c:1002)')))"
     ]
    }
   ],
   "source": [
    "import requests\n",
    "from bs4 import BeautifulSoup\n",
    "\n",
    "def get_soup(url):\n",
    "    response = requests.get(url)\n",
    "    return BeautifulSoup(response.text, 'lxml')\n",
    "\n",
    "def get_links(url):\n",
    "    soup = get_soup(url)\n",
    "    links = []\n",
    "\n",
    "    # Assuming links are in 'a' tags and within a specific part of the website\n",
    "    # Modify the find_all() parameters as per the website's structure\n",
    "    for link in soup.find_all('a'):\n",
    "        href = link.get('href')\n",
    "        if href and href.startswith('http'):  # This checks if the link is a valid URL\n",
    "            links.append(href)\n",
    "\n",
    "    return links\n",
    "\n",
    "def scrape_data(url):\n",
    "    soup = get_soup(url)\n",
    "    place = soup.find('div',class_=\"entry-content no-share\")\n",
    "    if place:\n",
    "        name = place.find('div', class_='medyanet-inline-adv')\n",
    "        if name:\n",
    "            return name.text.strip()\n",
    "    return None\n",
    "\n",
    "main_url = 'https://www.hurriyet.com.tr/yazarlar/abdulkadir-selvi/'  # Replace with your main URL\n",
    "links = get_links(main_url)\n",
    "\n",
    "scraped_data = []\n",
    "for link in links:\n",
    "    data = scrape_data(link)\n",
    "    if data:\n",
    "        scraped_data.append(data)\n",
    "\n",
    "# Displaying the scraped data\n",
    "for data in scraped_data:\n",
    "    print(data)\n"
   ]
  },
  {
   "cell_type": "code",
   "execution_count": 8,
   "metadata": {},
   "outputs": [],
   "source": [
    "\n",
    "import pandas as pd"
   ]
  },
  {
   "cell_type": "code",
   "execution_count": 25,
   "metadata": {},
   "outputs": [],
   "source": [
    "df = pd.DataFrame(data, columns=['text'])\n",
    "df.to_csv('data.csv')"
   ]
  },
  {
   "cell_type": "code",
   "execution_count": 21,
   "metadata": {},
   "outputs": [],
   "source": [
    "url = \"https://fenikspolitik.org/author/myegin/\"\n",
    "response = requests.get(url)\n",
    "response = response.content\n",
    "soup = BeautifulSoup(response, 'html.parser')\n",
    "for i in soup:\n",
    "    image = soup.find('img', class_=\"lazyload wp-post-image\" )\n",
    "    title = image.attrs['alt']\n",
    "    date = soup.find('i', class_=\"fa fa-clock-o\").text\n",
    " "
   ]
  },
  {
   "cell_type": "code",
   "execution_count": 23,
   "metadata": {},
   "outputs": [
    {
     "name": "stdout",
     "output_type": "stream",
     "text": [
      "Turkey’s Elections Too Close to Call\n"
     ]
    }
   ],
   "source": [
    "print(title)"
   ]
  },
  {
   "cell_type": "code",
   "execution_count": null,
   "metadata": {},
   "outputs": [],
   "source": [
    "image = article.find('img')\n",
    "    title = image.attrs['alt']\n",
    "    starTag = article.find('p')\n",
    "    star = starTag['class'][1]\n",
    "    price = article.find('p', class_='price_color').text\n",
    "    price = float(price[1:])\n",
    "    \n",
    "    \n",
    "    class=\"lazyload wp-post-image\" "
   ]
  },
  {
   "cell_type": "code",
   "execution_count": null,
   "metadata": {},
   "outputs": [],
   "source": [
    "\n",
    "df = pd.DataFrame(books, columns=['index', 'text', 'Price'])\n",
    "df.to_csv('books.csv')"
   ]
  },
  {
   "cell_type": "code",
   "execution_count": null,
   "metadata": {
    "id": "5sYGqaq-Z6t7"
   },
   "outputs": [],
   "source": [
    "html_text1=requests.get('https://fenikspolitik.org/author/myegin/').text\n",
    "print(html_text1)"
   ]
  },
  {
   "cell_type": "code",
   "execution_count": null,
   "metadata": {},
   "outputs": [],
   "source": []
  },
  {
   "cell_type": "code",
   "execution_count": null,
   "metadata": {
    "colab": {
     "base_uri": "https://localhost:8080/"
    },
    "id": "mMoD9BH3XYEh",
    "outputId": "187f1a9a-6af5-4c63-a645-9aeac858d04e"
   },
   "outputs": [
    {
     "name": "stdout",
     "output_type": "stream",
     "text": [
      "<Response [200]>\n"
     ]
    }
   ],
   "source": [
    "html_text=requests.get('https://fenikspolitik.org/author/myegin/')\n",
    "print(html_text)"
   ]
  },
  {
   "cell_type": "code",
   "execution_count": null,
   "metadata": {
    "colab": {
     "base_uri": "https://localhost:8080/"
    },
    "id": "uBpBph_IXYBE",
    "outputId": "553609d1-7f1a-4e3b-f2b3-c782d1c8277f"
   },
   "outputs": [
    {
     "name": "stdout",
     "output_type": "stream",
     "text": [
      "['MehmetYegin']\n"
     ]
    }
   ],
   "source": [
    "soup=BeautifulSoup(html_text1, \"lxml\")\n",
    "place=soup.find('div',class_=\"jeg_author_content\")\n",
    "name=place.find('h3',class_=\"jeg_author_name fn\").text.replace(\" \",\"\").split()\n",
    "print(name)"
   ]
  },
  {
   "cell_type": "code",
   "execution_count": null,
   "metadata": {
    "colab": {
     "base_uri": "https://localhost:8080/"
    },
    "id": "MZE3v9o1TGX4",
    "outputId": "0e0d1190-a50c-40bf-8d5d-97f794e2d2d5"
   },
   "outputs": [
    {
     "name": "stdout",
     "output_type": "stream",
     "text": [
      "\n",
      "YeginholdsaPhDfromİhsanDoğramacıBilkentUniversity’sDepartmentofPoliticalScience.AfterstudyingAmericanpoliticsthroughouthisMAstudiesattheUniversityofCincinnati,YeginworkedattheInternationalStrategicResearchOrganization(USAK)asaResearcherfrom2008to2012andastheDirectoroftheCenterforAmericanStudiesfrom2012to2016.HisfieldsofexpertiseincludeTurkishforeignpolicy,Turkey-USrelations,Americanpolitics,alliances/coalitions,NATO,andtheKurdishissue.\n",
      "\n"
     ]
    }
   ],
   "source": [
    "job=soup.find('div', class_=\"jeg_author_desc\").text.replace(\" \",\"\")\n",
    "print(job)"
   ]
  },
  {
   "cell_type": "code",
   "execution_count": null,
   "metadata": {
    "id": "VEem5GwqTGG5"
   },
   "outputs": [],
   "source": [
    "html_text001=requests.get('https://fenikspolitik.org/turkeys-elections-too-close-to-call/').text\n",
    "print(html_text001)"
   ]
  },
  {
   "cell_type": "code",
   "execution_count": null,
   "metadata": {
    "id": "yInPczvJeAXe"
   },
   "outputs": [],
   "source": [
    "newsoup=BeautifulSoup(html_text001, \"lxml\")\n",
    "text001=newsoup.find('div',class_=\"entry-content no-share\")\n",
    "text002=text001.find('div',class_=\"content-inner\").text\n",
    "print(text002)"
   ]
  },
  {
   "cell_type": "code",
   "execution_count": null,
   "metadata": {
    "colab": {
     "base_uri": "https://localhost:8080/"
    },
    "id": "3X-_mjPmqpGm",
    "outputId": "251679a0-22bf-424f-898c-fce738813b84"
   },
   "outputs": [
    {
     "name": "stdout",
     "output_type": "stream",
     "text": [
      "Collecting openai\n",
      "  Downloading openai-1.3.7-py3-none-any.whl (221 kB)\n",
      "\u001b[2K     \u001b[90m━━━━━━━━━━━━━━━━━━━━━━━━━━━━━━━━━━━━━━━━\u001b[0m \u001b[32m221.4/221.4 kB\u001b[0m \u001b[31m2.3 MB/s\u001b[0m eta \u001b[36m0:00:00\u001b[0m\n",
      "\u001b[?25hRequirement already satisfied: anyio<4,>=3.5.0 in /usr/local/lib/python3.10/dist-packages (from openai) (3.7.1)\n",
      "Requirement already satisfied: distro<2,>=1.7.0 in /usr/lib/python3/dist-packages (from openai) (1.7.0)\n",
      "Collecting httpx<1,>=0.23.0 (from openai)\n",
      "  Downloading httpx-0.25.2-py3-none-any.whl (74 kB)\n",
      "\u001b[2K     \u001b[90m━━━━━━━━━━━━━━━━━━━━━━━━━━━━━━━━━━━━━━━━\u001b[0m \u001b[32m75.0/75.0 kB\u001b[0m \u001b[31m6.7 MB/s\u001b[0m eta \u001b[36m0:00:00\u001b[0m\n",
      "\u001b[?25hRequirement already satisfied: pydantic<3,>=1.9.0 in /usr/local/lib/python3.10/dist-packages (from openai) (1.10.13)\n",
      "Requirement already satisfied: sniffio in /usr/local/lib/python3.10/dist-packages (from openai) (1.3.0)\n",
      "Requirement already satisfied: tqdm>4 in /usr/local/lib/python3.10/dist-packages (from openai) (4.66.1)\n",
      "Requirement already satisfied: typing-extensions<5,>=4.5 in /usr/local/lib/python3.10/dist-packages (from openai) (4.5.0)\n",
      "Requirement already satisfied: idna>=2.8 in /usr/local/lib/python3.10/dist-packages (from anyio<4,>=3.5.0->openai) (3.6)\n",
      "Requirement already satisfied: exceptiongroup in /usr/local/lib/python3.10/dist-packages (from anyio<4,>=3.5.0->openai) (1.2.0)\n",
      "Requirement already satisfied: certifi in /usr/local/lib/python3.10/dist-packages (from httpx<1,>=0.23.0->openai) (2023.11.17)\n",
      "Collecting httpcore==1.* (from httpx<1,>=0.23.0->openai)\n",
      "  Downloading httpcore-1.0.2-py3-none-any.whl (76 kB)\n",
      "\u001b[2K     \u001b[90m━━━━━━━━━━━━━━━━━━━━━━━━━━━━━━━━━━━━━━━━\u001b[0m \u001b[32m76.9/76.9 kB\u001b[0m \u001b[31m5.9 MB/s\u001b[0m eta \u001b[36m0:00:00\u001b[0m\n",
      "\u001b[?25hCollecting h11<0.15,>=0.13 (from httpcore==1.*->httpx<1,>=0.23.0->openai)\n",
      "  Downloading h11-0.14.0-py3-none-any.whl (58 kB)\n",
      "\u001b[2K     \u001b[90m━━━━━━━━━━━━━━━━━━━━━━━━━━━━━━━━━━━━━━━━\u001b[0m \u001b[32m58.3/58.3 kB\u001b[0m \u001b[31m4.3 MB/s\u001b[0m eta \u001b[36m0:00:00\u001b[0m\n",
      "\u001b[?25hInstalling collected packages: h11, httpcore, httpx, openai\n",
      "\u001b[31mERROR: pip's dependency resolver does not currently take into account all the packages that are installed. This behaviour is the source of the following dependency conflicts.\n",
      "llmx 0.0.15a0 requires cohere, which is not installed.\n",
      "llmx 0.0.15a0 requires tiktoken, which is not installed.\u001b[0m\u001b[31m\n",
      "\u001b[0mSuccessfully installed h11-0.14.0 httpcore-1.0.2 httpx-0.25.2 openai-1.3.7\n"
     ]
    }
   ],
   "source": [
    "pip install openai"
   ]
  },
  {
   "cell_type": "code",
   "execution_count": null,
   "metadata": {
    "id": "SNH2MTzNZ7oL"
   },
   "outputs": [],
   "source": [
    "import openai\n",
    "api_key = \n",
    "openai.api_key = api_key"
   ]
  },
  {
   "cell_type": "code",
   "execution_count": null,
   "metadata": {
    "id": "-FGhELn0xnKE"
   },
   "outputs": [],
   "source": [
    "def meeting_minutes(transcription):\n",
    "    abstract_summary = abstract_summary_extraction(transcription)\n",
    "    key_points = key_points_extraction(transcription)\n",
    "    action_items = action_item_extraction(transcription)\n",
    "    sentiment = sentiment_analysis(transcription)\n",
    "    return {\n",
    "        'abstract_summary': abstract_summary,\n",
    "        'key_points': key_points,\n",
    "        'action_items': action_items,\n",
    "        'sentiment': sentiment\n",
    "    }"
   ]
  },
  {
   "cell_type": "code",
   "execution_count": null,
   "metadata": {
    "colab": {
     "base_uri": "https://localhost:8080/",
     "height": 304
    },
    "id": "4nvs3QQnyObZ",
    "outputId": "00ebcf9c-ee09-4f09-9fb1-36da28728afb"
   },
   "outputs": [
    {
     "ename": "NameError",
     "evalue": "ignored",
     "output_type": "error",
     "traceback": [
      "\u001b[0;31m---------------------------------------------------------------------------\u001b[0m",
      "\u001b[0;31mNameError\u001b[0m                                 Traceback (most recent call last)",
      "\u001b[0;32m<ipython-input-44-e8dc874c98bb>\u001b[0m in \u001b[0;36m<cell line: 1>\u001b[0;34m()\u001b[0m\n\u001b[0;32m----> 1\u001b[0;31m \u001b[0mmeeting_minutes\u001b[0m\u001b[0;34m(\u001b[0m\u001b[0mtext002\u001b[0m\u001b[0;34m)\u001b[0m\u001b[0;34m\u001b[0m\u001b[0;34m\u001b[0m\u001b[0m\n\u001b[0m",
      "\u001b[0;32m<ipython-input-43-07e48639cb91>\u001b[0m in \u001b[0;36mmeeting_minutes\u001b[0;34m(transcription)\u001b[0m\n\u001b[1;32m      1\u001b[0m \u001b[0;32mdef\u001b[0m \u001b[0mmeeting_minutes\u001b[0m\u001b[0;34m(\u001b[0m\u001b[0mtranscription\u001b[0m\u001b[0;34m)\u001b[0m\u001b[0;34m:\u001b[0m\u001b[0;34m\u001b[0m\u001b[0;34m\u001b[0m\u001b[0m\n\u001b[0;32m----> 2\u001b[0;31m     \u001b[0mabstract_summary\u001b[0m \u001b[0;34m=\u001b[0m \u001b[0mabstract_summary_extraction\u001b[0m\u001b[0;34m(\u001b[0m\u001b[0mtranscription\u001b[0m\u001b[0;34m)\u001b[0m\u001b[0;34m\u001b[0m\u001b[0;34m\u001b[0m\u001b[0m\n\u001b[0m\u001b[1;32m      3\u001b[0m     \u001b[0mkey_points\u001b[0m \u001b[0;34m=\u001b[0m \u001b[0mkey_points_extraction\u001b[0m\u001b[0;34m(\u001b[0m\u001b[0mtranscription\u001b[0m\u001b[0;34m)\u001b[0m\u001b[0;34m\u001b[0m\u001b[0;34m\u001b[0m\u001b[0m\n\u001b[1;32m      4\u001b[0m     \u001b[0maction_items\u001b[0m \u001b[0;34m=\u001b[0m \u001b[0maction_item_extraction\u001b[0m\u001b[0;34m(\u001b[0m\u001b[0mtranscription\u001b[0m\u001b[0;34m)\u001b[0m\u001b[0;34m\u001b[0m\u001b[0;34m\u001b[0m\u001b[0m\n\u001b[1;32m      5\u001b[0m     \u001b[0msentiment\u001b[0m \u001b[0;34m=\u001b[0m \u001b[0msentiment_analysis\u001b[0m\u001b[0;34m(\u001b[0m\u001b[0mtranscription\u001b[0m\u001b[0;34m)\u001b[0m\u001b[0;34m\u001b[0m\u001b[0;34m\u001b[0m\u001b[0m\n",
      "\u001b[0;31mNameError\u001b[0m: name 'abstract_summary_extraction' is not defined"
     ]
    }
   ],
   "source": [
    "meeting_minutes(text002)"
   ]
  },
  {
   "cell_type": "code",
   "execution_count": null,
   "metadata": {
    "id": "H9FemPr2rjQm"
   },
   "outputs": [],
   "source": [
    "def summarize(system, text):\n",
    "  import openai\n",
    "\n",
    "  response = openai.Completion.create(\n",
    "    model=\"gpt-4\",\n",
    "    prompt=system+\"\\n\\n\"+text,\n",
    "    temperature=0.7,\n",
    "    max_tokens=100,\n",
    "    top_p=1.0,\n",
    "    frequency_penalty=0.0,\n",
    "    presence_penalty=0.0\n",
    "  )\n",
    "  return print(response[\"choices\"][0][\"text\"])"
   ]
  }
 ],
 "metadata": {
  "colab": {
   "provenance": []
  },
  "kernelspec": {
   "display_name": "Python 3 (ipykernel)",
   "language": "python",
   "name": "python3"
  },
  "language_info": {
   "codemirror_mode": {
    "name": "ipython",
    "version": 3
   },
   "file_extension": ".py",
   "mimetype": "text/x-python",
   "name": "python",
   "nbconvert_exporter": "python",
   "pygments_lexer": "ipython3",
   "version": "3.11.4"
  }
 },
 "nbformat": 4,
 "nbformat_minor": 1
}
