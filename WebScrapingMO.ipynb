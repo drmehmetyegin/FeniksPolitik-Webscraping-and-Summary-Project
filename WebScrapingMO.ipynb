{
 "cells": [
  {
   "cell_type": "code",
   "execution_count": 54,
   "metadata": {
    "scrolled": true
   },
   "outputs": [],
   "source": [
    "import requests"
   ]
  },
  {
   "cell_type": "code",
   "execution_count": 55,
   "metadata": {},
   "outputs": [],
   "source": [
    "from bs4 import BeautifulSoup"
   ]
  },
  {
   "cell_type": "code",
   "execution_count": 56,
   "metadata": {},
   "outputs": [],
   "source": [
    "import pandas as pd"
   ]
  },
  {
   "cell_type": "code",
   "execution_count": 57,
   "metadata": {},
   "outputs": [],
   "source": [
    "url_list2=['https://www.sabah.com.tr/yazarlar/ovur/2023/12/01/chp-ile-iyi-partinin-ankara-pazarligi','https://www.sabah.com.tr/yazarlar/ovur/2023/12/02/ak-partiye-yarar-diye-para-getirmek-istemiyorlar','https://www.sabah.com.tr/yazarlar/ovur/2023/12/03/aksener-siyaseti-ve-listelerin-dolarla-satisi','https://www.sabah.com.tr/yazarlar/ovur/2023/12/05/iyi-partinin-hamlesi-chpyi-karistirdi','https://www.sabah.com.tr/yazarlar/ovur/2023/12/07/sira-chp-hedep-pazarliginda','https://www.sabah.com.tr/yazarlar/ovur/2023/12/09/baskan-erdogan-lula-sanchez-ve-attila-ilhan']"
   ]
  },
  {
   "cell_type": "code",
   "execution_count": 58,
   "metadata": {},
   "outputs": [
    {
     "name": "stdout",
     "output_type": "stream",
     "text": [
      "[['MAHMUT ÖVÜR', 'CHP ile İyi Parti’nin Ankara pazarlığı', '01 Aralık 2023', '\\nYine başa döndük. Ekranda beliren iki yüzü, CHP Genel Başkanı Özgür Özel ile İyi Parti Genel Başkanı Meral Akşener\\'i izlerken hiç şaşırmadım. Özel\\'in Akşener\\'in ayağına gitmesi ya da kapıda bizzat karşılamaması eleştirilse de şaşırtmadı. Asıl şaşırtıcı olan Akşener\\'in şu cümleyi kurmasıydı:\\n\"Bizim \\'iki siyasi parti olarak hiç değilse bazı yerlerde birlikte işbirliği yapabilir miyiz?\\' sorusunu, Genel İdare Kurulu\\'na tekrar götüreceğiz.\"\\r\\nİyi de o zaman aylardır sabah akşam \"Yerel seçimlere hür ve müstakil gireceğiz\" demenin anlamı neydi? Meydan okurcasına, \"CHP\\'nin yancısı olmayacağız\" diye bas bas bağırmanın, yeri göğü inletmenin manası neydi? Zaten bu seçimlerde ittifakı anlamlı kılan tek ve kritik il İstanbul\\'du. İmamoğlu için de bu karar yeter ve artar.\\r\\nO zaman \"81 ilde adayımızı çıkartacağız\" dedikten sonra tekrar Genel İdare Kurulu\\'na soracağız demek nasıl bir siyaset ve neye işaret?\\r\\nAnlaşılan GİK \"evet\" derse iş bitecek.\\r\\nYine kös kös dönüp HEDEP\\'le el ele vererek, \"çark etti\" diye suçladığı İmamoğlu ile \"çak\" yapacak. Ya da elini kaldırıp \"Yüzünde Rabbi yessir gördüm\", artık \"Bir oy İmamoğlu\\'na, bir oy Yavaş\\'a verin\" diyecek.\\r\\nSonra da seçim geçesi o meşhur komedi ikilisi sahne alıp o rezil, \"Aramızda kalsın, kazanıyoruz\" nakaratını tekrarlayacak.\\r\\nSiyaset bu kadar pespaye hâle düşürülmemeli.\\r\\nİşin en vahim tarafı, İyi Parti\\'de yaşananların ağa-maraba hikâyesini hatırlatması. Yolsuzluk ve taciz suçlamaları bir yana CHP ile ittifak ya da işbirliği kararı tekrar GİK\\'e sorulacaksa, neden onca insan İyi Parti\\'den istifa etti?\\r\\nDaha işin başında, CHP\\'yle pazarlık da yapılabilir, hatta kızıştırabilirdi de. Ama en azından siyaset bu kadar ucuzlatılmazdı.\\r\\nBütün bu olanları normal bir siyaset aklıyla açıklamak mümkün değil. Eğer gerçekten Akşener tekrar çark eder, yeni adayla \"işbirliği\"ne razı olursa bu kez 6 Mart\\'ta masaya dönüşünden çok daha vahim bir durum var demektir.\\r\\nBu yüzden gelinen nokta, sadece el yükseltme ve pazarlıkla açıklanamaz. Kulislerde öyle bir \"pazarlık\"tan da söz ediliyor. Denilen o ki, Akşener\\'e Mansur Yavaş\\'ın İyi Parti\\'den Ankara Büyükşehir Belediye Başkanı olması teklif edilmiş. Daha önce de yazdım, \"İstanbul CHP\\'nin, Ankara da İyi Parti\\'nin olsun\" pazarlığı vardı ve olabilirdi de. Bunu CHP taşıyabilir mi bilemem ama onların da eli mahkûm. Sadece İmamoğlu da değil, arkasındaki ulusal ve küresel güçler de bu ittifakın olmasında ısrarcı. Kaybetme korkusu hepsini sarmış durumda. Kulislerde bunun önüne geçmek için şeytanla işbirliği ve tehdit dâhil her şey yapılabilirmiş.\\r\\nAnlayacağınız, İyi Parti iyi durumda değil. Baksanıza, işin içine oğlu Fatih Akşener dâhil her şey karıştırılmış. Sanki içeriden ve dışarıdan aynı anda düğmeye basılmış gibi bir saldırı var. Onay verilmezse daha neler olacağını da kimse kestiremiyor.\\r\\nAcaba Akşener, izleyenlerin dışarıdan göremediği çok daha derin bir kuşatma ve korkutmayla mı karşı karşıya?\\nSon bir not: Konuştuğum İyi Partili bir yönetici, Akşener\\'in kararlı olduğunu, GİK\\'ten de \"müstakil aday\"a devam kararının çıkacağını söyledi.\\n'], ['MAHMUT ÖVÜR', '‘AK Parti’ye yarar diye para getirmek istemiyorlar’', '02 Aralık 2023, Cum', '\\nGündemde yerel seçim olsa da durdurulamayan hayat pahalılığı nedeniyle vatandaşın gündeminde ağırlıkla geçim var. Bu yüzden de bütün gözler, hükümetin yeni ekonomi politikasında. Hükümet, Cumhurbaşkanı Yardımcısı Cevdet Yılmaz, Maliye Bakanı Mehmet Şimşek ve Merkez Bankası Başkanı Hafize Gaye Erkan üçlüsünün yürüttüğü \"Orta Vadeli Program\"ı hayata geçirmek için yoğun çaba harcıyor.\\r\\nKüresel ve ulusal piyasalardan gelen veriler ve tepkiler de bir hayli olumlu. İlk sinyal büyüme rakamıyla geldi. Türkiye, 2023 yılı 3. çeyreğinde piyasaların beklentisinin üstünde yüzde 5.9 büyüdü.\\r\\nUluslararası kredi derecelendirme kuruluşu Standard&Poor\\'s, Türkiye\\'nin kredi notunu \"B\" olarak teyit ederken kredi notu görünümünü \"durağan\"dan \"pozitif\"e çevirdi. Büyüme rakamının hedefleriyle uyumlu olduğunu söyleyen Cumhurbaşkanı Yardımcısı Yılmaz, sokağın sesine kulak verdiklerini belirterek şöyle diyordu:\\n\"Halkımızın birinci gündemi ve önceliği neyse, AK Parti hükümetinin önceliği de odur. AK Parti\\'nin 20 yıllık bir performansı var. Geçmişle ölçülürse nasıl başardığı da görülür.\"\\r\\nBu başarı, son yıllarda yaşanan terör saldırılarına, küresel çatışma ve kuşatmalara, 6 Şubat 2023\\'te yaşanan dünyanın en yıkıcı depremine rağmen sürdü. Dahası buna rağmen son üç yılda dünyanın yüzde 7, Türkiye\\'nin ise yüzde 20 büyüdüğüne dikkat çeken Yılmaz, sözü yerel seçimlere getirerek şöyle diyordu:\\n\"Yerel seçim sürecine girdiğimiz şu günlerde birileri yatırım gelmediğini söylüyor. Aslında bir belirsizlik söz konusu değil. Yerel seçim, adı üzerinde yerel seçim ve hizmetle ilgili. Muhalefet herhalde ülkeyi genel seçim havasına sokmak istiyor. Bu doğru değil. Maalesef bazı finans çevrelerinde de böyle düşünenler var. AK Parti ve Cumhur İttifakı\\'na yarar diye para getirmek istemiyorlar. Bunlar sanıyorum \\'Yerel seçim geçsin, sonra para getiririz\\' diye düşünüyor. Bu doğru bir yaklaşım değil ve ben siyasi bir risk görmüyorum. Başta İstanbul ve Ankara olmak üzere de şehirlerimizde ciddi bir değişim yaşanacak.\"\\r\\nCumhurbaşkanı Yardımcısı Yılmaz, gerçek ekonomik verileri görmezden gelen muhalefetin ekonomi üzerinden yürüttüğü siyaseti de doğru bulmuyor. Tam da bu yüzden sabah akşam \"Ülke bitti\" siyaseti yapan muhalefetin özellikle sanayi yatırımı ve milli gelir konusunda verdiği rakamlar da inandırıcı değil.\\nYılmaz sanayi konusunda çok çarpıcı rakamlar veriyor. Sanayinin son 20 yılda 5.4 büyüdüğünü, milli gelirdeki payının yüzde 22.7\\'den 30.2\\'ye çıktığını, ihracatın da yüzde 90\\'ının sanayi ürünlerinden oluştuğunu söylüyor. Gelecek yıl Türkiye\\'nin 1 trilyon 100 milyar dolarlık bir büyüklüğe ulaşarak dünyanın 17\\'nci ekonomisi olacağını söyleyen Yılmaz, milli savunma sanayiiyle ilgili de dikkat çeken bir tespit yapıyor:\\n\"AK Parti döneminde savunma sanayiinde değişim değil, devrim oldu. Bu da Cumhurbaşkanı\\'mızın siyasi iradesiyle gerçekleşti. Yüzde 20\\'lerde olan yerlilik oranı bugün yüzde 80\\'lerde.\"\\n***\\n\\nTANJU ÖZCAN O SÖZÜNÜ UNUTTU MU?\\r\\nAtalarımız, \"Büyük lokma ye büyük söz söyleme\" demiş. Çabuk unuttuk; eski CHP Genel Başkanı Kemal Kılıçdaroğlu\\'nun 14 Mayıs seçimlerine giderken ana sloganı, \"Sana söz\"dü. \"Sana söz baharlar gelecek...\" diye çok söz verdi. Kaybettiği için de hiçbirini tutamadı tabii ki... Ama söz veren CHP\\'li sadece o değildi. Bakın Kılıçdaroğlu\\'na karşı yollara düşen, değişim diye meydan okuyan Bolu beyi Tanju Özcan, nasıl söz vermiş:\\r\\n\"Bakın şunu iddialı bir şekilde söylüyorum. Hiç hayatımda kıvırmadım. Eğer Sayın Erdoğan bir kez daha seçilirse 2023\\'te... Hasbelkader seçileceğine şu kadar inanmıyorum, seçilirse ben 2024 yılında seçilme şansım yüzde yüz bile olsa Bolu Belediye Başkanlığı\\'na adaylığımı koymayacağım.\"\\r\\nBakalım \"delikanlı siyasetçi\" Özcan sözünde duracak mı?\\n\\nBu köşe yazısını aşağıdaki linke tıklayarak sesli bir şekilde dinleyebilirsiniz\\nMahmut Övür | \\'AK Parti\\'ye yarar diye para getirmek istemiyorlar\\'\\n\\n \\n \\n'], ['MAHMUT ÖVÜR', 'Akşener siyaseti ve listelerin ‘dolarla’ satışı', '03 Aralık 2023,', '\\nGünlerdir medyada milyon dolarların döndüğü dolandırıcılık olayları konuşuluyor. Millet, güzellik salonu sahibi Dilan Polat\\'ın kurduğu saadet zinciri dolandırıcılığını \"O kadar da olmaz\" diye izlerken, \"uyanık\" bankacı Seçil Erzan\\'ın fon tuzağını öğrenince hayrete düştü. Meğer daha büyükleri varmış... Bavullarda taşınan milyon dolarlar, Arda Turan gibi borç alıp tamahkârlık yapan futbolcular, işadamları, bankacılar herkes işin içinde.\\r\\nAslında bu tür dolandırıcılar, yani Sülün Osman\\'lar da Raki\\'ler de onların \"Kunduzi\" dediği tamahkârlar da hep vardı. Oysa izleyenleri asıl hayrete düşürmesi gereken benzer şeylerin bugünlerde siyasette de olması. Düşünsenize, daha birkaç ay önce ülkeyi yönetmeye kalkan CHP ve İyi Parti\\'de parasal ilişkiler, iddialar, kaybolan paralar, taciz suçlamaları hiç bitmiyor.\\r\\nDoğrusu bu konuda İyi Parti birinciliği kimselere kaptırmış değil. Bu partinin 132 milyonunun kayıp olduğunu bizzat partinin eski Mali İşlerinden Sorumlu Genel Başkan Yardımcısı Ümit Dikbayır açıkladı. Sanki o göreve yeni gelmiş gibi... Partinin Genel Başkanı Meral Akşener de buna cevap vereyim derken, partisinde yaşanan taciz ve tecavüz olaylarını deşifre etti. Yetmedi, suçladıkları da eski defterleri açıp seçim öncesi 10 milyon dolarlara satılan milletvekili sıralarını gündeme taşıdı.\\r\\nSiyaseti kirleten bu tür iddialar hepimizi şaşırtsa da İyi Parti\\'de olması hiç şaşırtıcı değil. Siyasi tarih nasıl yazar bilemem ama Meral Akşener\\'in geçmişi ile bugün İyi Parti\\'de olanlar arasında ciddi bir bağ var. Siyasi yolculuğa başladığı DYP\\'de bile Akşener\\'in adı liste satışlarıyla anılıyordu. Bu konuyu geçmişte de birkaç kez yazdım. Her defasında da duymazdan geldi. Şimdi gelin 19 Haziran 2018 tarihli o yazıya gidelim ve bugün yaşananlar ile o gün yaşananlar arasındaki benzerliğe bakalım:\\r\\n\"Yıl 1999... DYP Genel Başkanı Tansu Çiller\\'in başbakanlığı, Meral Akşener\\'in de bakanlığı geride kalmış. Türkiye, 18 Nisan\\'da yapılacak genel seçime hazırlanıyor. DYP\\'nin inişe geçtiği ama hâlâ umutların kesilmediği bir dönem... Aday belirleme konusunda Adana\\'da çok ilginç bir olay yaşanır. DYP\\'de önseçim yapılır ve milletvekili listesi şöyle oluşur: İlk sıra Ali Antepüzümü, ikinci sıra Halit Dağlı, onları Durmuş Ali ve Ramazan Ağar izler. Fakat Genel Başkan Çiller devreye girer ve bu liste değiştirilir. Yeni liste şöyle oluşur: İlk sıra Halit Dağlı, ikinci sırada örgütün hiç tanımadığı sürpriz bir isim, Nesime Aysel Sabuncu ve diğerleri var.\\r\\nBu listeyi de teşkilat kabul etmez ve kıyamet kopar. Ama asıl gerginlik şu iddia nedeniyle yaşanır: İşkadını Nesime Aysel Sabuncu\\'nun, DYP\\'ye 5 milyon dolar vererek listeye girdiği söylenir. Parti çalkalanır. Başka iller de kazan kaldırır ve liste bir daha değişir. Bu kez listede Sabuncu yoktur. Bu da Sabuncu\\'yu harekete geçir. Sabuncu, listeye girmek için verdiği parayı geri ister. Buna DYP Genel Başkanı Tansu Çiller\\'in şu cevabı verdiği söylenir: \\'Parti adına alınan 3 milyon doları geri verelim, bu olayı kapatalım.\\'\\r\\nAma işkadını Sabuncu, razı olmaz çünkü şöyle der: \\'Ben 5 milyon dolar verdim, paramın hepsini istiyorum.\\'\\r\\nDYP bir kez daha çalkalanır. Acaba iddia edilen o 2 milyonu kim aldı? İşte bu soruyu bugün de sormamıza yol açan isim burada devreye giriyor. DYP\\'lilerin iddiasına göre o isim, Sabuncu\\'yu listeye aldıran Meral Akşener\\'di... Bu yüzden parti içinde dikkatler ona yönelecek ve derin tartışmalar yaşanacaktı.\"\\r\\nNe hikmetse yıllar geçse de işin içindeki isim ve \"dolarla milletvekili sırasını satma\" yöntemi değişmez. Ne dersiniz, \"hayrete\" düştünüz mü?\\n'], ['MAHMUT ÖVÜR', 'İyi Parti’nin hamlesi CHP’yi karıştırdı', '05 Aralık 2023', '\\nNihayet İyi Parti kararını verdi. Yerel seçimlere tek başına ve \"müstakil\" girecek. Bu durumda gözler ister istemez CHP\\'ye dönecek. CHP\\'nin yeni yönetimi de sadece İyi Parti ve HEDEP\\'le ittifak yapıp yapamama sorunu yaşamıyor. \"Ablama ne vereyim\" ya da \"HEDEP ne isterse?\" sorunundan çok daha kritik sorunları var. Hem de bizzat CHP\\'nin geleceğiyle ilgili ve her an krize dönüşebilecek sorunlar.\\r\\nİlki CHP Genel Başkanı Özgür Özel ile onu \"genel başkan yapan\" İBB Başkanı Ekrem İmamoğlu arasındaki ilişkinin nasıl seyredeceğiyle ilgili. Kurultayın kazanılmasıyla başlayan \"eşbaşkanlık\" değerlendirmeleri bunun ilk işaretiydi.\\r\\nCHP\\'lilere göre, ortada siyasi bir fark olmasa da partiyi yönetme açısından tıpkı seçim öncesi yaşanan \"Kemalci- Ekremci\" çatışması gibi yeni bir \"Özgürcü-Ekremci\" çatışması kaçınılmaz.\\r\\nBunun ilk ipuçları da ittifak görüşmelerinde ve adayların belirlenmesinde ortaya çıktı. Her iki süreçte de ilk adresin İmamoğlu olması dikkat çekti.\\r\\nGazeteciler de doğal olarak şu soruyu Özel\\'e sordular: \"İBB Başkanı Ekrem İmamoğlu\\'nun adaylık süreciyle ilgili Genel Merkez\\'e müdahalelerde bulunduğu\" doğru mu?\\r\\nÖzel\\'in cevabı bir hayli manidar:\\n\"Ama tabii İstanbul ile ilgili adaylıklarda, İstanbul özelinde İl Başkanı, Ekrem Bey, Genel Merkez ile hep birlikte böyle oturulup bakılacaktır meseleye. İstanbul dışındakilerle zaten İstanbul Büyükşehir\\'in bir ilgisi yok.\"\\r\\nAslında Özel, ustalıkla geçiştirebileceği bu soruya, üst kapalı falan da değil çok açık bir, \"İstanbul\\'la sınırlı\" mesajı verdi.\\r\\nPeki Parti Meclisi\\'nde gücü elinde tutan, önseçim yaptırmayan İmamoğlu bu \"sınır\"a razı olur mu?\\r\\nOlmayacağını adaylar açıklandığında göreceğiz.\\r\\nGelelim Özel\\'in önündeki ikinci açmaza, yani parti içindeki kırılma ve kırgınlıklara... Özellikle Alevilerde derin bir kırılma yaşandığı herkesin malumu. Buna aday yapılmayacak belediye başkanlarını da eklemek gerekiyor. Bu açıdan Özelİmamoğlu ekibinin Türkiye genelinde işleri hiç kolay değil. Siyaset üretip umut veremedikleri için sürekli birilerine makam ve mevki vermek durumundalar. Şimdi bu sıraya biraz da Alevileri kaçırmamak kaygısıyla Kılıçdaroğlu\\'na destek veren çok sayıda belediye başkanı da girdi.\\r\\nAcaba Özel ve İmamoğlu o başkanlardan kaçını aday gösterecek?\\r\\nBu hesaba daha önce CHP\\'ye \"hayır\" diyeceğini yazdığım İyi Parti katılmamış görünüyor ama HEDEP\\'in ne isteyeceği, neyle yetineceği belirsiz. Açık ittifakla mı yetinecekler yoksa İstanbul\\'dan Esenyurt\\'u veya İzmir\\'den Narlıdere\\'yi mi isteyecekler ya da hesapta olmayan sürpriz bir birleşme mi göreceğiz belli değil.\\r\\nDurum açıkça Kılıçdaroğlu\\'nun önüne gelene taviz veren, cumhurbaşkanlığı yardımcılığı ya da bakanlık dağıtan tavrına benziyor. Araya \"özel protokol\" de sokarlarsa hiç şaşırmam, ne de olsa onun talebeleri!\\n***\\n\\n\\'CHP\\'Yİ İMAMOĞLU\\'NA YEDİRMEYİZ\\' MESAJI\\r\\nİstanbul Bakırköy\\'ün CHP\\'li Belediye Başkanı Bülent Kerimoğlu, İstanbul Büyükşehir Belediye Başkan adayı olmak için başvuru yaptı. Birileri \"Zaten şansı yok\" diyebilir ama bu çıkışın arkasında siyasi bir akıl var. Artık yeni CHP yönetimi de parti içi muhalefetle karşı karşıya. Kerimoğlu, yeni muhalefetin hedefine de İmamoğlu ve İyi Parti\\'yi koydu:\\n\"Biz artık birtakım partilerin sözüm ona birtakım yöneticilerine ihale vermek, daire başkanlığı vermek, bürokratik kadro vermek zorunda değiliz. Çünkü Cumhuriyet Halk Partisi, bu ülkenin kurucu ve birleştirici partisidir. Bizler ittifakı yapacaksak, halkımızla yaparız. Bundan sonra Cumhuriyet Halk Partisi\\'ne şantaj yapan, tehdit eden, üstelik de seçim kaybettiğimiz gece kahkaha atanlarla bir daha asla ittifak yapmayacağız.\"\\r\\nKerimoğlu\\'nun çıkışı \"CHP\\'yi yedirmeyiz mesajı\" olarak yorumlandı.\\n'], ['MAHMUT ÖVÜR', 'Sıra CHP-HEDEP pazarlığında', '07 Aralık 2023, Pe', '\\nYerel seçimlerde İyi Parti\\'nin CHP\\'ye \"hayır\" demesi gözleri HEDEP\\'e çevirdi. Gerçi hâlâ şüpheler var ama önceki gün Uğur Poyraz\\'ın, \"CHP, yeni bir teklifle gelirse ne yaparız?\" sorusu üzerine Meral Akşener\\'in, \"O defter kapandı\" demesi sanki bu kez daha kararlı olduklarını gösteriyor.\\r\\nBu durum doğal olarak CHP-HEDEP ilişkisini daha öne çıkartıyor. Hatta kuracakları ilişkiyi gizli kapaklı yapmayı zorlaştırıyor. Zaten CHP Genel Başkanı Özgür Özel\\'in de öyle bir derdinin olmadığı, fırsat bulduğu her anda HEDEP\\'lilere açık çek vermesinden, İyi Parti\\'yle görüşmeye rağmen sürekli selam yollamasından belli.\\r\\nAncak buna rağmen HEDEP\\'in içi de kaynıyor ve farklı ses çıkaran, farklı hesap yapanlar da var. Bunu şunun için söylüyorum: Hiç pazarlık yapmadan destek vermek isteyenler de, İyi Parti gibi \"hayır\" demek isteyenler de var. Son dönemde HEDEP\\'lilerin verdiği demeçler bu nedenle kafalarda soru işareti oluşturdu. Büyük ihtimalle onlar da pazarlık gücünü artırmanın derdinde. Biri CHP ve AK Parti\\'ye eşit düzeyde bakarken öteki pazarlık ihtimalini önceleyen demeçler veriyor, bir başkası ise CHP\\'yi kollayan açıklamalar yapıyor.\\r\\nMesela siyasi temsil açısından eşbaşkanlar kadar etkili olduğu söylenen HEDEP İstanbul İl Başkanı Murat Kalmaz, \"AK Parti\\'ye de CHP\\'ye de kapımız açık\" derken, eşgenel başkanlardan Tuncer Bakırhan direkt CHP\\'ye seslenerek, \"Batı\\'da ittifak yapabiliriz\" diyordu.\\r\\nAma en şaşırtıcı açıklama tam da İyi Parti\\'nin GİK\\'i toplayacağı ve CHP\\'ye ilişkin kararı vereceği günde HEDEP Sözcüsü Ayşegül Doğan\\'dan geldi. Doğan, şöyle diyordu:\\n\"Türkiye\\'nin her yerinde yerel seçimlere adaylarımızla girme eğilimi ortaya çıktı. Bu karar MYK önerisi olarak parti meclisinde değerlendirilecek.\"\\r\\nDoğrusu böyle bir açıklamanın tam da o gün yapılması sadece manidar değil, siyaseten üzerinde \"çalışılmış\" ve CHP-HEDEP arasında kurulmak istenen yeni \"Özel\" ilişkiye işaret ediyordu. Zaten bu da gözlerden kaçmadı ki birçok siyasi yorumcu şu tespiti yaptı:\\n\"HEDEP bu çıkışıyla İyi Parti içindeki CHP yanlılarının elini güçlendirmek istedi.\"\\r\\nHEDEP içinden bu kadar farklı sesin çıkması aslında uzun süredir devam eden \"Apocular\" ile \"Selocusolcu\" lar arasındaki sert hesaplaşmaya dayanıyor. Geri plana çekilse de Demirtaş ve Kandil hattının hâlâ CHP\\'yle ittifaka sıcak baktığı, diğer tarafın ise bakmadığı söyleniyor.\\r\\nBu iç kavganın nasıl sonuçlanacağı da henüz belli değil. Burada kritik olan CHP\\'nin yeni yönetiminin bu sürece nasıl bakacağı ve nasıl yöneteceği... HEDEP\\'le açık ittifak mı yapacaklar yoksa yine işi kapalı kapılar arkasında pazarlıklarla mı götürecekler?\\r\\nSiyasi kulislerde İmamoğlu\\'nun \"son şansı\" için her yolu mübah sayacağı, riski de Özgür Özel\\'in gönüllü üstleneceği konuşuluyor. Hatta ortak aday çıkarma ihtimalinden bile söz ediliyor. Böylece CHP geleneği tıpkı 90\\'ların başında SHPDEP ittifakında olduğu gibi bir kez daha PKK terörünü hesaba katmadan şiddeti makulleştiren bir rol üstlenmiş olacak.\\r\\nHem de ABD-PKK ilişkisinin ayyuka çıktığı ve çevremizi ateş çemberine çevirdiği bir zaman diliminde... Ortada terörden ve \"silahlara veda\"dan hiç söz etmeden CHP seçmeni, bedeli ağır bu yükü bir daha taşır mı dersiniz?\\n'], ['MAHMUT ÖVÜR', 'Başkan Erdoğan, Lula, Sanchez ve Attila İlhan', '09 Aralık 2023, Cum', '\\nSadece Filistinliler, sadece İslam dünyası ya da sadece Türkiye değil, bütün dünya Gazze\\'de yaşanan İsrail barbarlığıyla tarihi bir gerçeği, İsrail\\'in arkasındaki Batı gerçeğini gördü. Hatta dünya, yakın tarihte Bosna\\'dan Irak\\'a, Libya\\'dan Afganistan\\'a dünyanın neresinde bir işgal, bir kaos varsa ya da nerede bir darbe oluyorsa arkasında büyük oranda Batı yalanları ve vahşeti olduğunu az çok biliyordu. Ama ilk kez Gazze vahşetiyle, Batı\\'nın ikiyüzlülüğü, sömürgeci zihniyeti kendini ele verdi.\\r\\nBu daha merhametli bir dünya için yeni bir dönüm noktası... Ne yazık ki hâlâ bu gerçeği görmeyen dünyalı siyasetçiler ve aydınlar var. Onlara rağmen sayıları şimdilik az da olsa, Başkan Erdoğan, Brezilya Cumhurbaşkanı Lula ve İspanya Başbakan Pedro Sanchez gibi gerçeği gören ve Batılı emperyalistlerin yüzüne haykıran siyasetçiler de bulunuyor.\\r\\nBu küresel isyanın ilk işaretini veren Başkan Erdoğan önceki gün öyle bir konuşma yaptı ki hem bizim yakın tarihimiz hem de mazlum dünya açısından bir manifesto niteliğindeydi. Özellikle kendilerini \"sol\" diye tanımlayan ama İsrail vahşeti karşısında susan Batıcılar için söyledikleri ders niteliğindeydi:\\n\\nBATI\\'NIN TARİHİ GADDARLIKTIR\\r\\n\"Gazze\\'de öldürülen binlerce çocuğun, kadının, yaşlının, masumun yanında yer almak için öyle çok derin, felsefi gerekçeler aramaya gerek de yoktur. Tolstoy\\'un \\'Bir insan acı duyuyorsa canlıdır, başkasının acısını duyuyorsa insandır\\' sözünde işaret ettiği gibi, Gazze halkına uygulanan zulme karşı çıkmak için sadece insan olmak yeterlidir.\\r\\nEvet, İsrailli yöneticiler er ya da geç insanlık mahkemesinde yargılanacak, hak ettikleri cezaları çekecek, tarihin çöplüğündeki yerlerini alacaklardır. Daha önemlisi, Netanyahu yönetimine bu cüreti veren, işlediği insanlık suçlarının üzerini örten Batılı ülkeler de aynı akıbeti paylaşacaklardır. Şayet Amerika ve Avrupa ülkeleri İsrail\\'e sınırsız siyasi, askeri ve ekonomik destek vermemiş olsa, bu terör devletinin yöneticileri böylesine pervasız ve acımasız hareket edemezdi. Esasen Batı\\'nın tarihi bu bakımdan oldukça karanlıktır, oldukça çirkindir, oldukça vahşi, gaddarlık örnekleriyle doludur.\\nDünyayı asırlardır Batı değerleri safsatasıyla oyalayanlar, sadece kendi güvenlik ve refahları dışında hiçbir değerleri olmadığını defalarca ispatlamışlardır.\\nSadece barbarlık, gerçek anlamda Batı\\'ya ait bir vasıftır. Haçlı Seferlerinde 4 milyon, sömürgelerinde 50 milyon, birinci ve ikinci dünya savaşlarında 70 milyon insanı katleden Batı, hep bu vasfını sergiliyordu.\\r\\nGazze\\'deki vahşete ortak olan Batı, çalıp çırptığı tüm değerleri bir kenara bırakıp yine sadece mayasındaki barbarlık dürtüsüyle hareket etmektedir. İsrail\\'e en küçük bir söz söyletmeyip Gazze\\'de yapılanları dile getirenlerin üzerine hoyratça giden Batı yönetimleri, bireysel düzlemde insan olma, kurumsal düzlemde devlet olma özelliklerini kaybetmişlerdir.\"\\n\\nBAKAR GÖRMEZ SOLCULARIMIZ\\r\\nBatı\\'nın Başkan Erdoğan\\'ı \"diktatör\", içerideki uzantılarının da \"sağcı- otoriter\" diye düşmanlaştırmalarına belki de en iyi cevabı Sol Kemalist yazarlardan rahmetli Attila İlhan tam 46 yıl önce vermiş:\\n\"Demek ki, nasıl Türkiye\\'nin siyasal huzursuzluk ve istikrarsızlıktan kurtulmayışı hınzır komünistlerin marifeti değilse, iktidardaki sağcı hükümetlerin emperyalist sistemin başıyla ilişkileri de bazı bakar görmez solcularımızın sandıkları gibi yağla bal değilmiş. Öteden beri yazar söylerim, iş sağcılık, solculuk işi olmaktan öte bir iştir, iş Türkiye\\'nin kaderi, bağımsızlığı, geleceğiyle ilgilidir.\"\\n']]\n"
     ]
    }
   ],
   "source": [
    "rows_mo=[]\n",
    "for i in url_list2:\n",
    "    response = requests.get(i)\n",
    "    response = response.content\n",
    "    soup = BeautifulSoup(response, 'html.parser')\n",
    "    author=soup.find('strong', class_='postTitle').text\n",
    "    title=soup.find('h1').text\n",
    "    date=soup.find('span', class_='postInfo').text[:-6]\n",
    "    text=soup.find('div',class_='newsBox').text\n",
    "    rows_mo.append([author,title, date, text])\n",
    "print(rows_mo) "
   ]
  },
  {
   "cell_type": "code",
   "execution_count": 59,
   "metadata": {},
   "outputs": [],
   "source": [
    "df = pd.DataFrame(rows_mo, columns=['author', 'title', 'date','text'])\n",
    "df.to_csv('rows_mo.csv')"
   ]
  },
  {
   "cell_type": "code",
   "execution_count": 60,
   "metadata": {},
   "outputs": [
    {
     "data": {
      "text/html": [
       "<div>\n",
       "<style scoped>\n",
       "    .dataframe tbody tr th:only-of-type {\n",
       "        vertical-align: middle;\n",
       "    }\n",
       "\n",
       "    .dataframe tbody tr th {\n",
       "        vertical-align: top;\n",
       "    }\n",
       "\n",
       "    .dataframe thead th {\n",
       "        text-align: right;\n",
       "    }\n",
       "</style>\n",
       "<table border=\"1\" class=\"dataframe\">\n",
       "  <thead>\n",
       "    <tr style=\"text-align: right;\">\n",
       "      <th></th>\n",
       "      <th>Unnamed: 0</th>\n",
       "      <th>author</th>\n",
       "      <th>title</th>\n",
       "      <th>date</th>\n",
       "      <th>text</th>\n",
       "    </tr>\n",
       "  </thead>\n",
       "  <tbody>\n",
       "    <tr>\n",
       "      <th>0</th>\n",
       "      <td>0</td>\n",
       "      <td>MAHMUT ÖVÜR</td>\n",
       "      <td>CHP ile İyi Parti’nin Ankara pazarlığı</td>\n",
       "      <td>01 Aralık 2023</td>\n",
       "      <td>\\nYine başa döndük. Ekranda beliren iki yüzü, ...</td>\n",
       "    </tr>\n",
       "    <tr>\n",
       "      <th>1</th>\n",
       "      <td>1</td>\n",
       "      <td>MAHMUT ÖVÜR</td>\n",
       "      <td>‘AK Parti’ye yarar diye para getirmek istemiyo...</td>\n",
       "      <td>02 Aralık 2023, Cum</td>\n",
       "      <td>\\nGündemde yerel seçim olsa da durdurulamayan ...</td>\n",
       "    </tr>\n",
       "    <tr>\n",
       "      <th>2</th>\n",
       "      <td>2</td>\n",
       "      <td>MAHMUT ÖVÜR</td>\n",
       "      <td>Akşener siyaseti ve listelerin ‘dolarla’ satışı</td>\n",
       "      <td>03 Aralık 2023,</td>\n",
       "      <td>\\nGünlerdir medyada milyon dolarların döndüğü ...</td>\n",
       "    </tr>\n",
       "    <tr>\n",
       "      <th>3</th>\n",
       "      <td>3</td>\n",
       "      <td>MAHMUT ÖVÜR</td>\n",
       "      <td>İyi Parti’nin hamlesi CHP’yi karıştırdı</td>\n",
       "      <td>05 Aralık 2023</td>\n",
       "      <td>\\nNihayet İyi Parti kararını verdi. Yerel seçi...</td>\n",
       "    </tr>\n",
       "    <tr>\n",
       "      <th>4</th>\n",
       "      <td>4</td>\n",
       "      <td>MAHMUT ÖVÜR</td>\n",
       "      <td>Sıra CHP-HEDEP pazarlığında</td>\n",
       "      <td>07 Aralık 2023, Pe</td>\n",
       "      <td>\\nYerel seçimlerde İyi Parti'nin CHP'ye \"hayır...</td>\n",
       "    </tr>\n",
       "    <tr>\n",
       "      <th>5</th>\n",
       "      <td>5</td>\n",
       "      <td>MAHMUT ÖVÜR</td>\n",
       "      <td>Başkan Erdoğan, Lula, Sanchez ve Attila İlhan</td>\n",
       "      <td>09 Aralık 2023, Cum</td>\n",
       "      <td>\\nSadece Filistinliler, sadece İslam dünyası y...</td>\n",
       "    </tr>\n",
       "  </tbody>\n",
       "</table>\n",
       "</div>"
      ],
      "text/plain": [
       "   Unnamed: 0       author                                              title  \\\n",
       "0           0  MAHMUT ÖVÜR             CHP ile İyi Parti’nin Ankara pazarlığı   \n",
       "1           1  MAHMUT ÖVÜR  ‘AK Parti’ye yarar diye para getirmek istemiyo...   \n",
       "2           2  MAHMUT ÖVÜR    Akşener siyaseti ve listelerin ‘dolarla’ satışı   \n",
       "3           3  MAHMUT ÖVÜR            İyi Parti’nin hamlesi CHP’yi karıştırdı   \n",
       "4           4  MAHMUT ÖVÜR                        Sıra CHP-HEDEP pazarlığında   \n",
       "5           5  MAHMUT ÖVÜR      Başkan Erdoğan, Lula, Sanchez ve Attila İlhan   \n",
       "\n",
       "                  date                                               text  \n",
       "0       01 Aralık 2023  \\nYine başa döndük. Ekranda beliren iki yüzü, ...  \n",
       "1  02 Aralık 2023, Cum  \\nGündemde yerel seçim olsa da durdurulamayan ...  \n",
       "2      03 Aralık 2023,  \\nGünlerdir medyada milyon dolarların döndüğü ...  \n",
       "3       05 Aralık 2023  \\nNihayet İyi Parti kararını verdi. Yerel seçi...  \n",
       "4   07 Aralık 2023, Pe  \\nYerel seçimlerde İyi Parti'nin CHP'ye \"hayır...  \n",
       "5  09 Aralık 2023, Cum  \\nSadece Filistinliler, sadece İslam dünyası y...  "
      ]
     },
     "execution_count": 60,
     "metadata": {},
     "output_type": "execute_result"
    }
   ],
   "source": [
    "df=pd.read_csv('rows_mo.csv')\n",
    "df.head(6)"
   ]
  },
  {
   "cell_type": "code",
   "execution_count": 34,
   "metadata": {},
   "outputs": [],
   "source": [
    "url='https://www.sabah.com.tr/yazarlar/melihaltinok/2023/12/08/johnsonin-ozru-kabahatinden-buyuk'\n",
    "response = requests.get(url)\n",
    "response = response.content\n",
    "soup = BeautifulSoup(response, 'html.parser')"
   ]
  },
  {
   "cell_type": "code",
   "execution_count": 36,
   "metadata": {},
   "outputs": [
    {
     "data": {
      "text/plain": [
       "'MELİH ALTINOK'"
      ]
     },
     "execution_count": 36,
     "metadata": {},
     "output_type": "execute_result"
    }
   ],
   "source": [
    "author=soup.find('strong', class_='postTitle').text\n",
    "author"
   ]
  },
  {
   "cell_type": "code",
   "execution_count": 37,
   "metadata": {},
   "outputs": [
    {
     "data": {
      "text/plain": [
       "'Johnson’ın özrü kabahatinden büyük'"
      ]
     },
     "execution_count": 37,
     "metadata": {},
     "output_type": "execute_result"
    }
   ],
   "source": [
    "title=soup.find('h1').text\n",
    "title"
   ]
  },
  {
   "cell_type": "code",
   "execution_count": 38,
   "metadata": {},
   "outputs": [
    {
     "data": {
      "text/plain": [
       "'08 Aralık 2023'"
      ]
     },
     "execution_count": 38,
     "metadata": {},
     "output_type": "execute_result"
    }
   ],
   "source": [
    "date=soup.find('span', class_='postInfo').text[:-6]\n",
    "date"
   ]
  },
  {
   "cell_type": "code",
   "execution_count": 39,
   "metadata": {},
   "outputs": [
    {
     "data": {
      "text/plain": [
       "'\\nİngiltere\\'nin eski Başbakanı Boris Johnson, dün halkından pandemi politikaları için özür diliyordu.\\r\\nYok, serbest piyasanın piri Adam Smith\\'in memleketinde piyasalara müdahale ettiği, aşırı tedbirlerle ticareti sınırlandırdığı, ekonomiyi mahvettiği için değil. Özrünün dayatmalarla, yasaklarla, evrensel insan haklarını ihlal etmesiyle de alakası yok.\\r\\nSabık başbakan, meğer Kovid- 19\\'un Britanya için \"tam bir felaket\" olacağını zamanında fark edemediği için çok pişmanmış.\\r\\nBayram değil seyran değil nereden icap ettiyse?\\r\\nKendisinin, pandemi tedbirlerine uymayacağını açıkladıktan hemen sonra müstakbel Kral Charles\\'la birlikte \"mevsimsel gribe\" yakalandığını hatırlıyoruz.\\n\\n\\n\\r\\n70 milyonluk ülkede herkesten önce, ıssız taşradaki şatolarda yaşayan, en sıkı izolasyon tedbirleriyle korunan 1 ve 2 numaranın koronaya yakalanması dünyayı şaşırmıştı.\\r\\nArdından Johnson iyileşmeyi beklemeden, ağzında maskesi olduğu hâlde kameraların karşısına geçmişti. Kraliçe\\'nin parlamentodaki nazik veto desteği sayesinde çıkardığı Brexit kararıyla karşısına aldığı küreselcilere adeta \"pes\" diyordu.\\r\\nRadikal kararından radikal bir şekilde dönmüştü. \"Aşıyı da dayatacağım, maskeyi de... Kapanma tedbirlerini, tedavi protokollerini DSÖ\\'ye devredeceğim\" diyerek nedamet getiriyordu.\\r\\nGelin görün ki işe yaramadı. Koltuğunu kaybetti.\\r\\nİngiltere\\'de o gündür bugündür dikiş tutmuyor. Kaçıncı başbakanları sayamadık. Basında \"Buzdolabındaki marul bile başbakanlarımızdan daha uzun dayanıyor\" geyikleri çevriliyor.\\r\\nAnlıyoruz, Johnson da hâlâ siyasetteki iddiasını kaybetmemiş. Bir şans daha istiyor. Normaldir.\\r\\nNe var ki bunu zamanında kendisini başbakan seçen İngiliz halkından değil, başını yiyenlerden istiyor.\\r\\nHâliyle de talep ettiği şey artık İngiltere\\'nin iktidarı değil sömürge valiliği koltuğu.\\r\\nÖyle ya adamlar zaten İngiltere\\'ye, kökü Hindistan\\'ın sömürge soylularına dayanan bir yediemin atadılar. AB\\'nin sığ limanından demir alıp üçüncü yol okyanusuna yelken açmaya cüret eden İngiltere\\'nin yeniden entegrasyonu projesini bizzat kendi adamlarıyla yürütüyorlar.\\r\\nAli Kemal\\'in torunu Boris Bey\\'in daha fazla sadakat göstereceğine neden inansınlar ki?\\r\\nSizce de \"Üzerinde güneş batmayan imparatorluk\" için acıklı, bağımsızlığını arayan tüm ulus devletler içinse ibretlik bir akıbet değil mi?\\n***\\n\\nAĞANIN MALI ÇIKAR UŞAĞIN CANI\\r\\nİyi Parti\\'nin yerel seçimlere bağımsız girme kararını açıklamasının ardından, bağımsız gazeteci pozlarıyla tanıdığımız CHP\\'li arzuhalcileri izliyor musunuz?\\r\\nAçık açık köşelerinden İyi Partili siyasetçileri tehdit ediyorlar. Seçilmiş siyasilere \"Trol\" diyorlar.\\r\\nSukutuhayale uğrayan CHP ve belediye başkan adayları bile, ekranda \"Bana giren çıkan yok\" diye ağzını bozan gazeteciler kadar sinirli görünmüyorlar.\\n\\n\\n\\r\\nEvet, bir süredir bu hâldeler. Seçim öncesi de Kemal Bey\\'i terbiyesizce hırpalıyorlardı. O çok sevdikleri tarafsızlık numarasını bile yapamayacak kadar kontrolü kaybettiler.\\r\\nSizce neden?\\n\"İktidar hayalleri suya düştü, belediye mamaları da kesilecek ya, amatörleşmeleri ondan\" diyoruz, kızıyorlar.\\r\\n\"Peki neden o hâlde?\" diye ısrar ediyoruz.\\r\\n\"CHP\\'nin, muhalefetin iyiliği için\" diyorlar.\\r\\nAman, \"Peki ya iktidar taraftarlarının iyiliği ne olacak?\" diye sormayın.\\r\\n\"Yandaş\" derler.\\r\\nBiz bu uşaklarla ne yapacağız?\\n***\\n\\nBÜYÜKERŞEN\\'İN SUÇU NE?\\r\\nHerkes Eskişehir Büyükşehir Belediye Başkanı Yılmaz Büyükerşen\\'in yeniden aday gösterilmesini eleştiriyor.\\n86 yaşında olan Büyükerşen ise \"İnsan kendisini hissettiği yaşta sayar. Kendimi hiçbir zaman yaşlı hissetmedim\" diyor ve devam ediyor:\\r\\n\"1999\\'da siyasete girdim. Artan oy oranıyla 5 dönem seçimi kazandım. Son seçimde oy oranım yüzde 52.8, partimizin Eskişehir\\'de genelde oyu yüzde 25-30 arasında oynar. Türkiye\\'de muhalefet partileri içinde oy yüzdesi en yüksek olanlardan birisiyim.\"\\n\\n\\n\\r\\nBüyükerşen gayet dinç görünüyor. Yaşam enerjisini çalışmaktan aldığı ortada. Eleştirilere rağmen son tahlilde de Eskişehir halkını ikna etmeyi, sandıktan çıkmayı başarıyor. Kim ne diyebilir?\\r\\nBüyükerşen\\'in yerinde olsam, \"Söz, deneyimimi acemi rakiplerimin aleyhine kullanmayacağım\" der, güler geçerim.\\r\\nGerisini, genç olduğu hâlde bir ihtiyarı deviremeyen rakipleri düşünsün.\\n'"
      ]
     },
     "execution_count": 39,
     "metadata": {},
     "output_type": "execute_result"
    }
   ],
   "source": [
    "text=soup.find('div',class_='newsBox').text\n",
    "text\n"
   ]
  }
 ],
 "metadata": {
  "colab": {
   "provenance": []
  },
  "kernelspec": {
   "display_name": "Python 3 (ipykernel)",
   "language": "python",
   "name": "python3"
  },
  "language_info": {
   "codemirror_mode": {
    "name": "ipython",
    "version": 3
   },
   "file_extension": ".py",
   "mimetype": "text/x-python",
   "name": "python",
   "nbconvert_exporter": "python",
   "pygments_lexer": "ipython3",
   "version": "3.11.4"
  }
 },
 "nbformat": 4,
 "nbformat_minor": 1
}
