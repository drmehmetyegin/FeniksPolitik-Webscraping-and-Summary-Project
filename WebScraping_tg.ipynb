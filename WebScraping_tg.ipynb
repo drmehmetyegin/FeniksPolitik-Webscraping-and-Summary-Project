{
 "cells": [
  {
   "cell_type": "code",
   "execution_count": 74,
   "metadata": {
    "scrolled": true
   },
   "outputs": [],
   "source": [
    "import requests"
   ]
  },
  {
   "cell_type": "code",
   "execution_count": 75,
   "metadata": {},
   "outputs": [],
   "source": [
    "from bs4 import BeautifulSoup"
   ]
  },
  {
   "cell_type": "code",
   "execution_count": 76,
   "metadata": {},
   "outputs": [],
   "source": [
    "import pandas as pd"
   ]
  },
  {
   "cell_type": "code",
   "execution_count": 77,
   "metadata": {},
   "outputs": [],
   "source": [
    "url_list4=['https://www.aksam.com.tr/yazarlar/turgay-guler/iyi-partiyi-doviz-burolariyla-yola-getirmek/haber-1426427', 'https://www.aksam.com.tr/yazarlar/turgay-guler/inanilmaz/haber-1426101','https://www.aksam.com.tr/yazarlar/kurtulus-tayiz/aksener-ve-siyasi-harakiri/haber-1425012','https://www.aksam.com.tr/yazarlar/kurtulus-tayiz/kara-para-beyaz-soygun/haber-1425809','https://www.aksam.com.tr/yazarlar/kurtulus-tayiz/aksenerin-intikami/haber-1426428','https://www.aksam.com.tr/yazarlar/kurtulus-tayiz/ak-partinin-istanbul-adayi/haber-1427093','https://www.aksam.com.tr/yazarlar/hikmet-genc/hedeppkk-ile-idare-edin-artik/haber-1427414','https://www.aksam.com.tr/yazarlar/hikmet-genc/o-iki-kriter-varsa-soykirim-mesrulasirmis/haber-1426422','https://www.aksam.com.tr/yazarlar/hikmet-genc/iyi-polis-kotu-polisi-oynamaya-basladilar/haber-1425805','https://www.aksam.com.tr/yazarlar/hikmet-genc/hic-degismeyen-chphedep-tezkere-kardesligi/haber-1425314']"
   ]
  },
  {
   "cell_type": "code",
   "execution_count": 88,
   "metadata": {},
   "outputs": [
    {
     "name": "stdout",
     "output_type": "stream",
     "text": [
      "[['Turgay Güler', \"İYİ Parti'yi döviz bürolarıyla yola getirmek\", '6 Aralýk 2023', \"\\nÖnce Pelin  Batu'nun ismi geçiyordu. Yazmıştım hatta. Sonra Ahmet  Türk. Son olarak da Selahattin Demirtaş'ın eşi Başak  Demirtaş. Görünen o ki günün sonunda HEDEP İstanbul'da İmamoğlu'nu  değil kendi adayını destekleyecek. İmamoğlu'nun uykuları kaçıyor! HEDEP'i nankörlükle suçluyormuş. Haklı, fevkalade kıyağı  dokunmuştu. Hatta bu uğurda başını belaya da sokmuştu. Bu uğurda yargılanıyor  da! Bazı CHP'lilere göre siyasette 24 saat bile çok  önemli. Demek istiyorlar ki çıkmadık candan ümit kesilmez. Yani HEDEP İstanbul'da  aday çıkarmayabilir. Bu ihtimal İmamoğlu'nun kulağına ne hoş geliyordur  ama. Lakin İmamoğlu'nun HEDEP'i ikna etmesi zor. Dağları ikna  etmek zorunda! O dağlar önceki seçimde iyi destek vermişti. Ama şimdi  sesleri-solukları pek işitilmiyor. İYİ Parti İttifak kapısını kapattı. GİK öyle münasip  gördü. Ama söz konusu Meral Akşener olunca insan ister istemez 'her an  her şey olabilir' diyor. Şu aşamada İYİ Parti İstanbul ve Ankara  dahil 81 ilde kendi adayıyla girecek seçime. Ekrem İmamoğlu'nun gözüne uyku girmiyor! Çaresiz, telaşlı ve panik! Bir o kadar da öfkeli. İYİ Parti'yi de nankörlükle suçluyor. Haklı! Zira İYİ  Parti uğruna CHP teşkilatlarını küstürmüştü. Belediyeye İYİ Partilileri  doldurdu. Olacak iş mi şimdi? Fatih Portakal 'bana giren çıkan yok' demiş İYİ  Parti'nin aldığı karar sonrası. Ne alakaysa? İYİ Parti'nin ittifak yok kararına  'bana  giren çıkan yok' diye karşılık vermek. Ya ittifak olsaydı? Ben bu  arkadaşları anlamıyorum, gerçekten anlamıyorum! Deniz Zeyrek 'bu karar AK Parti'ye yarar'  diyor. İsmail Saymaz, Meral Akşener'in seçim sonrası 'vay başıma'  diyeceğini iddia ediyor. Demem o ki İmamoğlu'na yakın ne kadar gazeteci varsa  Akşener'e saldırıyor. Bu arada İmamoğlu'na 'duygusal' yakınlığı  bulunan bazı İYİ Partili isimler de istifa ediyor. Bir el 'duygusal yöntemlerle' İYİ  Parti'nin içini karıştırıyor. Duygusal derken yanlış anlaşılmasın, fonsal  yani! Meral Akşener'i içeriden köşeye sıkıştırmaya çalışıyorlar. Birileri bu işler için kaç milyar lira ayırdı  acep? Hangi döviz bürolarında hareketlilik yaşanıyor? Daha kaç isim Meral Akşener'i caydırmak için istifa  ettirilecek? Ben bu soruları şimdiden peşin sorayım, siz gelişmeler  yaşandıkça irtibatı kurarsınız. Bu arada beyimiz 'İBB olarak şu kadar süt dağıttık'  diye ortalıkta dolaşmaya başladı. Bu süt işi benim midemi bulandırıyor, bunu da buraya  bırakayım. Beyimizin tek gündemi 'süt'!\\n\"], ['Turgay Güler', 'İnanılmaz', '5 Aralýk 2023', \"\\nBeyimiz uzunca bir aradan  sonra 'İBB' eksenli gündemle nihayet arz-ı endam eyledi. Hadi, 'uzunca bir süre' deyip bırakmayalım.  Ete kemiğe büründürelim. Dört buçuk yıl aradan sonra! Karda yoktu, selde yoktu, depremde yoktu... Kıskanılacak tatilleriyle gündem oldu... Yabancı büyükelçilerle ihtişamlı yemek sofralarında  poz verdi. Bir süre cumhurbaşkanlığı adaylığı peşinde koştu.  Cesaret edip aday olamadı. Sonrasında yardımcılığa tav oldu. Ama kaybetti! Derken CHP genel başkanlık koltuğuna göz dikti, bu uğurda  da hayli ter döktü. İstanbul'un yolunu unuttu. Yine cesaret edip aday olamadı. Ama Özgür Özel  üzerinden partiyi ele geçirmeyi başardı! Nasıl başardığını da cümle alem  biliyor. Az gitti uz gitti dere tepe düz gitti derken seçim kapıya dayandı. Şunun  şurasında dört ay sonra beyimiz İstanbullunun önüne konulacak sandıkta hesap  verecek. Hal böyle olunca  da nihayet İstanbul'u hatırladı. Eli kulağındadır, çarşı-pazar turneleri bugün  yarın başlar. Reklam, tanıtım, algı işleri için ajansa hayli kabarık bir bütçe  tahsis edilmiş. Rakamı duyanın dudakları uçuklar. Yeri gelmişken hatırlamakta  fayda var; beyimizin reklam bütçesi deprem bütçesinden fazlaydı. Bu arada Sayıştay'ın İETT raporu çıktı ortaya. İETT  borçlanma limitini tam iki buçuk milyar lira aşmış. Aşılan kısım iki buçuk  milyar lira! Aşılmayanı siz hayal edin. Otobüslerin hali de ortada. Taşıma  ücretlerine yapılan fahiş zamlar da! İETT bu borçlanmayla filosuna yüzlerce yeni, gıcır gıcır  otobüs alabilirdi! Göstermelik birkaç metrobüs alındı, onlar da ilk  seferde yolda kaldı. Bir İstanbullu  olarak sorayım o vakit! İETT borç aldığı bu kadar parayla ne yaptı? Nereye  gitti bu para? Otobüs nerede, para nerede?... Hatırlarsanız İETT'nin bakım onarım ihalesini İmamoğlu'nun  has adamı ve son seçimde de milletvekili 'yaptığı' Özgür Karabat'ın mali  müşavirliğini üstlendiği firma almıştı. Dört milyar liralık ihale! İmamoğlu  kurultay sonrası Karabat'ı CHP'nin saymanlığına getirildi. Saymayı biliyor  adam. Neyse... Şimdi seçim yaklaştı ya! Beyimiz çıktı ortaya. İETT'yi  övdü hem de! O kadar otobüs yandı, kaza yaptı, lastiği-freni patladı ağzını açıp  İstanbullunun isyanı karşısında tek kelam etmemişti. İlk kez konuştu. 'İETT'de yolcu sayımız arttı' dedi. Peşine de ekledi: 'Arıza oranında inanılmaz bir düşüş yaşattık  biz. Tamam, arıza yapıyor ama arıza yapmayan araç olmaz'. Haklı! Otobüstür yanar, duman atar, yolda kalır,  freni patlar, kendi kendine gider... Önceki dönemden daha çok yolcu taşımış buna rağmen  otobüs arızalanmalarında inanılmaz bir düşüş yaşatmış! Hakikaten inanılmaz! Nasıl inanılsın? O halde soralım! Taşıma ücretlerine rekor zam yaptın. Yolcu sayısı da artmış. Otobüsler eskiye nazaran inanılmaz derecede az arıza  yapıyormuş! Eeee? İETT niye zarar ediyor öyleyse? Bu kadar borç  niye? Otobüslerin bu hali ne? Gerçekten inanılmaz! \\n\"], ['Kurtuluş Tayiz', 'Akşener ve siyasi harakiri', '1 Aralýk 2023', '\\nCHP Genel Başkanı Özgür Özel, partisinin yerel seçimlerdeki işbirliği  teklifini, İYİ Parti Genel Merkezi\\'nde Meral Akşener\\'e iletti. Akşener, CHP\\'nin  teklifini, Genel İdare Kurulu\\'nda görüşerek karara bağlayacaklarını  duyurdu. Özgür Özel\\'in ziyaretinin zamanlaması planlı ve  hesaplı. Özel, Meral Akşener\\'in uzunca bir süre yıpratıldığı, parti içi kargaşa  ve sorunlarla iyice yorgun düşürüldüğü bir anda ziyaretini gerçekleştirdi. Ekrem İmamoğlu\\'na yakın CHP medyası, bir süredir  Meral Akşener\\'e yönelik baskı ve yıpratma yayınları sürdürüyordu. 81 ilde kendi  adaylarıyla seçime girmek istediğini açıklaması üzerine Akşener\\'e yönelik  kapsamlı bir linç kampanyası başlatılmıştı. Akşener\\'in bahsettiği, kendisini  hedef alan psikolojik harp yöntemi, işte CHP çevrelerinde ateşlenen bu linç  kampanyasıydı. Meral Akşener iyice yıpratıldıktan sonra, kıvama  geldiği düşünülerek önce Ekrem İmamoğlu tarafından telefonla arandı, ardından  da Özgür Özel\\'in ziyareti gerçekleşti. İYİ Parti\\'de  Meral Akşener\\'den başka CHP\\'yle ittifaka ayak direyen kimsenin olmadığı anlaşılıyor.  Daha önce partisi arkasında durmadığı için Akşener masaya dönmek zorunda kalmıştı. Bu kez de farklı  olması beklenmiyor. CHP, İYİ Parti\\'de bazı yönetici isimleri İstanbul ve Ankara  belediyeleri üzerinden ekonomik olarak bağlamış durumda. İYİ Parti\\'yi domine  eden bu yönetici grup, Akşener üzerinde baskı oluşturabiliyor. Ayrıca İYİ  Parti\\'nin kuruluşu esnasında yerleştirilen FETÖ\\'ye yakın bazı isimler de parti  içinde operasyon yapabilme kabiliyetine sahip. Akşener\\'in, İYİ Parti\\'yi bağımsız  müstakil parti haline getirmesi hayli zor görünüyor. Meral Akşener \"İstanbul  ve Ankara hariç seçimlere müstakil gireceğiz\" diyerek, bu kararı da GİK\\'e aldırtarak  kendisine bir çıkış yolu aralayabilir; fakat, bu formüle razı olması halinde  bile Meral Akşener\\'in siyasi iddiası biter ve \"lider\" kişiliği de büyük yara alır.  İYİ Parti de siyasi tarihe CHP\\'nin küsurat hesapları için kurulan, çalışan bir  parti olarak geçer. Bir lider için siyasi harakiri yapmak herhalde buna  denir. \\n'], ['Kurtuluş Tayiz', 'Kara para beyaz soygun…', '4 Aralýk 2023', '\\nGörgüsüz, sonradan görme ve ne oldum delisi kesimin  parası, yatı, katı, gezmesi, eğlencesi vs. milletin gözüne daha çok battı.  Kabul edelim ki onlarınki, bir ihtiyaçtı. Yılların eksikliğini, açığını böyle  kapatmaya çalıştılar. Bir tür eziklik, geri kalma duygusunu tatmine  yöneldiler. Dilan Polat ve benzerlerine yönelik toplumdan  yükselen tepki, bu sonradan görme hallerinden kaynaklandı. O şaşaalı hayatın  bedeli ağır oldu. Kamunun intikamı, diyelim buna. Sonunda neleri var neleri yok  hepsine el konuldu. Aptalca hevesleri yüzünden her şeylerini kaybettiler. Ne var ki, Dilan  Polat ve \"Şampiyonlar ligi\" masasının çevirdiği dolandırıcılık miktarı bankaların  aracılık ettiği fon dolandırıcılığı yanında devede tüy bile değil. Seçil Erzan\\'ın  beceriksizliği olmasa belki de fon dolandırıcılarının kimse farkında olmayacaktı.  Bankaların dolaylı yollardan, vergi sistemini atlatabilmek amacıyla oluşturduğu  bu fon çarkı, aslında buz dağının görünen yüzü sadece. Görünmeyen, ortaya çıkmayan,  deşifre olmayan kısmı ise çok büyük. Ve nedense, bu buz dağının altına bakmaya kimse pek istekli değil. Kara  para takip ediliyor edilmesine de beyaz soyguna bakan yok! Arkasında büyük finans çevreleri, bankalar olduğu  için de medya çok fazla üzerine gitmezdi şu ana kadar. \"Yok reklam veriyorlar\",  \"yok sponsor oluyorlar\" diye uzun süredir Dilan Polat\\'ı konuşuyordu toplum.  Arkasında bankaların olduğu dolandırıcılık çarkına ise nedense bir türlü sıra  gelmiyordu. Hatta, devletin vergi sistemini delebilmek için illegal yollardan  dolaşanları mağdur bile göstermeye çalıştılar. Gerçekte vergi sistemini arka kapıdan dolaşarak  atlatanlar genelde büyük finans çevreleridir; altta, ufak tefek dolandırıcılık  yapanlar değil. Hukuk önünde şüphesiz  iki taraf da eşittir; biri az, diğeri çok diye öncelik tanınmaz. Hukuk sistemi meseleye böyle bakar. Umarım, bankaların taşeron kullanarak devletten, toplumdan  çaldıklarını soruşturmaya da sıra gelir.\\n'], ['Kurtuluş Tayiz', \"Akşener'in intikamı\", '6 Aralýk 2023', '\\nMeral Akşener, 3 Mart\\'ta masadan kalktığında aklında şüphesiz  İYİ Parti için ayrı bir yola girmek vardı. B planı Ekrem İmamoğlu ile Mansur  Yavaş\\'lı bir adayla seçime girmekti. Bu iki isme de güveniyordu. Fakat ilk yan çizen Ekrem İmamoğlu oldu. İmamoğlu, rota değiştirerek Kılıçdaroğlu\\'na  yanaştı. Mansur Yavaş da İmamoğlu\\'nun peşinden gitti. O güne kadar Meral Akşener\\'e  yakın duran İmamoğlu ve Yavaş, bir anda Kılıçdaroğlu\\'nun \"barış\" elçisi  oluverdiler. Kılıçdaroğlu\\'nun şantajlarını Akşener\\'e ileten kuryelere dönüştüler. Meral Akşener için  en büyük hayal kırıklığı, o güne kadar kendisine yakın duran İmamoğlu ve Yavaş\\'ın  Kılıçdaroğlu\\'nun goygoycusu olup çıkıvermeleriydi. Seçim gecesi Kılıçdaroğlu\\'nun  çığırtkanlığını yapmaları ise herkes için olduğu kadar Akşener için de mide  bulandırıcıydı. 14-28 Mayıs\\'ta  Kemal Kılıçdaroğlu ile birlikte en büyük kaybeden Ekrem İmamoğlu ve Mansur Yavaş\\'tı.  Muhalefet açısından tek haklı çıkan da Meral Akşener. Kurt kışı geçirir ama yediği ayazı da unutmaz. Akşener için de böyle  oldu. İmamoğlu ve Yavaş\\'ın ihanetini unutması mümkün değildi; Akşener masadan  kalktığında İmamoğlu ve Yavaş\\'ın yanında saf tutmadıklarına değil, iki ismin Kılıçdaroğlu\\'nun  kurşun askerine dönüşmelerine inanamadı. Siyasette hesaplar kişiseldir elbet  fakat Akşener için İmamoğlu ve Yavaş\\'ın yaptığının adı düpedüz ihanetti.  Çirkin, iğrenç ve kabul edilemez bir davranıştı. Meral Akşener için  ittifak, masadan kalktığı 3 Mart\\'ta bitmişti. Partisi kendisini desteklemedi  fakat zaman Akşener\\'i haklı çıkardı. Akşener\\'in yerel seçimlerde de CHP\\'yle  ittifaka yanaşmayacağını bildikleri için son bir hamle yaptılar; iftira ve  psikolojik harple Akşener\\'i istifaya zorladılar. Akşener dik durunca GİK\\'ten  CHP\\'nin ittifak teklifine \"hayır\" kararı çıktı. Ekrem İmamoğlu ve  Mansur Yavaş son dakikaya kadar Akşener\\'i etki altına almaya çalıştı. Siyasetin  onuruna, gururuna yakışmayacak bir gevşeklikle Akşener\\'in aklını çelmeye çalıştılar. Başta da söylediğimiz  gibi kurt kışı geçirir ama yediği ayazı unutmaz. Seçim boyunca Meral Akşener\\'in  onuruyla oynadılar. Akşener\\'in bunu unutması, içine sindirmesi mümkün değildi.  CHP\\'nin, İmamoğlu ve Yavaş\\'ın siyasi kariyeri için kendi partisini paspas  yapamazdı. Ve Akşener\\'in  intikamı acı oldu. İYİ Parti\\'nin GİK kararı İmamoğlu ve Yavaş\\'ın dar görüşlü,  basit, ucuz, şahsi çıkarlarını öne aldıkları hesaplarını, hayallerini suya düşürdü.  Özgür Özel için de genel başkanlığın sonu göründü. Özel, CHP\\'nin en kısa süreli  genel başkanı olarak tarihe geçebilir. İmamoğlu ve Yavaş kaybedince Özgür  Özel\\'i bakalım o koltukta kim, ne kadar tutabilecek? \\n'], ['Kurtuluş Tayiz', \"AK Parti'nin İstanbul adayı\", '8 Aralýk 2023', '\\nİstanbul için gözler AK Parti\\'nin açıklayacağı adayda. Ankara adayı da en  az İstanbul kadar merak konusu. Ne var ki, bu iki şehir için de AK Parti ser  verip sır vermiyor. Cumhurbaşkanı Erdoğan  \"Yeniden İstanbul\" diyerek, 31 Mart\\'ta öncelikli olarak bu şehre odaklanılacağını işaret etti.AK Parti\\'de İstanbul  için uzun süredir alttan alta bir adaylık yarışı zaten sürüyor. İsmi geçen çok sayıda  aday var. İstekli olan çok sayıda isim var. İstanbul\\'u gönlünden geçirmeyen bir  belediye başkanı zaten yok. Medyaya bakıldığında İstanbul\\'a talip olan isimleri  rahatlıkla görebiliriz. Baştan söylemek  gerekirse; AK Parti\\'nin çıkaracağı, MHP ve Cumhur ittifakı ortaklarının da  destekleyeceği başkan adayı kim olursa olsun, CHP adayı Ekrem İmamoğlu\\'ndan çok  daha büyük hizmetlere imza atacak kalitede olacağından şüphe yok. Belediyecilik  işini AK Parti\\'den daha iyi yapacak tecrübeye, birikime sahip başka bir parti  yok. Partilerin genetik  kodları adayların niteliklerini de belirler. CHP\\'li adayların şahsi becerileri  ne kadar yüksek olursa olsun, iş belediyeciliğe geldiğinde CHP genetiğinin dışına  çıkamıyorlar. Adayın kapasitesi burada o kadar da önemli değil; partilerin  kadro, tecrübe ve birikimi hizmette ve belediye yönetiminde belirleyici  oluyor. Evet, AK Parti\\'de İstanbul için birçok aday ismi  geçiyor; medyada, kulislerde çok sayıda kişinin ismi aday olarak dolaşıyor. 6 Şubat  depremlerinde kendisini çalışkanlığıyla, hızlı çözüm üretme kabiliyetiyle  gösteren Murat Kurum bu isimlerin başında geliyor. Tevfik Göksu, bitmek bilmez  enerjisiyle, hatipliğiyle, belediyecilikteki tecrübesiyle kendisini kanıtlamış  bir isim. Fatih Belediye Başkanı M. Ergün Turan, kentsel dönüşümü en iyi bilen  isimlerden. İstanbul\\'a hakim bir isim. AK Part\\'nin aradığı aday profiline  uyuyor. Ümraniye Belediye Başkanı İsmet Yıldırım da keza kendisini kanıtlamış  bir isim. Adı kulislerde sık sık geçiyor. Eski Ulaştırma Bakanı Adil  Karaismailoğlu var. Tuzla Belediye Başkanı Şadi Yazıcı var. AK Part\\'nin İstanbul\\'da  daha birçok liyakatlı belediye başkanı adayı bulunuyor. Adı geçen bu  isimlerin hemen hemen hepsi Ekrem İmamoğlu\\'ndan kat be kat daha fazla ve daha  iyi bir şekilde İstanbul\\'a hizmet edebilir ve seçimlerde ipi göğüsleyebilir. Kabinede olan  bakanlardan Sağlık Bakanı Fahrettin Koca, İçişleri Ali Yerlikaya\\'nın da adları  aday olarak geçiyor. Eski içişleri bakanımız Süleyman Soylu\\'nun adını hem İstanbul  hem Ankara için anketlerde sık sık görüyoruz. Doğrusu, kabinede görev alan  isimlere ben pek ihtimal vermiyorum. İstanbul\\'u en iyi bilen isim şüphesiz Cumhurbaşkanı Erdoğan.  İstanbul aşkını canı gönülden yaşayan bir lider. Adayın belirlenmesinde gözler  Erdoğan\\'da olacak. Kulislere göre de Erdoğan önce bir profil üzerinde çalışma  yürütülmesini istemiş. Yani adayın kim olacağından önce nasıl biri olacağı  üzerinde duruluyor. Sonra bu profile uyan adaylara doğru gidilecek. AK Parti teşkilat  başkanlığının hazırlayıp Cumhurbaşkanı Erdoğan\\'a sunacağı nihai çalışmanın ve  raporun belirleyici olacağını söyleyelim. Erdoğan, aday ismi açıkladığı gün,  Ekrem İmamoğlu dönemi de bir daha açılmamak üzere kapanacak.\\n'], ['Hikmet Genç', 'HEDEP/PKK ile idare edin artık!', '9 Aralýk 2023', '\\nİttifak olmadı, bari işbirliği yapalım Meral abla\" dedi aprantis  Özel... İstenmeyen Bay  Kemal artık yok. CHP değişti, engel de kalktığına göre, neden olmasındı?! İşbirliği nedir,  ittifaktan farkı nedir, yuvarlak masa şartı aranır mı, işbirliği için  dikdörtgen masa yeterli mi bilemiyoruz. Her neyse, GİK\\'e  soruldu, sonuç; \\'işbirliğine hayır\\' çıktı ve kesin kararını bildirdi Akşener; \"Adına \\'ittifak\\'  dedikleri manda ve himaye tuzağına geçit vermeyeceğiz. Bu kutlu mücadelede hür  ve müstakil olarak dimdik yürüyeceğiz.\"  \"Manda ve himaye  tuzağı\" diyor Akşener. Ama bu cümleler CHP ile işbirliği yapmayacağına dair  kesin bir hüküm içermiyor... Öyle ya, \"kumar ve  noter masası\" bile 1-2 gün içerisinde birden kendi kendine millet iradesine  dönüşebiliyor... Masaya dönebiliyorsun... Manda ve himaye  tuzağı ne ki?.. Bunu bilen Özel  haklı olarak şansını tekrar tekrar deniyor. Denemek de  zorunda. Sadece HEDEP/PKK oylarıyla mümkün değil tabii. Masa ortadan kalkınca  HEDEP için gizlenecek saklanacak bir yer kalmadı. Demirtaş\\'a selam çakarak,  \\'daha az eşit\\' gibi söylemlerle ve nihayetinde Soprano Pervin\\'in elini öperek  biat törenini de gerçekleştirdi Özel. Yani HEDEP cepte. CHP-HEDEP\\'li yuvarlak  masa ittifakı İyi Parti için de bir sorun teşkil etmiyor nasıl olsa. Son  seçimlerde gördüm. Mesele Akşener ablayı ikna etmekte... \"Hayır\" dediler  ama dediğim gibi Özgür Özel tekrar tekrar şansını deniyor: \"İyi Parti, iyi  insanların, çağdaş insanların partisidir. Atatürk\\'ü seven insanların  partisidir. Geçmişte birlikte başarılar elde ettiğimiz, bundan sonra da  Türkiye\\'de birlikte çok şey başaracağımız iyi insanların partisidir. Eski  dosttan düşman olmaz!\" İyi Parti\\'den  cevap yok. Bu saatten sonra  masaya bir daha dönmek zor. Artık HEDEP ile idare edeceksiniz... Bir daha zorlarsan  eski dost Meral ablan: \\'Oğlum bak git\\' deyip kafana zopayı indirir. Diyim ben sana...\\n'], ['Hikmet Genç', 'O iki kriter varsa, soykırım meşrulaşırmış!', '6 Aralýk 2023', '\\nDünyanın gözü önünde canlı görüntülerle devam eden bir soykırıma  da kılıf bulamazlar artık\\' diyorduk. Öyle  ya, enkazın altında kalmış bedenler, uzuvlarını kaybetmiş çocuklar, paramparça  olmuş bebekler!.. \"Böyle  bir vahşete kılıf bulmak, mazeret uydurmak mümkün mü?..\" diye sorduk  defalarca... (İnsan olana tabii.) Soykırımın  sponsoru ABD\\'deymiş cevabı. Cumhuriyetçi  Senatör Lindsey Graham\\'a göre; Gazze\\'dekiler çok sıkışık bir alanda yaşıyormuş.  Hamas\\'a yönelik saldırı düzenlerken İsrail\\'in sivilleri gözetmesi imkansızmış!?  Yetmiyor bir de örneğini veriyor Graham. Diyor  ki; \"Pearl Harbor (baskınından) sonrası çok fazla insanın ölmesi ve II. Dünya  Savaşı\\'nın ne olduğunu biliyor musunuz? Amerikan kamuoyu, \\'Tokyo ve Berlin\\'i  yok etmek için kaç kişinin öldüğü konusunda endişelendi mi?\" Evet,  Berlin\\'de ve Tokyo\\'da (atom bombalarıyla) en az 600 bin sivil öldü. Sivilleri  gözetmek o zaman da imkansızdı değil mi?.. Toplamda kaç milyon sivil kadın  çoluk çocuk ölmüşse ölmüş. Tek tek sayacaklar mıydı yani?!.. Hem ABD ve dünya  kamuoyu da endişelenmemişti! Kızılderililerin  de durumu aynıydı... 20 milyondan fazla Kızılderili ABD\\'nin selameti için  katledildi. Kim sivil, kim çocuk, kim savaşçı.., onu mu gözeteceklerdi?.. Toplu  bir şekilde soykırım uyguladılar, Kızılderililerden kurtuldular. Ve Vahşi Batı  medeniyeti dünyaya hakim oldu. Demokrasi kazandı. ABD ve dünya kamuoyu da endişelenmemişti  üstelik! ABD  Vietnam\\'ı işgal etti. (1955-1973) Milyonlarca sivili öldürdü. Kimyasal  bombalarla sık ormanları zehirleyip bitkileri çürüttü. İnsan vücuduna yapışarak  acı içinde öldüren \\'napalm\\' bombalarını denedi. ABD\\'nin Vietnam\\'daki âlî  menfaatleri için elzemdi soykırım. ABD ve dünya kamuoyu yine endişelenmemişti!? Keza  Afganistan\\'ı işgal etti ABD. 20 yıl boyunca yüz binlerce sivil Afganlıyı  öldürdü.., Irak\\'ı  işgal etti yüzbinlerce sivili öldürdü. Süren işgalde toplamda milyonlar hayatını  kaybetti. \"ABD\\'nin Irak\\'ı işgal etmesiyle 500 bin bebek/çocuk öldü. Ne  diyeceksiniz?\" diye sormuşlardı dönemin ABD Dışişleri Bakanı Madeleine  Albright\\'a. Ne cevap vermişti?.. \"ABD Irak politikaları doğruydu. Buna değdi!..\" Velhasıl  ABD politikaları her şeye değerdi?! Medeniyetin,  özgürlüğün, demokrasinin ve dahi ABD\\'nin selameti için milyonlarca sivil çoluk  çocuk ölebilirdi. Sivilleri  gözetmek mümkün değilse ve ABD kamuoyu endişelenmiyorsa her türlü soykırım  mümkündü!.. Peki  ya Hitler?!.. Ekonomide  sanayide devrim yapacak, ama sermaye Alman\\'da değil, Siyonistlerin elinde.  Safkan \\'Aryan\\' olan Almanlar 3\\'üncü Reich İmparatorluğu\\'nu kurmasınlar mıydı?!..  Hitler bu yüzden soykırım uyguladı. Soykırımın  meşruiyeti için birinci kriter vardı. Graham\\'ın dediği gibi \\'çok sıkışık\\' bir  alanda; \\'Getto\\'larda yaşıyorlardı Yahudiler. Tek tek sivilleri gözetemezdi  Hitler. Savaşırken onlarla mı uğraşacaktı?.. İkinci  kriter de tamamdı. Alman kamuoyu katliamlar konusunda hiç endişelenmemişti!.. Uzun uzun söverdim ama yerim bitti Graham!..\\n'], ['Hikmet Genç', \"‘İyi polis-kötü polis'i oynamaya başladılar...\", '4 Aralýk 2023', '\\nKatliam o kadar aleni bir şekilde  gerçekleşiyor ki, artık kılıf bulmak mümkün değil... Şöyle demiştik; \"Bir sonraki gün sivillerin üzerine kaç bomba atılacağını,  kaç kadın ve bebeğin öleceğini, yeni rakamların ne olacağını tartışıyoruz. İnsani  ara bittiğinde biliyoruz ki, yine bebekler ölecek, hastaneler bombalanacak,  ambulanslara, sivil konvoylara ateş açılacak...\" Evet, soykırım kaldığı yerden devam ediyor... Soykırımcı İsrail ve sponsorları katliam  gerekçelerini anlatmakta zorlanıyor. Dünyanın dört bir yanında insanlar Gazze\\'deki soykırımı  protesto ediyor. Çok geniş katılımlı yürüyüşler düzenleniyor. Ve özellikle ABD  ve Avrupa ülkelerinde bu tür eylemler artarak devam ediyor... ABD İletişim Koordinatörü John Kirby, \"insani aranın  ardından İsrail\\'e ihtiyaç duydukları araç ve kabiliyetleri sunmaya devam edeceğiz\"  demişti. Yani İsrail\\'e \\'katliama devam edebilirsiniz, arkanızdayız\\'  mesajı vermişti. Önceki gün ABD Başkan Yardımcısı Kamala Harris ise;  \"Açıkçası sivillerin çektiği acıların boyutu ve Gazze\\'den gelen görüntü ve  videolar yıkıcı\" dedi... Çok rahatsız olmuşlar. Siviller çocuklar ölmesinmiş!.. Hadi ya?!.. Soykırımcıya kimse dokunmasın diye uçak  gemileri ve nükleer denizaltılarınla gel. Her türlü silah ve mühimmatı ver.  Sonra \\'sivillerin çektiği acılar yıkıcı\\' de... Kirby de \\'insani aradan sonra katliama devam\\'  diyor. \\'İyi polis-kötü polis\\'i oynamaya başladılar. Bu arada Siyonist katil İsrail katletmeye devam  ediyor. Ve bunu, bütün dünyaya göstere göstere yapıyor. Katliamcıların soykırımcıların kendilerine göre  \\'kutsal hedefleri\\' var. Bütün dünya gördü bunu, bizim örümcek kafalı  solcularımız hariç!.. Onlara göre Hamas laik olmadığı için katliamı hak  ediyor!.. Ha bir de İngiliz, Amerikalı ya da Fransız değil, Müslüman Araplar  bunlar. Bizim çağdaş laik aydınlanmacı solcularımızın Amalekleri!.. Sevilmez  desteklenmez yani!.. O kadar mı?.. Evet maalesef o kadar bizim aydınlanmacı gerzek  solcular!.. \\n'], ['Hikmet Genç', 'Hiç değişmeyen “CHP/HEDEP tezkere kardeşliği!”', '2 Aralýk 2023', '\\nCHP\\'de değişim oldu\" deyip hayal satan arkadaşlar. Neyin değiştiğini bir  deyiverin hele... Hiç hissettirmiyorlar. Sanki Genel Başkanı değişmemiş,  kurultay olmamış gibi duruyor CHP... Kurultay konuşmaları  bile aynıydı. Delegelerden oy isterken her ikisi de (eski ve yeni genel başkan)  Demirtaş ve Kavala\\'ya selam çakarak delegelerden oy istemişlerdi. CHP\\'nin değişimci  yeni genel başkanının Türkiye\\'yi işgalci gören \\'Pervin Chakar\\'ın elini  öptü. Soprano Pervin\\'den  sonra, HEDEP\\'li Pervin\\'e selamlar... Hasılıkelam  CHP\\'nin \"temel değerlerinde\" değişen bir şey olmayacağının sinyalleriydi  bunlar. Irak ve Suriye\\'ye  asker göndermek için gerekli olan son tezkereye tıpkı HDP/PKK gibi \\'hayır\\' demişti  eski genel başkan Bay Kemal. CHP ile HDP arasında bir tezkere kardeşliği oluşmuştu.  Hatta terörist elebaşları Kandil\\'den \"CHP hayırlı bir iş yapmıştır\" diyerek şükranlarını  iletmişti CHP\\'ye. Bu sefer de Libya  tezkeresi Meclis\\'e geldi. Değişimci yeni CHP  n\\'aptı?.. Yine \"CHP/HDP tezkere kardeşliği\" tezahür etti. Yeni CHP, HEDEP ile  birlikte \"tezkereye hayır\" dedi... Değişimci CHP, yine Kandil\\'in hayrına çalıştı!.. \"TSK\\'nın (PKK\\'ya  yönelik) kimyasal silah kullandığı iftirasının ardından TTB Başkanı Fincancı  görevden alındı. Doğal olarak terör  örgütü PKK\\'yı savunmak üzere Fincancı\\'ya ilk destek HEDEP\\'ten geldi. Yeni değişimci CHP  durur mu?.. Onlar da \"hepimiz Fincancıyız\" dedi. Hatta ortak basın açıklaması  yaptılar... Yeni ve değişimci  CHP ayrıca \\'Kayyum\\' atamalarına da karşı... Nasıl HDP, HEDEP  olunca bi\\'şey değişmiyorsa, CHP\\'de de koltuktaki isim değişince bi\\'şey değişmiyor.  Değişimci Özgür  Özel aynen ustası \\'gelenekçi Bay Kemal\\'in izinden gitmeye devam ediyor. Gelen gideni aratmıyor!.. Allah aşkına biri  söylesin bana. Değişimciler geldi de, CHP\\'de ne değişti acaba?..\\n']]\n"
     ]
    }
   ],
   "source": [
    "rows_tg=[]\n",
    "for i in url_list4:\n",
    "    response = requests.get(i)\n",
    "    response = response.content\n",
    "    soup = BeautifulSoup(response, 'html.parser')\n",
    "    author=soup.find('div', class_='title font-weight-7 font-size-18 color-primary margin-bottom-sm').text\n",
    "    title=soup.find('h1', class_=\"title-1 color-primary font-weight-7 font-size-32 margin-bottom-lg\").text\n",
    "    date=soup.find('div', class_='time font-size-12 margin-bottom-md').text[:13]\n",
    "    text=soup.find('div',class_='text font-size-17 margin-bottom-lg newsDetailText').text\n",
    "    rows_tg.append([author,title, date, text])\n",
    "print(rows_tg) "
   ]
  },
  {
   "cell_type": "code",
   "execution_count": 89,
   "metadata": {},
   "outputs": [],
   "source": [
    "df = pd.DataFrame(rows_tg, columns=['author', 'title', 'date','text'])\n",
    "df.to_csv('rows_tg.csv')"
   ]
  },
  {
   "cell_type": "code",
   "execution_count": 90,
   "metadata": {},
   "outputs": [
    {
     "data": {
      "text/html": [
       "<div>\n",
       "<style scoped>\n",
       "    .dataframe tbody tr th:only-of-type {\n",
       "        vertical-align: middle;\n",
       "    }\n",
       "\n",
       "    .dataframe tbody tr th {\n",
       "        vertical-align: top;\n",
       "    }\n",
       "\n",
       "    .dataframe thead th {\n",
       "        text-align: right;\n",
       "    }\n",
       "</style>\n",
       "<table border=\"1\" class=\"dataframe\">\n",
       "  <thead>\n",
       "    <tr style=\"text-align: right;\">\n",
       "      <th></th>\n",
       "      <th>Unnamed: 0</th>\n",
       "      <th>author</th>\n",
       "      <th>title</th>\n",
       "      <th>date</th>\n",
       "      <th>text</th>\n",
       "    </tr>\n",
       "  </thead>\n",
       "  <tbody>\n",
       "    <tr>\n",
       "      <th>0</th>\n",
       "      <td>0</td>\n",
       "      <td>Turgay Güler</td>\n",
       "      <td>İYİ Parti'yi döviz bürolarıyla yola getirmek</td>\n",
       "      <td>6 Aralýk 2023</td>\n",
       "      <td>\\nÖnce Pelin  Batu'nun ismi geçiyordu. Yazmışt...</td>\n",
       "    </tr>\n",
       "    <tr>\n",
       "      <th>1</th>\n",
       "      <td>1</td>\n",
       "      <td>Turgay Güler</td>\n",
       "      <td>İnanılmaz</td>\n",
       "      <td>5 Aralýk 2023</td>\n",
       "      <td>\\nBeyimiz uzunca bir aradan  sonra 'İBB' eksen...</td>\n",
       "    </tr>\n",
       "    <tr>\n",
       "      <th>2</th>\n",
       "      <td>2</td>\n",
       "      <td>Kurtuluş Tayiz</td>\n",
       "      <td>Akşener ve siyasi harakiri</td>\n",
       "      <td>1 Aralýk 2023</td>\n",
       "      <td>\\nCHP Genel Başkanı Özgür Özel, partisinin yer...</td>\n",
       "    </tr>\n",
       "    <tr>\n",
       "      <th>3</th>\n",
       "      <td>3</td>\n",
       "      <td>Kurtuluş Tayiz</td>\n",
       "      <td>Kara para beyaz soygun…</td>\n",
       "      <td>4 Aralýk 2023</td>\n",
       "      <td>\\nGörgüsüz, sonradan görme ve ne oldum delisi ...</td>\n",
       "    </tr>\n",
       "    <tr>\n",
       "      <th>4</th>\n",
       "      <td>4</td>\n",
       "      <td>Kurtuluş Tayiz</td>\n",
       "      <td>Akşener'in intikamı</td>\n",
       "      <td>6 Aralýk 2023</td>\n",
       "      <td>\\nMeral Akşener, 3 Mart'ta masadan kalktığında...</td>\n",
       "    </tr>\n",
       "    <tr>\n",
       "      <th>5</th>\n",
       "      <td>5</td>\n",
       "      <td>Kurtuluş Tayiz</td>\n",
       "      <td>AK Parti'nin İstanbul adayı</td>\n",
       "      <td>8 Aralýk 2023</td>\n",
       "      <td>\\nİstanbul için gözler AK Parti'nin açıklayaca...</td>\n",
       "    </tr>\n",
       "    <tr>\n",
       "      <th>6</th>\n",
       "      <td>6</td>\n",
       "      <td>Hikmet Genç</td>\n",
       "      <td>HEDEP/PKK ile idare edin artık!</td>\n",
       "      <td>9 Aralýk 2023</td>\n",
       "      <td>\\nİttifak olmadı, bari işbirliği yapalım Meral...</td>\n",
       "    </tr>\n",
       "    <tr>\n",
       "      <th>7</th>\n",
       "      <td>7</td>\n",
       "      <td>Hikmet Genç</td>\n",
       "      <td>O iki kriter varsa, soykırım meşrulaşırmış!</td>\n",
       "      <td>6 Aralýk 2023</td>\n",
       "      <td>\\nDünyanın gözü önünde canlı görüntülerle deva...</td>\n",
       "    </tr>\n",
       "    <tr>\n",
       "      <th>8</th>\n",
       "      <td>8</td>\n",
       "      <td>Hikmet Genç</td>\n",
       "      <td>‘İyi polis-kötü polis'i oynamaya başladılar...</td>\n",
       "      <td>4 Aralýk 2023</td>\n",
       "      <td>\\nKatliam o kadar aleni bir şekilde  gerçekleş...</td>\n",
       "    </tr>\n",
       "    <tr>\n",
       "      <th>9</th>\n",
       "      <td>9</td>\n",
       "      <td>Hikmet Genç</td>\n",
       "      <td>Hiç değişmeyen “CHP/HEDEP tezkere kardeşliği!”</td>\n",
       "      <td>2 Aralýk 2023</td>\n",
       "      <td>\\nCHP'de değişim oldu\" deyip hayal satan arkad...</td>\n",
       "    </tr>\n",
       "  </tbody>\n",
       "</table>\n",
       "</div>"
      ],
      "text/plain": [
       "   Unnamed: 0          author                                           title  \\\n",
       "0           0    Turgay Güler    İYİ Parti'yi döviz bürolarıyla yola getirmek   \n",
       "1           1    Turgay Güler                                       İnanılmaz   \n",
       "2           2  Kurtuluş Tayiz                      Akşener ve siyasi harakiri   \n",
       "3           3  Kurtuluş Tayiz                         Kara para beyaz soygun…   \n",
       "4           4  Kurtuluş Tayiz                             Akşener'in intikamı   \n",
       "5           5  Kurtuluş Tayiz                     AK Parti'nin İstanbul adayı   \n",
       "6           6     Hikmet Genç                 HEDEP/PKK ile idare edin artık!   \n",
       "7           7     Hikmet Genç     O iki kriter varsa, soykırım meşrulaşırmış!   \n",
       "8           8     Hikmet Genç  ‘İyi polis-kötü polis'i oynamaya başladılar...   \n",
       "9           9     Hikmet Genç  Hiç değişmeyen “CHP/HEDEP tezkere kardeşliği!”   \n",
       "\n",
       "            date                                               text  \n",
       "0  6 Aralýk 2023  \\nÖnce Pelin  Batu'nun ismi geçiyordu. Yazmışt...  \n",
       "1  5 Aralýk 2023  \\nBeyimiz uzunca bir aradan  sonra 'İBB' eksen...  \n",
       "2  1 Aralýk 2023  \\nCHP Genel Başkanı Özgür Özel, partisinin yer...  \n",
       "3  4 Aralýk 2023  \\nGörgüsüz, sonradan görme ve ne oldum delisi ...  \n",
       "4  6 Aralýk 2023  \\nMeral Akşener, 3 Mart'ta masadan kalktığında...  \n",
       "5  8 Aralýk 2023  \\nİstanbul için gözler AK Parti'nin açıklayaca...  \n",
       "6  9 Aralýk 2023  \\nİttifak olmadı, bari işbirliği yapalım Meral...  \n",
       "7  6 Aralýk 2023  \\nDünyanın gözü önünde canlı görüntülerle deva...  \n",
       "8  4 Aralýk 2023  \\nKatliam o kadar aleni bir şekilde  gerçekleş...  \n",
       "9  2 Aralýk 2023  \\nCHP'de değişim oldu\" deyip hayal satan arkad...  "
      ]
     },
     "execution_count": 90,
     "metadata": {},
     "output_type": "execute_result"
    }
   ],
   "source": [
    "df=pd.read_csv('rows_tg.csv')\n",
    "df.head(10)"
   ]
  },
  {
   "cell_type": "code",
   "execution_count": 34,
   "metadata": {},
   "outputs": [],
   "source": [
    "url='https://www.sabah.com.tr/yazarlar/melihaltinok/2023/12/08/johnsonin-ozru-kabahatinden-buyuk'\n",
    "response = requests.get(url)\n",
    "response = response.content\n",
    "soup = BeautifulSoup(response, 'html.parser')"
   ]
  },
  {
   "cell_type": "code",
   "execution_count": 36,
   "metadata": {},
   "outputs": [
    {
     "data": {
      "text/plain": [
       "'MELİH ALTINOK'"
      ]
     },
     "execution_count": 36,
     "metadata": {},
     "output_type": "execute_result"
    }
   ],
   "source": [
    "author=soup.find('strong', class_='postTitle').text\n",
    "author"
   ]
  },
  {
   "cell_type": "code",
   "execution_count": 37,
   "metadata": {},
   "outputs": [
    {
     "data": {
      "text/plain": [
       "'Johnson’ın özrü kabahatinden büyük'"
      ]
     },
     "execution_count": 37,
     "metadata": {},
     "output_type": "execute_result"
    }
   ],
   "source": [
    "title=soup.find('h1').text\n",
    "title"
   ]
  },
  {
   "cell_type": "code",
   "execution_count": 38,
   "metadata": {},
   "outputs": [
    {
     "data": {
      "text/plain": [
       "'08 Aralık 2023'"
      ]
     },
     "execution_count": 38,
     "metadata": {},
     "output_type": "execute_result"
    }
   ],
   "source": [
    "date=soup.find('span', class_='postInfo').text[:-6]\n",
    "date"
   ]
  },
  {
   "cell_type": "code",
   "execution_count": 39,
   "metadata": {},
   "outputs": [
    {
     "data": {
      "text/plain": [
       "'\\nİngiltere\\'nin eski Başbakanı Boris Johnson, dün halkından pandemi politikaları için özür diliyordu.\\r\\nYok, serbest piyasanın piri Adam Smith\\'in memleketinde piyasalara müdahale ettiği, aşırı tedbirlerle ticareti sınırlandırdığı, ekonomiyi mahvettiği için değil. Özrünün dayatmalarla, yasaklarla, evrensel insan haklarını ihlal etmesiyle de alakası yok.\\r\\nSabık başbakan, meğer Kovid- 19\\'un Britanya için \"tam bir felaket\" olacağını zamanında fark edemediği için çok pişmanmış.\\r\\nBayram değil seyran değil nereden icap ettiyse?\\r\\nKendisinin, pandemi tedbirlerine uymayacağını açıkladıktan hemen sonra müstakbel Kral Charles\\'la birlikte \"mevsimsel gribe\" yakalandığını hatırlıyoruz.\\n\\n\\n\\r\\n70 milyonluk ülkede herkesten önce, ıssız taşradaki şatolarda yaşayan, en sıkı izolasyon tedbirleriyle korunan 1 ve 2 numaranın koronaya yakalanması dünyayı şaşırmıştı.\\r\\nArdından Johnson iyileşmeyi beklemeden, ağzında maskesi olduğu hâlde kameraların karşısına geçmişti. Kraliçe\\'nin parlamentodaki nazik veto desteği sayesinde çıkardığı Brexit kararıyla karşısına aldığı küreselcilere adeta \"pes\" diyordu.\\r\\nRadikal kararından radikal bir şekilde dönmüştü. \"Aşıyı da dayatacağım, maskeyi de... Kapanma tedbirlerini, tedavi protokollerini DSÖ\\'ye devredeceğim\" diyerek nedamet getiriyordu.\\r\\nGelin görün ki işe yaramadı. Koltuğunu kaybetti.\\r\\nİngiltere\\'de o gündür bugündür dikiş tutmuyor. Kaçıncı başbakanları sayamadık. Basında \"Buzdolabındaki marul bile başbakanlarımızdan daha uzun dayanıyor\" geyikleri çevriliyor.\\r\\nAnlıyoruz, Johnson da hâlâ siyasetteki iddiasını kaybetmemiş. Bir şans daha istiyor. Normaldir.\\r\\nNe var ki bunu zamanında kendisini başbakan seçen İngiliz halkından değil, başını yiyenlerden istiyor.\\r\\nHâliyle de talep ettiği şey artık İngiltere\\'nin iktidarı değil sömürge valiliği koltuğu.\\r\\nÖyle ya adamlar zaten İngiltere\\'ye, kökü Hindistan\\'ın sömürge soylularına dayanan bir yediemin atadılar. AB\\'nin sığ limanından demir alıp üçüncü yol okyanusuna yelken açmaya cüret eden İngiltere\\'nin yeniden entegrasyonu projesini bizzat kendi adamlarıyla yürütüyorlar.\\r\\nAli Kemal\\'in torunu Boris Bey\\'in daha fazla sadakat göstereceğine neden inansınlar ki?\\r\\nSizce de \"Üzerinde güneş batmayan imparatorluk\" için acıklı, bağımsızlığını arayan tüm ulus devletler içinse ibretlik bir akıbet değil mi?\\n***\\n\\nAĞANIN MALI ÇIKAR UŞAĞIN CANI\\r\\nİyi Parti\\'nin yerel seçimlere bağımsız girme kararını açıklamasının ardından, bağımsız gazeteci pozlarıyla tanıdığımız CHP\\'li arzuhalcileri izliyor musunuz?\\r\\nAçık açık köşelerinden İyi Partili siyasetçileri tehdit ediyorlar. Seçilmiş siyasilere \"Trol\" diyorlar.\\r\\nSukutuhayale uğrayan CHP ve belediye başkan adayları bile, ekranda \"Bana giren çıkan yok\" diye ağzını bozan gazeteciler kadar sinirli görünmüyorlar.\\n\\n\\n\\r\\nEvet, bir süredir bu hâldeler. Seçim öncesi de Kemal Bey\\'i terbiyesizce hırpalıyorlardı. O çok sevdikleri tarafsızlık numarasını bile yapamayacak kadar kontrolü kaybettiler.\\r\\nSizce neden?\\n\"İktidar hayalleri suya düştü, belediye mamaları da kesilecek ya, amatörleşmeleri ondan\" diyoruz, kızıyorlar.\\r\\n\"Peki neden o hâlde?\" diye ısrar ediyoruz.\\r\\n\"CHP\\'nin, muhalefetin iyiliği için\" diyorlar.\\r\\nAman, \"Peki ya iktidar taraftarlarının iyiliği ne olacak?\" diye sormayın.\\r\\n\"Yandaş\" derler.\\r\\nBiz bu uşaklarla ne yapacağız?\\n***\\n\\nBÜYÜKERŞEN\\'İN SUÇU NE?\\r\\nHerkes Eskişehir Büyükşehir Belediye Başkanı Yılmaz Büyükerşen\\'in yeniden aday gösterilmesini eleştiriyor.\\n86 yaşında olan Büyükerşen ise \"İnsan kendisini hissettiği yaşta sayar. Kendimi hiçbir zaman yaşlı hissetmedim\" diyor ve devam ediyor:\\r\\n\"1999\\'da siyasete girdim. Artan oy oranıyla 5 dönem seçimi kazandım. Son seçimde oy oranım yüzde 52.8, partimizin Eskişehir\\'de genelde oyu yüzde 25-30 arasında oynar. Türkiye\\'de muhalefet partileri içinde oy yüzdesi en yüksek olanlardan birisiyim.\"\\n\\n\\n\\r\\nBüyükerşen gayet dinç görünüyor. Yaşam enerjisini çalışmaktan aldığı ortada. Eleştirilere rağmen son tahlilde de Eskişehir halkını ikna etmeyi, sandıktan çıkmayı başarıyor. Kim ne diyebilir?\\r\\nBüyükerşen\\'in yerinde olsam, \"Söz, deneyimimi acemi rakiplerimin aleyhine kullanmayacağım\" der, güler geçerim.\\r\\nGerisini, genç olduğu hâlde bir ihtiyarı deviremeyen rakipleri düşünsün.\\n'"
      ]
     },
     "execution_count": 39,
     "metadata": {},
     "output_type": "execute_result"
    }
   ],
   "source": [
    "text=soup.find('div',class_='newsBox').text\n",
    "text\n"
   ]
  }
 ],
 "metadata": {
  "colab": {
   "provenance": []
  },
  "kernelspec": {
   "display_name": "Python 3 (ipykernel)",
   "language": "python",
   "name": "python3"
  },
  "language_info": {
   "codemirror_mode": {
    "name": "ipython",
    "version": 3
   },
   "file_extension": ".py",
   "mimetype": "text/x-python",
   "name": "python",
   "nbconvert_exporter": "python",
   "pygments_lexer": "ipython3",
   "version": "3.11.4"
  }
 },
 "nbformat": 4,
 "nbformat_minor": 1
}
