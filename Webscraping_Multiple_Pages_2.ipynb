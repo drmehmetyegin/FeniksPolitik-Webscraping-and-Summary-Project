{
 "cells": [
  {
   "cell_type": "code",
   "execution_count": 176,
   "metadata": {
    "scrolled": true
   },
   "outputs": [],
   "source": [
    "import requests"
   ]
  },
  {
   "cell_type": "code",
   "execution_count": 177,
   "metadata": {},
   "outputs": [],
   "source": [
    "from bs4 import BeautifulSoup"
   ]
  },
  {
   "cell_type": "code",
   "execution_count": 178,
   "metadata": {},
   "outputs": [],
   "source": [
    "import pandas as pd"
   ]
  },
  {
   "cell_type": "code",
   "execution_count": 179,
   "metadata": {},
   "outputs": [],
   "source": [
    "url0='https://www.hurriyet.com.tr/yazarlar/abdulkadir-selvi/'\n",
    "response = requests.get(url0)\n",
    "response = response.content\n",
    "soup = BeautifulSoup(response, 'html.parser')\n"
   ]
  },
  {
   "cell_type": "code",
   "execution_count": 182,
   "metadata": {},
   "outputs": [
    {
     "data": {
      "text/plain": [
       "['Hürriyet Ana sayfa']"
      ]
     },
     "execution_count": 182,
     "metadata": {},
     "output_type": "execute_result"
    }
   ],
   "source": [
    "soup.a.get_attribute_list('title')"
   ]
  },
  {
   "cell_type": "code",
   "execution_count": 169,
   "metadata": {},
   "outputs": [
    {
     "ename": "SyntaxError",
     "evalue": "unterminated string literal (detected at line 1) (1009252697.py, line 1)",
     "output_type": "error",
     "traceback": [
      "\u001b[0;36m  Cell \u001b[0;32mIn[169], line 1\u001b[0;36m\u001b[0m\n\u001b[0;31m    css_soup = BeautifulSoup(''div', class_='highlighted-box mb20', 'html.parser')\u001b[0m\n\u001b[0m                                                                                ^\u001b[0m\n\u001b[0;31mSyntaxError\u001b[0m\u001b[0;31m:\u001b[0m unterminated string literal (detected at line 1)\n"
     ]
    }
   ],
   "source": [
    "css_soup = BeautifulSoup(''div', class_='highlighted-box mb20', 'html.parser')\n",
    "css_soup.p['href']"
   ]
  },
  {
   "cell_type": "code",
   "execution_count": 153,
   "metadata": {},
   "outputs": [],
   "source": [
    "import re"
   ]
  },
  {
   "cell_type": "code",
   "execution_count": 186,
   "metadata": {},
   "outputs": [
    {
     "data": {
      "text/plain": [
       "'MİT ile MOSSAD arasında casuslar savaşı mı yaşanacak'"
      ]
     },
     "execution_count": 186,
     "metadata": {},
     "output_type": "execute_result"
    }
   ],
   "source": [
    "box=soup.h2.string\n",
    "box"
   ]
  },
  {
   "cell_type": "code",
   "execution_count": 168,
   "metadata": {},
   "outputs": [
    {
     "ename": "KeyError",
     "evalue": "'href'",
     "output_type": "error",
     "traceback": [
      "\u001b[0;31m---------------------------------------------------------------------------\u001b[0m",
      "\u001b[0;31mKeyError\u001b[0m                                  Traceback (most recent call last)",
      "Cell \u001b[0;32mIn[168], line 1\u001b[0m\n\u001b[0;32m----> 1\u001b[0m soup[\u001b[38;5;124m'\u001b[39m\u001b[38;5;124mhref\u001b[39m\u001b[38;5;124m'\u001b[39m]\n",
      "File \u001b[0;32m~/anaconda3/lib/python3.11/site-packages/bs4/element.py:1573\u001b[0m, in \u001b[0;36mTag.__getitem__\u001b[0;34m(self, key)\u001b[0m\n\u001b[1;32m   1570\u001b[0m \u001b[38;5;28;01mdef\u001b[39;00m \u001b[38;5;21m__getitem__\u001b[39m(\u001b[38;5;28mself\u001b[39m, key):\n\u001b[1;32m   1571\u001b[0m \u001b[38;5;250m    \u001b[39m\u001b[38;5;124;03m\"\"\"tag[key] returns the value of the 'key' attribute for the Tag,\u001b[39;00m\n\u001b[1;32m   1572\u001b[0m \u001b[38;5;124;03m    and throws an exception if it's not there.\"\"\"\u001b[39;00m\n\u001b[0;32m-> 1573\u001b[0m     \u001b[38;5;28;01mreturn\u001b[39;00m \u001b[38;5;28mself\u001b[39m\u001b[38;5;241m.\u001b[39mattrs[key]\n",
      "\u001b[0;31mKeyError\u001b[0m: 'href'"
     ]
    }
   ],
   "source": [
    "soup['href']"
   ]
  },
  {
   "cell_type": "code",
   "execution_count": 154,
   "metadata": {},
   "outputs": [
    {
     "data": {
      "text/plain": [
       "[]"
      ]
     },
     "execution_count": 154,
     "metadata": {},
     "output_type": "execute_result"
    }
   ],
   "source": [
    "box.find_all(href=re.compile(\"yazarlar\"))"
   ]
  },
  {
   "cell_type": "code",
   "execution_count": 148,
   "metadata": {},
   "outputs": [
    {
     "data": {
      "text/plain": [
       "'MİT ile MOSSAD arasında casuslar savaşı mı yaşanacak'"
      ]
     },
     "execution_count": 148,
     "metadata": {},
     "output_type": "execute_result"
    }
   ],
   "source": [
    "box.a.get_text()"
   ]
  },
  {
   "cell_type": "code",
   "execution_count": 149,
   "metadata": {},
   "outputs": [
    {
     "data": {
      "text/plain": [
       "<a class=\"title title-news-detail\" href=\"/yazarlar/abdulkadir-selvi/mit-ile-mossad-arasinda-casuslar-savasi-mi-yasanacak-42372908\" title=\"\">New link text.</a>"
      ]
     },
     "execution_count": 149,
     "metadata": {},
     "output_type": "execute_result"
    }
   ],
   "source": [
    "tag=box.a\n",
    "tag.string=\"New link text.\"\n",
    "tag"
   ]
  },
  {
   "cell_type": "code",
   "execution_count": 166,
   "metadata": {},
   "outputs": [
    {
     "data": {
      "text/plain": [
       "[<a class=\"homeback\" data-google-interstitial=\"false\" href=\"/\" title=\"Hürriyet Ana sayfa\"></a>,\n",
       " <a class=\"sidebar__logo\" data-google-interstitial=\"false\" href=\"https://www.hurriyet.com.tr/\" title=\"Hürriyet - Haber, Son Dakika Haberler, Güncel Gazete Haberleri\"><img alt=\"Hürriyet - Haber, Son Dakika Haberler, Güncel Gazete Haberleri\" class=\"sidebar__logo--img\" data-hero=\"\" data-src=\"//s.hurriyet.com.tr/static/images/redesign/hurriyet-logo-red.svg?v=octo-20.512.0.1874\" height=\"33\" title=\"Hürriyet - Haber, Son Dakika Haberler, Güncel Gazete Haberleri\" width=\"120\"/></a>,\n",
       " <a class=\"sidebar--link\" href=\"https://www.hurriyet.com.tr/gundem/\" rel=\"noreferrer\" target=\"_self\" title=\"Gündem\">GÜNDEM</a>,\n",
       " <a class=\"sidebar--link\" href=\"/dunya/\" rel=\"noreferrer\" target=\"_self\" title=\"dünya\">DÜNYA</a>,\n",
       " <a class=\"sidebar--link toggle\" href=\"javascript:;\">BİGPARA</a>,\n",
       " <a class=\"submenu--link\" href=\"https://bigpara.hurriyet.com.tr/\" rel=\"noreferrer\" target=\"_blank\" title=\"bigpara\">ANASAYFA</a>,\n",
       " <a class=\"submenu--link\" href=\"https://bigpara.hurriyet.com.tr/borsa/canli-borsa/\" rel=\"noreferrer\" target=\"_self\" title=\"borsa\">BORSA</a>,\n",
       " <a class=\"submenu--link\" href=\"https://bigpara.hurriyet.com.tr/doviz/\" rel=\"noreferrer\" target=\"_self\" title=\"döviz\">DÖVİZ</a>,\n",
       " <a class=\"submenu--link\" href=\"https://bigpara.hurriyet.com.tr/altin/\" rel=\"noreferrer\" target=\"_self\" title=\"altin\">ALTIN</a>,\n",
       " <a class=\"submenu--link\" href=\"https://bigpara.hurriyet.com.tr/viop-varant/\" rel=\"noreferrer\" target=\"_self\" title=\"viop-varant\">VİOP&amp;VARANT</a>,\n",
       " <a class=\"submenu--link\" href=\"https://bigpara.hurriyet.com.tr/analiz/\" rel=\"noreferrer\" target=\"_self\" title=\"analiz\">ANALİZ</a>,\n",
       " <a class=\"submenu--link\" href=\"https://bigpara.hurriyet.com.tr/kobi/\" rel=\"noreferrer\" target=\"_self\" title=\"kobi\">KOBİ</a>,\n",
       " <a class=\"submenu--link\" href=\"https://bigpara.hurriyet.com.tr/kripto-paralar/\" rel=\"noreferrer\" target=\"_self\" title=\"kripto-paralar\">KRİPTO PARALAR</a>,\n",
       " <a class=\"sidebar--link toggle\" href=\"javascript:;\">SPOR ARENA</a>,\n",
       " <a class=\"submenu--link\" href=\"/sporarena/\" rel=\"noreferrer\" target=\"_blank\" title=\"spor\">ANASAYFA</a>,\n",
       " <a class=\"submenu--link\" href=\"/sporarena/futbol/\" rel=\"noreferrer\" target=\"_blank\" title=\"futbol\">FUTBOL</a>,\n",
       " <a class=\"submenu--link\" href=\"/sporarena/basketbol/\" rel=\"noreferrer\" target=\"_blank\" title=\"basketbol\">BASKETBOL</a>,\n",
       " <a class=\"submenu--link\" href=\"/sporarena/voleybol/\" rel=\"noreferrer\" target=\"_blank\" title=\"voleybol\">VOLEYBOL</a>,\n",
       " <a class=\"submenu--link\" href=\"/sporarena/espor/\" rel=\"noreferrer\" target=\"_blank\" title=\"espor\">E-SPOR</a>,\n",
       " <a class=\"submenu--link\" href=\"/sporarena/canli-skor/\" rel=\"noreferrer\" target=\"_blank\" title=\"canli skor\">CANLI SKOR</a>,\n",
       " <a class=\"sidebar--link toggle\" href=\"javascript:;\">KELEBEK</a>,\n",
       " <a class=\"submenu--link\" href=\"/kelebek-magazin/\" rel=\"noreferrer\" target=\"_blank\" title=\"kelebek\">ANASAYFA</a>,\n",
       " <a class=\"submenu--link\" href=\"/televizyon/\" rel=\"noreferrer\" target=\"_self\" title=\"ekranda\">EKRANDA</a>,\n",
       " <a class=\"submenu--link\" href=\"/hayat/\" rel=\"noreferrer\" target=\"_self\" title=\"hayat\">HAYAT</a>,\n",
       " <a class=\"submenu--link\" href=\"/seyahat/\" rel=\"noreferrer\" target=\"_self\" title=\"seyahat\">SEYAHAT</a>,\n",
       " <a class=\"submenu--link\" href=\"/stil/\" rel=\"noreferrer\" target=\"_self\" title=\"stil\">STİL</a>,\n",
       " <a class=\"submenu--link\" href=\"/kelebek/mucize-lezzetler/\" rel=\"noreferrer\" target=\"_self\" title=\"mucize lezzetler\">MUCİZE LEZZETLER</a>,\n",
       " <a class=\"sidebar--link toggle\" href=\"javascript:;\">YAŞAM</a>,\n",
       " <a class=\"submenu--link\" href=\"/yasam/\" rel=\"noreferrer\" target=\"_blank\" title=\"yasam\">ANASAYFA</a>,\n",
       " <a class=\"submenu--link\" href=\"https://www.hurriyet.com.tr/cumartesi/ \" rel=\"noreferrer\" target=\"_blank\" title=\"cumartesi\">CUMARTESİ</a>,\n",
       " <a class=\"submenu--link\" href=\"/pazar/\" rel=\"noreferrer\" target=\"_blank\" title=\"pazar\">PAZAR</a>,\n",
       " <a class=\"submenu--link\" href=\"https://www.hurriyet.com.tr/lezzetli-hayat/\" rel=\"noreferrer\" target=\"_blank\" title=\"Lezzetli hayat\">LEZZETLİ HAYAT</a>,\n",
       " <a class=\"submenu--link\" href=\"https://www.hurriyet.com.tr/cocuklu-hayat/\" rel=\"noreferrer\" target=\"_blank\" title=\"\">ÇOCUKLA HAYAT</a>,\n",
       " <a class=\"submenu--link\" href=\"/seyahat/\" rel=\"noreferrer\" target=\"_blank\" title=\"seyahat\">SEYAHAT</a>,\n",
       " <a class=\"sidebar--link\" href=\"/yazarlar\" rel=\"noreferrer\" target=\"_self\" title=\"YAZARLAR\">YAZARLAR</a>,\n",
       " <a class=\"sidebar--link\" href=\"/resmi-ilanlar/\" rel=\"noreferrer\" target=\"_blank\" title=\"RESMİ İLANLAR\">RESMİ İLANLAR</a>,\n",
       " <a class=\"sidebar--link\" href=\"/astroloji/\" rel=\"noreferrer\" target=\"_self\" title=\"astroloji\">ASTROLOJİ</a>,\n",
       " <a class=\"sidebar--link toggle\" href=\"javascript:;\">TÜMÜ</a>,\n",
       " <a class=\"submenu--link\" href=\"/ekonomi\" rel=\"noreferrer\" target=\"_self\" title=\"EKONOMİ\">EKONOMİ</a>,\n",
       " <a class=\"submenu--link\" href=\"/tv-rehberi/\" rel=\"noreferrer\" target=\"_self\" title=\"TV REHBERİ\">TV REHBERİ</a>,\n",
       " <a class=\"submenu--link\" href=\"/mahmure/\" rel=\"noreferrer\" target=\"_self\" title=\"mahmure\">MAHMURE</a>,\n",
       " <a class=\"submenu--link\" href=\"/aile/\" rel=\"noreferrer\" target=\"_self\" title=\"aile\">HÜRRİYET AİLE</a>,\n",
       " <a class=\"submenu--link\" href=\"/video/\" rel=\"noreferrer\" target=\"_self\" title=\"video\">VİDEO</a>,\n",
       " <a class=\"submenu--link\" href=\"/astroloji/\" rel=\"noreferrer\" target=\"_self\" title=\"astroloji\">ASTROLOJİ</a>,\n",
       " <a class=\"submenu--link\" href=\"/bulmaca-coz/\" rel=\"noreferrer\" target=\"_self\" title=\"bulmaca coz\">BULMACA</a>,\n",
       " <a class=\"submenu--link\" href=\"/en-iyi-on/\" rel=\"noreferrer\" target=\"_self\" title=\"en iyi on\">EN İYİ ON </a>,\n",
       " <a class=\"submenu--link\" href=\"/dizi-izle/\" rel=\"noreferrer\" target=\"_self\" title=\"dizi-izle\">DİZİ İZLE</a>,\n",
       " <a class=\"submenu--link\" href=\"/cuma/\" rel=\"noreferrer\" target=\"_self\" title=\"cuma\">CUMA</a>,\n",
       " <a class=\"submenu--link\" href=\"/lezizz/\" rel=\"noreferrer\" target=\"_self\" title=\"lezizz\">LEZİZZ</a>,\n",
       " <a class=\"submenu--link\" href=\"/teknoloji/\" rel=\"noreferrer\" target=\"_self\" title=\"teknoloji\">TEKNOLOJİ</a>,\n",
       " <a class=\"submenu--link\" href=\"/foto-galeri/\" rel=\"noreferrer\" target=\"_self\" title=\"foto galeri\">FOTO GALERİ</a>,\n",
       " <a class=\"submenu--link\" href=\"/ramazan/\" rel=\"noreferrer\" target=\"_self\" title=\"ramazan\">RAMAZAN</a>,\n",
       " <a class=\"submenu--link\" href=\"/kitap-sanat/\" rel=\"noreferrer\" target=\"_self\" title=\"kitap sanat\">KİTAP SANAT</a>,\n",
       " <a class=\"submenu--link\" href=\"/hava-durumu/\" rel=\"noreferrer\" target=\"_self\" title=\"hava durumu\">HAVA DURUMU</a>,\n",
       " <a class=\"submenu--link\" href=\"/avrupa/\" rel=\"noreferrer\" target=\"_self\" title=\"avrupa\">AVRUPA</a>,\n",
       " <a class=\"submenu--link\" href=\"/egitim/\" rel=\"noreferrer\" target=\"_self\" title=\"egitim\">EĞİTİM</a>,\n",
       " <a class=\"submenu--link\" href=\"/ik/\" rel=\"noreferrer\" target=\"_self\" title=\"ik\">IK/YENİ EKONOMİ</a>,\n",
       " <a class=\"submenu--link\" href=\"/son-dakika-haberleri/\" rel=\"noreferrer\" target=\"_self\" title=\"son dakika haberleri\">SON DAKİKA</a>,\n",
       " <a class=\"submenu--link\" href=\"/yerel-haberler/\" rel=\"noreferrer\" target=\"_self\" title=\"yerel haberler\">YEREL HABERLER</a>,\n",
       " <a class=\"submenu--link\" href=\"/bizeulasin/\" rel=\"noreferrer\" target=\"_self\" title=\"bize ulasın\">BİZE ULAŞIN</a>,\n",
       " <a class=\"submenu--link\" href=\"/veri-politikasi/\" rel=\"noreferrer\" target=\"_self\" title=\"veri politikası\">VERİ POLİTİKASI</a>,\n",
       " <a class=\"submenu--link\" href=\"/kunye/\" rel=\"noreferrer\" target=\"_blank\" title=\"künye\">KÜNYE</a>,\n",
       " <a class=\"sidebar__emails\" href=\"https://uyelikyonetim.hurriyet.com.tr/\" title=\"E-bültenler\">E-bültenler</a>,\n",
       " <a class=\"sidebar__dailynews\" href=\"https://hesabim.hurriyet.com.tr/#/e-gazete\" title=\"Günlük Egazete\">Günlük Egazete</a>,\n",
       " <a class=\"sidebar__social--link\" href=\"https://www.facebook.com/hurriyet/\" title=\"Hürriyet Facebook\"><img alt=\"Hürriyet Facebook\" data-src=\"//s.hurriyet.com.tr/static/images/redesign/ic-facebook.svg?v=octo-20.512.0.1874\" height=\"16\" title=\"Hürriyet Facebook\" width=\"16\"/></a>,\n",
       " <a class=\"sidebar__social--link\" href=\"https://twitter.com/Hurriyet\" title=\"Hürriyet Twitter\"><img alt=\"Hürriyet Twitter\" data-src=\"//s.hurriyet.com.tr/static/images/redesign/ic-twitter.svg?v=octo-20.512.0.1874\" height=\"14\" title=\"Hürriyet Twitter\" width=\"15\"/></a>,\n",
       " <a class=\"sidebar__social--link\" href=\"https://www.linkedin.com/company/hurriyet/\" title=\"Hürriyet Linkedin\"><img alt=\"Hürriyet Linkedin\" data-src=\"//s.hurriyet.com.tr/static/images/redesign/ic-linkedin.svg?v=octo-20.512.0.1874\" height=\"16\" title=\"Hürriyet Linkedin\" width=\"17\"/></a>,\n",
       " <a class=\"sidebar__social--link\" href=\"https://www.youtube.com/user/hurriyettvcom\" title=\"Hürriyet Youtube\"><img alt=\"Hürriyet Youtube\" data-src=\"//s.hurriyet.com.tr/static/images/redesign/ic-youtube.svg?v=octo-20.512.0.1874\" height=\"12\" title=\"Hürriyet Youtube\" width=\"17\"/></a>,\n",
       " <a class=\"sidebar__social--link\" href=\"https://www.instagram.com/hurriyetcomtr/\" title=\"Hürriyet Instagram\"><img alt=\"Hürriyet Instagram\" data-src=\"//s.hurriyet.com.tr/static/images/redesign/ic-instagram.svg?v=octo-20.512.0.1874\" height=\"16\" title=\"Hürriyet Instagram\" width=\"16\"/></a>,\n",
       " <a class=\"sidebar__contract--link\" href=\"https://www.hurriyet.com.tr/kullanim-kosullari/\" rel=\"noreferrer\" target=\"_blank\" title=\"Kullanım  Koşulları\">Kullanım  Koşulları</a>,\n",
       " <a class=\"sidebar__contract--link\" href=\"https://www.hurriyet.com.tr/veri-politikasi/\" rel=\"noreferrer\" target=\"_blank\" title=\"Gizlilik Politikası\">Gizlilik Politikası</a>,\n",
       " <a class=\"sidebar__contract--link\" href=\"https://www.hurriyet.com.tr/bizeulasin/\" rel=\"noreferrer\" target=\"_blank\" title=\"İletişim\">İletişim</a>,\n",
       " <a href=\"https://apps.apple.com/tr/app/h%C3%BCrriyet-son-dakika-haberler/id307878588?l=tr\" title=\"Hürriyet sondakika haber ios uygulaması\"><img alt=\"Hürriyet sondakika haber ios uygulaması\" data-src=\"//s.hurriyet.com.tr/static/images/redesign/ic-app-store.png?v=octo-20.512.0.1874\" height=\"53\" title=\"Hürriyet sondakika haber ios uygulaması\" width=\"135\"/></a>,\n",
       " <a href=\"https://play.google.com/store/apps/details?id=hurriyet.mobil.android&amp;gl=TR\" title=\"Hürriyet sondakika haber android uygulaması\"><img alt=\"Hürriyet sondakika haber android uygulaması\" data-src=\"//s.hurriyet.com.tr/static/images/redesign/ic-google-play.png?v=octo-20.512.0.1874\" height=\"53\" title=\"Hürriyet sondakika haber android uygulaması\" width=\"135\"/></a>,\n",
       " <a class=\"header__logo\" data-google-interstitial=\"false\" href=\"/\" title=\"son dakika haberler\"><img alt=\"son dakika haberler\" class=\"header__logo--img\" height=\"28\" src=\"//s.hurriyet.com.tr/static/images/redesign/hurriyet-logo-white.svg?v=octo-20.512.0.1874\" title=\"son dakika haberler\" width=\"101\"/></a>,\n",
       " <a class=\"header__menu--link\" href=\"/gundem/\" rel=\"noreferrer\" target=\"_self\" title=\"/gundem/\">GÜNDEM</a>,\n",
       " <a class=\"header__menu--link\" href=\"https://www.hurriyet.com.tr/dunya/\" rel=\"noreferrer\" target=\"_self\" title=\"Dünya\">DÜNYA</a>,\n",
       " <a class=\"header__menu--link\" href=\"https://bigpara.hurriyet.com.tr/\" rel=\"noreferrer\" target=\"_self\" title=\"bigpara\">BİGPARA</a>,\n",
       " <a class=\"header__menu--link\" data-track-id=\"menu-item-top\" href=\"/sporarena/\" rel=\"noreferrer\" target=\"_self\" title=\"SPOR ARENA\">SPOR ARENA</a>,\n",
       " <a class=\"header__menu--link\" href=\"/kelebek-magazin/\" rel=\"noreferrer\" target=\"_self\" title=\"KELEBEK\">KELEBEK</a>,\n",
       " <a class=\"header__menu--link\" href=\"/yasam/\" rel=\"noreferrer\" target=\"_self\" title=\"yasam\">YAŞAM</a>,\n",
       " <a class=\"header__menu--link\" href=\"/yazarlar/\" rel=\"noreferrer\" target=\"_self\" title=\"YAZARLAR\">YAZARLAR</a>,\n",
       " <a class=\"header__menu--link\" href=\"/resmi-ilanlar/\" rel=\"noreferrer\" target=\"_blank\" title=\"RESMİ İLANLAR\">RESMİ İLANLAR</a>,\n",
       " <a class=\"header__external--notification\" href=\"/bildirimler\" rel=\"noreferrer\" title=\"Hürriyet Bildirimler\"><i class=\"header__external--notification--icon\" title=\"Hürriyet Bildirimler\"><span class=\"--active\"></span></i></a>,\n",
       " <a class=\"header__external--account hurriyet-premium-box\" href=\"https://u.hurriyet.com.tr/accounts/login\" id=\"btn-dm-signin\">GİRİŞ</a>,\n",
       " <a class=\"author-submenu__author\" href=\"/yazarlar/\">Yazarlar</a>,\n",
       " <a class=\"author-submenu__other__link\" href=\"/yazarlar/\" rel=\"noreferrer\" target=\"_blank\" title=\"Bugünün Yazıları\">Bugünün Yazıları</a>,\n",
       " <a class=\"author-submenu__other__link\" href=\"/yazarlar/internet-yazilari/\" rel=\"noreferrer\" target=\"_blank\" title=\"Hürriyet.com.tr Yazıları\">Hürriyet.com.tr Yazıları</a>,\n",
       " <a class=\"author-submenu__other__link\" href=\"/yazarlar/tum-yazarlar/\" rel=\"noreferrer\" target=\"_blank\" title=\"Tüm Yazarlar\">Tüm Yazarlar</a>,\n",
       " <a class=\"author-submenu__other__link\" href=\"/yazarlar/arsiv-yazarlari/\" rel=\"noreferrer\" target=\"_self\" title=\"Arşiv Yazarları\">Arşiv Yazarları</a>,\n",
       " <a href=\"https://www.hurriyet.com.tr\">Haberler</a>,\n",
       " <a href=\"https://www.hurriyet.com.tr/yazarlar/\" title=\"Yazarlar\">Yazarlar </a>,\n",
       " <a class=\"author-image-link\" href=\"/yazarlar/abdulkadir-selvi/\"><img alt=\"Abdulkadir Selvi\" class=\"author-info-image\" height=\"120\" src=\"https://image.hurimg.com/i/hurriyet/75/120x120/5701682267b0a90bdc503454.jpg\" width=\"120\"/> </a>,\n",
       " <a href=\"mailto:aselvi@hurriyet.com.tr\" title=\"Abdulkadir Selvi ile iletişime geç\"><i class=\"fa fa-envelope-o\"></i></a>,\n",
       " <a class=\"medyanet-nofollow\" href=\"/yazarlar/abdulkadir-selvi/mit-ile-mossad-arasinda-casuslar-savasi-mi-yasanacak-42372908\" title=\"MİT ile MOSSAD arasında casuslar savaşı mı yaşanacak\"><div class=\"read-more\"> <span class=\"authors-fullarticle\">Yazının Devamını Oku <img alt=\"\" class=\"right-arrow\" height=\"14\" src=\"//s.hurriyet.com.tr/static/images/hurriyet/fullarticle-arrow.png\" width=\"14\"/></span></div></a>,\n",
       " <a class=\"title title-news-detail\" href=\"/yazarlar/abdulkadir-selvi/denizbank-yoneticileri-ponzi-secil-olayinda-ifadeye-cagrilmis-42372337\" title=\"\">Denizbank yöneticileri Ponzi Seçil olayında ifadeye çağrılmış</a>,\n",
       " <a class=\"medyanet-nofollow\" href=\"/yazarlar/abdulkadir-selvi/denizbank-yoneticileri-ponzi-secil-olayinda-ifadeye-cagrilmis-42372337\" title=\"Denizbank yöneticileri Ponzi Seçil olayında ifadeye çağrılmış\"><div class=\"read-more\"><span class=\"authors-fullarticle\">Yazının Devamını Oku <img alt=\"\" class=\"right-arrow\" height=\"14\" src=\"//s.hurriyet.com.tr/static/images/hurriyet/fullarticle-arrow.png\" width=\"14\"/></span></div></a>,\n",
       " <a class=\"title title-news-detail\" href=\"/yazarlar/abdulkadir-selvi/icisleri-bakani-ile-konustuklarimiz-ve-izlenimim-42371864\" title=\"\">İçişleri Bakanı ile konuştuklarımız ve izlenimim</a>,\n",
       " <a class=\"medyanet-nofollow\" href=\"/yazarlar/abdulkadir-selvi/icisleri-bakani-ile-konustuklarimiz-ve-izlenimim-42371864\" title=\"İçişleri Bakanı ile konuştuklarımız ve izlenimim\"><div class=\"read-more\"><span class=\"authors-fullarticle\">Yazının Devamını Oku <img alt=\"\" class=\"right-arrow\" height=\"14\" src=\"//s.hurriyet.com.tr/static/images/hurriyet/fullarticle-arrow.png\" width=\"14\"/></span></div></a>,\n",
       " <a class=\"title title-news-detail\" href=\"/yazarlar/abdulkadir-selvi/iyi-partinin-karari-secim-sonuclarini-etkileyecek-42371339\" title=\"\">İYİ Parti’nin kararı seçim sonuçlarını etkileyecek</a>,\n",
       " <a class=\"medyanet-nofollow\" href=\"/yazarlar/abdulkadir-selvi/iyi-partinin-karari-secim-sonuclarini-etkileyecek-42371339\" title=\"İYİ Parti’nin kararı seçim sonuçlarını etkileyecek\"><div class=\"read-more\"><span class=\"authors-fullarticle\">Yazının Devamını Oku <img alt=\"\" class=\"right-arrow\" height=\"14\" src=\"//s.hurriyet.com.tr/static/images/hurriyet/fullarticle-arrow.png\" width=\"14\"/></span></div></a>,\n",
       " <a class=\"title title-news-detail\" href=\"/yazarlar/abdulkadir-selvi/iyi-parti-chp-ile-secim-isbirligi-karari-alacak-mi-42370843\" title=\"\">İYİ Parti CHP ile seçim işbirliği kararı alacak mı</a>,\n",
       " <a class=\"medyanet-nofollow\" href=\"/yazarlar/abdulkadir-selvi/iyi-parti-chp-ile-secim-isbirligi-karari-alacak-mi-42370843\" title=\"İYİ Parti CHP ile seçim işbirliği kararı alacak mı\"><div class=\"read-more\"><span class=\"authors-fullarticle\">Yazının Devamını Oku <img alt=\"\" class=\"right-arrow\" height=\"14\" src=\"//s.hurriyet.com.tr/static/images/hurriyet/fullarticle-arrow.png\" width=\"14\"/></span></div></a>,\n",
       " <a class=\"title title-news-detail\" href=\"/yazarlar/abdulkadir-selvi/cumhurbaskani-erdogan-dubai-donusu-gazetecilere-konustu-dilan-polat-secil-erzan-sorusu-ve-erdoganin-tavri-42370462\" title=\"\">Cumhurbaşkanı Erdoğan Dubai dönüşü gazetecilere konuştu: Dilan Polat- Seçil Erzan sorusu ve Erdoğan’ın tavrı</a>,\n",
       " <a class=\"medyanet-nofollow\" href=\"/yazarlar/abdulkadir-selvi/cumhurbaskani-erdogan-dubai-donusu-gazetecilere-konustu-dilan-polat-secil-erzan-sorusu-ve-erdoganin-tavri-42370462\" title=\"Cumhurbaşkanı Erdoğan Dubai dönüşü gazetecilere konuştu: Dilan Polat- Seçil Erzan sorusu ve Erdoğan’ın tavrı\"><div class=\"read-more\"><span class=\"authors-fullarticle\">Yazının Devamını Oku <img alt=\"\" class=\"right-arrow\" height=\"14\" src=\"//s.hurriyet.com.tr/static/images/hurriyet/fullarticle-arrow.png\" width=\"14\"/></span></div></a>,\n",
       " <a class=\"title title-news-detail\" href=\"/yazarlar/abdulkadir-selvi/ponzi-secilin-verdigi-sifre-ve-denizbankin-dilekcesindeki-celiski-42369442\" title=\"\">Ponzi Seçil’in verdiği şifre ve Denizbank’ın dilekçesindeki çelişki</a>,\n",
       " <a class=\"medyanet-nofollow\" href=\"/yazarlar/abdulkadir-selvi/ponzi-secilin-verdigi-sifre-ve-denizbankin-dilekcesindeki-celiski-42369442\" title=\"Ponzi Seçil’in verdiği şifre ve Denizbank’ın dilekçesindeki çelişki\"><div class=\"read-more\"><span class=\"authors-fullarticle\">Yazının Devamını Oku <img alt=\"\" class=\"right-arrow\" height=\"14\" src=\"//s.hurriyet.com.tr/static/images/hurriyet/fullarticle-arrow.png\" width=\"14\"/></span></div></a>,\n",
       " <a class=\"title title-news-detail\" href=\"/yazarlar/abdulkadir-selvi/israilde-kasap-cok-devlet-adami-yok-42368946\" title=\"\">İsrail’de kasap çok devlet adamı yok</a>,\n",
       " <a class=\"medyanet-nofollow\" href=\"/yazarlar/abdulkadir-selvi/israilde-kasap-cok-devlet-adami-yok-42368946\" title=\"İsrail’de kasap çok devlet adamı yok\"><div class=\"read-more\"><span class=\"authors-fullarticle\">Yazının Devamını Oku <img alt=\"\" class=\"right-arrow\" height=\"14\" src=\"//s.hurriyet.com.tr/static/images/hurriyet/fullarticle-arrow.png\" width=\"14\"/></span></div></a>,\n",
       " <a class=\"pagination-item-wrapper\" data-pageindex=\"2\" href=\"/yazarlar/abdulkadir-selvi/?p=2\">2</a>,\n",
       " <a class=\"pagination-item-wrapper\" data-pageindex=\"3\" href=\"/yazarlar/abdulkadir-selvi/?p=3\">3</a>,\n",
       " <a class=\"pagination-item-wrapper\" data-pageindex=\"4\" href=\"/yazarlar/abdulkadir-selvi/?p=4\">4</a>,\n",
       " <a class=\"pagination-item-wrapper\" data-pageindex=\"5\" href=\"/yazarlar/abdulkadir-selvi/?p=5\">5</a>,\n",
       " <a aria-label=\"Next\" class=\"pagination-item-wrapper\" data-pageindex=\"-1\" href=\"/yazarlar/abdulkadir-selvi/?p=2\">»</a>,\n",
       " <a class=\"footer__logo\" href=\"/\" title=\"Hürriyet - Haber, Son Dakika Haberler, Güncel Gazete Haberleri\"><img alt=\"Hürriyet - Haber, Son Dakika Haberler, Güncel Gazete Haberleri\" data-hero=\"\" data-src=\"//s.hurriyet.com.tr/static/images/redesign/hurriyet-logo-red.svg?v=octo-20.512.0.1874\" height=\"32\" title=\"Hürriyet - Haber, Son Dakika Haberler, Güncel Gazete Haberleri\" width=\"120\"/></a>,\n",
       " <a class=\"footer__social--link\" href=\"https://www.facebook.com/hurriyet/\" rel=\"nofollow\" target=\"_blank\" title=\"Facebook\"><img alt=\"Facebook\" height=\"16\" src=\"//s.hurriyet.com.tr/static/images/redesign/ic-facebook.svg?v=octo-20.512.0.1874\" title=\"Facebook\" width=\"16\"/></a>,\n",
       " <a class=\"footer__social--link\" href=\"https://twitter.com/Hurriyet\" rel=\"nofollow\" target=\"_blank\" title=\"Twitter\"><img alt=\"Twitter\" height=\"16\" src=\"//s.hurriyet.com.tr/static/images/redesign/ic-twitter.svg?v=octo-20.512.0.1874\" title=\"Twitter\" width=\"16\"/></a>,\n",
       " <a class=\"footer__social--link\" href=\"https://www.instagram.com/hurriyetcomtr/\" rel=\"nofollow\" target=\"_blank\" title=\"\"><img alt=\"\" height=\"16\" src=\"//s.hurriyet.com.tr/static/images/redesign/ic-instagram.svg?v=octo-20.512.0.1874\" title=\"\" width=\"16\"/></a>,\n",
       " <a class=\"footer__social--link\" href=\"https://www.linkedin.com/company/hurriyet/\" rel=\"nofollow\" target=\"_blank\" title=\"\"><img alt=\"\" height=\"16\" src=\"//s.hurriyet.com.tr/static/images/redesign/ic-linkedin.svg?v=octo-20.512.0.1874\" title=\"\" width=\"16\"/></a>,\n",
       " <a class=\"footer__social--link\" href=\"https://www.youtube.com/c/hurriyet\" rel=\"nofollow\" target=\"_blank\" title=\"\"><img alt=\"\" height=\"16\" src=\"//s.hurriyet.com.tr/static/images/redesign/ic-youtube.svg?v=octo-20.512.0.1874\" title=\"\" width=\"16\"/></a>,\n",
       " <a class=\"footer__menu--link\" href=\"https://www.hurriyet.com.tr/\" target=\"_self\" title=\"Haberler\">Haberler</a>,\n",
       " <a class=\"footer__menu--link\" href=\"http://bigpara.hurriyet.com.tr/borsa/canli-borsa/\" rel=\"noreferrer\" target=\"_self\" title=\"Canlı Borsa\">Canlı Borsa</a>,\n",
       " <a class=\"footer__menu--link\" href=\"https://bigpara.hurriyet.com.tr/doviz/euro/\" rel=\"noreferrer\" target=\"_blank\" title=\"Euro TL\">Euro TL</a>,\n",
       " <a class=\"footer__menu--link\" href=\"/sporarena/puan-durumu/\" target=\"_self\" title=\"Puan Durumu\">Puan Durumu</a>,\n",
       " <a class=\"footer__menu--link\" href=\"/sans-oyunlari/\" target=\"_self\" title=\"Şans Oyunları\">Şans Oyunları</a>,\n",
       " <a class=\"footer__menu--link\" href=\"/galeri-ayetel-kursi-okunusu-ayetel-kursi-duasi-turkce-anlami-ve-diyanet-meali-arapca-yazilisi-faziletleri-ve-bilgiler-42300047\" target=\"_blank\" title=\"\">Ayetel Kürsi</a>,\n",
       " <a class=\"footer__menu--link\" href=\"/kunye/\" target=\"_self\" title=\"Künye\">Künye</a>,\n",
       " <a class=\"footer__menu--link\" href=\"/gundem/\" target=\"_self\" title=\"Güncel Haberler\">Güncel Haberler</a>,\n",
       " <a class=\"footer__menu--link\" href=\"/mahmure/astroloji/\" target=\"_self\" title=\"Burçlar\">Burçlar</a>,\n",
       " <a class=\"footer__menu--link\" href=\"/mahmure/astroloji/\" target=\"_self\" title=\"Astroloji\">Astroloji</a>,\n",
       " <a class=\"footer__menu--link\" href=\"/milli-piyango-sonuclari/\" target=\"_self\" title=\"Milli Piyango Sonuçları\">Milli Piyango Sonuçları</a>,\n",
       " <a class=\"footer__menu--link\" href=\"https://satis.hurriyet.com.tr/Default.aspx\" rel=\"nofollow\" target=\"_self\" title=\"Doğum Günü Gazetesi\">Doğum Günü Gazetesi</a>,\n",
       " <a class=\"footer__menu--link\" href=\"/mahmure/eglence/ruya-tabirleri/\" target=\"_blank\" title=\"\">Rüya Tabirleri</a>,\n",
       " <a class=\"footer__menu--link\" href=\"https://www.hurriyet.com.tr/yerel-haberler/\" target=\"_blank\" title=\"\">Yerel Haberler</a>,\n",
       " <a class=\"footer__menu--link\" href=\"/son-dakika-haberleri/\" target=\"_self\" title=\"Son Dakika Haberleri\">Son Dakika Haberleri</a>,\n",
       " <a class=\"footer__menu--link\" href=\"https://bigpara.hurriyet.com.tr/kripto/bitcoin-fiyati/\" rel=\"noreferrer\" target=\"_self\" title=\"Bitcoin\">Bitcoin</a>,\n",
       " <a class=\"footer__menu--link\" href=\"http://bigpara.hurriyet.com.tr/borsa/canli-borsa/\" rel=\"noreferrer\" target=\"_self\" title=\"Borsa\">Borsa</a>,\n",
       " <a class=\"footer__menu--link\" href=\"/tv-rehberi/\" target=\"_self\" title=\"Yayın Akışı\">Yayın Akışı</a>,\n",
       " <a class=\"footer__menu--link\" href=\"http://e-gazete.hurriyet.com.tr/\" rel=\"nofollow\" target=\"_self\" title=\"E-Gazete\">E-Gazete</a>,\n",
       " <a class=\"footer__menu--link\" href=\"/galeri-guzel-sozler-2022-ozlu-sozler-ile-en-anlamli-sevgiliye-etkileyici-romantik-resimli-ve-kisa-mesajlar-40792109\" target=\"_blank\" title=\"\">Güzel Sözler</a>,\n",
       " <a class=\"footer__menu--link\" href=\"/ramazan/istanbul-imsakiye/\" target=\"_blank\" title=\"\">İstanbul İmsakiye</a>,\n",
       " <a class=\"footer__menu--link\" href=\"https://bigpara.hurriyet.com.tr/doviz/\" rel=\"noreferrer\" target=\"_self\" title=\"Döviz Kuru\">Döviz Kuru</a>,\n",
       " <a class=\"footer__menu--link\" href=\"http://bigpara.hurriyet.com.tr/altin/22-ayar-bilezik-fiyati/\" rel=\"noreferrer\" target=\"_self\" title=\"Bilezik Fiyatları\">Bilezik Fiyatları</a>,\n",
       " <a class=\"footer__menu--link\" href=\"/mahmure/astroloji/yukselen-burc-hesaplama/\" target=\"_self\" title=\"Yükselen Burç\">Yükselen Burç</a>,\n",
       " <a class=\"footer__menu--link\" href=\"/hava-durumu/\" target=\"_self\" title=\"Hava Durumu\">Hava Durumu</a>,\n",
       " <a class=\"footer__menu--link\" href=\"/istanbul-namaz-vakitleri/\" target=\"_self\" title=\"Namaz Vakitleri\">Namaz Vakitleri</a>,\n",
       " <a class=\"footer__menu--link\" href=\"https://seriilan.hurriyet.com.tr/emlak.aspx\" rel=\"nofollow\" target=\"_self\" title=\"Seri İlanlar\">Seri İlanlar</a>,\n",
       " <a class=\"footer__menu--link\" href=\"/ramazan/ankara-imsakiye/\" target=\"_blank\" title=\"\">Ankara İmsakiye</a>,\n",
       " <a class=\"footer__menu--link\" href=\"http://bigpara.hurriyet.com.tr/doviz/dolar/\" rel=\"noreferrer\" target=\"_self\" title=\"Dolar Kuru\">Dolar Kuru</a>,\n",
       " <a class=\"footer__menu--link\" href=\"http://bigpara.hurriyet.com.tr/doviz/dolar/\" rel=\"noreferrer\" target=\"_self\" title=\"Dolar TL\">Dolar TL</a>,\n",
       " <a class=\"footer__menu--link\" href=\"/sporarena/\" target=\"_self\" title=\"Spor\">Spor</a>,\n",
       " <a class=\"footer__menu--link\" href=\"/kelebek-magazin/\" target=\"_self\" title=\"Magazin\">Magazin</a>,\n",
       " <a class=\"footer__menu--link\" href=\"/lezizz/yemek-tarifleri/\" target=\"_self\" title=\"Yemek Tarifleri\">Yemek Tarifleri</a>,\n",
       " <a class=\"footer__menu--link\" href=\"/kisisel-verilerin-korunmasi/\" rel=\"nofollow\" target=\"_self\" title=\"Kişisel Verilerin Korunması\">Kişisel Verilerin Korunması</a>,\n",
       " <a class=\"footer__menu--link\" href=\"/ramazan/izmir-imsakiye/\" target=\"_blank\" title=\"\">İzmir İmsakiye</a>,\n",
       " <a class=\"footer__bottom--link\" href=\"http://reklamver.hurriyet.com.tr/\" rel=\"nofollow\" title=\"Hürriyete Reklam Ver\">Hürriyet'e Reklam Ver</a>,\n",
       " <a class=\"footer__bottom--link\" href=\"https://www.hurriyetkurumsal.com/\" rel=\"nofollow\" title=\"Yatırımcı İlişkileri\">Yatırımcı İlişkileri</a>,\n",
       " <a class=\"footer__bottom--link\" href=\"/bizeulasin/\" rel=\"nofollow\" title=\"Bize Ulaşın\">Bize Ulaşın</a>,\n",
       " <a class=\"footer__bottom--link\" href=\"https://www.hurriyetkurumsal.com/\" rel=\"nofollow\" title=\"Hürriyet Kurumsal\">Hürriyet Kurumsal</a>]"
      ]
     },
     "execution_count": 166,
     "metadata": {},
     "output_type": "execute_result"
    }
   ],
   "source": [
    "soup.select('a[href]')"
   ]
  },
  {
   "cell_type": "code",
   "execution_count": null,
   "metadata": {},
   "outputs": [],
   "source": []
  },
  {
   "cell_type": "code",
   "execution_count": 138,
   "metadata": {},
   "outputs": [],
   "source": [
    " for a in soup.find_all('div', class_='highlighted-box mb20'):\n",
    "        link = link.get('href')\n",
    "        links.append(href)"
   ]
  },
  {
   "cell_type": "code",
   "execution_count": 139,
   "metadata": {},
   "outputs": [
    {
     "name": "stdout",
     "output_type": "stream",
     "text": [
      "None\n"
     ]
    }
   ],
   "source": [
    "print(href)"
   ]
  },
  {
   "cell_type": "code",
   "execution_count": 167,
   "metadata": {},
   "outputs": [
    {
     "name": "stdout",
     "output_type": "stream",
     "text": [
      "/\n",
      "https://www.hurriyet.com.tr/\n",
      "https://www.hurriyet.com.tr/gundem/\n",
      "/dunya/\n",
      "javascript:;\n",
      "https://bigpara.hurriyet.com.tr/\n",
      "https://bigpara.hurriyet.com.tr/borsa/canli-borsa/\n",
      "https://bigpara.hurriyet.com.tr/doviz/\n",
      "https://bigpara.hurriyet.com.tr/altin/\n",
      "https://bigpara.hurriyet.com.tr/viop-varant/\n",
      "https://bigpara.hurriyet.com.tr/analiz/\n",
      "https://bigpara.hurriyet.com.tr/kobi/\n",
      "https://bigpara.hurriyet.com.tr/kripto-paralar/\n",
      "javascript:;\n",
      "/sporarena/\n",
      "/sporarena/futbol/\n",
      "/sporarena/basketbol/\n",
      "/sporarena/voleybol/\n",
      "/sporarena/espor/\n",
      "/sporarena/canli-skor/\n",
      "javascript:;\n",
      "/kelebek-magazin/\n",
      "/televizyon/\n",
      "/hayat/\n",
      "/seyahat/\n",
      "/stil/\n",
      "/kelebek/mucize-lezzetler/\n",
      "javascript:;\n",
      "/yasam/\n",
      "https://www.hurriyet.com.tr/cumartesi/ \n",
      "/pazar/\n",
      "https://www.hurriyet.com.tr/lezzetli-hayat/\n",
      "https://www.hurriyet.com.tr/cocuklu-hayat/\n",
      "/seyahat/\n",
      "/yazarlar\n",
      "/resmi-ilanlar/\n",
      "/astroloji/\n",
      "javascript:;\n",
      "/ekonomi\n",
      "/tv-rehberi/\n",
      "/mahmure/\n",
      "/aile/\n",
      "/video/\n",
      "/astroloji/\n",
      "/bulmaca-coz/\n",
      "/en-iyi-on/\n",
      "/dizi-izle/\n",
      "/cuma/\n",
      "/lezizz/\n",
      "/teknoloji/\n",
      "/foto-galeri/\n",
      "/ramazan/\n",
      "/kitap-sanat/\n",
      "/hava-durumu/\n",
      "/avrupa/\n",
      "/egitim/\n",
      "/ik/\n",
      "/son-dakika-haberleri/\n",
      "/yerel-haberler/\n",
      "/bizeulasin/\n",
      "/veri-politikasi/\n",
      "/kunye/\n",
      "https://uyelikyonetim.hurriyet.com.tr/\n",
      "https://hesabim.hurriyet.com.tr/#/e-gazete\n",
      "https://www.facebook.com/hurriyet/\n",
      "https://twitter.com/Hurriyet\n",
      "https://www.linkedin.com/company/hurriyet/\n",
      "https://www.youtube.com/user/hurriyettvcom\n",
      "https://www.instagram.com/hurriyetcomtr/\n",
      "https://www.hurriyet.com.tr/kullanim-kosullari/\n",
      "https://www.hurriyet.com.tr/veri-politikasi/\n",
      "https://www.hurriyet.com.tr/bizeulasin/\n",
      "https://apps.apple.com/tr/app/h%C3%BCrriyet-son-dakika-haberler/id307878588?l=tr\n",
      "https://play.google.com/store/apps/details?id=hurriyet.mobil.android&gl=TR\n",
      "/\n",
      "/gundem/\n",
      "https://www.hurriyet.com.tr/dunya/\n",
      "https://bigpara.hurriyet.com.tr/\n",
      "/sporarena/\n",
      "/kelebek-magazin/\n",
      "/yasam/\n",
      "/yazarlar/\n",
      "/resmi-ilanlar/\n",
      "/bildirimler\n",
      "https://u.hurriyet.com.tr/accounts/login\n",
      "/yazarlar/\n",
      "/yazarlar/\n",
      "/yazarlar/internet-yazilari/\n",
      "/yazarlar/tum-yazarlar/\n",
      "/yazarlar/arsiv-yazarlari/\n",
      "https://www.hurriyet.com.tr\n",
      "https://www.hurriyet.com.tr/yazarlar/\n",
      "/yazarlar/abdulkadir-selvi/\n",
      "mailto:aselvi@hurriyet.com.tr\n",
      "/yazarlar/abdulkadir-selvi/mit-ile-mossad-arasinda-casuslar-savasi-mi-yasanacak-42372908\n",
      "/yazarlar/abdulkadir-selvi/denizbank-yoneticileri-ponzi-secil-olayinda-ifadeye-cagrilmis-42372337\n",
      "/yazarlar/abdulkadir-selvi/denizbank-yoneticileri-ponzi-secil-olayinda-ifadeye-cagrilmis-42372337\n",
      "/yazarlar/abdulkadir-selvi/icisleri-bakani-ile-konustuklarimiz-ve-izlenimim-42371864\n",
      "/yazarlar/abdulkadir-selvi/icisleri-bakani-ile-konustuklarimiz-ve-izlenimim-42371864\n",
      "/yazarlar/abdulkadir-selvi/iyi-partinin-karari-secim-sonuclarini-etkileyecek-42371339\n",
      "/yazarlar/abdulkadir-selvi/iyi-partinin-karari-secim-sonuclarini-etkileyecek-42371339\n",
      "/yazarlar/abdulkadir-selvi/iyi-parti-chp-ile-secim-isbirligi-karari-alacak-mi-42370843\n",
      "/yazarlar/abdulkadir-selvi/iyi-parti-chp-ile-secim-isbirligi-karari-alacak-mi-42370843\n",
      "/yazarlar/abdulkadir-selvi/cumhurbaskani-erdogan-dubai-donusu-gazetecilere-konustu-dilan-polat-secil-erzan-sorusu-ve-erdoganin-tavri-42370462\n",
      "/yazarlar/abdulkadir-selvi/cumhurbaskani-erdogan-dubai-donusu-gazetecilere-konustu-dilan-polat-secil-erzan-sorusu-ve-erdoganin-tavri-42370462\n",
      "/yazarlar/abdulkadir-selvi/ponzi-secilin-verdigi-sifre-ve-denizbankin-dilekcesindeki-celiski-42369442\n",
      "/yazarlar/abdulkadir-selvi/ponzi-secilin-verdigi-sifre-ve-denizbankin-dilekcesindeki-celiski-42369442\n",
      "/yazarlar/abdulkadir-selvi/israilde-kasap-cok-devlet-adami-yok-42368946\n",
      "/yazarlar/abdulkadir-selvi/israilde-kasap-cok-devlet-adami-yok-42368946\n",
      "/yazarlar/abdulkadir-selvi/?p=2\n",
      "/yazarlar/abdulkadir-selvi/?p=3\n",
      "/yazarlar/abdulkadir-selvi/?p=4\n",
      "/yazarlar/abdulkadir-selvi/?p=5\n",
      "/yazarlar/abdulkadir-selvi/?p=2\n",
      "/\n",
      "https://www.facebook.com/hurriyet/\n",
      "https://twitter.com/Hurriyet\n",
      "https://www.instagram.com/hurriyetcomtr/\n",
      "https://www.linkedin.com/company/hurriyet/\n",
      "https://www.youtube.com/c/hurriyet\n",
      "https://www.hurriyet.com.tr/\n",
      "http://bigpara.hurriyet.com.tr/borsa/canli-borsa/\n",
      "https://bigpara.hurriyet.com.tr/doviz/euro/\n",
      "/sporarena/puan-durumu/\n",
      "/sans-oyunlari/\n",
      "/galeri-ayetel-kursi-okunusu-ayetel-kursi-duasi-turkce-anlami-ve-diyanet-meali-arapca-yazilisi-faziletleri-ve-bilgiler-42300047\n",
      "/kunye/\n",
      "/gundem/\n",
      "/mahmure/astroloji/\n",
      "/mahmure/astroloji/\n",
      "/milli-piyango-sonuclari/\n",
      "https://satis.hurriyet.com.tr/Default.aspx\n",
      "/mahmure/eglence/ruya-tabirleri/\n",
      "https://www.hurriyet.com.tr/yerel-haberler/\n",
      "/son-dakika-haberleri/\n",
      "https://bigpara.hurriyet.com.tr/kripto/bitcoin-fiyati/\n",
      "http://bigpara.hurriyet.com.tr/borsa/canli-borsa/\n",
      "/tv-rehberi/\n",
      "http://e-gazete.hurriyet.com.tr/\n",
      "/galeri-guzel-sozler-2022-ozlu-sozler-ile-en-anlamli-sevgiliye-etkileyici-romantik-resimli-ve-kisa-mesajlar-40792109\n",
      "/ramazan/istanbul-imsakiye/\n",
      "https://bigpara.hurriyet.com.tr/doviz/\n",
      "http://bigpara.hurriyet.com.tr/altin/22-ayar-bilezik-fiyati/\n",
      "/mahmure/astroloji/yukselen-burc-hesaplama/\n",
      "/hava-durumu/\n",
      "/istanbul-namaz-vakitleri/\n",
      "https://seriilan.hurriyet.com.tr/emlak.aspx\n",
      "/ramazan/ankara-imsakiye/\n",
      "http://bigpara.hurriyet.com.tr/doviz/dolar/\n",
      "http://bigpara.hurriyet.com.tr/doviz/dolar/\n",
      "/sporarena/\n",
      "/kelebek-magazin/\n",
      "/lezizz/yemek-tarifleri/\n",
      "/kisisel-verilerin-korunmasi/\n",
      "/ramazan/izmir-imsakiye/\n",
      "http://reklamver.hurriyet.com.tr/\n",
      "https://www.hurriyetkurumsal.com/\n",
      "/bizeulasin/\n",
      "https://www.hurriyetkurumsal.com/\n"
     ]
    }
   ],
   "source": [
    "for link in soup.find_all('a'):\n",
    "    print(link.get('href'))"
   ]
  },
  {
   "cell_type": "code",
   "execution_count": 160,
   "metadata": {},
   "outputs": [
    {
     "data": {
      "text/plain": [
       "[]"
      ]
     },
     "execution_count": 160,
     "metadata": {},
     "output_type": "execute_result"
    }
   ],
   "source": [
    "soup.select(\"#link1 ~ .sister\")"
   ]
  },
  {
   "cell_type": "code",
   "execution_count": 156,
   "metadata": {},
   "outputs": [
    {
     "data": {
      "text/plain": [
       "[<div class=\"highlighted-box mb20\" data-article-id=\"42372908\" data-article-link=\"/yazarlar/abdulkadir-selvi/mit-ile-mossad-arasinda-casuslar-savasi-mi-yasanacak-42372908\"><h2></h2><div class=\"date\">8 Aralık 2023</div> <div class=\"description\">Önce Gazze Kasabı olan Netanyahu, sonra İsrail’in iç istihbaratı olan Şin Bet Başkanı konuştu, sonunda ise Wall Street Journal gazetesi Lübnan, Türkiye ve Katar’da bulunan Hamas liderlerine Mossad’ın suikast yapmakla görevlendirildiğini yazdı. Türkiye’den İsrail’e iki önemli uyarı yapıldı. <p><strong>1. ERDOĞAN UYARDI</strong></p><p><strong>Cumhurbaşkanı Erdoğan</strong>, <strong>“Her şeyden önce bu haberi yapanlar demek ki Türkiye’yi tanımıyorlar. Türkleri tanımıyorlar. Bizi tanımıyorlar. Böyle bir yanlışa tevessül etmeleri halinde şunu bilmeleri gerekir ki bunun bedelini, bunun faturasını çok ama çok ağır öderler” </strong>dedi.</p><p><strong>Erdoğan</strong>’ın bu uyarısının sahada ne anlama geldiğini en iyi MOSSAD bilir.</p><p><strong>2. İSTİHBARATIN TEPKİSİ</strong></p><p>Anadolu Ajansı’na konuşan istihbarat yetkilileri, muhtelif istihbarat servislerinin daha önce de Türkiye Cumhuriyeti topraklarında yasadışı faaliyetler gerçekleştirmeye çalıştığını anımsatarak, hiçbir servisin bu tür operasyonlarına müsaade edilmeyeceğini vurguladı.</p><p><strong>3. MOSSAD ENSELENMİŞTİ</strong></p><p>İstihbarat yetkililerinin uyarısını en iyi MOSSAD bilir. Çünkü 2021 yılında İstanbul’da Filistinli aktivistlere yönelik suikast hazırlığı içinde olan 7 MOSSAD ajanı yakalanmıştı. MOSSAD’ın güvenli evlerine baskın yapılmış Türkiye’deki hücreleri çökertilmişti. Ajanlar şimdi cezaevinde gün dolduruyorlar.</p><p><strong>4. MOSSAD’IN İMAJI SARSILDI</strong></p></div><a class=\"medyanet-nofollow\" href=\"/yazarlar/abdulkadir-selvi/mit-ile-mossad-arasinda-casuslar-savasi-mi-yasanacak-42372908\" title=\"MİT ile MOSSAD arasında casuslar savaşı mı yaşanacak\"><div class=\"read-more\"> <span class=\"authors-fullarticle\">Yazının Devamını Oku <img alt=\"\" class=\"right-arrow\" height=\"14\" src=\"//s.hurriyet.com.tr/static/images/hurriyet/fullarticle-arrow.png\" width=\"14\"/></span></div></a><div class=\"gradient-wrapper\"></div></div>,\n",
       " <div class=\"highlighted-box mb20\" data-article-id=\"42372337\" data-article-link=\"/yazarlar/abdulkadir-selvi/denizbank-yoneticileri-ponzi-secil-olayinda-ifadeye-cagrilmis-42372337\"><h2><a class=\"title title-news-detail\" href=\"/yazarlar/abdulkadir-selvi/denizbank-yoneticileri-ponzi-secil-olayinda-ifadeye-cagrilmis-42372337\" title=\"\">Denizbank yöneticileri Ponzi Seçil olayında ifadeye çağrılmış</a></h2><div class=\"date\">7 Aralık 2023</div> <div class=\"description\">Seçil Erzan olayıyla ilgili herkesin bilgisine başvuruluyor.<p>Kimi müşteki, kimi mağdur olarak ifade veriyor. <strong>Seçil Erzan</strong>, Denizbank’ın şube müdürü. Fon işini Denizbank Florya Şubesi’nden yürütmüş. İşlemlerin bir kısmı Denizbank şubesinde gerçekleştirilmiş. Bankanın antetli kâğıdı ve kaşesi kullanılmış. Bazı evraklarda Denizbank’ın operasyon müdürü <strong>Asiye Öztürk </strong>imza atmış. Denizbank Genel Müdürü <strong>Hakan Ateş </strong>ve Genel Müdür Yardımcısı <strong>Mehmet Aydoğdu</strong>’nun ismini güvence olarak kullanmış.</p><p>Herkes araştırılıyor, herkesin ifadesine başvuruluyor. Ama bir tek Denizbank hariç. Bir de Denizbank Genel Müdürü <strong>Hakan Ateş </strong>ve <strong>Mehmet Aydoğdu </strong>bu işten muaf.</p><p><strong>ERDOĞAN DA TATMİN OLMAMIŞ</strong></p><p><strong>Hakan Ateş </strong>ve <strong>Mehmet Aydoğdu</strong>’nun ifadesine ya da en azından bilgisine neden başvurulmadı sorusu büyük bir muammayı oluşturuyor. Cumhurbaşkanı <strong>Erdoğan</strong> da bu konuda ikna olmamış ki, “<strong>Bankanın en üst düzey yöneticileriyle ilgili de şu anda bütün soruşturmalar devam ediyor. Öyle zannediyorum ki kısa zamanda netice alırız</strong>” dedi.</p><p><strong>BDDK KARARI VAR</strong></p><p>Ortada BDDK’nın kararı var. O yüzden <strong>Hakan Ateş </strong>ve <strong>Mehmet Aydoğdu</strong>’nun ifadesi alınamaz denilebilir. BDDK kararının farkındayım. Ama isterseniz yazımın sonunu bekleyin.</p><p><strong>Seçil Erzan </strong>soruşturmasında en önemli kırılma noktasını BDDK’nın 14.8.2023 tarihli “Yazılı başvuruda bulunulmasına yer olmadığı” şeklindeki kararı oluşturuyor. BDDK’nın kararı nedeniyle <strong>Seçil Erzan </strong>ve Denizbank Genel Müdürü <strong>Hakan Ateş </strong>ile <strong>Mehmet Aydoğdu </strong>hakkında ‘zimmet’ suçlaması nedeniyle açılan soruşturmada takipsizlik kararı veriliyor.</p><p><strong>VERECEKLERİ BİLGİLER ÖNEMLİYDİ</strong></p></div><a class=\"medyanet-nofollow\" href=\"/yazarlar/abdulkadir-selvi/denizbank-yoneticileri-ponzi-secil-olayinda-ifadeye-cagrilmis-42372337\" title=\"Denizbank yöneticileri Ponzi Seçil olayında ifadeye çağrılmış\"><div class=\"read-more\"><span class=\"authors-fullarticle\">Yazının Devamını Oku <img alt=\"\" class=\"right-arrow\" height=\"14\" src=\"//s.hurriyet.com.tr/static/images/hurriyet/fullarticle-arrow.png\" width=\"14\"/></span></div></a><div class=\"gradient-wrapper\"></div></div>,\n",
       " <div class=\"highlighted-box mb20\" data-article-id=\"42371864\" data-article-link=\"/yazarlar/abdulkadir-selvi/icisleri-bakani-ile-konustuklarimiz-ve-izlenimim-42371864\"><h2><a class=\"title title-news-detail\" href=\"/yazarlar/abdulkadir-selvi/icisleri-bakani-ile-konustuklarimiz-ve-izlenimim-42371864\" title=\"\">İçişleri Bakanı ile konuştuklarımız ve izlenimim</a></h2><div class=\"date\">6 Aralık 2023</div> <div class=\"description\">\"Bizden bir filmle sizi başbaşa bırakıyoruz” dedi görevli. <p>Sonra bir film başladı.</p><p>Helikopter dağ başında ıssız bir köyde, top oynayan çocukları fark ediyor. Bir süre sonra askeri bir araç geliyor köye, top oynayan çocuklara ay yıldızlı forma ve futbol topu veriyorlar. Askerler ile çocuklar seviçle kucaklaşıyor. İçişleri Bakanı <strong>Ali Yerlikaya </strong>ile medya buluşmamız işte bu sıcak görüntülerle başladı. Gazze’ye savaş uçaklarının bomba yağdırdığı, helikopterlerin ölüm kustuğu bir sırada jandarma ile çocukların sevinçle kucaklaşması içimi ısıttı.</p><p></p><p><strong>İÇİŞLERİ BAKANI İLE </strong><strong>BULUŞMA</strong></p><p>Milletin tüylerini diken diken eden fenomenlerin tek tek hesaba çekildiği, <strong>Seçil Erzan</strong>’ın ünlü futbolcuları dolandırdığı fon olayının patlak verdiği, çetelerle amansız bir şekilde mücadele edildiği bir sırada İçişleri Bakanı <strong>Ali Yerlikaya </strong>ile bir araya gelmek habercilik açısından önemliydi. Bakanlığındaki 180 günün hesabını verdi. Kısa adı NARVAS olan Narkotik Vaka Analiz Sistemi’ni anlattı. NARVAS’a gelen tüm ihbarlar doğru olarak kabul ediliyor, değerlendiriliyor.</p><p><strong>HİTABETİ İYİYDİ</strong></p><p><strong>Ali Yerlikaya</strong>’ya farklı bir gözle baktım. İçişleri Bakanı kısa ama verilerle dolu bir konuşma yaptı. Söylediklerini yaptığı için, meydanı çetelere ve uyuşturucu tacirlerine dar ettiği için sözlerinin bir ağırlığı vardı. Dikkat ettim, prompteri çok iyi kullandı. Hitabeti iyiydi. Seçim meydanında kitleleri coşturur. Bakanlığı devraldığı gün, ‘Referansımız hukuk’ demişti. Son sözü de yine ‘Temel referansımız hukuk ve insan hakları’ oldu.</p><p><strong>ÇETELERLE MÜCADELE</strong></p></div><a class=\"medyanet-nofollow\" href=\"/yazarlar/abdulkadir-selvi/icisleri-bakani-ile-konustuklarimiz-ve-izlenimim-42371864\" title=\"İçişleri Bakanı ile konuştuklarımız ve izlenimim\"><div class=\"read-more\"><span class=\"authors-fullarticle\">Yazının Devamını Oku <img alt=\"\" class=\"right-arrow\" height=\"14\" src=\"//s.hurriyet.com.tr/static/images/hurriyet/fullarticle-arrow.png\" width=\"14\"/></span></div></a><div class=\"gradient-wrapper\"></div></div>,\n",
       " <div class=\"highlighted-box mb20\" data-article-id=\"42371339\" data-article-link=\"/yazarlar/abdulkadir-selvi/iyi-partinin-karari-secim-sonuclarini-etkileyecek-42371339\"><h2><a class=\"title title-news-detail\" href=\"/yazarlar/abdulkadir-selvi/iyi-partinin-karari-secim-sonuclarini-etkileyecek-42371339\" title=\"\">İYİ Parti’nin kararı seçim sonuçlarını etkileyecek</a></h2><div class=\"date\">5 Aralık 2023</div> <div class=\"description\">İYİ Parti yerel seçimlerin kaderini önemli ölçüde etkileyecek bir karar aldı.<p>Geçen seçimlerde <strong>CHP</strong> ile ittifak yapan, 2019 yerel seçimlerinde <strong>CHP</strong>’nin İstanbul ve Ankara Büyükşehir Belediye Başkanlığını kazanmasını sağlayan <strong>İYİ Parti</strong>, yerel seçimlere kendi başına girme kararı aldı.</p><p><strong>ÖZGÜR ÖZEL TEKLİF ETMİŞTİ </strong></p><p>Daha doğrusu <strong>İYİ Parti Genel İdare Kurulu </strong>daha önce yerel seçimlere, <strong>“Hür ve müstakil olarak” </strong>girme kararı almıştı. CHP Genel Başkanı <strong>Özgür Özel</strong>’in <strong>Meral Akşener</strong>’i ziyaret ederek yerel seçimlerde işbirliği yapma teklifi üzerine <strong>İYİ Parti GİK </strong>toplandı. Tüm gözler <strong>GİK</strong>’ten çıkacak karara çevrilmişti.</p><p><strong>HÜR VE MÜSTAKİL OLARAK </strong></p><p><strong> İYİ Parti</strong> seçimlere kendi başına girme kararının arkasında durdu. <strong>İYİ Parti</strong> sözcüsü <strong>Kürşad Zorlu</strong> kararın oy çokluğu ile alındığını açıkladı. 15 üye <strong>CHP</strong> ile ittifak yapılmasını isterken 35 üye seçimlere <strong>“Hür ve Müstakil” </strong>olarak girme kararının arkasında durdu.</p><p><strong>ŞÜKÜR NAMAZI KILMIŞTI </strong></p><p> <strong>Meral Akşener</strong>, <strong>CHP</strong> kurultayında seçim ittifakından dolayı <strong>HDP</strong>’ye, <strong>6’lı Masa</strong>’nın diğer üyelerine teşekkür edilirken<strong> İYİ Parti</strong>’ye teşekkür edilmediği belirterek sitem etmişti. Hatta, <strong>“Şükür namazı kıldım” </strong>demişti.</p><p><strong>AKŞENER’İN MANEVRASI </strong></p></div><a class=\"medyanet-nofollow\" href=\"/yazarlar/abdulkadir-selvi/iyi-partinin-karari-secim-sonuclarini-etkileyecek-42371339\" title=\"İYİ Parti’nin kararı seçim sonuçlarını etkileyecek\"><div class=\"read-more\"><span class=\"authors-fullarticle\">Yazının Devamını Oku <img alt=\"\" class=\"right-arrow\" height=\"14\" src=\"//s.hurriyet.com.tr/static/images/hurriyet/fullarticle-arrow.png\" width=\"14\"/></span></div></a><div class=\"gradient-wrapper\"></div></div>]"
      ]
     },
     "execution_count": 156,
     "metadata": {},
     "output_type": "execute_result"
    }
   ],
   "source": [
    "box = soup.find_all('div', class_='highlighted-box mb20',limit=4)\n",
    "box\n"
   ]
  },
  {
   "cell_type": "code",
   "execution_count": 159,
   "metadata": {},
   "outputs": [],
   "source": [
    "box = soup.find('div', class_='highlighted-box mb20', string=True)\n",
    "box"
   ]
  },
  {
   "cell_type": "code",
   "execution_count": 141,
   "metadata": {
    "scrolled": true
   },
   "outputs": [
    {
     "ename": "NameError",
     "evalue": "name 'link_get' is not defined",
     "output_type": "error",
     "traceback": [
      "\u001b[0;31m---------------------------------------------------------------------------\u001b[0m",
      "\u001b[0;31mNameError\u001b[0m                                 Traceback (most recent call last)",
      "Cell \u001b[0;32mIn[141], line 1\u001b[0m\n\u001b[0;32m----> 1\u001b[0m link \u001b[38;5;241m=\u001b[39m link_get[\u001b[38;5;124m\"\u001b[39m\u001b[38;5;124mdata-article-link\u001b[39m\u001b[38;5;124m\"\u001b[39m]\n",
      "\u001b[0;31mNameError\u001b[0m: name 'link_get' is not defined"
     ]
    }
   ],
   "source": [
    "link = link_get[\"data-article-link\"]"
   ]
  },
  {
   "cell_type": "code",
   "execution_count": 101,
   "metadata": {},
   "outputs": [
    {
     "data": {
      "text/plain": [
       "'/yazarlar/abdulkadir-selvi/mit-ile-mossad-arasinda-casuslar-savasi-mi-yasanacak-42372908'"
      ]
     },
     "execution_count": 101,
     "metadata": {},
     "output_type": "execute_result"
    }
   ],
   "source": [
    "link"
   ]
  },
  {
   "cell_type": "code",
   "execution_count": 111,
   "metadata": {},
   "outputs": [],
   "source": [
    "a=0\n",
    "links=[]"
   ]
  },
  {
   "cell_type": "code",
   "execution_count": 113,
   "metadata": {},
   "outputs": [],
   "source": [
    "while a<5:\n",
    "    box = soup.find('div', class_='highlighted-box mb20')\n",
    "    link = box.attrs[\"data-article-link\"]\n",
    "    links.append(link)\n",
    "    a=a+1\n",
    "    "
   ]
  },
  {
   "cell_type": "code",
   "execution_count": 114,
   "metadata": {},
   "outputs": [
    {
     "data": {
      "text/plain": [
       "['/yazarlar/abdulkadir-selvi/mit-ile-mossad-arasinda-casuslar-savasi-mi-yasanacak-42372908',\n",
       " '/yazarlar/abdulkadir-selvi/mit-ile-mossad-arasinda-casuslar-savasi-mi-yasanacak-42372908',\n",
       " '/yazarlar/abdulkadir-selvi/mit-ile-mossad-arasinda-casuslar-savasi-mi-yasanacak-42372908',\n",
       " '/yazarlar/abdulkadir-selvi/mit-ile-mossad-arasinda-casuslar-savasi-mi-yasanacak-42372908',\n",
       " '/yazarlar/abdulkadir-selvi/mit-ile-mossad-arasinda-casuslar-savasi-mi-yasanacak-42372908',\n",
       " '/yazarlar/abdulkadir-selvi/mit-ile-mossad-arasinda-casuslar-savasi-mi-yasanacak-42372908',\n",
       " '/yazarlar/abdulkadir-selvi/mit-ile-mossad-arasinda-casuslar-savasi-mi-yasanacak-42372908',\n",
       " '/yazarlar/abdulkadir-selvi/mit-ile-mossad-arasinda-casuslar-savasi-mi-yasanacak-42372908',\n",
       " '/yazarlar/abdulkadir-selvi/mit-ile-mossad-arasinda-casuslar-savasi-mi-yasanacak-42372908',\n",
       " '/yazarlar/abdulkadir-selvi/mit-ile-mossad-arasinda-casuslar-savasi-mi-yasanacak-42372908',\n",
       " '/yazarlar/abdulkadir-selvi/mit-ile-mossad-arasinda-casuslar-savasi-mi-yasanacak-42372908',\n",
       " '/yazarlar/abdulkadir-selvi/mit-ile-mossad-arasinda-casuslar-savasi-mi-yasanacak-42372908',\n",
       " '/yazarlar/abdulkadir-selvi/mit-ile-mossad-arasinda-casuslar-savasi-mi-yasanacak-42372908',\n",
       " '/yazarlar/abdulkadir-selvi/mit-ile-mossad-arasinda-casuslar-savasi-mi-yasanacak-42372908',\n",
       " '/yazarlar/abdulkadir-selvi/mit-ile-mossad-arasinda-casuslar-savasi-mi-yasanacak-42372908',\n",
       " '/yazarlar/abdulkadir-selvi/mit-ile-mossad-arasinda-casuslar-savasi-mi-yasanacak-42372908',\n",
       " '/yazarlar/abdulkadir-selvi/mit-ile-mossad-arasinda-casuslar-savasi-mi-yasanacak-42372908',\n",
       " '/yazarlar/abdulkadir-selvi/mit-ile-mossad-arasinda-casuslar-savasi-mi-yasanacak-42372908',\n",
       " '/yazarlar/abdulkadir-selvi/mit-ile-mossad-arasinda-casuslar-savasi-mi-yasanacak-42372908',\n",
       " '/yazarlar/abdulkadir-selvi/mit-ile-mossad-arasinda-casuslar-savasi-mi-yasanacak-42372908',\n",
       " '/yazarlar/abdulkadir-selvi/mit-ile-mossad-arasinda-casuslar-savasi-mi-yasanacak-42372908',\n",
       " '/yazarlar/abdulkadir-selvi/mit-ile-mossad-arasinda-casuslar-savasi-mi-yasanacak-42372908',\n",
       " '/yazarlar/abdulkadir-selvi/mit-ile-mossad-arasinda-casuslar-savasi-mi-yasanacak-42372908',\n",
       " '/yazarlar/abdulkadir-selvi/mit-ile-mossad-arasinda-casuslar-savasi-mi-yasanacak-42372908',\n",
       " '/yazarlar/abdulkadir-selvi/mit-ile-mossad-arasinda-casuslar-savasi-mi-yasanacak-42372908',\n",
       " '/yazarlar/abdulkadir-selvi/mit-ile-mossad-arasinda-casuslar-savasi-mi-yasanacak-42372908',\n",
       " '/yazarlar/abdulkadir-selvi/mit-ile-mossad-arasinda-casuslar-savasi-mi-yasanacak-42372908',\n",
       " '/yazarlar/abdulkadir-selvi/mit-ile-mossad-arasinda-casuslar-savasi-mi-yasanacak-42372908',\n",
       " '/yazarlar/abdulkadir-selvi/mit-ile-mossad-arasinda-casuslar-savasi-mi-yasanacak-42372908',\n",
       " '/yazarlar/abdulkadir-selvi/mit-ile-mossad-arasinda-casuslar-savasi-mi-yasanacak-42372908',\n",
       " '/yazarlar/abdulkadir-selvi/mit-ile-mossad-arasinda-casuslar-savasi-mi-yasanacak-42372908',\n",
       " '/yazarlar/abdulkadir-selvi/mit-ile-mossad-arasinda-casuslar-savasi-mi-yasanacak-42372908',\n",
       " '/yazarlar/abdulkadir-selvi/mit-ile-mossad-arasinda-casuslar-savasi-mi-yasanacak-42372908',\n",
       " '/yazarlar/abdulkadir-selvi/mit-ile-mossad-arasinda-casuslar-savasi-mi-yasanacak-42372908',\n",
       " '/yazarlar/abdulkadir-selvi/mit-ile-mossad-arasinda-casuslar-savasi-mi-yasanacak-42372908',\n",
       " '/yazarlar/abdulkadir-selvi/mit-ile-mossad-arasinda-casuslar-savasi-mi-yasanacak-42372908',\n",
       " '/yazarlar/abdulkadir-selvi/mit-ile-mossad-arasinda-casuslar-savasi-mi-yasanacak-42372908',\n",
       " '/yazarlar/abdulkadir-selvi/mit-ile-mossad-arasinda-casuslar-savasi-mi-yasanacak-42372908',\n",
       " '/yazarlar/abdulkadir-selvi/mit-ile-mossad-arasinda-casuslar-savasi-mi-yasanacak-42372908',\n",
       " '/yazarlar/abdulkadir-selvi/mit-ile-mossad-arasinda-casuslar-savasi-mi-yasanacak-42372908',\n",
       " '/yazarlar/abdulkadir-selvi/mit-ile-mossad-arasinda-casuslar-savasi-mi-yasanacak-42372908',\n",
       " '/yazarlar/abdulkadir-selvi/mit-ile-mossad-arasinda-casuslar-savasi-mi-yasanacak-42372908',\n",
       " '/yazarlar/abdulkadir-selvi/mit-ile-mossad-arasinda-casuslar-savasi-mi-yasanacak-42372908',\n",
       " '/yazarlar/abdulkadir-selvi/mit-ile-mossad-arasinda-casuslar-savasi-mi-yasanacak-42372908',\n",
       " '/yazarlar/abdulkadir-selvi/mit-ile-mossad-arasinda-casuslar-savasi-mi-yasanacak-42372908',\n",
       " '/yazarlar/abdulkadir-selvi/mit-ile-mossad-arasinda-casuslar-savasi-mi-yasanacak-42372908',\n",
       " '/yazarlar/abdulkadir-selvi/mit-ile-mossad-arasinda-casuslar-savasi-mi-yasanacak-42372908',\n",
       " '/yazarlar/abdulkadir-selvi/mit-ile-mossad-arasinda-casuslar-savasi-mi-yasanacak-42372908',\n",
       " '/yazarlar/abdulkadir-selvi/mit-ile-mossad-arasinda-casuslar-savasi-mi-yasanacak-42372908',\n",
       " '/yazarlar/abdulkadir-selvi/mit-ile-mossad-arasinda-casuslar-savasi-mi-yasanacak-42372908',\n",
       " '/yazarlar/abdulkadir-selvi/mit-ile-mossad-arasinda-casuslar-savasi-mi-yasanacak-42372908',\n",
       " '/yazarlar/abdulkadir-selvi/mit-ile-mossad-arasinda-casuslar-savasi-mi-yasanacak-42372908',\n",
       " '/yazarlar/abdulkadir-selvi/mit-ile-mossad-arasinda-casuslar-savasi-mi-yasanacak-42372908',\n",
       " '/yazarlar/abdulkadir-selvi/mit-ile-mossad-arasinda-casuslar-savasi-mi-yasanacak-42372908',\n",
       " '/yazarlar/abdulkadir-selvi/mit-ile-mossad-arasinda-casuslar-savasi-mi-yasanacak-42372908',\n",
       " '/yazarlar/abdulkadir-selvi/mit-ile-mossad-arasinda-casuslar-savasi-mi-yasanacak-42372908',\n",
       " '/yazarlar/abdulkadir-selvi/mit-ile-mossad-arasinda-casuslar-savasi-mi-yasanacak-42372908',\n",
       " '/yazarlar/abdulkadir-selvi/mit-ile-mossad-arasinda-casuslar-savasi-mi-yasanacak-42372908',\n",
       " '/yazarlar/abdulkadir-selvi/mit-ile-mossad-arasinda-casuslar-savasi-mi-yasanacak-42372908',\n",
       " '/yazarlar/abdulkadir-selvi/mit-ile-mossad-arasinda-casuslar-savasi-mi-yasanacak-42372908',\n",
       " '/yazarlar/abdulkadir-selvi/mit-ile-mossad-arasinda-casuslar-savasi-mi-yasanacak-42372908',\n",
       " '/yazarlar/abdulkadir-selvi/mit-ile-mossad-arasinda-casuslar-savasi-mi-yasanacak-42372908',\n",
       " '/yazarlar/abdulkadir-selvi/mit-ile-mossad-arasinda-casuslar-savasi-mi-yasanacak-42372908',\n",
       " '/yazarlar/abdulkadir-selvi/mit-ile-mossad-arasinda-casuslar-savasi-mi-yasanacak-42372908',\n",
       " '/yazarlar/abdulkadir-selvi/mit-ile-mossad-arasinda-casuslar-savasi-mi-yasanacak-42372908',\n",
       " '/yazarlar/abdulkadir-selvi/mit-ile-mossad-arasinda-casuslar-savasi-mi-yasanacak-42372908',\n",
       " '/yazarlar/abdulkadir-selvi/mit-ile-mossad-arasinda-casuslar-savasi-mi-yasanacak-42372908',\n",
       " '/yazarlar/abdulkadir-selvi/mit-ile-mossad-arasinda-casuslar-savasi-mi-yasanacak-42372908',\n",
       " '/yazarlar/abdulkadir-selvi/mit-ile-mossad-arasinda-casuslar-savasi-mi-yasanacak-42372908',\n",
       " '/yazarlar/abdulkadir-selvi/mit-ile-mossad-arasinda-casuslar-savasi-mi-yasanacak-42372908',\n",
       " '/yazarlar/abdulkadir-selvi/mit-ile-mossad-arasinda-casuslar-savasi-mi-yasanacak-42372908',\n",
       " '/yazarlar/abdulkadir-selvi/mit-ile-mossad-arasinda-casuslar-savasi-mi-yasanacak-42372908',\n",
       " '/yazarlar/abdulkadir-selvi/mit-ile-mossad-arasinda-casuslar-savasi-mi-yasanacak-42372908',\n",
       " '/yazarlar/abdulkadir-selvi/mit-ile-mossad-arasinda-casuslar-savasi-mi-yasanacak-42372908',\n",
       " '/yazarlar/abdulkadir-selvi/mit-ile-mossad-arasinda-casuslar-savasi-mi-yasanacak-42372908',\n",
       " '/yazarlar/abdulkadir-selvi/mit-ile-mossad-arasinda-casuslar-savasi-mi-yasanacak-42372908',\n",
       " '/yazarlar/abdulkadir-selvi/mit-ile-mossad-arasinda-casuslar-savasi-mi-yasanacak-42372908',\n",
       " '/yazarlar/abdulkadir-selvi/mit-ile-mossad-arasinda-casuslar-savasi-mi-yasanacak-42372908',\n",
       " '/yazarlar/abdulkadir-selvi/mit-ile-mossad-arasinda-casuslar-savasi-mi-yasanacak-42372908',\n",
       " '/yazarlar/abdulkadir-selvi/mit-ile-mossad-arasinda-casuslar-savasi-mi-yasanacak-42372908',\n",
       " '/yazarlar/abdulkadir-selvi/mit-ile-mossad-arasinda-casuslar-savasi-mi-yasanacak-42372908',\n",
       " '/yazarlar/abdulkadir-selvi/mit-ile-mossad-arasinda-casuslar-savasi-mi-yasanacak-42372908',\n",
       " '/yazarlar/abdulkadir-selvi/mit-ile-mossad-arasinda-casuslar-savasi-mi-yasanacak-42372908',\n",
       " '/yazarlar/abdulkadir-selvi/mit-ile-mossad-arasinda-casuslar-savasi-mi-yasanacak-42372908',\n",
       " '/yazarlar/abdulkadir-selvi/mit-ile-mossad-arasinda-casuslar-savasi-mi-yasanacak-42372908',\n",
       " '/yazarlar/abdulkadir-selvi/mit-ile-mossad-arasinda-casuslar-savasi-mi-yasanacak-42372908',\n",
       " '/yazarlar/abdulkadir-selvi/mit-ile-mossad-arasinda-casuslar-savasi-mi-yasanacak-42372908',\n",
       " '/yazarlar/abdulkadir-selvi/mit-ile-mossad-arasinda-casuslar-savasi-mi-yasanacak-42372908',\n",
       " '/yazarlar/abdulkadir-selvi/mit-ile-mossad-arasinda-casuslar-savasi-mi-yasanacak-42372908',\n",
       " '/yazarlar/abdulkadir-selvi/mit-ile-mossad-arasinda-casuslar-savasi-mi-yasanacak-42372908',\n",
       " '/yazarlar/abdulkadir-selvi/mit-ile-mossad-arasinda-casuslar-savasi-mi-yasanacak-42372908',\n",
       " '/yazarlar/abdulkadir-selvi/mit-ile-mossad-arasinda-casuslar-savasi-mi-yasanacak-42372908',\n",
       " '/yazarlar/abdulkadir-selvi/mit-ile-mossad-arasinda-casuslar-savasi-mi-yasanacak-42372908',\n",
       " '/yazarlar/abdulkadir-selvi/mit-ile-mossad-arasinda-casuslar-savasi-mi-yasanacak-42372908',\n",
       " '/yazarlar/abdulkadir-selvi/mit-ile-mossad-arasinda-casuslar-savasi-mi-yasanacak-42372908',\n",
       " '/yazarlar/abdulkadir-selvi/mit-ile-mossad-arasinda-casuslar-savasi-mi-yasanacak-42372908',\n",
       " '/yazarlar/abdulkadir-selvi/mit-ile-mossad-arasinda-casuslar-savasi-mi-yasanacak-42372908',\n",
       " '/yazarlar/abdulkadir-selvi/mit-ile-mossad-arasinda-casuslar-savasi-mi-yasanacak-42372908',\n",
       " '/yazarlar/abdulkadir-selvi/mit-ile-mossad-arasinda-casuslar-savasi-mi-yasanacak-42372908',\n",
       " '/yazarlar/abdulkadir-selvi/mit-ile-mossad-arasinda-casuslar-savasi-mi-yasanacak-42372908',\n",
       " '/yazarlar/abdulkadir-selvi/mit-ile-mossad-arasinda-casuslar-savasi-mi-yasanacak-42372908',\n",
       " '/yazarlar/abdulkadir-selvi/mit-ile-mossad-arasinda-casuslar-savasi-mi-yasanacak-42372908',\n",
       " '/yazarlar/abdulkadir-selvi/mit-ile-mossad-arasinda-casuslar-savasi-mi-yasanacak-42372908',\n",
       " '/yazarlar/abdulkadir-selvi/mit-ile-mossad-arasinda-casuslar-savasi-mi-yasanacak-42372908',\n",
       " '/yazarlar/abdulkadir-selvi/mit-ile-mossad-arasinda-casuslar-savasi-mi-yasanacak-42372908',\n",
       " '/yazarlar/abdulkadir-selvi/mit-ile-mossad-arasinda-casuslar-savasi-mi-yasanacak-42372908',\n",
       " '/yazarlar/abdulkadir-selvi/mit-ile-mossad-arasinda-casuslar-savasi-mi-yasanacak-42372908',\n",
       " '/yazarlar/abdulkadir-selvi/mit-ile-mossad-arasinda-casuslar-savasi-mi-yasanacak-42372908',\n",
       " '/yazarlar/abdulkadir-selvi/mit-ile-mossad-arasinda-casuslar-savasi-mi-yasanacak-42372908',\n",
       " '/yazarlar/abdulkadir-selvi/mit-ile-mossad-arasinda-casuslar-savasi-mi-yasanacak-42372908',\n",
       " '/yazarlar/abdulkadir-selvi/mit-ile-mossad-arasinda-casuslar-savasi-mi-yasanacak-42372908',\n",
       " '/yazarlar/abdulkadir-selvi/mit-ile-mossad-arasinda-casuslar-savasi-mi-yasanacak-42372908',\n",
       " '/yazarlar/abdulkadir-selvi/mit-ile-mossad-arasinda-casuslar-savasi-mi-yasanacak-42372908',\n",
       " '/yazarlar/abdulkadir-selvi/mit-ile-mossad-arasinda-casuslar-savasi-mi-yasanacak-42372908',\n",
       " '/yazarlar/abdulkadir-selvi/mit-ile-mossad-arasinda-casuslar-savasi-mi-yasanacak-42372908',\n",
       " '/yazarlar/abdulkadir-selvi/mit-ile-mossad-arasinda-casuslar-savasi-mi-yasanacak-42372908',\n",
       " '/yazarlar/abdulkadir-selvi/mit-ile-mossad-arasinda-casuslar-savasi-mi-yasanacak-42372908',\n",
       " '/yazarlar/abdulkadir-selvi/mit-ile-mossad-arasinda-casuslar-savasi-mi-yasanacak-42372908',\n",
       " '/yazarlar/abdulkadir-selvi/mit-ile-mossad-arasinda-casuslar-savasi-mi-yasanacak-42372908',\n",
       " '/yazarlar/abdulkadir-selvi/mit-ile-mossad-arasinda-casuslar-savasi-mi-yasanacak-42372908',\n",
       " '/yazarlar/abdulkadir-selvi/mit-ile-mossad-arasinda-casuslar-savasi-mi-yasanacak-42372908',\n",
       " '/yazarlar/abdulkadir-selvi/mit-ile-mossad-arasinda-casuslar-savasi-mi-yasanacak-42372908',\n",
       " '/yazarlar/abdulkadir-selvi/mit-ile-mossad-arasinda-casuslar-savasi-mi-yasanacak-42372908',\n",
       " '/yazarlar/abdulkadir-selvi/mit-ile-mossad-arasinda-casuslar-savasi-mi-yasanacak-42372908',\n",
       " '/yazarlar/abdulkadir-selvi/mit-ile-mossad-arasinda-casuslar-savasi-mi-yasanacak-42372908',\n",
       " '/yazarlar/abdulkadir-selvi/mit-ile-mossad-arasinda-casuslar-savasi-mi-yasanacak-42372908',\n",
       " '/yazarlar/abdulkadir-selvi/mit-ile-mossad-arasinda-casuslar-savasi-mi-yasanacak-42372908',\n",
       " '/yazarlar/abdulkadir-selvi/mit-ile-mossad-arasinda-casuslar-savasi-mi-yasanacak-42372908',\n",
       " '/yazarlar/abdulkadir-selvi/mit-ile-mossad-arasinda-casuslar-savasi-mi-yasanacak-42372908',\n",
       " '/yazarlar/abdulkadir-selvi/mit-ile-mossad-arasinda-casuslar-savasi-mi-yasanacak-42372908',\n",
       " '/yazarlar/abdulkadir-selvi/mit-ile-mossad-arasinda-casuslar-savasi-mi-yasanacak-42372908',\n",
       " '/yazarlar/abdulkadir-selvi/mit-ile-mossad-arasinda-casuslar-savasi-mi-yasanacak-42372908',\n",
       " '/yazarlar/abdulkadir-selvi/mit-ile-mossad-arasinda-casuslar-savasi-mi-yasanacak-42372908',\n",
       " '/yazarlar/abdulkadir-selvi/mit-ile-mossad-arasinda-casuslar-savasi-mi-yasanacak-42372908',\n",
       " '/yazarlar/abdulkadir-selvi/mit-ile-mossad-arasinda-casuslar-savasi-mi-yasanacak-42372908',\n",
       " '/yazarlar/abdulkadir-selvi/mit-ile-mossad-arasinda-casuslar-savasi-mi-yasanacak-42372908',\n",
       " '/yazarlar/abdulkadir-selvi/mit-ile-mossad-arasinda-casuslar-savasi-mi-yasanacak-42372908',\n",
       " '/yazarlar/abdulkadir-selvi/mit-ile-mossad-arasinda-casuslar-savasi-mi-yasanacak-42372908',\n",
       " '/yazarlar/abdulkadir-selvi/mit-ile-mossad-arasinda-casuslar-savasi-mi-yasanacak-42372908',\n",
       " '/yazarlar/abdulkadir-selvi/mit-ile-mossad-arasinda-casuslar-savasi-mi-yasanacak-42372908',\n",
       " '/yazarlar/abdulkadir-selvi/mit-ile-mossad-arasinda-casuslar-savasi-mi-yasanacak-42372908',\n",
       " '/yazarlar/abdulkadir-selvi/mit-ile-mossad-arasinda-casuslar-savasi-mi-yasanacak-42372908',\n",
       " '/yazarlar/abdulkadir-selvi/mit-ile-mossad-arasinda-casuslar-savasi-mi-yasanacak-42372908',\n",
       " '/yazarlar/abdulkadir-selvi/mit-ile-mossad-arasinda-casuslar-savasi-mi-yasanacak-42372908',\n",
       " '/yazarlar/abdulkadir-selvi/mit-ile-mossad-arasinda-casuslar-savasi-mi-yasanacak-42372908',\n",
       " '/yazarlar/abdulkadir-selvi/mit-ile-mossad-arasinda-casuslar-savasi-mi-yasanacak-42372908',\n",
       " '/yazarlar/abdulkadir-selvi/mit-ile-mossad-arasinda-casuslar-savasi-mi-yasanacak-42372908',\n",
       " '/yazarlar/abdulkadir-selvi/mit-ile-mossad-arasinda-casuslar-savasi-mi-yasanacak-42372908',\n",
       " '/yazarlar/abdulkadir-selvi/mit-ile-mossad-arasinda-casuslar-savasi-mi-yasanacak-42372908',\n",
       " '/yazarlar/abdulkadir-selvi/mit-ile-mossad-arasinda-casuslar-savasi-mi-yasanacak-42372908',\n",
       " '/yazarlar/abdulkadir-selvi/mit-ile-mossad-arasinda-casuslar-savasi-mi-yasanacak-42372908',\n",
       " '/yazarlar/abdulkadir-selvi/mit-ile-mossad-arasinda-casuslar-savasi-mi-yasanacak-42372908',\n",
       " '/yazarlar/abdulkadir-selvi/mit-ile-mossad-arasinda-casuslar-savasi-mi-yasanacak-42372908',\n",
       " '/yazarlar/abdulkadir-selvi/mit-ile-mossad-arasinda-casuslar-savasi-mi-yasanacak-42372908',\n",
       " '/yazarlar/abdulkadir-selvi/mit-ile-mossad-arasinda-casuslar-savasi-mi-yasanacak-42372908',\n",
       " '/yazarlar/abdulkadir-selvi/mit-ile-mossad-arasinda-casuslar-savasi-mi-yasanacak-42372908',\n",
       " '/yazarlar/abdulkadir-selvi/mit-ile-mossad-arasinda-casuslar-savasi-mi-yasanacak-42372908',\n",
       " '/yazarlar/abdulkadir-selvi/mit-ile-mossad-arasinda-casuslar-savasi-mi-yasanacak-42372908',\n",
       " '/yazarlar/abdulkadir-selvi/mit-ile-mossad-arasinda-casuslar-savasi-mi-yasanacak-42372908',\n",
       " '/yazarlar/abdulkadir-selvi/mit-ile-mossad-arasinda-casuslar-savasi-mi-yasanacak-42372908',\n",
       " '/yazarlar/abdulkadir-selvi/mit-ile-mossad-arasinda-casuslar-savasi-mi-yasanacak-42372908',\n",
       " '/yazarlar/abdulkadir-selvi/mit-ile-mossad-arasinda-casuslar-savasi-mi-yasanacak-42372908',\n",
       " '/yazarlar/abdulkadir-selvi/mit-ile-mossad-arasinda-casuslar-savasi-mi-yasanacak-42372908',\n",
       " '/yazarlar/abdulkadir-selvi/mit-ile-mossad-arasinda-casuslar-savasi-mi-yasanacak-42372908',\n",
       " '/yazarlar/abdulkadir-selvi/mit-ile-mossad-arasinda-casuslar-savasi-mi-yasanacak-42372908',\n",
       " '/yazarlar/abdulkadir-selvi/mit-ile-mossad-arasinda-casuslar-savasi-mi-yasanacak-42372908',\n",
       " '/yazarlar/abdulkadir-selvi/mit-ile-mossad-arasinda-casuslar-savasi-mi-yasanacak-42372908',\n",
       " '/yazarlar/abdulkadir-selvi/mit-ile-mossad-arasinda-casuslar-savasi-mi-yasanacak-42372908',\n",
       " '/yazarlar/abdulkadir-selvi/mit-ile-mossad-arasinda-casuslar-savasi-mi-yasanacak-42372908',\n",
       " '/yazarlar/abdulkadir-selvi/mit-ile-mossad-arasinda-casuslar-savasi-mi-yasanacak-42372908',\n",
       " '/yazarlar/abdulkadir-selvi/mit-ile-mossad-arasinda-casuslar-savasi-mi-yasanacak-42372908',\n",
       " '/yazarlar/abdulkadir-selvi/mit-ile-mossad-arasinda-casuslar-savasi-mi-yasanacak-42372908',\n",
       " '/yazarlar/abdulkadir-selvi/mit-ile-mossad-arasinda-casuslar-savasi-mi-yasanacak-42372908',\n",
       " '/yazarlar/abdulkadir-selvi/mit-ile-mossad-arasinda-casuslar-savasi-mi-yasanacak-42372908',\n",
       " '/yazarlar/abdulkadir-selvi/mit-ile-mossad-arasinda-casuslar-savasi-mi-yasanacak-42372908',\n",
       " '/yazarlar/abdulkadir-selvi/mit-ile-mossad-arasinda-casuslar-savasi-mi-yasanacak-42372908',\n",
       " '/yazarlar/abdulkadir-selvi/mit-ile-mossad-arasinda-casuslar-savasi-mi-yasanacak-42372908',\n",
       " '/yazarlar/abdulkadir-selvi/mit-ile-mossad-arasinda-casuslar-savasi-mi-yasanacak-42372908',\n",
       " '/yazarlar/abdulkadir-selvi/mit-ile-mossad-arasinda-casuslar-savasi-mi-yasanacak-42372908',\n",
       " '/yazarlar/abdulkadir-selvi/mit-ile-mossad-arasinda-casuslar-savasi-mi-yasanacak-42372908',\n",
       " '/yazarlar/abdulkadir-selvi/mit-ile-mossad-arasinda-casuslar-savasi-mi-yasanacak-42372908',\n",
       " '/yazarlar/abdulkadir-selvi/mit-ile-mossad-arasinda-casuslar-savasi-mi-yasanacak-42372908',\n",
       " '/yazarlar/abdulkadir-selvi/mit-ile-mossad-arasinda-casuslar-savasi-mi-yasanacak-42372908',\n",
       " '/yazarlar/abdulkadir-selvi/mit-ile-mossad-arasinda-casuslar-savasi-mi-yasanacak-42372908',\n",
       " '/yazarlar/abdulkadir-selvi/mit-ile-mossad-arasinda-casuslar-savasi-mi-yasanacak-42372908',\n",
       " '/yazarlar/abdulkadir-selvi/mit-ile-mossad-arasinda-casuslar-savasi-mi-yasanacak-42372908',\n",
       " '/yazarlar/abdulkadir-selvi/mit-ile-mossad-arasinda-casuslar-savasi-mi-yasanacak-42372908',\n",
       " '/yazarlar/abdulkadir-selvi/mit-ile-mossad-arasinda-casuslar-savasi-mi-yasanacak-42372908',\n",
       " '/yazarlar/abdulkadir-selvi/mit-ile-mossad-arasinda-casuslar-savasi-mi-yasanacak-42372908',\n",
       " '/yazarlar/abdulkadir-selvi/mit-ile-mossad-arasinda-casuslar-savasi-mi-yasanacak-42372908',\n",
       " '/yazarlar/abdulkadir-selvi/mit-ile-mossad-arasinda-casuslar-savasi-mi-yasanacak-42372908',\n",
       " '/yazarlar/abdulkadir-selvi/mit-ile-mossad-arasinda-casuslar-savasi-mi-yasanacak-42372908',\n",
       " '/yazarlar/abdulkadir-selvi/mit-ile-mossad-arasinda-casuslar-savasi-mi-yasanacak-42372908',\n",
       " '/yazarlar/abdulkadir-selvi/mit-ile-mossad-arasinda-casuslar-savasi-mi-yasanacak-42372908',\n",
       " '/yazarlar/abdulkadir-selvi/mit-ile-mossad-arasinda-casuslar-savasi-mi-yasanacak-42372908',\n",
       " '/yazarlar/abdulkadir-selvi/mit-ile-mossad-arasinda-casuslar-savasi-mi-yasanacak-42372908',\n",
       " '/yazarlar/abdulkadir-selvi/mit-ile-mossad-arasinda-casuslar-savasi-mi-yasanacak-42372908',\n",
       " '/yazarlar/abdulkadir-selvi/mit-ile-mossad-arasinda-casuslar-savasi-mi-yasanacak-42372908',\n",
       " '/yazarlar/abdulkadir-selvi/mit-ile-mossad-arasinda-casuslar-savasi-mi-yasanacak-42372908',\n",
       " '/yazarlar/abdulkadir-selvi/mit-ile-mossad-arasinda-casuslar-savasi-mi-yasanacak-42372908',\n",
       " '/yazarlar/abdulkadir-selvi/mit-ile-mossad-arasinda-casuslar-savasi-mi-yasanacak-42372908',\n",
       " '/yazarlar/abdulkadir-selvi/mit-ile-mossad-arasinda-casuslar-savasi-mi-yasanacak-42372908',\n",
       " '/yazarlar/abdulkadir-selvi/mit-ile-mossad-arasinda-casuslar-savasi-mi-yasanacak-42372908',\n",
       " '/yazarlar/abdulkadir-selvi/mit-ile-mossad-arasinda-casuslar-savasi-mi-yasanacak-42372908',\n",
       " '/yazarlar/abdulkadir-selvi/mit-ile-mossad-arasinda-casuslar-savasi-mi-yasanacak-42372908',\n",
       " '/yazarlar/abdulkadir-selvi/mit-ile-mossad-arasinda-casuslar-savasi-mi-yasanacak-42372908',\n",
       " '/yazarlar/abdulkadir-selvi/mit-ile-mossad-arasinda-casuslar-savasi-mi-yasanacak-42372908',\n",
       " '/yazarlar/abdulkadir-selvi/mit-ile-mossad-arasinda-casuslar-savasi-mi-yasanacak-42372908',\n",
       " '/yazarlar/abdulkadir-selvi/mit-ile-mossad-arasinda-casuslar-savasi-mi-yasanacak-42372908',\n",
       " '/yazarlar/abdulkadir-selvi/mit-ile-mossad-arasinda-casuslar-savasi-mi-yasanacak-42372908',\n",
       " '/yazarlar/abdulkadir-selvi/mit-ile-mossad-arasinda-casuslar-savasi-mi-yasanacak-42372908',\n",
       " '/yazarlar/abdulkadir-selvi/mit-ile-mossad-arasinda-casuslar-savasi-mi-yasanacak-42372908',\n",
       " '/yazarlar/abdulkadir-selvi/mit-ile-mossad-arasinda-casuslar-savasi-mi-yasanacak-42372908',\n",
       " '/yazarlar/abdulkadir-selvi/mit-ile-mossad-arasinda-casuslar-savasi-mi-yasanacak-42372908',\n",
       " '/yazarlar/abdulkadir-selvi/mit-ile-mossad-arasinda-casuslar-savasi-mi-yasanacak-42372908',\n",
       " '/yazarlar/abdulkadir-selvi/mit-ile-mossad-arasinda-casuslar-savasi-mi-yasanacak-42372908',\n",
       " '/yazarlar/abdulkadir-selvi/mit-ile-mossad-arasinda-casuslar-savasi-mi-yasanacak-42372908',\n",
       " '/yazarlar/abdulkadir-selvi/mit-ile-mossad-arasinda-casuslar-savasi-mi-yasanacak-42372908',\n",
       " '/yazarlar/abdulkadir-selvi/mit-ile-mossad-arasinda-casuslar-savasi-mi-yasanacak-42372908',\n",
       " '/yazarlar/abdulkadir-selvi/mit-ile-mossad-arasinda-casuslar-savasi-mi-yasanacak-42372908',\n",
       " '/yazarlar/abdulkadir-selvi/mit-ile-mossad-arasinda-casuslar-savasi-mi-yasanacak-42372908',\n",
       " '/yazarlar/abdulkadir-selvi/mit-ile-mossad-arasinda-casuslar-savasi-mi-yasanacak-42372908',\n",
       " '/yazarlar/abdulkadir-selvi/mit-ile-mossad-arasinda-casuslar-savasi-mi-yasanacak-42372908',\n",
       " '/yazarlar/abdulkadir-selvi/mit-ile-mossad-arasinda-casuslar-savasi-mi-yasanacak-42372908',\n",
       " '/yazarlar/abdulkadir-selvi/mit-ile-mossad-arasinda-casuslar-savasi-mi-yasanacak-42372908',\n",
       " '/yazarlar/abdulkadir-selvi/mit-ile-mossad-arasinda-casuslar-savasi-mi-yasanacak-42372908',\n",
       " '/yazarlar/abdulkadir-selvi/mit-ile-mossad-arasinda-casuslar-savasi-mi-yasanacak-42372908',\n",
       " '/yazarlar/abdulkadir-selvi/mit-ile-mossad-arasinda-casuslar-savasi-mi-yasanacak-42372908',\n",
       " '/yazarlar/abdulkadir-selvi/mit-ile-mossad-arasinda-casuslar-savasi-mi-yasanacak-42372908',\n",
       " '/yazarlar/abdulkadir-selvi/mit-ile-mossad-arasinda-casuslar-savasi-mi-yasanacak-42372908',\n",
       " '/yazarlar/abdulkadir-selvi/mit-ile-mossad-arasinda-casuslar-savasi-mi-yasanacak-42372908',\n",
       " '/yazarlar/abdulkadir-selvi/mit-ile-mossad-arasinda-casuslar-savasi-mi-yasanacak-42372908',\n",
       " '/yazarlar/abdulkadir-selvi/mit-ile-mossad-arasinda-casuslar-savasi-mi-yasanacak-42372908',\n",
       " '/yazarlar/abdulkadir-selvi/mit-ile-mossad-arasinda-casuslar-savasi-mi-yasanacak-42372908',\n",
       " '/yazarlar/abdulkadir-selvi/mit-ile-mossad-arasinda-casuslar-savasi-mi-yasanacak-42372908',\n",
       " '/yazarlar/abdulkadir-selvi/mit-ile-mossad-arasinda-casuslar-savasi-mi-yasanacak-42372908',\n",
       " '/yazarlar/abdulkadir-selvi/mit-ile-mossad-arasinda-casuslar-savasi-mi-yasanacak-42372908',\n",
       " '/yazarlar/abdulkadir-selvi/mit-ile-mossad-arasinda-casuslar-savasi-mi-yasanacak-42372908',\n",
       " '/yazarlar/abdulkadir-selvi/mit-ile-mossad-arasinda-casuslar-savasi-mi-yasanacak-42372908',\n",
       " '/yazarlar/abdulkadir-selvi/mit-ile-mossad-arasinda-casuslar-savasi-mi-yasanacak-42372908',\n",
       " '/yazarlar/abdulkadir-selvi/mit-ile-mossad-arasinda-casuslar-savasi-mi-yasanacak-42372908',\n",
       " '/yazarlar/abdulkadir-selvi/mit-ile-mossad-arasinda-casuslar-savasi-mi-yasanacak-42372908',\n",
       " '/yazarlar/abdulkadir-selvi/mit-ile-mossad-arasinda-casuslar-savasi-mi-yasanacak-42372908',\n",
       " '/yazarlar/abdulkadir-selvi/mit-ile-mossad-arasinda-casuslar-savasi-mi-yasanacak-42372908',\n",
       " '/yazarlar/abdulkadir-selvi/mit-ile-mossad-arasinda-casuslar-savasi-mi-yasanacak-42372908',\n",
       " '/yazarlar/abdulkadir-selvi/mit-ile-mossad-arasinda-casuslar-savasi-mi-yasanacak-42372908',\n",
       " '/yazarlar/abdulkadir-selvi/mit-ile-mossad-arasinda-casuslar-savasi-mi-yasanacak-42372908',\n",
       " '/yazarlar/abdulkadir-selvi/mit-ile-mossad-arasinda-casuslar-savasi-mi-yasanacak-42372908',\n",
       " '/yazarlar/abdulkadir-selvi/mit-ile-mossad-arasinda-casuslar-savasi-mi-yasanacak-42372908',\n",
       " '/yazarlar/abdulkadir-selvi/mit-ile-mossad-arasinda-casuslar-savasi-mi-yasanacak-42372908',\n",
       " '/yazarlar/abdulkadir-selvi/mit-ile-mossad-arasinda-casuslar-savasi-mi-yasanacak-42372908',\n",
       " '/yazarlar/abdulkadir-selvi/mit-ile-mossad-arasinda-casuslar-savasi-mi-yasanacak-42372908',\n",
       " '/yazarlar/abdulkadir-selvi/mit-ile-mossad-arasinda-casuslar-savasi-mi-yasanacak-42372908',\n",
       " '/yazarlar/abdulkadir-selvi/mit-ile-mossad-arasinda-casuslar-savasi-mi-yasanacak-42372908',\n",
       " '/yazarlar/abdulkadir-selvi/mit-ile-mossad-arasinda-casuslar-savasi-mi-yasanacak-42372908',\n",
       " '/yazarlar/abdulkadir-selvi/mit-ile-mossad-arasinda-casuslar-savasi-mi-yasanacak-42372908',\n",
       " '/yazarlar/abdulkadir-selvi/mit-ile-mossad-arasinda-casuslar-savasi-mi-yasanacak-42372908',\n",
       " '/yazarlar/abdulkadir-selvi/mit-ile-mossad-arasinda-casuslar-savasi-mi-yasanacak-42372908',\n",
       " '/yazarlar/abdulkadir-selvi/mit-ile-mossad-arasinda-casuslar-savasi-mi-yasanacak-42372908',\n",
       " '/yazarlar/abdulkadir-selvi/mit-ile-mossad-arasinda-casuslar-savasi-mi-yasanacak-42372908',\n",
       " '/yazarlar/abdulkadir-selvi/mit-ile-mossad-arasinda-casuslar-savasi-mi-yasanacak-42372908',\n",
       " '/yazarlar/abdulkadir-selvi/mit-ile-mossad-arasinda-casuslar-savasi-mi-yasanacak-42372908',\n",
       " '/yazarlar/abdulkadir-selvi/mit-ile-mossad-arasinda-casuslar-savasi-mi-yasanacak-42372908',\n",
       " '/yazarlar/abdulkadir-selvi/mit-ile-mossad-arasinda-casuslar-savasi-mi-yasanacak-42372908',\n",
       " '/yazarlar/abdulkadir-selvi/mit-ile-mossad-arasinda-casuslar-savasi-mi-yasanacak-42372908',\n",
       " '/yazarlar/abdulkadir-selvi/mit-ile-mossad-arasinda-casuslar-savasi-mi-yasanacak-42372908',\n",
       " '/yazarlar/abdulkadir-selvi/mit-ile-mossad-arasinda-casuslar-savasi-mi-yasanacak-42372908',\n",
       " '/yazarlar/abdulkadir-selvi/mit-ile-mossad-arasinda-casuslar-savasi-mi-yasanacak-42372908',\n",
       " '/yazarlar/abdulkadir-selvi/mit-ile-mossad-arasinda-casuslar-savasi-mi-yasanacak-42372908',\n",
       " '/yazarlar/abdulkadir-selvi/mit-ile-mossad-arasinda-casuslar-savasi-mi-yasanacak-42372908',\n",
       " '/yazarlar/abdulkadir-selvi/mit-ile-mossad-arasinda-casuslar-savasi-mi-yasanacak-42372908',\n",
       " '/yazarlar/abdulkadir-selvi/mit-ile-mossad-arasinda-casuslar-savasi-mi-yasanacak-42372908',\n",
       " '/yazarlar/abdulkadir-selvi/mit-ile-mossad-arasinda-casuslar-savasi-mi-yasanacak-42372908',\n",
       " '/yazarlar/abdulkadir-selvi/mit-ile-mossad-arasinda-casuslar-savasi-mi-yasanacak-42372908',\n",
       " '/yazarlar/abdulkadir-selvi/mit-ile-mossad-arasinda-casuslar-savasi-mi-yasanacak-42372908',\n",
       " '/yazarlar/abdulkadir-selvi/mit-ile-mossad-arasinda-casuslar-savasi-mi-yasanacak-42372908',\n",
       " '/yazarlar/abdulkadir-selvi/mit-ile-mossad-arasinda-casuslar-savasi-mi-yasanacak-42372908',\n",
       " '/yazarlar/abdulkadir-selvi/mit-ile-mossad-arasinda-casuslar-savasi-mi-yasanacak-42372908',\n",
       " '/yazarlar/abdulkadir-selvi/mit-ile-mossad-arasinda-casuslar-savasi-mi-yasanacak-42372908',\n",
       " '/yazarlar/abdulkadir-selvi/mit-ile-mossad-arasinda-casuslar-savasi-mi-yasanacak-42372908',\n",
       " '/yazarlar/abdulkadir-selvi/mit-ile-mossad-arasinda-casuslar-savasi-mi-yasanacak-42372908',\n",
       " '/yazarlar/abdulkadir-selvi/mit-ile-mossad-arasinda-casuslar-savasi-mi-yasanacak-42372908',\n",
       " '/yazarlar/abdulkadir-selvi/mit-ile-mossad-arasinda-casuslar-savasi-mi-yasanacak-42372908',\n",
       " '/yazarlar/abdulkadir-selvi/mit-ile-mossad-arasinda-casuslar-savasi-mi-yasanacak-42372908',\n",
       " '/yazarlar/abdulkadir-selvi/mit-ile-mossad-arasinda-casuslar-savasi-mi-yasanacak-42372908',\n",
       " '/yazarlar/abdulkadir-selvi/mit-ile-mossad-arasinda-casuslar-savasi-mi-yasanacak-42372908',\n",
       " '/yazarlar/abdulkadir-selvi/mit-ile-mossad-arasinda-casuslar-savasi-mi-yasanacak-42372908',\n",
       " '/yazarlar/abdulkadir-selvi/mit-ile-mossad-arasinda-casuslar-savasi-mi-yasanacak-42372908',\n",
       " '/yazarlar/abdulkadir-selvi/mit-ile-mossad-arasinda-casuslar-savasi-mi-yasanacak-42372908',\n",
       " '/yazarlar/abdulkadir-selvi/mit-ile-mossad-arasinda-casuslar-savasi-mi-yasanacak-42372908',\n",
       " '/yazarlar/abdulkadir-selvi/mit-ile-mossad-arasinda-casuslar-savasi-mi-yasanacak-42372908',\n",
       " '/yazarlar/abdulkadir-selvi/mit-ile-mossad-arasinda-casuslar-savasi-mi-yasanacak-42372908',\n",
       " '/yazarlar/abdulkadir-selvi/mit-ile-mossad-arasinda-casuslar-savasi-mi-yasanacak-42372908',\n",
       " '/yazarlar/abdulkadir-selvi/mit-ile-mossad-arasinda-casuslar-savasi-mi-yasanacak-42372908',\n",
       " '/yazarlar/abdulkadir-selvi/mit-ile-mossad-arasinda-casuslar-savasi-mi-yasanacak-42372908',\n",
       " '/yazarlar/abdulkadir-selvi/mit-ile-mossad-arasinda-casuslar-savasi-mi-yasanacak-42372908',\n",
       " '/yazarlar/abdulkadir-selvi/mit-ile-mossad-arasinda-casuslar-savasi-mi-yasanacak-42372908',\n",
       " '/yazarlar/abdulkadir-selvi/mit-ile-mossad-arasinda-casuslar-savasi-mi-yasanacak-42372908',\n",
       " '/yazarlar/abdulkadir-selvi/mit-ile-mossad-arasinda-casuslar-savasi-mi-yasanacak-42372908',\n",
       " '/yazarlar/abdulkadir-selvi/mit-ile-mossad-arasinda-casuslar-savasi-mi-yasanacak-42372908',\n",
       " '/yazarlar/abdulkadir-selvi/mit-ile-mossad-arasinda-casuslar-savasi-mi-yasanacak-42372908',\n",
       " '/yazarlar/abdulkadir-selvi/mit-ile-mossad-arasinda-casuslar-savasi-mi-yasanacak-42372908',\n",
       " '/yazarlar/abdulkadir-selvi/mit-ile-mossad-arasinda-casuslar-savasi-mi-yasanacak-42372908',\n",
       " '/yazarlar/abdulkadir-selvi/mit-ile-mossad-arasinda-casuslar-savasi-mi-yasanacak-42372908',\n",
       " '/yazarlar/abdulkadir-selvi/mit-ile-mossad-arasinda-casuslar-savasi-mi-yasanacak-42372908',\n",
       " '/yazarlar/abdulkadir-selvi/mit-ile-mossad-arasinda-casuslar-savasi-mi-yasanacak-42372908',\n",
       " '/yazarlar/abdulkadir-selvi/mit-ile-mossad-arasinda-casuslar-savasi-mi-yasanacak-42372908',\n",
       " '/yazarlar/abdulkadir-selvi/mit-ile-mossad-arasinda-casuslar-savasi-mi-yasanacak-42372908',\n",
       " '/yazarlar/abdulkadir-selvi/mit-ile-mossad-arasinda-casuslar-savasi-mi-yasanacak-42372908',\n",
       " '/yazarlar/abdulkadir-selvi/mit-ile-mossad-arasinda-casuslar-savasi-mi-yasanacak-42372908',\n",
       " '/yazarlar/abdulkadir-selvi/mit-ile-mossad-arasinda-casuslar-savasi-mi-yasanacak-42372908',\n",
       " '/yazarlar/abdulkadir-selvi/mit-ile-mossad-arasinda-casuslar-savasi-mi-yasanacak-42372908',\n",
       " '/yazarlar/abdulkadir-selvi/mit-ile-mossad-arasinda-casuslar-savasi-mi-yasanacak-42372908',\n",
       " '/yazarlar/abdulkadir-selvi/mit-ile-mossad-arasinda-casuslar-savasi-mi-yasanacak-42372908',\n",
       " '/yazarlar/abdulkadir-selvi/mit-ile-mossad-arasinda-casuslar-savasi-mi-yasanacak-42372908',\n",
       " '/yazarlar/abdulkadir-selvi/mit-ile-mossad-arasinda-casuslar-savasi-mi-yasanacak-42372908',\n",
       " '/yazarlar/abdulkadir-selvi/mit-ile-mossad-arasinda-casuslar-savasi-mi-yasanacak-42372908',\n",
       " '/yazarlar/abdulkadir-selvi/mit-ile-mossad-arasinda-casuslar-savasi-mi-yasanacak-42372908',\n",
       " '/yazarlar/abdulkadir-selvi/mit-ile-mossad-arasinda-casuslar-savasi-mi-yasanacak-42372908',\n",
       " '/yazarlar/abdulkadir-selvi/mit-ile-mossad-arasinda-casuslar-savasi-mi-yasanacak-42372908',\n",
       " '/yazarlar/abdulkadir-selvi/mit-ile-mossad-arasinda-casuslar-savasi-mi-yasanacak-42372908',\n",
       " '/yazarlar/abdulkadir-selvi/mit-ile-mossad-arasinda-casuslar-savasi-mi-yasanacak-42372908',\n",
       " '/yazarlar/abdulkadir-selvi/mit-ile-mossad-arasinda-casuslar-savasi-mi-yasanacak-42372908',\n",
       " '/yazarlar/abdulkadir-selvi/mit-ile-mossad-arasinda-casuslar-savasi-mi-yasanacak-42372908',\n",
       " '/yazarlar/abdulkadir-selvi/mit-ile-mossad-arasinda-casuslar-savasi-mi-yasanacak-42372908',\n",
       " '/yazarlar/abdulkadir-selvi/mit-ile-mossad-arasinda-casuslar-savasi-mi-yasanacak-42372908',\n",
       " '/yazarlar/abdulkadir-selvi/mit-ile-mossad-arasinda-casuslar-savasi-mi-yasanacak-42372908',\n",
       " '/yazarlar/abdulkadir-selvi/mit-ile-mossad-arasinda-casuslar-savasi-mi-yasanacak-42372908',\n",
       " '/yazarlar/abdulkadir-selvi/mit-ile-mossad-arasinda-casuslar-savasi-mi-yasanacak-42372908',\n",
       " '/yazarlar/abdulkadir-selvi/mit-ile-mossad-arasinda-casuslar-savasi-mi-yasanacak-42372908',\n",
       " '/yazarlar/abdulkadir-selvi/mit-ile-mossad-arasinda-casuslar-savasi-mi-yasanacak-42372908',\n",
       " '/yazarlar/abdulkadir-selvi/mit-ile-mossad-arasinda-casuslar-savasi-mi-yasanacak-42372908',\n",
       " '/yazarlar/abdulkadir-selvi/mit-ile-mossad-arasinda-casuslar-savasi-mi-yasanacak-42372908',\n",
       " '/yazarlar/abdulkadir-selvi/mit-ile-mossad-arasinda-casuslar-savasi-mi-yasanacak-42372908',\n",
       " '/yazarlar/abdulkadir-selvi/mit-ile-mossad-arasinda-casuslar-savasi-mi-yasanacak-42372908',\n",
       " '/yazarlar/abdulkadir-selvi/mit-ile-mossad-arasinda-casuslar-savasi-mi-yasanacak-42372908',\n",
       " '/yazarlar/abdulkadir-selvi/mit-ile-mossad-arasinda-casuslar-savasi-mi-yasanacak-42372908',\n",
       " '/yazarlar/abdulkadir-selvi/mit-ile-mossad-arasinda-casuslar-savasi-mi-yasanacak-42372908',\n",
       " '/yazarlar/abdulkadir-selvi/mit-ile-mossad-arasinda-casuslar-savasi-mi-yasanacak-42372908',\n",
       " '/yazarlar/abdulkadir-selvi/mit-ile-mossad-arasinda-casuslar-savasi-mi-yasanacak-42372908',\n",
       " '/yazarlar/abdulkadir-selvi/mit-ile-mossad-arasinda-casuslar-savasi-mi-yasanacak-42372908',\n",
       " '/yazarlar/abdulkadir-selvi/mit-ile-mossad-arasinda-casuslar-savasi-mi-yasanacak-42372908',\n",
       " '/yazarlar/abdulkadir-selvi/mit-ile-mossad-arasinda-casuslar-savasi-mi-yasanacak-42372908',\n",
       " '/yazarlar/abdulkadir-selvi/mit-ile-mossad-arasinda-casuslar-savasi-mi-yasanacak-42372908',\n",
       " '/yazarlar/abdulkadir-selvi/mit-ile-mossad-arasinda-casuslar-savasi-mi-yasanacak-42372908',\n",
       " '/yazarlar/abdulkadir-selvi/mit-ile-mossad-arasinda-casuslar-savasi-mi-yasanacak-42372908',\n",
       " '/yazarlar/abdulkadir-selvi/mit-ile-mossad-arasinda-casuslar-savasi-mi-yasanacak-42372908',\n",
       " '/yazarlar/abdulkadir-selvi/mit-ile-mossad-arasinda-casuslar-savasi-mi-yasanacak-42372908',\n",
       " '/yazarlar/abdulkadir-selvi/mit-ile-mossad-arasinda-casuslar-savasi-mi-yasanacak-42372908',\n",
       " '/yazarlar/abdulkadir-selvi/mit-ile-mossad-arasinda-casuslar-savasi-mi-yasanacak-42372908',\n",
       " '/yazarlar/abdulkadir-selvi/mit-ile-mossad-arasinda-casuslar-savasi-mi-yasanacak-42372908',\n",
       " '/yazarlar/abdulkadir-selvi/mit-ile-mossad-arasinda-casuslar-savasi-mi-yasanacak-42372908',\n",
       " '/yazarlar/abdulkadir-selvi/mit-ile-mossad-arasinda-casuslar-savasi-mi-yasanacak-42372908',\n",
       " '/yazarlar/abdulkadir-selvi/mit-ile-mossad-arasinda-casuslar-savasi-mi-yasanacak-42372908',\n",
       " '/yazarlar/abdulkadir-selvi/mit-ile-mossad-arasinda-casuslar-savasi-mi-yasanacak-42372908',\n",
       " '/yazarlar/abdulkadir-selvi/mit-ile-mossad-arasinda-casuslar-savasi-mi-yasanacak-42372908',\n",
       " '/yazarlar/abdulkadir-selvi/mit-ile-mossad-arasinda-casuslar-savasi-mi-yasanacak-42372908',\n",
       " '/yazarlar/abdulkadir-selvi/mit-ile-mossad-arasinda-casuslar-savasi-mi-yasanacak-42372908',\n",
       " '/yazarlar/abdulkadir-selvi/mit-ile-mossad-arasinda-casuslar-savasi-mi-yasanacak-42372908',\n",
       " '/yazarlar/abdulkadir-selvi/mit-ile-mossad-arasinda-casuslar-savasi-mi-yasanacak-42372908',\n",
       " '/yazarlar/abdulkadir-selvi/mit-ile-mossad-arasinda-casuslar-savasi-mi-yasanacak-42372908',\n",
       " '/yazarlar/abdulkadir-selvi/mit-ile-mossad-arasinda-casuslar-savasi-mi-yasanacak-42372908',\n",
       " '/yazarlar/abdulkadir-selvi/mit-ile-mossad-arasinda-casuslar-savasi-mi-yasanacak-42372908',\n",
       " '/yazarlar/abdulkadir-selvi/mit-ile-mossad-arasinda-casuslar-savasi-mi-yasanacak-42372908',\n",
       " '/yazarlar/abdulkadir-selvi/mit-ile-mossad-arasinda-casuslar-savasi-mi-yasanacak-42372908',\n",
       " '/yazarlar/abdulkadir-selvi/mit-ile-mossad-arasinda-casuslar-savasi-mi-yasanacak-42372908',\n",
       " '/yazarlar/abdulkadir-selvi/mit-ile-mossad-arasinda-casuslar-savasi-mi-yasanacak-42372908',\n",
       " '/yazarlar/abdulkadir-selvi/mit-ile-mossad-arasinda-casuslar-savasi-mi-yasanacak-42372908',\n",
       " '/yazarlar/abdulkadir-selvi/mit-ile-mossad-arasinda-casuslar-savasi-mi-yasanacak-42372908',\n",
       " '/yazarlar/abdulkadir-selvi/mit-ile-mossad-arasinda-casuslar-savasi-mi-yasanacak-42372908',\n",
       " '/yazarlar/abdulkadir-selvi/mit-ile-mossad-arasinda-casuslar-savasi-mi-yasanacak-42372908',\n",
       " '/yazarlar/abdulkadir-selvi/mit-ile-mossad-arasinda-casuslar-savasi-mi-yasanacak-42372908',\n",
       " '/yazarlar/abdulkadir-selvi/mit-ile-mossad-arasinda-casuslar-savasi-mi-yasanacak-42372908',\n",
       " '/yazarlar/abdulkadir-selvi/mit-ile-mossad-arasinda-casuslar-savasi-mi-yasanacak-42372908',\n",
       " '/yazarlar/abdulkadir-selvi/mit-ile-mossad-arasinda-casuslar-savasi-mi-yasanacak-42372908',\n",
       " '/yazarlar/abdulkadir-selvi/mit-ile-mossad-arasinda-casuslar-savasi-mi-yasanacak-42372908',\n",
       " '/yazarlar/abdulkadir-selvi/mit-ile-mossad-arasinda-casuslar-savasi-mi-yasanacak-42372908',\n",
       " '/yazarlar/abdulkadir-selvi/mit-ile-mossad-arasinda-casuslar-savasi-mi-yasanacak-42372908',\n",
       " '/yazarlar/abdulkadir-selvi/mit-ile-mossad-arasinda-casuslar-savasi-mi-yasanacak-42372908',\n",
       " '/yazarlar/abdulkadir-selvi/mit-ile-mossad-arasinda-casuslar-savasi-mi-yasanacak-42372908',\n",
       " '/yazarlar/abdulkadir-selvi/mit-ile-mossad-arasinda-casuslar-savasi-mi-yasanacak-42372908',\n",
       " '/yazarlar/abdulkadir-selvi/mit-ile-mossad-arasinda-casuslar-savasi-mi-yasanacak-42372908',\n",
       " '/yazarlar/abdulkadir-selvi/mit-ile-mossad-arasinda-casuslar-savasi-mi-yasanacak-42372908',\n",
       " '/yazarlar/abdulkadir-selvi/mit-ile-mossad-arasinda-casuslar-savasi-mi-yasanacak-42372908',\n",
       " '/yazarlar/abdulkadir-selvi/mit-ile-mossad-arasinda-casuslar-savasi-mi-yasanacak-42372908',\n",
       " '/yazarlar/abdulkadir-selvi/mit-ile-mossad-arasinda-casuslar-savasi-mi-yasanacak-42372908',\n",
       " '/yazarlar/abdulkadir-selvi/mit-ile-mossad-arasinda-casuslar-savasi-mi-yasanacak-42372908',\n",
       " '/yazarlar/abdulkadir-selvi/mit-ile-mossad-arasinda-casuslar-savasi-mi-yasanacak-42372908',\n",
       " '/yazarlar/abdulkadir-selvi/mit-ile-mossad-arasinda-casuslar-savasi-mi-yasanacak-42372908',\n",
       " '/yazarlar/abdulkadir-selvi/mit-ile-mossad-arasinda-casuslar-savasi-mi-yasanacak-42372908',\n",
       " '/yazarlar/abdulkadir-selvi/mit-ile-mossad-arasinda-casuslar-savasi-mi-yasanacak-42372908',\n",
       " '/yazarlar/abdulkadir-selvi/mit-ile-mossad-arasinda-casuslar-savasi-mi-yasanacak-42372908',\n",
       " '/yazarlar/abdulkadir-selvi/mit-ile-mossad-arasinda-casuslar-savasi-mi-yasanacak-42372908',\n",
       " '/yazarlar/abdulkadir-selvi/mit-ile-mossad-arasinda-casuslar-savasi-mi-yasanacak-42372908',\n",
       " '/yazarlar/abdulkadir-selvi/mit-ile-mossad-arasinda-casuslar-savasi-mi-yasanacak-42372908',\n",
       " '/yazarlar/abdulkadir-selvi/mit-ile-mossad-arasinda-casuslar-savasi-mi-yasanacak-42372908',\n",
       " '/yazarlar/abdulkadir-selvi/mit-ile-mossad-arasinda-casuslar-savasi-mi-yasanacak-42372908',\n",
       " '/yazarlar/abdulkadir-selvi/mit-ile-mossad-arasinda-casuslar-savasi-mi-yasanacak-42372908',\n",
       " '/yazarlar/abdulkadir-selvi/mit-ile-mossad-arasinda-casuslar-savasi-mi-yasanacak-42372908',\n",
       " '/yazarlar/abdulkadir-selvi/mit-ile-mossad-arasinda-casuslar-savasi-mi-yasanacak-42372908',\n",
       " '/yazarlar/abdulkadir-selvi/mit-ile-mossad-arasinda-casuslar-savasi-mi-yasanacak-42372908',\n",
       " '/yazarlar/abdulkadir-selvi/mit-ile-mossad-arasinda-casuslar-savasi-mi-yasanacak-42372908',\n",
       " '/yazarlar/abdulkadir-selvi/mit-ile-mossad-arasinda-casuslar-savasi-mi-yasanacak-42372908',\n",
       " '/yazarlar/abdulkadir-selvi/mit-ile-mossad-arasinda-casuslar-savasi-mi-yasanacak-42372908',\n",
       " '/yazarlar/abdulkadir-selvi/mit-ile-mossad-arasinda-casuslar-savasi-mi-yasanacak-42372908',\n",
       " '/yazarlar/abdulkadir-selvi/mit-ile-mossad-arasinda-casuslar-savasi-mi-yasanacak-42372908',\n",
       " '/yazarlar/abdulkadir-selvi/mit-ile-mossad-arasinda-casuslar-savasi-mi-yasanacak-42372908',\n",
       " '/yazarlar/abdulkadir-selvi/mit-ile-mossad-arasinda-casuslar-savasi-mi-yasanacak-42372908',\n",
       " '/yazarlar/abdulkadir-selvi/mit-ile-mossad-arasinda-casuslar-savasi-mi-yasanacak-42372908',\n",
       " '/yazarlar/abdulkadir-selvi/mit-ile-mossad-arasinda-casuslar-savasi-mi-yasanacak-42372908',\n",
       " '/yazarlar/abdulkadir-selvi/mit-ile-mossad-arasinda-casuslar-savasi-mi-yasanacak-42372908',\n",
       " '/yazarlar/abdulkadir-selvi/mit-ile-mossad-arasinda-casuslar-savasi-mi-yasanacak-42372908',\n",
       " '/yazarlar/abdulkadir-selvi/mit-ile-mossad-arasinda-casuslar-savasi-mi-yasanacak-42372908',\n",
       " '/yazarlar/abdulkadir-selvi/mit-ile-mossad-arasinda-casuslar-savasi-mi-yasanacak-42372908',\n",
       " '/yazarlar/abdulkadir-selvi/mit-ile-mossad-arasinda-casuslar-savasi-mi-yasanacak-42372908',\n",
       " '/yazarlar/abdulkadir-selvi/mit-ile-mossad-arasinda-casuslar-savasi-mi-yasanacak-42372908',\n",
       " '/yazarlar/abdulkadir-selvi/mit-ile-mossad-arasinda-casuslar-savasi-mi-yasanacak-42372908',\n",
       " '/yazarlar/abdulkadir-selvi/mit-ile-mossad-arasinda-casuslar-savasi-mi-yasanacak-42372908',\n",
       " '/yazarlar/abdulkadir-selvi/mit-ile-mossad-arasinda-casuslar-savasi-mi-yasanacak-42372908',\n",
       " '/yazarlar/abdulkadir-selvi/mit-ile-mossad-arasinda-casuslar-savasi-mi-yasanacak-42372908',\n",
       " '/yazarlar/abdulkadir-selvi/mit-ile-mossad-arasinda-casuslar-savasi-mi-yasanacak-42372908',\n",
       " '/yazarlar/abdulkadir-selvi/mit-ile-mossad-arasinda-casuslar-savasi-mi-yasanacak-42372908',\n",
       " '/yazarlar/abdulkadir-selvi/mit-ile-mossad-arasinda-casuslar-savasi-mi-yasanacak-42372908',\n",
       " '/yazarlar/abdulkadir-selvi/mit-ile-mossad-arasinda-casuslar-savasi-mi-yasanacak-42372908',\n",
       " '/yazarlar/abdulkadir-selvi/mit-ile-mossad-arasinda-casuslar-savasi-mi-yasanacak-42372908',\n",
       " '/yazarlar/abdulkadir-selvi/mit-ile-mossad-arasinda-casuslar-savasi-mi-yasanacak-42372908',\n",
       " '/yazarlar/abdulkadir-selvi/mit-ile-mossad-arasinda-casuslar-savasi-mi-yasanacak-42372908',\n",
       " '/yazarlar/abdulkadir-selvi/mit-ile-mossad-arasinda-casuslar-savasi-mi-yasanacak-42372908',\n",
       " '/yazarlar/abdulkadir-selvi/mit-ile-mossad-arasinda-casuslar-savasi-mi-yasanacak-42372908',\n",
       " '/yazarlar/abdulkadir-selvi/mit-ile-mossad-arasinda-casuslar-savasi-mi-yasanacak-42372908',\n",
       " '/yazarlar/abdulkadir-selvi/mit-ile-mossad-arasinda-casuslar-savasi-mi-yasanacak-42372908',\n",
       " '/yazarlar/abdulkadir-selvi/mit-ile-mossad-arasinda-casuslar-savasi-mi-yasanacak-42372908',\n",
       " '/yazarlar/abdulkadir-selvi/mit-ile-mossad-arasinda-casuslar-savasi-mi-yasanacak-42372908',\n",
       " '/yazarlar/abdulkadir-selvi/mit-ile-mossad-arasinda-casuslar-savasi-mi-yasanacak-42372908',\n",
       " '/yazarlar/abdulkadir-selvi/mit-ile-mossad-arasinda-casuslar-savasi-mi-yasanacak-42372908',\n",
       " '/yazarlar/abdulkadir-selvi/mit-ile-mossad-arasinda-casuslar-savasi-mi-yasanacak-42372908',\n",
       " '/yazarlar/abdulkadir-selvi/mit-ile-mossad-arasinda-casuslar-savasi-mi-yasanacak-42372908',\n",
       " '/yazarlar/abdulkadir-selvi/mit-ile-mossad-arasinda-casuslar-savasi-mi-yasanacak-42372908',\n",
       " '/yazarlar/abdulkadir-selvi/mit-ile-mossad-arasinda-casuslar-savasi-mi-yasanacak-42372908',\n",
       " '/yazarlar/abdulkadir-selvi/mit-ile-mossad-arasinda-casuslar-savasi-mi-yasanacak-42372908',\n",
       " '/yazarlar/abdulkadir-selvi/mit-ile-mossad-arasinda-casuslar-savasi-mi-yasanacak-42372908',\n",
       " '/yazarlar/abdulkadir-selvi/mit-ile-mossad-arasinda-casuslar-savasi-mi-yasanacak-42372908',\n",
       " '/yazarlar/abdulkadir-selvi/mit-ile-mossad-arasinda-casuslar-savasi-mi-yasanacak-42372908',\n",
       " '/yazarlar/abdulkadir-selvi/mit-ile-mossad-arasinda-casuslar-savasi-mi-yasanacak-42372908',\n",
       " '/yazarlar/abdulkadir-selvi/mit-ile-mossad-arasinda-casuslar-savasi-mi-yasanacak-42372908',\n",
       " '/yazarlar/abdulkadir-selvi/mit-ile-mossad-arasinda-casuslar-savasi-mi-yasanacak-42372908',\n",
       " '/yazarlar/abdulkadir-selvi/mit-ile-mossad-arasinda-casuslar-savasi-mi-yasanacak-42372908',\n",
       " '/yazarlar/abdulkadir-selvi/mit-ile-mossad-arasinda-casuslar-savasi-mi-yasanacak-42372908',\n",
       " '/yazarlar/abdulkadir-selvi/mit-ile-mossad-arasinda-casuslar-savasi-mi-yasanacak-42372908',\n",
       " '/yazarlar/abdulkadir-selvi/mit-ile-mossad-arasinda-casuslar-savasi-mi-yasanacak-42372908',\n",
       " '/yazarlar/abdulkadir-selvi/mit-ile-mossad-arasinda-casuslar-savasi-mi-yasanacak-42372908',\n",
       " '/yazarlar/abdulkadir-selvi/mit-ile-mossad-arasinda-casuslar-savasi-mi-yasanacak-42372908',\n",
       " '/yazarlar/abdulkadir-selvi/mit-ile-mossad-arasinda-casuslar-savasi-mi-yasanacak-42372908',\n",
       " '/yazarlar/abdulkadir-selvi/mit-ile-mossad-arasinda-casuslar-savasi-mi-yasanacak-42372908',\n",
       " '/yazarlar/abdulkadir-selvi/mit-ile-mossad-arasinda-casuslar-savasi-mi-yasanacak-42372908',\n",
       " '/yazarlar/abdulkadir-selvi/mit-ile-mossad-arasinda-casuslar-savasi-mi-yasanacak-42372908',\n",
       " '/yazarlar/abdulkadir-selvi/mit-ile-mossad-arasinda-casuslar-savasi-mi-yasanacak-42372908',\n",
       " '/yazarlar/abdulkadir-selvi/mit-ile-mossad-arasinda-casuslar-savasi-mi-yasanacak-42372908',\n",
       " '/yazarlar/abdulkadir-selvi/mit-ile-mossad-arasinda-casuslar-savasi-mi-yasanacak-42372908',\n",
       " '/yazarlar/abdulkadir-selvi/mit-ile-mossad-arasinda-casuslar-savasi-mi-yasanacak-42372908',\n",
       " '/yazarlar/abdulkadir-selvi/mit-ile-mossad-arasinda-casuslar-savasi-mi-yasanacak-42372908',\n",
       " '/yazarlar/abdulkadir-selvi/mit-ile-mossad-arasinda-casuslar-savasi-mi-yasanacak-42372908',\n",
       " '/yazarlar/abdulkadir-selvi/mit-ile-mossad-arasinda-casuslar-savasi-mi-yasanacak-42372908',\n",
       " '/yazarlar/abdulkadir-selvi/mit-ile-mossad-arasinda-casuslar-savasi-mi-yasanacak-42372908',\n",
       " '/yazarlar/abdulkadir-selvi/mit-ile-mossad-arasinda-casuslar-savasi-mi-yasanacak-42372908',\n",
       " '/yazarlar/abdulkadir-selvi/mit-ile-mossad-arasinda-casuslar-savasi-mi-yasanacak-42372908',\n",
       " '/yazarlar/abdulkadir-selvi/mit-ile-mossad-arasinda-casuslar-savasi-mi-yasanacak-42372908',\n",
       " '/yazarlar/abdulkadir-selvi/mit-ile-mossad-arasinda-casuslar-savasi-mi-yasanacak-42372908',\n",
       " '/yazarlar/abdulkadir-selvi/mit-ile-mossad-arasinda-casuslar-savasi-mi-yasanacak-42372908',\n",
       " '/yazarlar/abdulkadir-selvi/mit-ile-mossad-arasinda-casuslar-savasi-mi-yasanacak-42372908',\n",
       " '/yazarlar/abdulkadir-selvi/mit-ile-mossad-arasinda-casuslar-savasi-mi-yasanacak-42372908',\n",
       " '/yazarlar/abdulkadir-selvi/mit-ile-mossad-arasinda-casuslar-savasi-mi-yasanacak-42372908',\n",
       " '/yazarlar/abdulkadir-selvi/mit-ile-mossad-arasinda-casuslar-savasi-mi-yasanacak-42372908',\n",
       " '/yazarlar/abdulkadir-selvi/mit-ile-mossad-arasinda-casuslar-savasi-mi-yasanacak-42372908',\n",
       " '/yazarlar/abdulkadir-selvi/mit-ile-mossad-arasinda-casuslar-savasi-mi-yasanacak-42372908',\n",
       " '/yazarlar/abdulkadir-selvi/mit-ile-mossad-arasinda-casuslar-savasi-mi-yasanacak-42372908',\n",
       " '/yazarlar/abdulkadir-selvi/mit-ile-mossad-arasinda-casuslar-savasi-mi-yasanacak-42372908',\n",
       " '/yazarlar/abdulkadir-selvi/mit-ile-mossad-arasinda-casuslar-savasi-mi-yasanacak-42372908',\n",
       " '/yazarlar/abdulkadir-selvi/mit-ile-mossad-arasinda-casuslar-savasi-mi-yasanacak-42372908',\n",
       " '/yazarlar/abdulkadir-selvi/mit-ile-mossad-arasinda-casuslar-savasi-mi-yasanacak-42372908',\n",
       " '/yazarlar/abdulkadir-selvi/mit-ile-mossad-arasinda-casuslar-savasi-mi-yasanacak-42372908',\n",
       " '/yazarlar/abdulkadir-selvi/mit-ile-mossad-arasinda-casuslar-savasi-mi-yasanacak-42372908',\n",
       " '/yazarlar/abdulkadir-selvi/mit-ile-mossad-arasinda-casuslar-savasi-mi-yasanacak-42372908',\n",
       " '/yazarlar/abdulkadir-selvi/mit-ile-mossad-arasinda-casuslar-savasi-mi-yasanacak-42372908',\n",
       " '/yazarlar/abdulkadir-selvi/mit-ile-mossad-arasinda-casuslar-savasi-mi-yasanacak-42372908',\n",
       " '/yazarlar/abdulkadir-selvi/mit-ile-mossad-arasinda-casuslar-savasi-mi-yasanacak-42372908',\n",
       " '/yazarlar/abdulkadir-selvi/mit-ile-mossad-arasinda-casuslar-savasi-mi-yasanacak-42372908',\n",
       " '/yazarlar/abdulkadir-selvi/mit-ile-mossad-arasinda-casuslar-savasi-mi-yasanacak-42372908',\n",
       " '/yazarlar/abdulkadir-selvi/mit-ile-mossad-arasinda-casuslar-savasi-mi-yasanacak-42372908',\n",
       " '/yazarlar/abdulkadir-selvi/mit-ile-mossad-arasinda-casuslar-savasi-mi-yasanacak-42372908',\n",
       " '/yazarlar/abdulkadir-selvi/mit-ile-mossad-arasinda-casuslar-savasi-mi-yasanacak-42372908',\n",
       " '/yazarlar/abdulkadir-selvi/mit-ile-mossad-arasinda-casuslar-savasi-mi-yasanacak-42372908',\n",
       " '/yazarlar/abdulkadir-selvi/mit-ile-mossad-arasinda-casuslar-savasi-mi-yasanacak-42372908',\n",
       " '/yazarlar/abdulkadir-selvi/mit-ile-mossad-arasinda-casuslar-savasi-mi-yasanacak-42372908',\n",
       " '/yazarlar/abdulkadir-selvi/mit-ile-mossad-arasinda-casuslar-savasi-mi-yasanacak-42372908',\n",
       " '/yazarlar/abdulkadir-selvi/mit-ile-mossad-arasinda-casuslar-savasi-mi-yasanacak-42372908',\n",
       " '/yazarlar/abdulkadir-selvi/mit-ile-mossad-arasinda-casuslar-savasi-mi-yasanacak-42372908',\n",
       " '/yazarlar/abdulkadir-selvi/mit-ile-mossad-arasinda-casuslar-savasi-mi-yasanacak-42372908',\n",
       " '/yazarlar/abdulkadir-selvi/mit-ile-mossad-arasinda-casuslar-savasi-mi-yasanacak-42372908',\n",
       " '/yazarlar/abdulkadir-selvi/mit-ile-mossad-arasinda-casuslar-savasi-mi-yasanacak-42372908',\n",
       " '/yazarlar/abdulkadir-selvi/mit-ile-mossad-arasinda-casuslar-savasi-mi-yasanacak-42372908',\n",
       " '/yazarlar/abdulkadir-selvi/mit-ile-mossad-arasinda-casuslar-savasi-mi-yasanacak-42372908',\n",
       " '/yazarlar/abdulkadir-selvi/mit-ile-mossad-arasinda-casuslar-savasi-mi-yasanacak-42372908',\n",
       " '/yazarlar/abdulkadir-selvi/mit-ile-mossad-arasinda-casuslar-savasi-mi-yasanacak-42372908',\n",
       " '/yazarlar/abdulkadir-selvi/mit-ile-mossad-arasinda-casuslar-savasi-mi-yasanacak-42372908',\n",
       " '/yazarlar/abdulkadir-selvi/mit-ile-mossad-arasinda-casuslar-savasi-mi-yasanacak-42372908',\n",
       " '/yazarlar/abdulkadir-selvi/mit-ile-mossad-arasinda-casuslar-savasi-mi-yasanacak-42372908',\n",
       " '/yazarlar/abdulkadir-selvi/mit-ile-mossad-arasinda-casuslar-savasi-mi-yasanacak-42372908',\n",
       " '/yazarlar/abdulkadir-selvi/mit-ile-mossad-arasinda-casuslar-savasi-mi-yasanacak-42372908',\n",
       " '/yazarlar/abdulkadir-selvi/mit-ile-mossad-arasinda-casuslar-savasi-mi-yasanacak-42372908',\n",
       " '/yazarlar/abdulkadir-selvi/mit-ile-mossad-arasinda-casuslar-savasi-mi-yasanacak-42372908',\n",
       " '/yazarlar/abdulkadir-selvi/mit-ile-mossad-arasinda-casuslar-savasi-mi-yasanacak-42372908',\n",
       " '/yazarlar/abdulkadir-selvi/mit-ile-mossad-arasinda-casuslar-savasi-mi-yasanacak-42372908',\n",
       " '/yazarlar/abdulkadir-selvi/mit-ile-mossad-arasinda-casuslar-savasi-mi-yasanacak-42372908',\n",
       " '/yazarlar/abdulkadir-selvi/mit-ile-mossad-arasinda-casuslar-savasi-mi-yasanacak-42372908',\n",
       " '/yazarlar/abdulkadir-selvi/mit-ile-mossad-arasinda-casuslar-savasi-mi-yasanacak-42372908',\n",
       " '/yazarlar/abdulkadir-selvi/mit-ile-mossad-arasinda-casuslar-savasi-mi-yasanacak-42372908',\n",
       " '/yazarlar/abdulkadir-selvi/mit-ile-mossad-arasinda-casuslar-savasi-mi-yasanacak-42372908',\n",
       " '/yazarlar/abdulkadir-selvi/mit-ile-mossad-arasinda-casuslar-savasi-mi-yasanacak-42372908',\n",
       " '/yazarlar/abdulkadir-selvi/mit-ile-mossad-arasinda-casuslar-savasi-mi-yasanacak-42372908',\n",
       " '/yazarlar/abdulkadir-selvi/mit-ile-mossad-arasinda-casuslar-savasi-mi-yasanacak-42372908',\n",
       " '/yazarlar/abdulkadir-selvi/mit-ile-mossad-arasinda-casuslar-savasi-mi-yasanacak-42372908',\n",
       " '/yazarlar/abdulkadir-selvi/mit-ile-mossad-arasinda-casuslar-savasi-mi-yasanacak-42372908',\n",
       " '/yazarlar/abdulkadir-selvi/mit-ile-mossad-arasinda-casuslar-savasi-mi-yasanacak-42372908',\n",
       " '/yazarlar/abdulkadir-selvi/mit-ile-mossad-arasinda-casuslar-savasi-mi-yasanacak-42372908',\n",
       " '/yazarlar/abdulkadir-selvi/mit-ile-mossad-arasinda-casuslar-savasi-mi-yasanacak-42372908',\n",
       " '/yazarlar/abdulkadir-selvi/mit-ile-mossad-arasinda-casuslar-savasi-mi-yasanacak-42372908',\n",
       " '/yazarlar/abdulkadir-selvi/mit-ile-mossad-arasinda-casuslar-savasi-mi-yasanacak-42372908',\n",
       " '/yazarlar/abdulkadir-selvi/mit-ile-mossad-arasinda-casuslar-savasi-mi-yasanacak-42372908',\n",
       " '/yazarlar/abdulkadir-selvi/mit-ile-mossad-arasinda-casuslar-savasi-mi-yasanacak-42372908',\n",
       " '/yazarlar/abdulkadir-selvi/mit-ile-mossad-arasinda-casuslar-savasi-mi-yasanacak-42372908',\n",
       " '/yazarlar/abdulkadir-selvi/mit-ile-mossad-arasinda-casuslar-savasi-mi-yasanacak-42372908',\n",
       " '/yazarlar/abdulkadir-selvi/mit-ile-mossad-arasinda-casuslar-savasi-mi-yasanacak-42372908',\n",
       " '/yazarlar/abdulkadir-selvi/mit-ile-mossad-arasinda-casuslar-savasi-mi-yasanacak-42372908',\n",
       " '/yazarlar/abdulkadir-selvi/mit-ile-mossad-arasinda-casuslar-savasi-mi-yasanacak-42372908',\n",
       " '/yazarlar/abdulkadir-selvi/mit-ile-mossad-arasinda-casuslar-savasi-mi-yasanacak-42372908',\n",
       " '/yazarlar/abdulkadir-selvi/mit-ile-mossad-arasinda-casuslar-savasi-mi-yasanacak-42372908',\n",
       " '/yazarlar/abdulkadir-selvi/mit-ile-mossad-arasinda-casuslar-savasi-mi-yasanacak-42372908',\n",
       " '/yazarlar/abdulkadir-selvi/mit-ile-mossad-arasinda-casuslar-savasi-mi-yasanacak-42372908',\n",
       " '/yazarlar/abdulkadir-selvi/mit-ile-mossad-arasinda-casuslar-savasi-mi-yasanacak-42372908',\n",
       " '/yazarlar/abdulkadir-selvi/mit-ile-mossad-arasinda-casuslar-savasi-mi-yasanacak-42372908',\n",
       " '/yazarlar/abdulkadir-selvi/mit-ile-mossad-arasinda-casuslar-savasi-mi-yasanacak-42372908',\n",
       " '/yazarlar/abdulkadir-selvi/mit-ile-mossad-arasinda-casuslar-savasi-mi-yasanacak-42372908',\n",
       " '/yazarlar/abdulkadir-selvi/mit-ile-mossad-arasinda-casuslar-savasi-mi-yasanacak-42372908',\n",
       " '/yazarlar/abdulkadir-selvi/mit-ile-mossad-arasinda-casuslar-savasi-mi-yasanacak-42372908',\n",
       " '/yazarlar/abdulkadir-selvi/mit-ile-mossad-arasinda-casuslar-savasi-mi-yasanacak-42372908',\n",
       " '/yazarlar/abdulkadir-selvi/mit-ile-mossad-arasinda-casuslar-savasi-mi-yasanacak-42372908',\n",
       " '/yazarlar/abdulkadir-selvi/mit-ile-mossad-arasinda-casuslar-savasi-mi-yasanacak-42372908',\n",
       " '/yazarlar/abdulkadir-selvi/mit-ile-mossad-arasinda-casuslar-savasi-mi-yasanacak-42372908',\n",
       " '/yazarlar/abdulkadir-selvi/mit-ile-mossad-arasinda-casuslar-savasi-mi-yasanacak-42372908',\n",
       " '/yazarlar/abdulkadir-selvi/mit-ile-mossad-arasinda-casuslar-savasi-mi-yasanacak-42372908',\n",
       " '/yazarlar/abdulkadir-selvi/mit-ile-mossad-arasinda-casuslar-savasi-mi-yasanacak-42372908',\n",
       " '/yazarlar/abdulkadir-selvi/mit-ile-mossad-arasinda-casuslar-savasi-mi-yasanacak-42372908',\n",
       " '/yazarlar/abdulkadir-selvi/mit-ile-mossad-arasinda-casuslar-savasi-mi-yasanacak-42372908',\n",
       " '/yazarlar/abdulkadir-selvi/mit-ile-mossad-arasinda-casuslar-savasi-mi-yasanacak-42372908',\n",
       " '/yazarlar/abdulkadir-selvi/mit-ile-mossad-arasinda-casuslar-savasi-mi-yasanacak-42372908',\n",
       " '/yazarlar/abdulkadir-selvi/mit-ile-mossad-arasinda-casuslar-savasi-mi-yasanacak-42372908',\n",
       " '/yazarlar/abdulkadir-selvi/mit-ile-mossad-arasinda-casuslar-savasi-mi-yasanacak-42372908',\n",
       " '/yazarlar/abdulkadir-selvi/mit-ile-mossad-arasinda-casuslar-savasi-mi-yasanacak-42372908',\n",
       " '/yazarlar/abdulkadir-selvi/mit-ile-mossad-arasinda-casuslar-savasi-mi-yasanacak-42372908',\n",
       " '/yazarlar/abdulkadir-selvi/mit-ile-mossad-arasinda-casuslar-savasi-mi-yasanacak-42372908',\n",
       " '/yazarlar/abdulkadir-selvi/mit-ile-mossad-arasinda-casuslar-savasi-mi-yasanacak-42372908',\n",
       " '/yazarlar/abdulkadir-selvi/mit-ile-mossad-arasinda-casuslar-savasi-mi-yasanacak-42372908',\n",
       " '/yazarlar/abdulkadir-selvi/mit-ile-mossad-arasinda-casuslar-savasi-mi-yasanacak-42372908',\n",
       " '/yazarlar/abdulkadir-selvi/mit-ile-mossad-arasinda-casuslar-savasi-mi-yasanacak-42372908',\n",
       " '/yazarlar/abdulkadir-selvi/mit-ile-mossad-arasinda-casuslar-savasi-mi-yasanacak-42372908',\n",
       " '/yazarlar/abdulkadir-selvi/mit-ile-mossad-arasinda-casuslar-savasi-mi-yasanacak-42372908',\n",
       " '/yazarlar/abdulkadir-selvi/mit-ile-mossad-arasinda-casuslar-savasi-mi-yasanacak-42372908',\n",
       " '/yazarlar/abdulkadir-selvi/mit-ile-mossad-arasinda-casuslar-savasi-mi-yasanacak-42372908',\n",
       " '/yazarlar/abdulkadir-selvi/mit-ile-mossad-arasinda-casuslar-savasi-mi-yasanacak-42372908',\n",
       " '/yazarlar/abdulkadir-selvi/mit-ile-mossad-arasinda-casuslar-savasi-mi-yasanacak-42372908',\n",
       " '/yazarlar/abdulkadir-selvi/mit-ile-mossad-arasinda-casuslar-savasi-mi-yasanacak-42372908',\n",
       " '/yazarlar/abdulkadir-selvi/mit-ile-mossad-arasinda-casuslar-savasi-mi-yasanacak-42372908',\n",
       " '/yazarlar/abdulkadir-selvi/mit-ile-mossad-arasinda-casuslar-savasi-mi-yasanacak-42372908',\n",
       " '/yazarlar/abdulkadir-selvi/mit-ile-mossad-arasinda-casuslar-savasi-mi-yasanacak-42372908',\n",
       " '/yazarlar/abdulkadir-selvi/mit-ile-mossad-arasinda-casuslar-savasi-mi-yasanacak-42372908',\n",
       " '/yazarlar/abdulkadir-selvi/mit-ile-mossad-arasinda-casuslar-savasi-mi-yasanacak-42372908',\n",
       " '/yazarlar/abdulkadir-selvi/mit-ile-mossad-arasinda-casuslar-savasi-mi-yasanacak-42372908',\n",
       " '/yazarlar/abdulkadir-selvi/mit-ile-mossad-arasinda-casuslar-savasi-mi-yasanacak-42372908',\n",
       " '/yazarlar/abdulkadir-selvi/mit-ile-mossad-arasinda-casuslar-savasi-mi-yasanacak-42372908',\n",
       " '/yazarlar/abdulkadir-selvi/mit-ile-mossad-arasinda-casuslar-savasi-mi-yasanacak-42372908',\n",
       " '/yazarlar/abdulkadir-selvi/mit-ile-mossad-arasinda-casuslar-savasi-mi-yasanacak-42372908',\n",
       " '/yazarlar/abdulkadir-selvi/mit-ile-mossad-arasinda-casuslar-savasi-mi-yasanacak-42372908',\n",
       " '/yazarlar/abdulkadir-selvi/mit-ile-mossad-arasinda-casuslar-savasi-mi-yasanacak-42372908',\n",
       " '/yazarlar/abdulkadir-selvi/mit-ile-mossad-arasinda-casuslar-savasi-mi-yasanacak-42372908',\n",
       " '/yazarlar/abdulkadir-selvi/mit-ile-mossad-arasinda-casuslar-savasi-mi-yasanacak-42372908',\n",
       " '/yazarlar/abdulkadir-selvi/mit-ile-mossad-arasinda-casuslar-savasi-mi-yasanacak-42372908',\n",
       " '/yazarlar/abdulkadir-selvi/mit-ile-mossad-arasinda-casuslar-savasi-mi-yasanacak-42372908',\n",
       " '/yazarlar/abdulkadir-selvi/mit-ile-mossad-arasinda-casuslar-savasi-mi-yasanacak-42372908',\n",
       " '/yazarlar/abdulkadir-selvi/mit-ile-mossad-arasinda-casuslar-savasi-mi-yasanacak-42372908',\n",
       " '/yazarlar/abdulkadir-selvi/mit-ile-mossad-arasinda-casuslar-savasi-mi-yasanacak-42372908',\n",
       " '/yazarlar/abdulkadir-selvi/mit-ile-mossad-arasinda-casuslar-savasi-mi-yasanacak-42372908',\n",
       " '/yazarlar/abdulkadir-selvi/mit-ile-mossad-arasinda-casuslar-savasi-mi-yasanacak-42372908',\n",
       " '/yazarlar/abdulkadir-selvi/mit-ile-mossad-arasinda-casuslar-savasi-mi-yasanacak-42372908',\n",
       " '/yazarlar/abdulkadir-selvi/mit-ile-mossad-arasinda-casuslar-savasi-mi-yasanacak-42372908',\n",
       " '/yazarlar/abdulkadir-selvi/mit-ile-mossad-arasinda-casuslar-savasi-mi-yasanacak-42372908',\n",
       " '/yazarlar/abdulkadir-selvi/mit-ile-mossad-arasinda-casuslar-savasi-mi-yasanacak-42372908',\n",
       " '/yazarlar/abdulkadir-selvi/mit-ile-mossad-arasinda-casuslar-savasi-mi-yasanacak-42372908',\n",
       " '/yazarlar/abdulkadir-selvi/mit-ile-mossad-arasinda-casuslar-savasi-mi-yasanacak-42372908',\n",
       " '/yazarlar/abdulkadir-selvi/mit-ile-mossad-arasinda-casuslar-savasi-mi-yasanacak-42372908',\n",
       " '/yazarlar/abdulkadir-selvi/mit-ile-mossad-arasinda-casuslar-savasi-mi-yasanacak-42372908',\n",
       " '/yazarlar/abdulkadir-selvi/mit-ile-mossad-arasinda-casuslar-savasi-mi-yasanacak-42372908',\n",
       " '/yazarlar/abdulkadir-selvi/mit-ile-mossad-arasinda-casuslar-savasi-mi-yasanacak-42372908',\n",
       " '/yazarlar/abdulkadir-selvi/mit-ile-mossad-arasinda-casuslar-savasi-mi-yasanacak-42372908',\n",
       " '/yazarlar/abdulkadir-selvi/mit-ile-mossad-arasinda-casuslar-savasi-mi-yasanacak-42372908',\n",
       " '/yazarlar/abdulkadir-selvi/mit-ile-mossad-arasinda-casuslar-savasi-mi-yasanacak-42372908',\n",
       " '/yazarlar/abdulkadir-selvi/mit-ile-mossad-arasinda-casuslar-savasi-mi-yasanacak-42372908',\n",
       " '/yazarlar/abdulkadir-selvi/mit-ile-mossad-arasinda-casuslar-savasi-mi-yasanacak-42372908',\n",
       " '/yazarlar/abdulkadir-selvi/mit-ile-mossad-arasinda-casuslar-savasi-mi-yasanacak-42372908',\n",
       " '/yazarlar/abdulkadir-selvi/mit-ile-mossad-arasinda-casuslar-savasi-mi-yasanacak-42372908',\n",
       " '/yazarlar/abdulkadir-selvi/mit-ile-mossad-arasinda-casuslar-savasi-mi-yasanacak-42372908',\n",
       " '/yazarlar/abdulkadir-selvi/mit-ile-mossad-arasinda-casuslar-savasi-mi-yasanacak-42372908',\n",
       " '/yazarlar/abdulkadir-selvi/mit-ile-mossad-arasinda-casuslar-savasi-mi-yasanacak-42372908',\n",
       " '/yazarlar/abdulkadir-selvi/mit-ile-mossad-arasinda-casuslar-savasi-mi-yasanacak-42372908',\n",
       " '/yazarlar/abdulkadir-selvi/mit-ile-mossad-arasinda-casuslar-savasi-mi-yasanacak-42372908',\n",
       " '/yazarlar/abdulkadir-selvi/mit-ile-mossad-arasinda-casuslar-savasi-mi-yasanacak-42372908',\n",
       " '/yazarlar/abdulkadir-selvi/mit-ile-mossad-arasinda-casuslar-savasi-mi-yasanacak-42372908',\n",
       " '/yazarlar/abdulkadir-selvi/mit-ile-mossad-arasinda-casuslar-savasi-mi-yasanacak-42372908',\n",
       " '/yazarlar/abdulkadir-selvi/mit-ile-mossad-arasinda-casuslar-savasi-mi-yasanacak-42372908',\n",
       " '/yazarlar/abdulkadir-selvi/mit-ile-mossad-arasinda-casuslar-savasi-mi-yasanacak-42372908',\n",
       " '/yazarlar/abdulkadir-selvi/mit-ile-mossad-arasinda-casuslar-savasi-mi-yasanacak-42372908',\n",
       " '/yazarlar/abdulkadir-selvi/mit-ile-mossad-arasinda-casuslar-savasi-mi-yasanacak-42372908',\n",
       " '/yazarlar/abdulkadir-selvi/mit-ile-mossad-arasinda-casuslar-savasi-mi-yasanacak-42372908',\n",
       " '/yazarlar/abdulkadir-selvi/mit-ile-mossad-arasinda-casuslar-savasi-mi-yasanacak-42372908',\n",
       " '/yazarlar/abdulkadir-selvi/mit-ile-mossad-arasinda-casuslar-savasi-mi-yasanacak-42372908',\n",
       " '/yazarlar/abdulkadir-selvi/mit-ile-mossad-arasinda-casuslar-savasi-mi-yasanacak-42372908',\n",
       " '/yazarlar/abdulkadir-selvi/mit-ile-mossad-arasinda-casuslar-savasi-mi-yasanacak-42372908',\n",
       " '/yazarlar/abdulkadir-selvi/mit-ile-mossad-arasinda-casuslar-savasi-mi-yasanacak-42372908',\n",
       " '/yazarlar/abdulkadir-selvi/mit-ile-mossad-arasinda-casuslar-savasi-mi-yasanacak-42372908',\n",
       " '/yazarlar/abdulkadir-selvi/mit-ile-mossad-arasinda-casuslar-savasi-mi-yasanacak-42372908',\n",
       " '/yazarlar/abdulkadir-selvi/mit-ile-mossad-arasinda-casuslar-savasi-mi-yasanacak-42372908',\n",
       " '/yazarlar/abdulkadir-selvi/mit-ile-mossad-arasinda-casuslar-savasi-mi-yasanacak-42372908',\n",
       " '/yazarlar/abdulkadir-selvi/mit-ile-mossad-arasinda-casuslar-savasi-mi-yasanacak-42372908',\n",
       " '/yazarlar/abdulkadir-selvi/mit-ile-mossad-arasinda-casuslar-savasi-mi-yasanacak-42372908',\n",
       " '/yazarlar/abdulkadir-selvi/mit-ile-mossad-arasinda-casuslar-savasi-mi-yasanacak-42372908',\n",
       " '/yazarlar/abdulkadir-selvi/mit-ile-mossad-arasinda-casuslar-savasi-mi-yasanacak-42372908',\n",
       " '/yazarlar/abdulkadir-selvi/mit-ile-mossad-arasinda-casuslar-savasi-mi-yasanacak-42372908',\n",
       " '/yazarlar/abdulkadir-selvi/mit-ile-mossad-arasinda-casuslar-savasi-mi-yasanacak-42372908',\n",
       " '/yazarlar/abdulkadir-selvi/mit-ile-mossad-arasinda-casuslar-savasi-mi-yasanacak-42372908',\n",
       " '/yazarlar/abdulkadir-selvi/mit-ile-mossad-arasinda-casuslar-savasi-mi-yasanacak-42372908',\n",
       " '/yazarlar/abdulkadir-selvi/mit-ile-mossad-arasinda-casuslar-savasi-mi-yasanacak-42372908',\n",
       " '/yazarlar/abdulkadir-selvi/mit-ile-mossad-arasinda-casuslar-savasi-mi-yasanacak-42372908',\n",
       " '/yazarlar/abdulkadir-selvi/mit-ile-mossad-arasinda-casuslar-savasi-mi-yasanacak-42372908',\n",
       " '/yazarlar/abdulkadir-selvi/mit-ile-mossad-arasinda-casuslar-savasi-mi-yasanacak-42372908',\n",
       " '/yazarlar/abdulkadir-selvi/mit-ile-mossad-arasinda-casuslar-savasi-mi-yasanacak-42372908',\n",
       " '/yazarlar/abdulkadir-selvi/mit-ile-mossad-arasinda-casuslar-savasi-mi-yasanacak-42372908',\n",
       " '/yazarlar/abdulkadir-selvi/mit-ile-mossad-arasinda-casuslar-savasi-mi-yasanacak-42372908',\n",
       " '/yazarlar/abdulkadir-selvi/mit-ile-mossad-arasinda-casuslar-savasi-mi-yasanacak-42372908',\n",
       " '/yazarlar/abdulkadir-selvi/mit-ile-mossad-arasinda-casuslar-savasi-mi-yasanacak-42372908',\n",
       " '/yazarlar/abdulkadir-selvi/mit-ile-mossad-arasinda-casuslar-savasi-mi-yasanacak-42372908',\n",
       " '/yazarlar/abdulkadir-selvi/mit-ile-mossad-arasinda-casuslar-savasi-mi-yasanacak-42372908',\n",
       " '/yazarlar/abdulkadir-selvi/mit-ile-mossad-arasinda-casuslar-savasi-mi-yasanacak-42372908',\n",
       " '/yazarlar/abdulkadir-selvi/mit-ile-mossad-arasinda-casuslar-savasi-mi-yasanacak-42372908',\n",
       " '/yazarlar/abdulkadir-selvi/mit-ile-mossad-arasinda-casuslar-savasi-mi-yasanacak-42372908',\n",
       " '/yazarlar/abdulkadir-selvi/mit-ile-mossad-arasinda-casuslar-savasi-mi-yasanacak-42372908',\n",
       " '/yazarlar/abdulkadir-selvi/mit-ile-mossad-arasinda-casuslar-savasi-mi-yasanacak-42372908',\n",
       " '/yazarlar/abdulkadir-selvi/mit-ile-mossad-arasinda-casuslar-savasi-mi-yasanacak-42372908',\n",
       " '/yazarlar/abdulkadir-selvi/mit-ile-mossad-arasinda-casuslar-savasi-mi-yasanacak-42372908',\n",
       " '/yazarlar/abdulkadir-selvi/mit-ile-mossad-arasinda-casuslar-savasi-mi-yasanacak-42372908',\n",
       " '/yazarlar/abdulkadir-selvi/mit-ile-mossad-arasinda-casuslar-savasi-mi-yasanacak-42372908',\n",
       " '/yazarlar/abdulkadir-selvi/mit-ile-mossad-arasinda-casuslar-savasi-mi-yasanacak-42372908',\n",
       " '/yazarlar/abdulkadir-selvi/mit-ile-mossad-arasinda-casuslar-savasi-mi-yasanacak-42372908',\n",
       " '/yazarlar/abdulkadir-selvi/mit-ile-mossad-arasinda-casuslar-savasi-mi-yasanacak-42372908',\n",
       " '/yazarlar/abdulkadir-selvi/mit-ile-mossad-arasinda-casuslar-savasi-mi-yasanacak-42372908',\n",
       " '/yazarlar/abdulkadir-selvi/mit-ile-mossad-arasinda-casuslar-savasi-mi-yasanacak-42372908',\n",
       " '/yazarlar/abdulkadir-selvi/mit-ile-mossad-arasinda-casuslar-savasi-mi-yasanacak-42372908',\n",
       " '/yazarlar/abdulkadir-selvi/mit-ile-mossad-arasinda-casuslar-savasi-mi-yasanacak-42372908',\n",
       " '/yazarlar/abdulkadir-selvi/mit-ile-mossad-arasinda-casuslar-savasi-mi-yasanacak-42372908',\n",
       " '/yazarlar/abdulkadir-selvi/mit-ile-mossad-arasinda-casuslar-savasi-mi-yasanacak-42372908',\n",
       " '/yazarlar/abdulkadir-selvi/mit-ile-mossad-arasinda-casuslar-savasi-mi-yasanacak-42372908',\n",
       " '/yazarlar/abdulkadir-selvi/mit-ile-mossad-arasinda-casuslar-savasi-mi-yasanacak-42372908',\n",
       " '/yazarlar/abdulkadir-selvi/mit-ile-mossad-arasinda-casuslar-savasi-mi-yasanacak-42372908',\n",
       " '/yazarlar/abdulkadir-selvi/mit-ile-mossad-arasinda-casuslar-savasi-mi-yasanacak-42372908',\n",
       " '/yazarlar/abdulkadir-selvi/mit-ile-mossad-arasinda-casuslar-savasi-mi-yasanacak-42372908',\n",
       " '/yazarlar/abdulkadir-selvi/mit-ile-mossad-arasinda-casuslar-savasi-mi-yasanacak-42372908',\n",
       " '/yazarlar/abdulkadir-selvi/mit-ile-mossad-arasinda-casuslar-savasi-mi-yasanacak-42372908',\n",
       " '/yazarlar/abdulkadir-selvi/mit-ile-mossad-arasinda-casuslar-savasi-mi-yasanacak-42372908',\n",
       " '/yazarlar/abdulkadir-selvi/mit-ile-mossad-arasinda-casuslar-savasi-mi-yasanacak-42372908',\n",
       " '/yazarlar/abdulkadir-selvi/mit-ile-mossad-arasinda-casuslar-savasi-mi-yasanacak-42372908',\n",
       " '/yazarlar/abdulkadir-selvi/mit-ile-mossad-arasinda-casuslar-savasi-mi-yasanacak-42372908',\n",
       " '/yazarlar/abdulkadir-selvi/mit-ile-mossad-arasinda-casuslar-savasi-mi-yasanacak-42372908',\n",
       " '/yazarlar/abdulkadir-selvi/mit-ile-mossad-arasinda-casuslar-savasi-mi-yasanacak-42372908',\n",
       " '/yazarlar/abdulkadir-selvi/mit-ile-mossad-arasinda-casuslar-savasi-mi-yasanacak-42372908',\n",
       " '/yazarlar/abdulkadir-selvi/mit-ile-mossad-arasinda-casuslar-savasi-mi-yasanacak-42372908',\n",
       " '/yazarlar/abdulkadir-selvi/mit-ile-mossad-arasinda-casuslar-savasi-mi-yasanacak-42372908',\n",
       " '/yazarlar/abdulkadir-selvi/mit-ile-mossad-arasinda-casuslar-savasi-mi-yasanacak-42372908',\n",
       " '/yazarlar/abdulkadir-selvi/mit-ile-mossad-arasinda-casuslar-savasi-mi-yasanacak-42372908',\n",
       " '/yazarlar/abdulkadir-selvi/mit-ile-mossad-arasinda-casuslar-savasi-mi-yasanacak-42372908',\n",
       " '/yazarlar/abdulkadir-selvi/mit-ile-mossad-arasinda-casuslar-savasi-mi-yasanacak-42372908',\n",
       " '/yazarlar/abdulkadir-selvi/mit-ile-mossad-arasinda-casuslar-savasi-mi-yasanacak-42372908',\n",
       " '/yazarlar/abdulkadir-selvi/mit-ile-mossad-arasinda-casuslar-savasi-mi-yasanacak-42372908',\n",
       " '/yazarlar/abdulkadir-selvi/mit-ile-mossad-arasinda-casuslar-savasi-mi-yasanacak-42372908',\n",
       " '/yazarlar/abdulkadir-selvi/mit-ile-mossad-arasinda-casuslar-savasi-mi-yasanacak-42372908',\n",
       " '/yazarlar/abdulkadir-selvi/mit-ile-mossad-arasinda-casuslar-savasi-mi-yasanacak-42372908',\n",
       " '/yazarlar/abdulkadir-selvi/mit-ile-mossad-arasinda-casuslar-savasi-mi-yasanacak-42372908',\n",
       " '/yazarlar/abdulkadir-selvi/mit-ile-mossad-arasinda-casuslar-savasi-mi-yasanacak-42372908',\n",
       " '/yazarlar/abdulkadir-selvi/mit-ile-mossad-arasinda-casuslar-savasi-mi-yasanacak-42372908',\n",
       " '/yazarlar/abdulkadir-selvi/mit-ile-mossad-arasinda-casuslar-savasi-mi-yasanacak-42372908',\n",
       " '/yazarlar/abdulkadir-selvi/mit-ile-mossad-arasinda-casuslar-savasi-mi-yasanacak-42372908',\n",
       " '/yazarlar/abdulkadir-selvi/mit-ile-mossad-arasinda-casuslar-savasi-mi-yasanacak-42372908',\n",
       " '/yazarlar/abdulkadir-selvi/mit-ile-mossad-arasinda-casuslar-savasi-mi-yasanacak-42372908',\n",
       " '/yazarlar/abdulkadir-selvi/mit-ile-mossad-arasinda-casuslar-savasi-mi-yasanacak-42372908',\n",
       " '/yazarlar/abdulkadir-selvi/mit-ile-mossad-arasinda-casuslar-savasi-mi-yasanacak-42372908',\n",
       " '/yazarlar/abdulkadir-selvi/mit-ile-mossad-arasinda-casuslar-savasi-mi-yasanacak-42372908',\n",
       " '/yazarlar/abdulkadir-selvi/mit-ile-mossad-arasinda-casuslar-savasi-mi-yasanacak-42372908',\n",
       " '/yazarlar/abdulkadir-selvi/mit-ile-mossad-arasinda-casuslar-savasi-mi-yasanacak-42372908',\n",
       " '/yazarlar/abdulkadir-selvi/mit-ile-mossad-arasinda-casuslar-savasi-mi-yasanacak-42372908',\n",
       " '/yazarlar/abdulkadir-selvi/mit-ile-mossad-arasinda-casuslar-savasi-mi-yasanacak-42372908',\n",
       " '/yazarlar/abdulkadir-selvi/mit-ile-mossad-arasinda-casuslar-savasi-mi-yasanacak-42372908',\n",
       " '/yazarlar/abdulkadir-selvi/mit-ile-mossad-arasinda-casuslar-savasi-mi-yasanacak-42372908',\n",
       " '/yazarlar/abdulkadir-selvi/mit-ile-mossad-arasinda-casuslar-savasi-mi-yasanacak-42372908',\n",
       " '/yazarlar/abdulkadir-selvi/mit-ile-mossad-arasinda-casuslar-savasi-mi-yasanacak-42372908',\n",
       " '/yazarlar/abdulkadir-selvi/mit-ile-mossad-arasinda-casuslar-savasi-mi-yasanacak-42372908',\n",
       " '/yazarlar/abdulkadir-selvi/mit-ile-mossad-arasinda-casuslar-savasi-mi-yasanacak-42372908',\n",
       " '/yazarlar/abdulkadir-selvi/mit-ile-mossad-arasinda-casuslar-savasi-mi-yasanacak-42372908',\n",
       " '/yazarlar/abdulkadir-selvi/mit-ile-mossad-arasinda-casuslar-savasi-mi-yasanacak-42372908',\n",
       " '/yazarlar/abdulkadir-selvi/mit-ile-mossad-arasinda-casuslar-savasi-mi-yasanacak-42372908',\n",
       " '/yazarlar/abdulkadir-selvi/mit-ile-mossad-arasinda-casuslar-savasi-mi-yasanacak-42372908',\n",
       " '/yazarlar/abdulkadir-selvi/mit-ile-mossad-arasinda-casuslar-savasi-mi-yasanacak-42372908',\n",
       " '/yazarlar/abdulkadir-selvi/mit-ile-mossad-arasinda-casuslar-savasi-mi-yasanacak-42372908',\n",
       " '/yazarlar/abdulkadir-selvi/mit-ile-mossad-arasinda-casuslar-savasi-mi-yasanacak-42372908',\n",
       " '/yazarlar/abdulkadir-selvi/mit-ile-mossad-arasinda-casuslar-savasi-mi-yasanacak-42372908',\n",
       " '/yazarlar/abdulkadir-selvi/mit-ile-mossad-arasinda-casuslar-savasi-mi-yasanacak-42372908',\n",
       " '/yazarlar/abdulkadir-selvi/mit-ile-mossad-arasinda-casuslar-savasi-mi-yasanacak-42372908',\n",
       " '/yazarlar/abdulkadir-selvi/mit-ile-mossad-arasinda-casuslar-savasi-mi-yasanacak-42372908',\n",
       " '/yazarlar/abdulkadir-selvi/mit-ile-mossad-arasinda-casuslar-savasi-mi-yasanacak-42372908',\n",
       " '/yazarlar/abdulkadir-selvi/mit-ile-mossad-arasinda-casuslar-savasi-mi-yasanacak-42372908',\n",
       " '/yazarlar/abdulkadir-selvi/mit-ile-mossad-arasinda-casuslar-savasi-mi-yasanacak-42372908',\n",
       " '/yazarlar/abdulkadir-selvi/mit-ile-mossad-arasinda-casuslar-savasi-mi-yasanacak-42372908',\n",
       " '/yazarlar/abdulkadir-selvi/mit-ile-mossad-arasinda-casuslar-savasi-mi-yasanacak-42372908',\n",
       " '/yazarlar/abdulkadir-selvi/mit-ile-mossad-arasinda-casuslar-savasi-mi-yasanacak-42372908',\n",
       " '/yazarlar/abdulkadir-selvi/mit-ile-mossad-arasinda-casuslar-savasi-mi-yasanacak-42372908',\n",
       " '/yazarlar/abdulkadir-selvi/mit-ile-mossad-arasinda-casuslar-savasi-mi-yasanacak-42372908',\n",
       " '/yazarlar/abdulkadir-selvi/mit-ile-mossad-arasinda-casuslar-savasi-mi-yasanacak-42372908',\n",
       " '/yazarlar/abdulkadir-selvi/mit-ile-mossad-arasinda-casuslar-savasi-mi-yasanacak-42372908',\n",
       " '/yazarlar/abdulkadir-selvi/mit-ile-mossad-arasinda-casuslar-savasi-mi-yasanacak-42372908',\n",
       " '/yazarlar/abdulkadir-selvi/mit-ile-mossad-arasinda-casuslar-savasi-mi-yasanacak-42372908',\n",
       " '/yazarlar/abdulkadir-selvi/mit-ile-mossad-arasinda-casuslar-savasi-mi-yasanacak-42372908',\n",
       " '/yazarlar/abdulkadir-selvi/mit-ile-mossad-arasinda-casuslar-savasi-mi-yasanacak-42372908',\n",
       " '/yazarlar/abdulkadir-selvi/mit-ile-mossad-arasinda-casuslar-savasi-mi-yasanacak-42372908',\n",
       " '/yazarlar/abdulkadir-selvi/mit-ile-mossad-arasinda-casuslar-savasi-mi-yasanacak-42372908',\n",
       " '/yazarlar/abdulkadir-selvi/mit-ile-mossad-arasinda-casuslar-savasi-mi-yasanacak-42372908',\n",
       " '/yazarlar/abdulkadir-selvi/mit-ile-mossad-arasinda-casuslar-savasi-mi-yasanacak-42372908',\n",
       " '/yazarlar/abdulkadir-selvi/mit-ile-mossad-arasinda-casuslar-savasi-mi-yasanacak-42372908',\n",
       " '/yazarlar/abdulkadir-selvi/mit-ile-mossad-arasinda-casuslar-savasi-mi-yasanacak-42372908',\n",
       " '/yazarlar/abdulkadir-selvi/mit-ile-mossad-arasinda-casuslar-savasi-mi-yasanacak-42372908',\n",
       " '/yazarlar/abdulkadir-selvi/mit-ile-mossad-arasinda-casuslar-savasi-mi-yasanacak-42372908',\n",
       " '/yazarlar/abdulkadir-selvi/mit-ile-mossad-arasinda-casuslar-savasi-mi-yasanacak-42372908',\n",
       " '/yazarlar/abdulkadir-selvi/mit-ile-mossad-arasinda-casuslar-savasi-mi-yasanacak-42372908',\n",
       " '/yazarlar/abdulkadir-selvi/mit-ile-mossad-arasinda-casuslar-savasi-mi-yasanacak-42372908',\n",
       " '/yazarlar/abdulkadir-selvi/mit-ile-mossad-arasinda-casuslar-savasi-mi-yasanacak-42372908',\n",
       " '/yazarlar/abdulkadir-selvi/mit-ile-mossad-arasinda-casuslar-savasi-mi-yasanacak-42372908',\n",
       " '/yazarlar/abdulkadir-selvi/mit-ile-mossad-arasinda-casuslar-savasi-mi-yasanacak-42372908',\n",
       " '/yazarlar/abdulkadir-selvi/mit-ile-mossad-arasinda-casuslar-savasi-mi-yasanacak-42372908',\n",
       " '/yazarlar/abdulkadir-selvi/mit-ile-mossad-arasinda-casuslar-savasi-mi-yasanacak-42372908',\n",
       " '/yazarlar/abdulkadir-selvi/mit-ile-mossad-arasinda-casuslar-savasi-mi-yasanacak-42372908',\n",
       " '/yazarlar/abdulkadir-selvi/mit-ile-mossad-arasinda-casuslar-savasi-mi-yasanacak-42372908',\n",
       " '/yazarlar/abdulkadir-selvi/mit-ile-mossad-arasinda-casuslar-savasi-mi-yasanacak-42372908',\n",
       " '/yazarlar/abdulkadir-selvi/mit-ile-mossad-arasinda-casuslar-savasi-mi-yasanacak-42372908',\n",
       " '/yazarlar/abdulkadir-selvi/mit-ile-mossad-arasinda-casuslar-savasi-mi-yasanacak-42372908',\n",
       " '/yazarlar/abdulkadir-selvi/mit-ile-mossad-arasinda-casuslar-savasi-mi-yasanacak-42372908',\n",
       " '/yazarlar/abdulkadir-selvi/mit-ile-mossad-arasinda-casuslar-savasi-mi-yasanacak-42372908',\n",
       " '/yazarlar/abdulkadir-selvi/mit-ile-mossad-arasinda-casuslar-savasi-mi-yasanacak-42372908',\n",
       " '/yazarlar/abdulkadir-selvi/mit-ile-mossad-arasinda-casuslar-savasi-mi-yasanacak-42372908',\n",
       " '/yazarlar/abdulkadir-selvi/mit-ile-mossad-arasinda-casuslar-savasi-mi-yasanacak-42372908',\n",
       " '/yazarlar/abdulkadir-selvi/mit-ile-mossad-arasinda-casuslar-savasi-mi-yasanacak-42372908',\n",
       " '/yazarlar/abdulkadir-selvi/mit-ile-mossad-arasinda-casuslar-savasi-mi-yasanacak-42372908',\n",
       " '/yazarlar/abdulkadir-selvi/mit-ile-mossad-arasinda-casuslar-savasi-mi-yasanacak-42372908',\n",
       " '/yazarlar/abdulkadir-selvi/mit-ile-mossad-arasinda-casuslar-savasi-mi-yasanacak-42372908',\n",
       " '/yazarlar/abdulkadir-selvi/mit-ile-mossad-arasinda-casuslar-savasi-mi-yasanacak-42372908',\n",
       " '/yazarlar/abdulkadir-selvi/mit-ile-mossad-arasinda-casuslar-savasi-mi-yasanacak-42372908',\n",
       " '/yazarlar/abdulkadir-selvi/mit-ile-mossad-arasinda-casuslar-savasi-mi-yasanacak-42372908',\n",
       " '/yazarlar/abdulkadir-selvi/mit-ile-mossad-arasinda-casuslar-savasi-mi-yasanacak-42372908',\n",
       " '/yazarlar/abdulkadir-selvi/mit-ile-mossad-arasinda-casuslar-savasi-mi-yasanacak-42372908',\n",
       " '/yazarlar/abdulkadir-selvi/mit-ile-mossad-arasinda-casuslar-savasi-mi-yasanacak-42372908',\n",
       " '/yazarlar/abdulkadir-selvi/mit-ile-mossad-arasinda-casuslar-savasi-mi-yasanacak-42372908',\n",
       " '/yazarlar/abdulkadir-selvi/mit-ile-mossad-arasinda-casuslar-savasi-mi-yasanacak-42372908',\n",
       " '/yazarlar/abdulkadir-selvi/mit-ile-mossad-arasinda-casuslar-savasi-mi-yasanacak-42372908',\n",
       " '/yazarlar/abdulkadir-selvi/mit-ile-mossad-arasinda-casuslar-savasi-mi-yasanacak-42372908',\n",
       " '/yazarlar/abdulkadir-selvi/mit-ile-mossad-arasinda-casuslar-savasi-mi-yasanacak-42372908',\n",
       " '/yazarlar/abdulkadir-selvi/mit-ile-mossad-arasinda-casuslar-savasi-mi-yasanacak-42372908',\n",
       " '/yazarlar/abdulkadir-selvi/mit-ile-mossad-arasinda-casuslar-savasi-mi-yasanacak-42372908',\n",
       " '/yazarlar/abdulkadir-selvi/mit-ile-mossad-arasinda-casuslar-savasi-mi-yasanacak-42372908',\n",
       " '/yazarlar/abdulkadir-selvi/mit-ile-mossad-arasinda-casuslar-savasi-mi-yasanacak-42372908',\n",
       " '/yazarlar/abdulkadir-selvi/mit-ile-mossad-arasinda-casuslar-savasi-mi-yasanacak-42372908',\n",
       " '/yazarlar/abdulkadir-selvi/mit-ile-mossad-arasinda-casuslar-savasi-mi-yasanacak-42372908',\n",
       " '/yazarlar/abdulkadir-selvi/mit-ile-mossad-arasinda-casuslar-savasi-mi-yasanacak-42372908',\n",
       " '/yazarlar/abdulkadir-selvi/mit-ile-mossad-arasinda-casuslar-savasi-mi-yasanacak-42372908',\n",
       " '/yazarlar/abdulkadir-selvi/mit-ile-mossad-arasinda-casuslar-savasi-mi-yasanacak-42372908',\n",
       " '/yazarlar/abdulkadir-selvi/mit-ile-mossad-arasinda-casuslar-savasi-mi-yasanacak-42372908',\n",
       " '/yazarlar/abdulkadir-selvi/mit-ile-mossad-arasinda-casuslar-savasi-mi-yasanacak-42372908',\n",
       " '/yazarlar/abdulkadir-selvi/mit-ile-mossad-arasinda-casuslar-savasi-mi-yasanacak-42372908',\n",
       " '/yazarlar/abdulkadir-selvi/mit-ile-mossad-arasinda-casuslar-savasi-mi-yasanacak-42372908',\n",
       " '/yazarlar/abdulkadir-selvi/mit-ile-mossad-arasinda-casuslar-savasi-mi-yasanacak-42372908',\n",
       " '/yazarlar/abdulkadir-selvi/mit-ile-mossad-arasinda-casuslar-savasi-mi-yasanacak-42372908',\n",
       " '/yazarlar/abdulkadir-selvi/mit-ile-mossad-arasinda-casuslar-savasi-mi-yasanacak-42372908',\n",
       " '/yazarlar/abdulkadir-selvi/mit-ile-mossad-arasinda-casuslar-savasi-mi-yasanacak-42372908',\n",
       " '/yazarlar/abdulkadir-selvi/mit-ile-mossad-arasinda-casuslar-savasi-mi-yasanacak-42372908',\n",
       " '/yazarlar/abdulkadir-selvi/mit-ile-mossad-arasinda-casuslar-savasi-mi-yasanacak-42372908',\n",
       " '/yazarlar/abdulkadir-selvi/mit-ile-mossad-arasinda-casuslar-savasi-mi-yasanacak-42372908',\n",
       " '/yazarlar/abdulkadir-selvi/mit-ile-mossad-arasinda-casuslar-savasi-mi-yasanacak-42372908',\n",
       " '/yazarlar/abdulkadir-selvi/mit-ile-mossad-arasinda-casuslar-savasi-mi-yasanacak-42372908',\n",
       " '/yazarlar/abdulkadir-selvi/mit-ile-mossad-arasinda-casuslar-savasi-mi-yasanacak-42372908',\n",
       " '/yazarlar/abdulkadir-selvi/mit-ile-mossad-arasinda-casuslar-savasi-mi-yasanacak-42372908',\n",
       " '/yazarlar/abdulkadir-selvi/mit-ile-mossad-arasinda-casuslar-savasi-mi-yasanacak-42372908',\n",
       " '/yazarlar/abdulkadir-selvi/mit-ile-mossad-arasinda-casuslar-savasi-mi-yasanacak-42372908',\n",
       " '/yazarlar/abdulkadir-selvi/mit-ile-mossad-arasinda-casuslar-savasi-mi-yasanacak-42372908',\n",
       " '/yazarlar/abdulkadir-selvi/mit-ile-mossad-arasinda-casuslar-savasi-mi-yasanacak-42372908',\n",
       " '/yazarlar/abdulkadir-selvi/mit-ile-mossad-arasinda-casuslar-savasi-mi-yasanacak-42372908',\n",
       " '/yazarlar/abdulkadir-selvi/mit-ile-mossad-arasinda-casuslar-savasi-mi-yasanacak-42372908',\n",
       " '/yazarlar/abdulkadir-selvi/mit-ile-mossad-arasinda-casuslar-savasi-mi-yasanacak-42372908',\n",
       " '/yazarlar/abdulkadir-selvi/mit-ile-mossad-arasinda-casuslar-savasi-mi-yasanacak-42372908',\n",
       " '/yazarlar/abdulkadir-selvi/mit-ile-mossad-arasinda-casuslar-savasi-mi-yasanacak-42372908',\n",
       " '/yazarlar/abdulkadir-selvi/mit-ile-mossad-arasinda-casuslar-savasi-mi-yasanacak-42372908',\n",
       " '/yazarlar/abdulkadir-selvi/mit-ile-mossad-arasinda-casuslar-savasi-mi-yasanacak-42372908',\n",
       " '/yazarlar/abdulkadir-selvi/mit-ile-mossad-arasinda-casuslar-savasi-mi-yasanacak-42372908',\n",
       " '/yazarlar/abdulkadir-selvi/mit-ile-mossad-arasinda-casuslar-savasi-mi-yasanacak-42372908',\n",
       " '/yazarlar/abdulkadir-selvi/mit-ile-mossad-arasinda-casuslar-savasi-mi-yasanacak-42372908',\n",
       " '/yazarlar/abdulkadir-selvi/mit-ile-mossad-arasinda-casuslar-savasi-mi-yasanacak-42372908',\n",
       " '/yazarlar/abdulkadir-selvi/mit-ile-mossad-arasinda-casuslar-savasi-mi-yasanacak-42372908',\n",
       " '/yazarlar/abdulkadir-selvi/mit-ile-mossad-arasinda-casuslar-savasi-mi-yasanacak-42372908',\n",
       " '/yazarlar/abdulkadir-selvi/mit-ile-mossad-arasinda-casuslar-savasi-mi-yasanacak-42372908',\n",
       " '/yazarlar/abdulkadir-selvi/mit-ile-mossad-arasinda-casuslar-savasi-mi-yasanacak-42372908',\n",
       " '/yazarlar/abdulkadir-selvi/mit-ile-mossad-arasinda-casuslar-savasi-mi-yasanacak-42372908',\n",
       " '/yazarlar/abdulkadir-selvi/mit-ile-mossad-arasinda-casuslar-savasi-mi-yasanacak-42372908',\n",
       " '/yazarlar/abdulkadir-selvi/mit-ile-mossad-arasinda-casuslar-savasi-mi-yasanacak-42372908',\n",
       " '/yazarlar/abdulkadir-selvi/mit-ile-mossad-arasinda-casuslar-savasi-mi-yasanacak-42372908',\n",
       " '/yazarlar/abdulkadir-selvi/mit-ile-mossad-arasinda-casuslar-savasi-mi-yasanacak-42372908',\n",
       " '/yazarlar/abdulkadir-selvi/mit-ile-mossad-arasinda-casuslar-savasi-mi-yasanacak-42372908',\n",
       " '/yazarlar/abdulkadir-selvi/mit-ile-mossad-arasinda-casuslar-savasi-mi-yasanacak-42372908',\n",
       " '/yazarlar/abdulkadir-selvi/mit-ile-mossad-arasinda-casuslar-savasi-mi-yasanacak-42372908',\n",
       " '/yazarlar/abdulkadir-selvi/mit-ile-mossad-arasinda-casuslar-savasi-mi-yasanacak-42372908',\n",
       " '/yazarlar/abdulkadir-selvi/mit-ile-mossad-arasinda-casuslar-savasi-mi-yasanacak-42372908',\n",
       " '/yazarlar/abdulkadir-selvi/mit-ile-mossad-arasinda-casuslar-savasi-mi-yasanacak-42372908',\n",
       " '/yazarlar/abdulkadir-selvi/mit-ile-mossad-arasinda-casuslar-savasi-mi-yasanacak-42372908',\n",
       " '/yazarlar/abdulkadir-selvi/mit-ile-mossad-arasinda-casuslar-savasi-mi-yasanacak-42372908',\n",
       " '/yazarlar/abdulkadir-selvi/mit-ile-mossad-arasinda-casuslar-savasi-mi-yasanacak-42372908',\n",
       " '/yazarlar/abdulkadir-selvi/mit-ile-mossad-arasinda-casuslar-savasi-mi-yasanacak-42372908',\n",
       " '/yazarlar/abdulkadir-selvi/mit-ile-mossad-arasinda-casuslar-savasi-mi-yasanacak-42372908',\n",
       " '/yazarlar/abdulkadir-selvi/mit-ile-mossad-arasinda-casuslar-savasi-mi-yasanacak-42372908',\n",
       " '/yazarlar/abdulkadir-selvi/mit-ile-mossad-arasinda-casuslar-savasi-mi-yasanacak-42372908',\n",
       " '/yazarlar/abdulkadir-selvi/mit-ile-mossad-arasinda-casuslar-savasi-mi-yasanacak-42372908',\n",
       " '/yazarlar/abdulkadir-selvi/mit-ile-mossad-arasinda-casuslar-savasi-mi-yasanacak-42372908',\n",
       " '/yazarlar/abdulkadir-selvi/mit-ile-mossad-arasinda-casuslar-savasi-mi-yasanacak-42372908',\n",
       " '/yazarlar/abdulkadir-selvi/mit-ile-mossad-arasinda-casuslar-savasi-mi-yasanacak-42372908',\n",
       " '/yazarlar/abdulkadir-selvi/mit-ile-mossad-arasinda-casuslar-savasi-mi-yasanacak-42372908',\n",
       " '/yazarlar/abdulkadir-selvi/mit-ile-mossad-arasinda-casuslar-savasi-mi-yasanacak-42372908',\n",
       " '/yazarlar/abdulkadir-selvi/mit-ile-mossad-arasinda-casuslar-savasi-mi-yasanacak-42372908',\n",
       " '/yazarlar/abdulkadir-selvi/mit-ile-mossad-arasinda-casuslar-savasi-mi-yasanacak-42372908',\n",
       " '/yazarlar/abdulkadir-selvi/mit-ile-mossad-arasinda-casuslar-savasi-mi-yasanacak-42372908',\n",
       " '/yazarlar/abdulkadir-selvi/mit-ile-mossad-arasinda-casuslar-savasi-mi-yasanacak-42372908',\n",
       " '/yazarlar/abdulkadir-selvi/mit-ile-mossad-arasinda-casuslar-savasi-mi-yasanacak-42372908',\n",
       " '/yazarlar/abdulkadir-selvi/mit-ile-mossad-arasinda-casuslar-savasi-mi-yasanacak-42372908',\n",
       " '/yazarlar/abdulkadir-selvi/mit-ile-mossad-arasinda-casuslar-savasi-mi-yasanacak-42372908',\n",
       " '/yazarlar/abdulkadir-selvi/mit-ile-mossad-arasinda-casuslar-savasi-mi-yasanacak-42372908',\n",
       " '/yazarlar/abdulkadir-selvi/mit-ile-mossad-arasinda-casuslar-savasi-mi-yasanacak-42372908',\n",
       " '/yazarlar/abdulkadir-selvi/mit-ile-mossad-arasinda-casuslar-savasi-mi-yasanacak-42372908',\n",
       " '/yazarlar/abdulkadir-selvi/mit-ile-mossad-arasinda-casuslar-savasi-mi-yasanacak-42372908',\n",
       " '/yazarlar/abdulkadir-selvi/mit-ile-mossad-arasinda-casuslar-savasi-mi-yasanacak-42372908',\n",
       " '/yazarlar/abdulkadir-selvi/mit-ile-mossad-arasinda-casuslar-savasi-mi-yasanacak-42372908',\n",
       " '/yazarlar/abdulkadir-selvi/mit-ile-mossad-arasinda-casuslar-savasi-mi-yasanacak-42372908',\n",
       " '/yazarlar/abdulkadir-selvi/mit-ile-mossad-arasinda-casuslar-savasi-mi-yasanacak-42372908',\n",
       " '/yazarlar/abdulkadir-selvi/mit-ile-mossad-arasinda-casuslar-savasi-mi-yasanacak-42372908',\n",
       " '/yazarlar/abdulkadir-selvi/mit-ile-mossad-arasinda-casuslar-savasi-mi-yasanacak-42372908',\n",
       " '/yazarlar/abdulkadir-selvi/mit-ile-mossad-arasinda-casuslar-savasi-mi-yasanacak-42372908',\n",
       " '/yazarlar/abdulkadir-selvi/mit-ile-mossad-arasinda-casuslar-savasi-mi-yasanacak-42372908',\n",
       " '/yazarlar/abdulkadir-selvi/mit-ile-mossad-arasinda-casuslar-savasi-mi-yasanacak-42372908',\n",
       " '/yazarlar/abdulkadir-selvi/mit-ile-mossad-arasinda-casuslar-savasi-mi-yasanacak-42372908',\n",
       " '/yazarlar/abdulkadir-selvi/mit-ile-mossad-arasinda-casuslar-savasi-mi-yasanacak-42372908',\n",
       " '/yazarlar/abdulkadir-selvi/mit-ile-mossad-arasinda-casuslar-savasi-mi-yasanacak-42372908',\n",
       " '/yazarlar/abdulkadir-selvi/mit-ile-mossad-arasinda-casuslar-savasi-mi-yasanacak-42372908',\n",
       " '/yazarlar/abdulkadir-selvi/mit-ile-mossad-arasinda-casuslar-savasi-mi-yasanacak-42372908',\n",
       " '/yazarlar/abdulkadir-selvi/mit-ile-mossad-arasinda-casuslar-savasi-mi-yasanacak-42372908',\n",
       " '/yazarlar/abdulkadir-selvi/mit-ile-mossad-arasinda-casuslar-savasi-mi-yasanacak-42372908',\n",
       " '/yazarlar/abdulkadir-selvi/mit-ile-mossad-arasinda-casuslar-savasi-mi-yasanacak-42372908',\n",
       " '/yazarlar/abdulkadir-selvi/mit-ile-mossad-arasinda-casuslar-savasi-mi-yasanacak-42372908',\n",
       " '/yazarlar/abdulkadir-selvi/mit-ile-mossad-arasinda-casuslar-savasi-mi-yasanacak-42372908',\n",
       " '/yazarlar/abdulkadir-selvi/mit-ile-mossad-arasinda-casuslar-savasi-mi-yasanacak-42372908',\n",
       " '/yazarlar/abdulkadir-selvi/mit-ile-mossad-arasinda-casuslar-savasi-mi-yasanacak-42372908',\n",
       " '/yazarlar/abdulkadir-selvi/mit-ile-mossad-arasinda-casuslar-savasi-mi-yasanacak-42372908',\n",
       " '/yazarlar/abdulkadir-selvi/mit-ile-mossad-arasinda-casuslar-savasi-mi-yasanacak-42372908',\n",
       " '/yazarlar/abdulkadir-selvi/mit-ile-mossad-arasinda-casuslar-savasi-mi-yasanacak-42372908',\n",
       " '/yazarlar/abdulkadir-selvi/mit-ile-mossad-arasinda-casuslar-savasi-mi-yasanacak-42372908',\n",
       " '/yazarlar/abdulkadir-selvi/mit-ile-mossad-arasinda-casuslar-savasi-mi-yasanacak-42372908',\n",
       " '/yazarlar/abdulkadir-selvi/mit-ile-mossad-arasinda-casuslar-savasi-mi-yasanacak-42372908',\n",
       " '/yazarlar/abdulkadir-selvi/mit-ile-mossad-arasinda-casuslar-savasi-mi-yasanacak-42372908',\n",
       " '/yazarlar/abdulkadir-selvi/mit-ile-mossad-arasinda-casuslar-savasi-mi-yasanacak-42372908',\n",
       " '/yazarlar/abdulkadir-selvi/mit-ile-mossad-arasinda-casuslar-savasi-mi-yasanacak-42372908',\n",
       " '/yazarlar/abdulkadir-selvi/mit-ile-mossad-arasinda-casuslar-savasi-mi-yasanacak-42372908',\n",
       " '/yazarlar/abdulkadir-selvi/mit-ile-mossad-arasinda-casuslar-savasi-mi-yasanacak-42372908',\n",
       " '/yazarlar/abdulkadir-selvi/mit-ile-mossad-arasinda-casuslar-savasi-mi-yasanacak-42372908',\n",
       " '/yazarlar/abdulkadir-selvi/mit-ile-mossad-arasinda-casuslar-savasi-mi-yasanacak-42372908',\n",
       " '/yazarlar/abdulkadir-selvi/mit-ile-mossad-arasinda-casuslar-savasi-mi-yasanacak-42372908',\n",
       " '/yazarlar/abdulkadir-selvi/mit-ile-mossad-arasinda-casuslar-savasi-mi-yasanacak-42372908',\n",
       " '/yazarlar/abdulkadir-selvi/mit-ile-mossad-arasinda-casuslar-savasi-mi-yasanacak-42372908',\n",
       " '/yazarlar/abdulkadir-selvi/mit-ile-mossad-arasinda-casuslar-savasi-mi-yasanacak-42372908',\n",
       " '/yazarlar/abdulkadir-selvi/mit-ile-mossad-arasinda-casuslar-savasi-mi-yasanacak-42372908',\n",
       " '/yazarlar/abdulkadir-selvi/mit-ile-mossad-arasinda-casuslar-savasi-mi-yasanacak-42372908',\n",
       " '/yazarlar/abdulkadir-selvi/mit-ile-mossad-arasinda-casuslar-savasi-mi-yasanacak-42372908',\n",
       " '/yazarlar/abdulkadir-selvi/mit-ile-mossad-arasinda-casuslar-savasi-mi-yasanacak-42372908',\n",
       " '/yazarlar/abdulkadir-selvi/mit-ile-mossad-arasinda-casuslar-savasi-mi-yasanacak-42372908',\n",
       " '/yazarlar/abdulkadir-selvi/mit-ile-mossad-arasinda-casuslar-savasi-mi-yasanacak-42372908',\n",
       " '/yazarlar/abdulkadir-selvi/mit-ile-mossad-arasinda-casuslar-savasi-mi-yasanacak-42372908',\n",
       " '/yazarlar/abdulkadir-selvi/mit-ile-mossad-arasinda-casuslar-savasi-mi-yasanacak-42372908',\n",
       " '/yazarlar/abdulkadir-selvi/mit-ile-mossad-arasinda-casuslar-savasi-mi-yasanacak-42372908',\n",
       " '/yazarlar/abdulkadir-selvi/mit-ile-mossad-arasinda-casuslar-savasi-mi-yasanacak-42372908',\n",
       " '/yazarlar/abdulkadir-selvi/mit-ile-mossad-arasinda-casuslar-savasi-mi-yasanacak-42372908',\n",
       " '/yazarlar/abdulkadir-selvi/mit-ile-mossad-arasinda-casuslar-savasi-mi-yasanacak-42372908',\n",
       " '/yazarlar/abdulkadir-selvi/mit-ile-mossad-arasinda-casuslar-savasi-mi-yasanacak-42372908',\n",
       " '/yazarlar/abdulkadir-selvi/mit-ile-mossad-arasinda-casuslar-savasi-mi-yasanacak-42372908',\n",
       " '/yazarlar/abdulkadir-selvi/mit-ile-mossad-arasinda-casuslar-savasi-mi-yasanacak-42372908',\n",
       " '/yazarlar/abdulkadir-selvi/mit-ile-mossad-arasinda-casuslar-savasi-mi-yasanacak-42372908',\n",
       " '/yazarlar/abdulkadir-selvi/mit-ile-mossad-arasinda-casuslar-savasi-mi-yasanacak-42372908',\n",
       " '/yazarlar/abdulkadir-selvi/mit-ile-mossad-arasinda-casuslar-savasi-mi-yasanacak-42372908',\n",
       " '/yazarlar/abdulkadir-selvi/mit-ile-mossad-arasinda-casuslar-savasi-mi-yasanacak-42372908',\n",
       " '/yazarlar/abdulkadir-selvi/mit-ile-mossad-arasinda-casuslar-savasi-mi-yasanacak-42372908',\n",
       " '/yazarlar/abdulkadir-selvi/mit-ile-mossad-arasinda-casuslar-savasi-mi-yasanacak-42372908',\n",
       " '/yazarlar/abdulkadir-selvi/mit-ile-mossad-arasinda-casuslar-savasi-mi-yasanacak-42372908',\n",
       " '/yazarlar/abdulkadir-selvi/mit-ile-mossad-arasinda-casuslar-savasi-mi-yasanacak-42372908',\n",
       " '/yazarlar/abdulkadir-selvi/mit-ile-mossad-arasinda-casuslar-savasi-mi-yasanacak-42372908',\n",
       " '/yazarlar/abdulkadir-selvi/mit-ile-mossad-arasinda-casuslar-savasi-mi-yasanacak-42372908',\n",
       " '/yazarlar/abdulkadir-selvi/mit-ile-mossad-arasinda-casuslar-savasi-mi-yasanacak-42372908',\n",
       " '/yazarlar/abdulkadir-selvi/mit-ile-mossad-arasinda-casuslar-savasi-mi-yasanacak-42372908',\n",
       " '/yazarlar/abdulkadir-selvi/mit-ile-mossad-arasinda-casuslar-savasi-mi-yasanacak-42372908',\n",
       " '/yazarlar/abdulkadir-selvi/mit-ile-mossad-arasinda-casuslar-savasi-mi-yasanacak-42372908',\n",
       " '/yazarlar/abdulkadir-selvi/mit-ile-mossad-arasinda-casuslar-savasi-mi-yasanacak-42372908',\n",
       " '/yazarlar/abdulkadir-selvi/mit-ile-mossad-arasinda-casuslar-savasi-mi-yasanacak-42372908',\n",
       " '/yazarlar/abdulkadir-selvi/mit-ile-mossad-arasinda-casuslar-savasi-mi-yasanacak-42372908',\n",
       " '/yazarlar/abdulkadir-selvi/mit-ile-mossad-arasinda-casuslar-savasi-mi-yasanacak-42372908',\n",
       " '/yazarlar/abdulkadir-selvi/mit-ile-mossad-arasinda-casuslar-savasi-mi-yasanacak-42372908',\n",
       " '/yazarlar/abdulkadir-selvi/mit-ile-mossad-arasinda-casuslar-savasi-mi-yasanacak-42372908',\n",
       " '/yazarlar/abdulkadir-selvi/mit-ile-mossad-arasinda-casuslar-savasi-mi-yasanacak-42372908',\n",
       " '/yazarlar/abdulkadir-selvi/mit-ile-mossad-arasinda-casuslar-savasi-mi-yasanacak-42372908',\n",
       " '/yazarlar/abdulkadir-selvi/mit-ile-mossad-arasinda-casuslar-savasi-mi-yasanacak-42372908',\n",
       " '/yazarlar/abdulkadir-selvi/mit-ile-mossad-arasinda-casuslar-savasi-mi-yasanacak-42372908',\n",
       " '/yazarlar/abdulkadir-selvi/mit-ile-mossad-arasinda-casuslar-savasi-mi-yasanacak-42372908',\n",
       " '/yazarlar/abdulkadir-selvi/mit-ile-mossad-arasinda-casuslar-savasi-mi-yasanacak-42372908',\n",
       " '/yazarlar/abdulkadir-selvi/mit-ile-mossad-arasinda-casuslar-savasi-mi-yasanacak-42372908',\n",
       " '/yazarlar/abdulkadir-selvi/mit-ile-mossad-arasinda-casuslar-savasi-mi-yasanacak-42372908',\n",
       " '/yazarlar/abdulkadir-selvi/mit-ile-mossad-arasinda-casuslar-savasi-mi-yasanacak-42372908',\n",
       " '/yazarlar/abdulkadir-selvi/mit-ile-mossad-arasinda-casuslar-savasi-mi-yasanacak-42372908',\n",
       " '/yazarlar/abdulkadir-selvi/mit-ile-mossad-arasinda-casuslar-savasi-mi-yasanacak-42372908',\n",
       " '/yazarlar/abdulkadir-selvi/mit-ile-mossad-arasinda-casuslar-savasi-mi-yasanacak-42372908',\n",
       " '/yazarlar/abdulkadir-selvi/mit-ile-mossad-arasinda-casuslar-savasi-mi-yasanacak-42372908',\n",
       " '/yazarlar/abdulkadir-selvi/mit-ile-mossad-arasinda-casuslar-savasi-mi-yasanacak-42372908',\n",
       " '/yazarlar/abdulkadir-selvi/mit-ile-mossad-arasinda-casuslar-savasi-mi-yasanacak-42372908',\n",
       " '/yazarlar/abdulkadir-selvi/mit-ile-mossad-arasinda-casuslar-savasi-mi-yasanacak-42372908',\n",
       " '/yazarlar/abdulkadir-selvi/mit-ile-mossad-arasinda-casuslar-savasi-mi-yasanacak-42372908',\n",
       " '/yazarlar/abdulkadir-selvi/mit-ile-mossad-arasinda-casuslar-savasi-mi-yasanacak-42372908',\n",
       " '/yazarlar/abdulkadir-selvi/mit-ile-mossad-arasinda-casuslar-savasi-mi-yasanacak-42372908',\n",
       " '/yazarlar/abdulkadir-selvi/mit-ile-mossad-arasinda-casuslar-savasi-mi-yasanacak-42372908',\n",
       " '/yazarlar/abdulkadir-selvi/mit-ile-mossad-arasinda-casuslar-savasi-mi-yasanacak-42372908',\n",
       " '/yazarlar/abdulkadir-selvi/mit-ile-mossad-arasinda-casuslar-savasi-mi-yasanacak-42372908',\n",
       " '/yazarlar/abdulkadir-selvi/mit-ile-mossad-arasinda-casuslar-savasi-mi-yasanacak-42372908',\n",
       " '/yazarlar/abdulkadir-selvi/mit-ile-mossad-arasinda-casuslar-savasi-mi-yasanacak-42372908',\n",
       " '/yazarlar/abdulkadir-selvi/mit-ile-mossad-arasinda-casuslar-savasi-mi-yasanacak-42372908',\n",
       " '/yazarlar/abdulkadir-selvi/mit-ile-mossad-arasinda-casuslar-savasi-mi-yasanacak-42372908',\n",
       " '/yazarlar/abdulkadir-selvi/mit-ile-mossad-arasinda-casuslar-savasi-mi-yasanacak-42372908',\n",
       " '/yazarlar/abdulkadir-selvi/mit-ile-mossad-arasinda-casuslar-savasi-mi-yasanacak-42372908',\n",
       " '/yazarlar/abdulkadir-selvi/mit-ile-mossad-arasinda-casuslar-savasi-mi-yasanacak-42372908',\n",
       " '/yazarlar/abdulkadir-selvi/mit-ile-mossad-arasinda-casuslar-savasi-mi-yasanacak-42372908',\n",
       " '/yazarlar/abdulkadir-selvi/mit-ile-mossad-arasinda-casuslar-savasi-mi-yasanacak-42372908',\n",
       " '/yazarlar/abdulkadir-selvi/mit-ile-mossad-arasinda-casuslar-savasi-mi-yasanacak-42372908',\n",
       " '/yazarlar/abdulkadir-selvi/mit-ile-mossad-arasinda-casuslar-savasi-mi-yasanacak-42372908',\n",
       " '/yazarlar/abdulkadir-selvi/mit-ile-mossad-arasinda-casuslar-savasi-mi-yasanacak-42372908',\n",
       " '/yazarlar/abdulkadir-selvi/mit-ile-mossad-arasinda-casuslar-savasi-mi-yasanacak-42372908',\n",
       " '/yazarlar/abdulkadir-selvi/mit-ile-mossad-arasinda-casuslar-savasi-mi-yasanacak-42372908',\n",
       " '/yazarlar/abdulkadir-selvi/mit-ile-mossad-arasinda-casuslar-savasi-mi-yasanacak-42372908',\n",
       " '/yazarlar/abdulkadir-selvi/mit-ile-mossad-arasinda-casuslar-savasi-mi-yasanacak-42372908',\n",
       " '/yazarlar/abdulkadir-selvi/mit-ile-mossad-arasinda-casuslar-savasi-mi-yasanacak-42372908',\n",
       " '/yazarlar/abdulkadir-selvi/mit-ile-mossad-arasinda-casuslar-savasi-mi-yasanacak-42372908',\n",
       " '/yazarlar/abdulkadir-selvi/mit-ile-mossad-arasinda-casuslar-savasi-mi-yasanacak-42372908',\n",
       " '/yazarlar/abdulkadir-selvi/mit-ile-mossad-arasinda-casuslar-savasi-mi-yasanacak-42372908',\n",
       " '/yazarlar/abdulkadir-selvi/mit-ile-mossad-arasinda-casuslar-savasi-mi-yasanacak-42372908',\n",
       " '/yazarlar/abdulkadir-selvi/mit-ile-mossad-arasinda-casuslar-savasi-mi-yasanacak-42372908',\n",
       " '/yazarlar/abdulkadir-selvi/mit-ile-mossad-arasinda-casuslar-savasi-mi-yasanacak-42372908',\n",
       " '/yazarlar/abdulkadir-selvi/mit-ile-mossad-arasinda-casuslar-savasi-mi-yasanacak-42372908',\n",
       " '/yazarlar/abdulkadir-selvi/mit-ile-mossad-arasinda-casuslar-savasi-mi-yasanacak-42372908',\n",
       " '/yazarlar/abdulkadir-selvi/mit-ile-mossad-arasinda-casuslar-savasi-mi-yasanacak-42372908',\n",
       " '/yazarlar/abdulkadir-selvi/mit-ile-mossad-arasinda-casuslar-savasi-mi-yasanacak-42372908',\n",
       " '/yazarlar/abdulkadir-selvi/mit-ile-mossad-arasinda-casuslar-savasi-mi-yasanacak-42372908',\n",
       " '/yazarlar/abdulkadir-selvi/mit-ile-mossad-arasinda-casuslar-savasi-mi-yasanacak-42372908',\n",
       " '/yazarlar/abdulkadir-selvi/mit-ile-mossad-arasinda-casuslar-savasi-mi-yasanacak-42372908',\n",
       " '/yazarlar/abdulkadir-selvi/mit-ile-mossad-arasinda-casuslar-savasi-mi-yasanacak-42372908',\n",
       " '/yazarlar/abdulkadir-selvi/mit-ile-mossad-arasinda-casuslar-savasi-mi-yasanacak-42372908',\n",
       " '/yazarlar/abdulkadir-selvi/mit-ile-mossad-arasinda-casuslar-savasi-mi-yasanacak-42372908',\n",
       " '/yazarlar/abdulkadir-selvi/mit-ile-mossad-arasinda-casuslar-savasi-mi-yasanacak-42372908',\n",
       " '/yazarlar/abdulkadir-selvi/mit-ile-mossad-arasinda-casuslar-savasi-mi-yasanacak-42372908',\n",
       " '/yazarlar/abdulkadir-selvi/mit-ile-mossad-arasinda-casuslar-savasi-mi-yasanacak-42372908',\n",
       " '/yazarlar/abdulkadir-selvi/mit-ile-mossad-arasinda-casuslar-savasi-mi-yasanacak-42372908',\n",
       " '/yazarlar/abdulkadir-selvi/mit-ile-mossad-arasinda-casuslar-savasi-mi-yasanacak-42372908',\n",
       " '/yazarlar/abdulkadir-selvi/mit-ile-mossad-arasinda-casuslar-savasi-mi-yasanacak-42372908',\n",
       " '/yazarlar/abdulkadir-selvi/mit-ile-mossad-arasinda-casuslar-savasi-mi-yasanacak-42372908',\n",
       " '/yazarlar/abdulkadir-selvi/mit-ile-mossad-arasinda-casuslar-savasi-mi-yasanacak-42372908',\n",
       " '/yazarlar/abdulkadir-selvi/mit-ile-mossad-arasinda-casuslar-savasi-mi-yasanacak-42372908',\n",
       " '/yazarlar/abdulkadir-selvi/mit-ile-mossad-arasinda-casuslar-savasi-mi-yasanacak-42372908',\n",
       " '/yazarlar/abdulkadir-selvi/mit-ile-mossad-arasinda-casuslar-savasi-mi-yasanacak-42372908',\n",
       " '/yazarlar/abdulkadir-selvi/mit-ile-mossad-arasinda-casuslar-savasi-mi-yasanacak-42372908',\n",
       " '/yazarlar/abdulkadir-selvi/mit-ile-mossad-arasinda-casuslar-savasi-mi-yasanacak-42372908',\n",
       " '/yazarlar/abdulkadir-selvi/mit-ile-mossad-arasinda-casuslar-savasi-mi-yasanacak-42372908',\n",
       " ...]"
      ]
     },
     "execution_count": 114,
     "metadata": {},
     "output_type": "execute_result"
    }
   ],
   "source": [
    "links"
   ]
  },
  {
   "cell_type": "code",
   "execution_count": 89,
   "metadata": {},
   "outputs": [
    {
     "ename": "TypeError",
     "evalue": "'dict' object is not callable",
     "output_type": "error",
     "traceback": [
      "\u001b[0;31m---------------------------------------------------------------------------\u001b[0m",
      "\u001b[0;31mTypeError\u001b[0m                                 Traceback (most recent call last)",
      "Cell \u001b[0;32mIn[89], line 4\u001b[0m\n\u001b[1;32m      2\u001b[0m \u001b[38;5;28;01mfor\u001b[39;00m box \u001b[38;5;129;01min\u001b[39;00m boxes:\n\u001b[1;32m      3\u001b[0m     box \u001b[38;5;241m=\u001b[39m soup\u001b[38;5;241m.\u001b[39mfind(\u001b[38;5;124m'\u001b[39m\u001b[38;5;124mdiv\u001b[39m\u001b[38;5;124m'\u001b[39m, class_\u001b[38;5;241m=\u001b[39m\u001b[38;5;124m'\u001b[39m\u001b[38;5;124mhighlighted-box mb20\u001b[39m\u001b[38;5;124m'\u001b[39m)\n\u001b[0;32m----> 4\u001b[0m     link \u001b[38;5;241m=\u001b[39m box\u001b[38;5;241m.\u001b[39mattrs(\u001b[38;5;124m'\u001b[39m\u001b[38;5;124mhref\u001b[39m\u001b[38;5;124m'\u001b[39m)\n\u001b[1;32m      5\u001b[0m     link_list\u001b[38;5;241m.\u001b[39mappend(link)\n",
      "\u001b[0;31mTypeError\u001b[0m: 'dict' object is not callable"
     ]
    }
   ],
   "source": [
    "link_list=[]\n",
    "for box in boxes:\n",
    "    box = soup.find('div', class_='highlighted-box mb20')\n",
    "    link = box.attrs('href')\n",
    "    link_list.append(link)"
   ]
  },
  {
   "cell_type": "code",
   "execution_count": 83,
   "metadata": {},
   "outputs": [
    {
     "name": "stdout",
     "output_type": "stream",
     "text": [
      "[None, None, None, None, None, None, None, None]\n"
     ]
    }
   ],
   "source": [
    "print(link_list)"
   ]
  },
  {
   "cell_type": "code",
   "execution_count": 49,
   "metadata": {},
   "outputs": [
    {
     "data": {
      "text/plain": [
       "'/yazarlar/abdulkadir-selvi/mit-ile-mossad-arasinda-casuslar-savasi-mi-yasanacak-42372908'"
      ]
     },
     "execution_count": 49,
     "metadata": {},
     "output_type": "execute_result"
    }
   ],
   "source": [
    "link1"
   ]
  },
  {
   "cell_type": "code",
   "execution_count": 42,
   "metadata": {},
   "outputs": [
    {
     "name": "stdout",
     "output_type": "stream",
     "text": [
      "<h2><a class=\"title title-news-detail\" href=\"/yazarlar/abdulkadir-selvi/mit-ile-mossad-arasinda-casuslar-savasi-mi-yasanacak-42372908\" title=\"\">MİT ile MOSSAD arasında casuslar savaşı mı yaşanacak</a></h2>\n"
     ]
    }
   ],
   "source": [
    "print(box)"
   ]
  },
  {
   "cell_type": "code",
   "execution_count": 45,
   "metadata": {},
   "outputs": [
    {
     "name": "stdout",
     "output_type": "stream",
     "text": [
      "8 Aralık 2023\n"
     ]
    }
   ],
   "source": [
    "date=box.find('div', class_= 'date').text\n",
    "print(date)"
   ]
  },
  {
   "cell_type": "code",
   "execution_count": null,
   "metadata": {},
   "outputs": [],
   "source": [
    "df = pd.DataFrame(books, columns=['Title', 'Star Rating', 'Price'])\n",
    "df.to_csv('books.csv')"
   ]
  },
  {
   "cell_type": "code",
   "execution_count": null,
   "metadata": {},
   "outputs": [],
   "source": []
  },
  {
   "cell_type": "code",
   "execution_count": null,
   "metadata": {},
   "outputs": [],
   "source": []
  },
  {
   "cell_type": "code",
   "execution_count": 34,
   "metadata": {},
   "outputs": [
    {
     "name": "stdout",
     "output_type": "stream",
     "text": [
      "None\n"
     ]
    }
   ],
   "source": [
    "print(link2)"
   ]
  },
  {
   "cell_type": "code",
   "execution_count": 46,
   "metadata": {},
   "outputs": [
    {
     "ename": "KeyError",
     "evalue": "'title'",
     "output_type": "error",
     "traceback": [
      "\u001b[0;31m---------------------------------------------------------------------------\u001b[0m",
      "\u001b[0;31mKeyError\u001b[0m                                  Traceback (most recent call last)",
      "Cell \u001b[0;32mIn[46], line 1\u001b[0m\n\u001b[0;32m----> 1\u001b[0m title_name\u001b[38;5;241m=\u001b[39mbox\u001b[38;5;241m.\u001b[39mattrs[\u001b[38;5;124m'\u001b[39m\u001b[38;5;124mtitle\u001b[39m\u001b[38;5;124m'\u001b[39m]\n\u001b[1;32m      2\u001b[0m title_name\n",
      "\u001b[0;31mKeyError\u001b[0m: 'title'"
     ]
    }
   ],
   "source": [
    "title_name=box.attrs['title']\n",
    "title_name"
   ]
  },
  {
   "cell_type": "code",
   "execution_count": null,
   "metadata": {},
   "outputs": [],
   "source": []
  },
  {
   "cell_type": "code",
   "execution_count": 1,
   "metadata": {
    "colab": {
     "base_uri": "https://localhost:8080/"
    },
    "id": "mimcewozPxCM",
    "outputId": "51af7ef8-183a-4462-9694-09a44901158c",
    "scrolled": true
   },
   "outputs": [
    {
     "name": "stdout",
     "output_type": "stream",
     "text": [
      "Requirement already satisfied: beautifulsoup4 in /Users/mehmetzeki/anaconda3/lib/python3.11/site-packages (4.12.2)\n",
      "Requirement already satisfied: soupsieve>1.2 in /Users/mehmetzeki/anaconda3/lib/python3.11/site-packages (from beautifulsoup4) (2.4)\n",
      "Note: you may need to restart the kernel to use updated packages.\n"
     ]
    }
   ],
   "source": [
    "pip install beautifulsoup4"
   ]
  },
  {
   "cell_type": "code",
   "execution_count": null,
   "metadata": {},
   "outputs": [],
   "source": [
    "\n",
    "books = []\n",
    "\n",
    "for i in range(1,5):\n",
    "  url = f\"https://books.toscrape.com/catalogue/page-{i}.html\"\n",
    "  response = requests.get(url)\n",
    "  response = response.content\n",
    "  soup = BeautifulSoup(response, 'html.parser')\n",
    "  ol = soup.find('ol')\n",
    "  articles = ol.find_all('article', class_='product_pod')\n",
    "  for article in articles:\n",
    "    image = article.find('img')\n",
    "    title = image.attrs['alt']\n",
    "    starTag = article.find('p')\n",
    "    star = starTag['class'][1]\n",
    "    price = article.find('p', class_='price_color').text\n",
    "    price = float(price[1:])\n",
    "    books.append([title, star, price])\n",
    "    \n",
    "\n",
    "df = pd.DataFrame(books, columns=['Title', 'Star Rating', 'Price'])\n",
    "df.to_csv('books.csv')"
   ]
  },
  {
   "cell_type": "code",
   "execution_count": 2,
   "metadata": {
    "colab": {
     "base_uri": "https://localhost:8080/"
    },
    "id": "69K8okKQWtOD",
    "outputId": "63eb9ed5-faca-458d-81a0-03b19fec581b"
   },
   "outputs": [
    {
     "name": "stdout",
     "output_type": "stream",
     "text": [
      "Requirement already satisfied: lxml in /Users/mehmetzeki/anaconda3/lib/python3.11/site-packages (4.9.2)\n",
      "Note: you may need to restart the kernel to use updated packages.\n"
     ]
    }
   ],
   "source": [
    "pip install lxml"
   ]
  },
  {
   "cell_type": "code",
   "execution_count": 3,
   "metadata": {
    "colab": {
     "base_uri": "https://localhost:8080/"
    },
    "id": "8colAAMbOwqv",
    "outputId": "cce57c29-a77b-40eb-81a2-bb6db9701018"
   },
   "outputs": [
    {
     "name": "stdout",
     "output_type": "stream",
     "text": [
      "Requirement already satisfied: requests in /Users/mehmetzeki/anaconda3/lib/python3.11/site-packages (2.31.0)\n",
      "Requirement already satisfied: charset-normalizer<4,>=2 in /Users/mehmetzeki/anaconda3/lib/python3.11/site-packages (from requests) (2.0.4)\n",
      "Requirement already satisfied: idna<4,>=2.5 in /Users/mehmetzeki/anaconda3/lib/python3.11/site-packages (from requests) (3.4)\n",
      "Requirement already satisfied: urllib3<3,>=1.21.1 in /Users/mehmetzeki/anaconda3/lib/python3.11/site-packages (from requests) (1.26.16)\n",
      "Requirement already satisfied: certifi>=2017.4.17 in /Users/mehmetzeki/anaconda3/lib/python3.11/site-packages (from requests) (2023.7.22)\n",
      "Note: you may need to restart the kernel to use updated packages.\n"
     ]
    }
   ],
   "source": [
    "pip install requests"
   ]
  },
  {
   "cell_type": "code",
   "execution_count": 9,
   "metadata": {
    "id": "6gulkh8aXYIl"
   },
   "outputs": [],
   "source": [
    "from bs4 import BeautifulSoup\n",
    "import requests"
   ]
  },
  {
   "cell_type": "code",
   "execution_count": null,
   "metadata": {},
   "outputs": [],
   "source": [
    "\n",
    "\n",
    "\n",
    "# Find all links matching the specified criteria\n",
    "links = soup.find_all('a', class_='title title-news-detail', href=True)\n",
    "\n",
    "# Extract the href attribute of each link\n",
    "extracted_links = [link['href'] for link in links]\n",
    "\n",
    "# Print the extracted links\n",
    "for link in extracted_links:\n",
    "    print(link)"
   ]
  },
  {
   "cell_type": "code",
   "execution_count": null,
   "metadata": {},
   "outputs": [],
   "source": [
    "from bs4 import BeautifulSoup\n",
    "\n",
    "# Load the HTML content from the file\n",
    "file_path = 'path_to_your_html_file.html'\n",
    "with open(file_path, 'r', encoding='utf-8') as file:\n",
    "    html_content = file.read()\n",
    "\n",
    "# Parse the HTML\n",
    "soup = BeautifulSoup(html_content, 'html.parser')\n",
    "\n",
    "# Find all links matching the specified criteria\n",
    "links = soup.find_all('a', class_='title title-news-detail', href=True)\n",
    "\n",
    "# Extract the href attribute of each link\n",
    "extracted_links = [link['href'] for link in links]\n",
    "\n",
    "# Print the extracted links\n",
    "for link in extracted_links:\n",
    "    print(link)"
   ]
  },
  {
   "cell_type": "code",
   "execution_count": 11,
   "metadata": {},
   "outputs": [],
   "source": [
    "url=\"https://www.hurriyet.com.tr/yazarlar/abdulkadir-selvi/\"\n",
    "def get_soup(url):\n",
    "    response = requests.get(url)\n",
    "    return BeautifulSoup(response.text, 'lxml')\n",
    "\n",
    "def get_links(url):\n",
    "    soup = get_soup(url)\n",
    "    links = []\n",
    "\n",
    "    # Assuming links are in 'a' tags and within a specific part of the website\n",
    "    # Modify the find_all() parameters as per the website's structure\n",
    "    for link in soup.find_all('a'):\n",
    "        href = link.get('href')\n",
    "        if href and href.startswith('http'):  # This checks if the link is a valid URL\n",
    "            links.append(href)\n",
    "\n",
    "    return links"
   ]
  },
  {
   "cell_type": "code",
   "execution_count": 12,
   "metadata": {},
   "outputs": [
    {
     "name": "stdout",
     "output_type": "stream",
     "text": [
      "['https://www.hurriyet.com.tr/', 'https://www.hurriyet.com.tr/gundem/', 'https://bigpara.hurriyet.com.tr/', 'https://bigpara.hurriyet.com.tr/borsa/canli-borsa/', 'https://bigpara.hurriyet.com.tr/doviz/', 'https://bigpara.hurriyet.com.tr/altin/', 'https://bigpara.hurriyet.com.tr/viop-varant/', 'https://bigpara.hurriyet.com.tr/analiz/', 'https://bigpara.hurriyet.com.tr/kobi/', 'https://bigpara.hurriyet.com.tr/kripto-paralar/', 'https://www.hurriyet.com.tr/cumartesi/ ', 'https://www.hurriyet.com.tr/lezzetli-hayat/', 'https://www.hurriyet.com.tr/cocuklu-hayat/', 'https://uyelikyonetim.hurriyet.com.tr/', 'https://hesabim.hurriyet.com.tr/#/e-gazete', 'https://www.facebook.com/hurriyet/', 'https://twitter.com/Hurriyet', 'https://www.linkedin.com/company/hurriyet/', 'https://www.youtube.com/user/hurriyettvcom', 'https://www.instagram.com/hurriyetcomtr/', 'https://www.hurriyet.com.tr/kullanim-kosullari/', 'https://www.hurriyet.com.tr/veri-politikasi/', 'https://www.hurriyet.com.tr/bizeulasin/', 'https://apps.apple.com/tr/app/h%C3%BCrriyet-son-dakika-haberler/id307878588?l=tr', 'https://play.google.com/store/apps/details?id=hurriyet.mobil.android&gl=TR', 'https://www.hurriyet.com.tr/dunya/', 'https://bigpara.hurriyet.com.tr/', 'https://u.hurriyet.com.tr/accounts/login', 'https://www.hurriyet.com.tr', 'https://www.hurriyet.com.tr/yazarlar/', 'https://www.facebook.com/hurriyet/', 'https://twitter.com/Hurriyet', 'https://www.instagram.com/hurriyetcomtr/', 'https://www.linkedin.com/company/hurriyet/', 'https://www.youtube.com/c/hurriyet', 'https://www.hurriyet.com.tr/', 'http://bigpara.hurriyet.com.tr/borsa/canli-borsa/', 'https://bigpara.hurriyet.com.tr/doviz/euro/', 'https://satis.hurriyet.com.tr/Default.aspx', 'https://www.hurriyet.com.tr/yerel-haberler/', 'https://bigpara.hurriyet.com.tr/kripto/bitcoin-fiyati/', 'http://bigpara.hurriyet.com.tr/borsa/canli-borsa/', 'http://e-gazete.hurriyet.com.tr/', 'https://bigpara.hurriyet.com.tr/doviz/', 'http://bigpara.hurriyet.com.tr/altin/22-ayar-bilezik-fiyati/', 'https://seriilan.hurriyet.com.tr/emlak.aspx', 'http://bigpara.hurriyet.com.tr/doviz/dolar/', 'http://bigpara.hurriyet.com.tr/doviz/dolar/', 'http://reklamver.hurriyet.com.tr/', 'https://www.hurriyetkurumsal.com/', 'https://www.hurriyetkurumsal.com/']\n"
     ]
    }
   ],
   "source": [
    "print(links)"
   ]
  },
  {
   "cell_type": "code",
   "execution_count": null,
   "metadata": {},
   "outputs": [],
   "source": []
  },
  {
   "cell_type": "code",
   "execution_count": null,
   "metadata": {},
   "outputs": [],
   "source": []
  },
  {
   "cell_type": "code",
   "execution_count": null,
   "metadata": {},
   "outputs": [],
   "source": []
  },
  {
   "cell_type": "code",
   "execution_count": null,
   "metadata": {},
   "outputs": [],
   "source": []
  },
  {
   "cell_type": "code",
   "execution_count": null,
   "metadata": {},
   "outputs": [],
   "source": []
  },
  {
   "cell_type": "code",
   "execution_count": null,
   "metadata": {},
   "outputs": [],
   "source": []
  },
  {
   "cell_type": "code",
   "execution_count": 10,
   "metadata": {
    "colab": {
     "base_uri": "https://localhost:8080/",
     "height": 399
    },
    "id": "4Hf2Y748_pNo",
    "outputId": "a0a708c8-f608-46a0-d7f1-cbbce4449f56"
   },
   "outputs": [
    {
     "ename": "SSLError",
     "evalue": "HTTPSConnectionPool(host='hesabim.hurriyet.com.tr', port=443): Max retries exceeded with url: / (Caused by SSLError(SSLCertVerificationError(1, '[SSL: CERTIFICATE_VERIFY_FAILED] certificate verify failed: unable to get local issuer certificate (_ssl.c:1002)')))",
     "output_type": "error",
     "traceback": [
      "\u001b[0;31m---------------------------------------------------------------------------\u001b[0m",
      "\u001b[0;31mSSLCertVerificationError\u001b[0m                  Traceback (most recent call last)",
      "File \u001b[0;32m~/anaconda3/lib/python3.11/site-packages/urllib3/connectionpool.py:714\u001b[0m, in \u001b[0;36mHTTPConnectionPool.urlopen\u001b[0;34m(self, method, url, body, headers, retries, redirect, assert_same_host, timeout, pool_timeout, release_conn, chunked, body_pos, **response_kw)\u001b[0m\n\u001b[1;32m    713\u001b[0m \u001b[38;5;66;03m# Make the request on the httplib connection object.\u001b[39;00m\n\u001b[0;32m--> 714\u001b[0m httplib_response \u001b[38;5;241m=\u001b[39m \u001b[38;5;28mself\u001b[39m\u001b[38;5;241m.\u001b[39m_make_request(\n\u001b[1;32m    715\u001b[0m     conn,\n\u001b[1;32m    716\u001b[0m     method,\n\u001b[1;32m    717\u001b[0m     url,\n\u001b[1;32m    718\u001b[0m     timeout\u001b[38;5;241m=\u001b[39mtimeout_obj,\n\u001b[1;32m    719\u001b[0m     body\u001b[38;5;241m=\u001b[39mbody,\n\u001b[1;32m    720\u001b[0m     headers\u001b[38;5;241m=\u001b[39mheaders,\n\u001b[1;32m    721\u001b[0m     chunked\u001b[38;5;241m=\u001b[39mchunked,\n\u001b[1;32m    722\u001b[0m )\n\u001b[1;32m    724\u001b[0m \u001b[38;5;66;03m# If we're going to release the connection in ``finally:``, then\u001b[39;00m\n\u001b[1;32m    725\u001b[0m \u001b[38;5;66;03m# the response doesn't need to know about the connection. Otherwise\u001b[39;00m\n\u001b[1;32m    726\u001b[0m \u001b[38;5;66;03m# it will also try to release it and we'll have a double-release\u001b[39;00m\n\u001b[1;32m    727\u001b[0m \u001b[38;5;66;03m# mess.\u001b[39;00m\n",
      "File \u001b[0;32m~/anaconda3/lib/python3.11/site-packages/urllib3/connectionpool.py:403\u001b[0m, in \u001b[0;36mHTTPConnectionPool._make_request\u001b[0;34m(self, conn, method, url, timeout, chunked, **httplib_request_kw)\u001b[0m\n\u001b[1;32m    402\u001b[0m \u001b[38;5;28;01mtry\u001b[39;00m:\n\u001b[0;32m--> 403\u001b[0m     \u001b[38;5;28mself\u001b[39m\u001b[38;5;241m.\u001b[39m_validate_conn(conn)\n\u001b[1;32m    404\u001b[0m \u001b[38;5;28;01mexcept\u001b[39;00m (SocketTimeout, BaseSSLError) \u001b[38;5;28;01mas\u001b[39;00m e:\n\u001b[1;32m    405\u001b[0m     \u001b[38;5;66;03m# Py2 raises this as a BaseSSLError, Py3 raises it as socket timeout.\u001b[39;00m\n",
      "File \u001b[0;32m~/anaconda3/lib/python3.11/site-packages/urllib3/connectionpool.py:1053\u001b[0m, in \u001b[0;36mHTTPSConnectionPool._validate_conn\u001b[0;34m(self, conn)\u001b[0m\n\u001b[1;32m   1052\u001b[0m \u001b[38;5;28;01mif\u001b[39;00m \u001b[38;5;129;01mnot\u001b[39;00m \u001b[38;5;28mgetattr\u001b[39m(conn, \u001b[38;5;124m\"\u001b[39m\u001b[38;5;124msock\u001b[39m\u001b[38;5;124m\"\u001b[39m, \u001b[38;5;28;01mNone\u001b[39;00m):  \u001b[38;5;66;03m# AppEngine might not have  `.sock`\u001b[39;00m\n\u001b[0;32m-> 1053\u001b[0m     conn\u001b[38;5;241m.\u001b[39mconnect()\n\u001b[1;32m   1055\u001b[0m \u001b[38;5;28;01mif\u001b[39;00m \u001b[38;5;129;01mnot\u001b[39;00m conn\u001b[38;5;241m.\u001b[39mis_verified:\n",
      "File \u001b[0;32m~/anaconda3/lib/python3.11/site-packages/urllib3/connection.py:419\u001b[0m, in \u001b[0;36mHTTPSConnection.connect\u001b[0;34m(self)\u001b[0m\n\u001b[1;32m    417\u001b[0m     context\u001b[38;5;241m.\u001b[39mload_default_certs()\n\u001b[0;32m--> 419\u001b[0m \u001b[38;5;28mself\u001b[39m\u001b[38;5;241m.\u001b[39msock \u001b[38;5;241m=\u001b[39m ssl_wrap_socket(\n\u001b[1;32m    420\u001b[0m     sock\u001b[38;5;241m=\u001b[39mconn,\n\u001b[1;32m    421\u001b[0m     keyfile\u001b[38;5;241m=\u001b[39m\u001b[38;5;28mself\u001b[39m\u001b[38;5;241m.\u001b[39mkey_file,\n\u001b[1;32m    422\u001b[0m     certfile\u001b[38;5;241m=\u001b[39m\u001b[38;5;28mself\u001b[39m\u001b[38;5;241m.\u001b[39mcert_file,\n\u001b[1;32m    423\u001b[0m     key_password\u001b[38;5;241m=\u001b[39m\u001b[38;5;28mself\u001b[39m\u001b[38;5;241m.\u001b[39mkey_password,\n\u001b[1;32m    424\u001b[0m     ca_certs\u001b[38;5;241m=\u001b[39m\u001b[38;5;28mself\u001b[39m\u001b[38;5;241m.\u001b[39mca_certs,\n\u001b[1;32m    425\u001b[0m     ca_cert_dir\u001b[38;5;241m=\u001b[39m\u001b[38;5;28mself\u001b[39m\u001b[38;5;241m.\u001b[39mca_cert_dir,\n\u001b[1;32m    426\u001b[0m     ca_cert_data\u001b[38;5;241m=\u001b[39m\u001b[38;5;28mself\u001b[39m\u001b[38;5;241m.\u001b[39mca_cert_data,\n\u001b[1;32m    427\u001b[0m     server_hostname\u001b[38;5;241m=\u001b[39mserver_hostname,\n\u001b[1;32m    428\u001b[0m     ssl_context\u001b[38;5;241m=\u001b[39mcontext,\n\u001b[1;32m    429\u001b[0m     tls_in_tls\u001b[38;5;241m=\u001b[39mtls_in_tls,\n\u001b[1;32m    430\u001b[0m )\n\u001b[1;32m    432\u001b[0m \u001b[38;5;66;03m# If we're using all defaults and the connection\u001b[39;00m\n\u001b[1;32m    433\u001b[0m \u001b[38;5;66;03m# is TLSv1 or TLSv1.1 we throw a DeprecationWarning\u001b[39;00m\n\u001b[1;32m    434\u001b[0m \u001b[38;5;66;03m# for the host.\u001b[39;00m\n",
      "File \u001b[0;32m~/anaconda3/lib/python3.11/site-packages/urllib3/util/ssl_.py:449\u001b[0m, in \u001b[0;36mssl_wrap_socket\u001b[0;34m(sock, keyfile, certfile, cert_reqs, ca_certs, server_hostname, ssl_version, ciphers, ssl_context, ca_cert_dir, key_password, ca_cert_data, tls_in_tls)\u001b[0m\n\u001b[1;32m    448\u001b[0m \u001b[38;5;28;01mif\u001b[39;00m send_sni:\n\u001b[0;32m--> 449\u001b[0m     ssl_sock \u001b[38;5;241m=\u001b[39m _ssl_wrap_socket_impl(\n\u001b[1;32m    450\u001b[0m         sock, context, tls_in_tls, server_hostname\u001b[38;5;241m=\u001b[39mserver_hostname\n\u001b[1;32m    451\u001b[0m     )\n\u001b[1;32m    452\u001b[0m \u001b[38;5;28;01melse\u001b[39;00m:\n",
      "File \u001b[0;32m~/anaconda3/lib/python3.11/site-packages/urllib3/util/ssl_.py:493\u001b[0m, in \u001b[0;36m_ssl_wrap_socket_impl\u001b[0;34m(sock, ssl_context, tls_in_tls, server_hostname)\u001b[0m\n\u001b[1;32m    492\u001b[0m \u001b[38;5;28;01mif\u001b[39;00m server_hostname:\n\u001b[0;32m--> 493\u001b[0m     \u001b[38;5;28;01mreturn\u001b[39;00m ssl_context\u001b[38;5;241m.\u001b[39mwrap_socket(sock, server_hostname\u001b[38;5;241m=\u001b[39mserver_hostname)\n\u001b[1;32m    494\u001b[0m \u001b[38;5;28;01melse\u001b[39;00m:\n",
      "File \u001b[0;32m~/anaconda3/lib/python3.11/ssl.py:517\u001b[0m, in \u001b[0;36mSSLContext.wrap_socket\u001b[0;34m(self, sock, server_side, do_handshake_on_connect, suppress_ragged_eofs, server_hostname, session)\u001b[0m\n\u001b[1;32m    511\u001b[0m \u001b[38;5;28;01mdef\u001b[39;00m \u001b[38;5;21mwrap_socket\u001b[39m(\u001b[38;5;28mself\u001b[39m, sock, server_side\u001b[38;5;241m=\u001b[39m\u001b[38;5;28;01mFalse\u001b[39;00m,\n\u001b[1;32m    512\u001b[0m                 do_handshake_on_connect\u001b[38;5;241m=\u001b[39m\u001b[38;5;28;01mTrue\u001b[39;00m,\n\u001b[1;32m    513\u001b[0m                 suppress_ragged_eofs\u001b[38;5;241m=\u001b[39m\u001b[38;5;28;01mTrue\u001b[39;00m,\n\u001b[1;32m    514\u001b[0m                 server_hostname\u001b[38;5;241m=\u001b[39m\u001b[38;5;28;01mNone\u001b[39;00m, session\u001b[38;5;241m=\u001b[39m\u001b[38;5;28;01mNone\u001b[39;00m):\n\u001b[1;32m    515\u001b[0m     \u001b[38;5;66;03m# SSLSocket class handles server_hostname encoding before it calls\u001b[39;00m\n\u001b[1;32m    516\u001b[0m     \u001b[38;5;66;03m# ctx._wrap_socket()\u001b[39;00m\n\u001b[0;32m--> 517\u001b[0m     \u001b[38;5;28;01mreturn\u001b[39;00m \u001b[38;5;28mself\u001b[39m\u001b[38;5;241m.\u001b[39msslsocket_class\u001b[38;5;241m.\u001b[39m_create(\n\u001b[1;32m    518\u001b[0m         sock\u001b[38;5;241m=\u001b[39msock,\n\u001b[1;32m    519\u001b[0m         server_side\u001b[38;5;241m=\u001b[39mserver_side,\n\u001b[1;32m    520\u001b[0m         do_handshake_on_connect\u001b[38;5;241m=\u001b[39mdo_handshake_on_connect,\n\u001b[1;32m    521\u001b[0m         suppress_ragged_eofs\u001b[38;5;241m=\u001b[39msuppress_ragged_eofs,\n\u001b[1;32m    522\u001b[0m         server_hostname\u001b[38;5;241m=\u001b[39mserver_hostname,\n\u001b[1;32m    523\u001b[0m         context\u001b[38;5;241m=\u001b[39m\u001b[38;5;28mself\u001b[39m,\n\u001b[1;32m    524\u001b[0m         session\u001b[38;5;241m=\u001b[39msession\n\u001b[1;32m    525\u001b[0m     )\n",
      "File \u001b[0;32m~/anaconda3/lib/python3.11/ssl.py:1075\u001b[0m, in \u001b[0;36mSSLSocket._create\u001b[0;34m(cls, sock, server_side, do_handshake_on_connect, suppress_ragged_eofs, server_hostname, context, session)\u001b[0m\n\u001b[1;32m   1074\u001b[0m             \u001b[38;5;28;01mraise\u001b[39;00m \u001b[38;5;167;01mValueError\u001b[39;00m(\u001b[38;5;124m\"\u001b[39m\u001b[38;5;124mdo_handshake_on_connect should not be specified for non-blocking sockets\u001b[39m\u001b[38;5;124m\"\u001b[39m)\n\u001b[0;32m-> 1075\u001b[0m         \u001b[38;5;28mself\u001b[39m\u001b[38;5;241m.\u001b[39mdo_handshake()\n\u001b[1;32m   1076\u001b[0m \u001b[38;5;28;01mexcept\u001b[39;00m (\u001b[38;5;167;01mOSError\u001b[39;00m, \u001b[38;5;167;01mValueError\u001b[39;00m):\n",
      "File \u001b[0;32m~/anaconda3/lib/python3.11/ssl.py:1346\u001b[0m, in \u001b[0;36mSSLSocket.do_handshake\u001b[0;34m(self, block)\u001b[0m\n\u001b[1;32m   1345\u001b[0m         \u001b[38;5;28mself\u001b[39m\u001b[38;5;241m.\u001b[39msettimeout(\u001b[38;5;28;01mNone\u001b[39;00m)\n\u001b[0;32m-> 1346\u001b[0m     \u001b[38;5;28mself\u001b[39m\u001b[38;5;241m.\u001b[39m_sslobj\u001b[38;5;241m.\u001b[39mdo_handshake()\n\u001b[1;32m   1347\u001b[0m \u001b[38;5;28;01mfinally\u001b[39;00m:\n",
      "\u001b[0;31mSSLCertVerificationError\u001b[0m: [SSL: CERTIFICATE_VERIFY_FAILED] certificate verify failed: unable to get local issuer certificate (_ssl.c:1002)",
      "\nDuring handling of the above exception, another exception occurred:\n",
      "\u001b[0;31mMaxRetryError\u001b[0m                             Traceback (most recent call last)",
      "File \u001b[0;32m~/anaconda3/lib/python3.11/site-packages/requests/adapters.py:486\u001b[0m, in \u001b[0;36mHTTPAdapter.send\u001b[0;34m(self, request, stream, timeout, verify, cert, proxies)\u001b[0m\n\u001b[1;32m    485\u001b[0m \u001b[38;5;28;01mtry\u001b[39;00m:\n\u001b[0;32m--> 486\u001b[0m     resp \u001b[38;5;241m=\u001b[39m conn\u001b[38;5;241m.\u001b[39murlopen(\n\u001b[1;32m    487\u001b[0m         method\u001b[38;5;241m=\u001b[39mrequest\u001b[38;5;241m.\u001b[39mmethod,\n\u001b[1;32m    488\u001b[0m         url\u001b[38;5;241m=\u001b[39murl,\n\u001b[1;32m    489\u001b[0m         body\u001b[38;5;241m=\u001b[39mrequest\u001b[38;5;241m.\u001b[39mbody,\n\u001b[1;32m    490\u001b[0m         headers\u001b[38;5;241m=\u001b[39mrequest\u001b[38;5;241m.\u001b[39mheaders,\n\u001b[1;32m    491\u001b[0m         redirect\u001b[38;5;241m=\u001b[39m\u001b[38;5;28;01mFalse\u001b[39;00m,\n\u001b[1;32m    492\u001b[0m         assert_same_host\u001b[38;5;241m=\u001b[39m\u001b[38;5;28;01mFalse\u001b[39;00m,\n\u001b[1;32m    493\u001b[0m         preload_content\u001b[38;5;241m=\u001b[39m\u001b[38;5;28;01mFalse\u001b[39;00m,\n\u001b[1;32m    494\u001b[0m         decode_content\u001b[38;5;241m=\u001b[39m\u001b[38;5;28;01mFalse\u001b[39;00m,\n\u001b[1;32m    495\u001b[0m         retries\u001b[38;5;241m=\u001b[39m\u001b[38;5;28mself\u001b[39m\u001b[38;5;241m.\u001b[39mmax_retries,\n\u001b[1;32m    496\u001b[0m         timeout\u001b[38;5;241m=\u001b[39mtimeout,\n\u001b[1;32m    497\u001b[0m         chunked\u001b[38;5;241m=\u001b[39mchunked,\n\u001b[1;32m    498\u001b[0m     )\n\u001b[1;32m    500\u001b[0m \u001b[38;5;28;01mexcept\u001b[39;00m (ProtocolError, \u001b[38;5;167;01mOSError\u001b[39;00m) \u001b[38;5;28;01mas\u001b[39;00m err:\n",
      "File \u001b[0;32m~/anaconda3/lib/python3.11/site-packages/urllib3/connectionpool.py:798\u001b[0m, in \u001b[0;36mHTTPConnectionPool.urlopen\u001b[0;34m(self, method, url, body, headers, retries, redirect, assert_same_host, timeout, pool_timeout, release_conn, chunked, body_pos, **response_kw)\u001b[0m\n\u001b[1;32m    796\u001b[0m     e \u001b[38;5;241m=\u001b[39m ProtocolError(\u001b[38;5;124m\"\u001b[39m\u001b[38;5;124mConnection aborted.\u001b[39m\u001b[38;5;124m\"\u001b[39m, e)\n\u001b[0;32m--> 798\u001b[0m retries \u001b[38;5;241m=\u001b[39m retries\u001b[38;5;241m.\u001b[39mincrement(\n\u001b[1;32m    799\u001b[0m     method, url, error\u001b[38;5;241m=\u001b[39me, _pool\u001b[38;5;241m=\u001b[39m\u001b[38;5;28mself\u001b[39m, _stacktrace\u001b[38;5;241m=\u001b[39msys\u001b[38;5;241m.\u001b[39mexc_info()[\u001b[38;5;241m2\u001b[39m]\n\u001b[1;32m    800\u001b[0m )\n\u001b[1;32m    801\u001b[0m retries\u001b[38;5;241m.\u001b[39msleep()\n",
      "File \u001b[0;32m~/anaconda3/lib/python3.11/site-packages/urllib3/util/retry.py:592\u001b[0m, in \u001b[0;36mRetry.increment\u001b[0;34m(self, method, url, response, error, _pool, _stacktrace)\u001b[0m\n\u001b[1;32m    591\u001b[0m \u001b[38;5;28;01mif\u001b[39;00m new_retry\u001b[38;5;241m.\u001b[39mis_exhausted():\n\u001b[0;32m--> 592\u001b[0m     \u001b[38;5;28;01mraise\u001b[39;00m MaxRetryError(_pool, url, error \u001b[38;5;129;01mor\u001b[39;00m ResponseError(cause))\n\u001b[1;32m    594\u001b[0m log\u001b[38;5;241m.\u001b[39mdebug(\u001b[38;5;124m\"\u001b[39m\u001b[38;5;124mIncremented Retry for (url=\u001b[39m\u001b[38;5;124m'\u001b[39m\u001b[38;5;132;01m%s\u001b[39;00m\u001b[38;5;124m'\u001b[39m\u001b[38;5;124m): \u001b[39m\u001b[38;5;132;01m%r\u001b[39;00m\u001b[38;5;124m\"\u001b[39m, url, new_retry)\n",
      "\u001b[0;31mMaxRetryError\u001b[0m: HTTPSConnectionPool(host='hesabim.hurriyet.com.tr', port=443): Max retries exceeded with url: / (Caused by SSLError(SSLCertVerificationError(1, '[SSL: CERTIFICATE_VERIFY_FAILED] certificate verify failed: unable to get local issuer certificate (_ssl.c:1002)')))",
      "\nDuring handling of the above exception, another exception occurred:\n",
      "\u001b[0;31mSSLError\u001b[0m                                  Traceback (most recent call last)",
      "Cell \u001b[0;32mIn[10], line 35\u001b[0m\n\u001b[1;32m     33\u001b[0m scraped_data \u001b[38;5;241m=\u001b[39m []\n\u001b[1;32m     34\u001b[0m \u001b[38;5;28;01mfor\u001b[39;00m link \u001b[38;5;129;01min\u001b[39;00m links:\n\u001b[0;32m---> 35\u001b[0m     data \u001b[38;5;241m=\u001b[39m scrape_data(link)\n\u001b[1;32m     36\u001b[0m     \u001b[38;5;28;01mif\u001b[39;00m data:\n\u001b[1;32m     37\u001b[0m         scraped_data\u001b[38;5;241m.\u001b[39mappend(data)\n",
      "Cell \u001b[0;32mIn[10], line 22\u001b[0m, in \u001b[0;36mscrape_data\u001b[0;34m(url)\u001b[0m\n\u001b[1;32m     21\u001b[0m \u001b[38;5;28;01mdef\u001b[39;00m \u001b[38;5;21mscrape_data\u001b[39m(url):\n\u001b[0;32m---> 22\u001b[0m     soup \u001b[38;5;241m=\u001b[39m get_soup(url)\n\u001b[1;32m     23\u001b[0m     place \u001b[38;5;241m=\u001b[39m soup\u001b[38;5;241m.\u001b[39mfind(\u001b[38;5;124m'\u001b[39m\u001b[38;5;124mdiv\u001b[39m\u001b[38;5;124m'\u001b[39m,class_\u001b[38;5;241m=\u001b[39m\u001b[38;5;124m\"\u001b[39m\u001b[38;5;124mentry-content no-share\u001b[39m\u001b[38;5;124m\"\u001b[39m)\n\u001b[1;32m     24\u001b[0m     \u001b[38;5;28;01mif\u001b[39;00m place:\n",
      "Cell \u001b[0;32mIn[10], line 5\u001b[0m, in \u001b[0;36mget_soup\u001b[0;34m(url)\u001b[0m\n\u001b[1;32m      4\u001b[0m \u001b[38;5;28;01mdef\u001b[39;00m \u001b[38;5;21mget_soup\u001b[39m(url):\n\u001b[0;32m----> 5\u001b[0m     response \u001b[38;5;241m=\u001b[39m requests\u001b[38;5;241m.\u001b[39mget(url)\n\u001b[1;32m      6\u001b[0m     \u001b[38;5;28;01mreturn\u001b[39;00m BeautifulSoup(response\u001b[38;5;241m.\u001b[39mtext, \u001b[38;5;124m'\u001b[39m\u001b[38;5;124mlxml\u001b[39m\u001b[38;5;124m'\u001b[39m)\n",
      "File \u001b[0;32m~/anaconda3/lib/python3.11/site-packages/requests/api.py:73\u001b[0m, in \u001b[0;36mget\u001b[0;34m(url, params, **kwargs)\u001b[0m\n\u001b[1;32m     62\u001b[0m \u001b[38;5;28;01mdef\u001b[39;00m \u001b[38;5;21mget\u001b[39m(url, params\u001b[38;5;241m=\u001b[39m\u001b[38;5;28;01mNone\u001b[39;00m, \u001b[38;5;241m*\u001b[39m\u001b[38;5;241m*\u001b[39mkwargs):\n\u001b[1;32m     63\u001b[0m \u001b[38;5;250m    \u001b[39m\u001b[38;5;124mr\u001b[39m\u001b[38;5;124;03m\"\"\"Sends a GET request.\u001b[39;00m\n\u001b[1;32m     64\u001b[0m \n\u001b[1;32m     65\u001b[0m \u001b[38;5;124;03m    :param url: URL for the new :class:`Request` object.\u001b[39;00m\n\u001b[0;32m   (...)\u001b[0m\n\u001b[1;32m     70\u001b[0m \u001b[38;5;124;03m    :rtype: requests.Response\u001b[39;00m\n\u001b[1;32m     71\u001b[0m \u001b[38;5;124;03m    \"\"\"\u001b[39;00m\n\u001b[0;32m---> 73\u001b[0m     \u001b[38;5;28;01mreturn\u001b[39;00m request(\u001b[38;5;124m\"\u001b[39m\u001b[38;5;124mget\u001b[39m\u001b[38;5;124m\"\u001b[39m, url, params\u001b[38;5;241m=\u001b[39mparams, \u001b[38;5;241m*\u001b[39m\u001b[38;5;241m*\u001b[39mkwargs)\n",
      "File \u001b[0;32m~/anaconda3/lib/python3.11/site-packages/requests/api.py:59\u001b[0m, in \u001b[0;36mrequest\u001b[0;34m(method, url, **kwargs)\u001b[0m\n\u001b[1;32m     55\u001b[0m \u001b[38;5;66;03m# By using the 'with' statement we are sure the session is closed, thus we\u001b[39;00m\n\u001b[1;32m     56\u001b[0m \u001b[38;5;66;03m# avoid leaving sockets open which can trigger a ResourceWarning in some\u001b[39;00m\n\u001b[1;32m     57\u001b[0m \u001b[38;5;66;03m# cases, and look like a memory leak in others.\u001b[39;00m\n\u001b[1;32m     58\u001b[0m \u001b[38;5;28;01mwith\u001b[39;00m sessions\u001b[38;5;241m.\u001b[39mSession() \u001b[38;5;28;01mas\u001b[39;00m session:\n\u001b[0;32m---> 59\u001b[0m     \u001b[38;5;28;01mreturn\u001b[39;00m session\u001b[38;5;241m.\u001b[39mrequest(method\u001b[38;5;241m=\u001b[39mmethod, url\u001b[38;5;241m=\u001b[39murl, \u001b[38;5;241m*\u001b[39m\u001b[38;5;241m*\u001b[39mkwargs)\n",
      "File \u001b[0;32m~/anaconda3/lib/python3.11/site-packages/requests/sessions.py:589\u001b[0m, in \u001b[0;36mSession.request\u001b[0;34m(self, method, url, params, data, headers, cookies, files, auth, timeout, allow_redirects, proxies, hooks, stream, verify, cert, json)\u001b[0m\n\u001b[1;32m    584\u001b[0m send_kwargs \u001b[38;5;241m=\u001b[39m {\n\u001b[1;32m    585\u001b[0m     \u001b[38;5;124m\"\u001b[39m\u001b[38;5;124mtimeout\u001b[39m\u001b[38;5;124m\"\u001b[39m: timeout,\n\u001b[1;32m    586\u001b[0m     \u001b[38;5;124m\"\u001b[39m\u001b[38;5;124mallow_redirects\u001b[39m\u001b[38;5;124m\"\u001b[39m: allow_redirects,\n\u001b[1;32m    587\u001b[0m }\n\u001b[1;32m    588\u001b[0m send_kwargs\u001b[38;5;241m.\u001b[39mupdate(settings)\n\u001b[0;32m--> 589\u001b[0m resp \u001b[38;5;241m=\u001b[39m \u001b[38;5;28mself\u001b[39m\u001b[38;5;241m.\u001b[39msend(prep, \u001b[38;5;241m*\u001b[39m\u001b[38;5;241m*\u001b[39msend_kwargs)\n\u001b[1;32m    591\u001b[0m \u001b[38;5;28;01mreturn\u001b[39;00m resp\n",
      "File \u001b[0;32m~/anaconda3/lib/python3.11/site-packages/requests/sessions.py:703\u001b[0m, in \u001b[0;36mSession.send\u001b[0;34m(self, request, **kwargs)\u001b[0m\n\u001b[1;32m    700\u001b[0m start \u001b[38;5;241m=\u001b[39m preferred_clock()\n\u001b[1;32m    702\u001b[0m \u001b[38;5;66;03m# Send the request\u001b[39;00m\n\u001b[0;32m--> 703\u001b[0m r \u001b[38;5;241m=\u001b[39m adapter\u001b[38;5;241m.\u001b[39msend(request, \u001b[38;5;241m*\u001b[39m\u001b[38;5;241m*\u001b[39mkwargs)\n\u001b[1;32m    705\u001b[0m \u001b[38;5;66;03m# Total elapsed time of the request (approximately)\u001b[39;00m\n\u001b[1;32m    706\u001b[0m elapsed \u001b[38;5;241m=\u001b[39m preferred_clock() \u001b[38;5;241m-\u001b[39m start\n",
      "File \u001b[0;32m~/anaconda3/lib/python3.11/site-packages/requests/adapters.py:517\u001b[0m, in \u001b[0;36mHTTPAdapter.send\u001b[0;34m(self, request, stream, timeout, verify, cert, proxies)\u001b[0m\n\u001b[1;32m    513\u001b[0m         \u001b[38;5;28;01mraise\u001b[39;00m ProxyError(e, request\u001b[38;5;241m=\u001b[39mrequest)\n\u001b[1;32m    515\u001b[0m     \u001b[38;5;28;01mif\u001b[39;00m \u001b[38;5;28misinstance\u001b[39m(e\u001b[38;5;241m.\u001b[39mreason, _SSLError):\n\u001b[1;32m    516\u001b[0m         \u001b[38;5;66;03m# This branch is for urllib3 v1.22 and later.\u001b[39;00m\n\u001b[0;32m--> 517\u001b[0m         \u001b[38;5;28;01mraise\u001b[39;00m SSLError(e, request\u001b[38;5;241m=\u001b[39mrequest)\n\u001b[1;32m    519\u001b[0m     \u001b[38;5;28;01mraise\u001b[39;00m \u001b[38;5;167;01mConnectionError\u001b[39;00m(e, request\u001b[38;5;241m=\u001b[39mrequest)\n\u001b[1;32m    521\u001b[0m \u001b[38;5;28;01mexcept\u001b[39;00m ClosedPoolError \u001b[38;5;28;01mas\u001b[39;00m e:\n",
      "\u001b[0;31mSSLError\u001b[0m: HTTPSConnectionPool(host='hesabim.hurriyet.com.tr', port=443): Max retries exceeded with url: / (Caused by SSLError(SSLCertVerificationError(1, '[SSL: CERTIFICATE_VERIFY_FAILED] certificate verify failed: unable to get local issuer certificate (_ssl.c:1002)')))"
     ]
    }
   ],
   "source": [
    "import requests\n",
    "from bs4 import BeautifulSoup\n",
    "\n",
    "def get_soup(url):\n",
    "    response = requests.get(url)\n",
    "    return BeautifulSoup(response.text, 'lxml')\n",
    "\n",
    "def get_links(url):\n",
    "    soup = get_soup(url)\n",
    "    links = []\n",
    "\n",
    "    # Assuming links are in 'a' tags and within a specific part of the website\n",
    "    # Modify the find_all() parameters as per the website's structure\n",
    "    for link in soup.find_all('a'):\n",
    "        href = link.get('href')\n",
    "        if href and href.startswith('http'):  # This checks if the link is a valid URL\n",
    "            links.append(href)\n",
    "\n",
    "    return links\n",
    "\n",
    "def scrape_data(url):\n",
    "    soup = get_soup(url)\n",
    "    place = soup.find('div',class_=\"entry-content no-share\")\n",
    "    if place:\n",
    "        name = place.find('div', class_='medyanet-inline-adv')\n",
    "        if name:\n",
    "            return name.text.strip()\n",
    "    return None\n",
    "\n",
    "main_url = 'https://www.hurriyet.com.tr/yazarlar/abdulkadir-selvi/'  # Replace with your main URL\n",
    "links = get_links(main_url)\n",
    "\n",
    "scraped_data = []\n",
    "for link in links:\n",
    "    data = scrape_data(link)\n",
    "    if data:\n",
    "        scraped_data.append(data)\n",
    "\n",
    "# Displaying the scraped data\n",
    "for data in scraped_data:\n",
    "    print(data)\n"
   ]
  },
  {
   "cell_type": "code",
   "execution_count": 8,
   "metadata": {},
   "outputs": [],
   "source": [
    "\n",
    "import pandas as pd"
   ]
  },
  {
   "cell_type": "code",
   "execution_count": 25,
   "metadata": {},
   "outputs": [],
   "source": [
    "df = pd.DataFrame(data, columns=['text'])\n",
    "df.to_csv('data.csv')"
   ]
  },
  {
   "cell_type": "code",
   "execution_count": 21,
   "metadata": {},
   "outputs": [],
   "source": [
    "url = \"https://fenikspolitik.org/author/myegin/\"\n",
    "response = requests.get(url)\n",
    "response = response.content\n",
    "soup = BeautifulSoup(response, 'html.parser')\n",
    "for i in soup:\n",
    "    image = soup.find('img', class_=\"lazyload wp-post-image\" )\n",
    "    title = image.attrs['alt']\n",
    "    date = soup.find('i', class_=\"fa fa-clock-o\").text\n",
    " "
   ]
  },
  {
   "cell_type": "code",
   "execution_count": 23,
   "metadata": {},
   "outputs": [
    {
     "name": "stdout",
     "output_type": "stream",
     "text": [
      "Turkey’s Elections Too Close to Call\n"
     ]
    }
   ],
   "source": [
    "print(title)"
   ]
  },
  {
   "cell_type": "code",
   "execution_count": null,
   "metadata": {},
   "outputs": [],
   "source": [
    "image = article.find('img')\n",
    "    title = image.attrs['alt']\n",
    "    starTag = article.find('p')\n",
    "    star = starTag['class'][1]\n",
    "    price = article.find('p', class_='price_color').text\n",
    "    price = float(price[1:])\n",
    "    \n",
    "    \n",
    "    class=\"lazyload wp-post-image\" "
   ]
  },
  {
   "cell_type": "code",
   "execution_count": null,
   "metadata": {},
   "outputs": [],
   "source": [
    "\n",
    "df = pd.DataFrame(books, columns=['index', 'text', 'Price'])\n",
    "df.to_csv('books.csv')"
   ]
  },
  {
   "cell_type": "code",
   "execution_count": null,
   "metadata": {
    "id": "5sYGqaq-Z6t7"
   },
   "outputs": [],
   "source": [
    "html_text1=requests.get('https://fenikspolitik.org/author/myegin/').text\n",
    "print(html_text1)"
   ]
  },
  {
   "cell_type": "code",
   "execution_count": null,
   "metadata": {},
   "outputs": [],
   "source": []
  },
  {
   "cell_type": "code",
   "execution_count": null,
   "metadata": {
    "colab": {
     "base_uri": "https://localhost:8080/"
    },
    "id": "mMoD9BH3XYEh",
    "outputId": "187f1a9a-6af5-4c63-a645-9aeac858d04e"
   },
   "outputs": [
    {
     "name": "stdout",
     "output_type": "stream",
     "text": [
      "<Response [200]>\n"
     ]
    }
   ],
   "source": [
    "html_text=requests.get('https://fenikspolitik.org/author/myegin/')\n",
    "print(html_text)"
   ]
  },
  {
   "cell_type": "code",
   "execution_count": null,
   "metadata": {
    "colab": {
     "base_uri": "https://localhost:8080/"
    },
    "id": "uBpBph_IXYBE",
    "outputId": "553609d1-7f1a-4e3b-f2b3-c782d1c8277f"
   },
   "outputs": [
    {
     "name": "stdout",
     "output_type": "stream",
     "text": [
      "['MehmetYegin']\n"
     ]
    }
   ],
   "source": [
    "soup=BeautifulSoup(html_text1, \"lxml\")\n",
    "place=soup.find('div',class_=\"jeg_author_content\")\n",
    "name=place.find('h3',class_=\"jeg_author_name fn\").text.replace(\" \",\"\").split()\n",
    "print(name)"
   ]
  },
  {
   "cell_type": "code",
   "execution_count": null,
   "metadata": {
    "colab": {
     "base_uri": "https://localhost:8080/"
    },
    "id": "MZE3v9o1TGX4",
    "outputId": "0e0d1190-a50c-40bf-8d5d-97f794e2d2d5"
   },
   "outputs": [
    {
     "name": "stdout",
     "output_type": "stream",
     "text": [
      "\n",
      "YeginholdsaPhDfromİhsanDoğramacıBilkentUniversity’sDepartmentofPoliticalScience.AfterstudyingAmericanpoliticsthroughouthisMAstudiesattheUniversityofCincinnati,YeginworkedattheInternationalStrategicResearchOrganization(USAK)asaResearcherfrom2008to2012andastheDirectoroftheCenterforAmericanStudiesfrom2012to2016.HisfieldsofexpertiseincludeTurkishforeignpolicy,Turkey-USrelations,Americanpolitics,alliances/coalitions,NATO,andtheKurdishissue.\n",
      "\n"
     ]
    }
   ],
   "source": [
    "job=soup.find('div', class_=\"jeg_author_desc\").text.replace(\" \",\"\")\n",
    "print(job)"
   ]
  },
  {
   "cell_type": "code",
   "execution_count": null,
   "metadata": {
    "id": "VEem5GwqTGG5"
   },
   "outputs": [],
   "source": [
    "html_text001=requests.get('https://fenikspolitik.org/turkeys-elections-too-close-to-call/').text\n",
    "print(html_text001)"
   ]
  },
  {
   "cell_type": "code",
   "execution_count": null,
   "metadata": {
    "id": "yInPczvJeAXe"
   },
   "outputs": [],
   "source": [
    "newsoup=BeautifulSoup(html_text001, \"lxml\")\n",
    "text001=newsoup.find('div',class_=\"entry-content no-share\")\n",
    "text002=text001.find('div',class_=\"content-inner\").text\n",
    "print(text002)"
   ]
  },
  {
   "cell_type": "code",
   "execution_count": null,
   "metadata": {
    "colab": {
     "base_uri": "https://localhost:8080/"
    },
    "id": "3X-_mjPmqpGm",
    "outputId": "251679a0-22bf-424f-898c-fce738813b84"
   },
   "outputs": [
    {
     "name": "stdout",
     "output_type": "stream",
     "text": [
      "Collecting openai\n",
      "  Downloading openai-1.3.7-py3-none-any.whl (221 kB)\n",
      "\u001b[2K     \u001b[90m━━━━━━━━━━━━━━━━━━━━━━━━━━━━━━━━━━━━━━━━\u001b[0m \u001b[32m221.4/221.4 kB\u001b[0m \u001b[31m2.3 MB/s\u001b[0m eta \u001b[36m0:00:00\u001b[0m\n",
      "\u001b[?25hRequirement already satisfied: anyio<4,>=3.5.0 in /usr/local/lib/python3.10/dist-packages (from openai) (3.7.1)\n",
      "Requirement already satisfied: distro<2,>=1.7.0 in /usr/lib/python3/dist-packages (from openai) (1.7.0)\n",
      "Collecting httpx<1,>=0.23.0 (from openai)\n",
      "  Downloading httpx-0.25.2-py3-none-any.whl (74 kB)\n",
      "\u001b[2K     \u001b[90m━━━━━━━━━━━━━━━━━━━━━━━━━━━━━━━━━━━━━━━━\u001b[0m \u001b[32m75.0/75.0 kB\u001b[0m \u001b[31m6.7 MB/s\u001b[0m eta \u001b[36m0:00:00\u001b[0m\n",
      "\u001b[?25hRequirement already satisfied: pydantic<3,>=1.9.0 in /usr/local/lib/python3.10/dist-packages (from openai) (1.10.13)\n",
      "Requirement already satisfied: sniffio in /usr/local/lib/python3.10/dist-packages (from openai) (1.3.0)\n",
      "Requirement already satisfied: tqdm>4 in /usr/local/lib/python3.10/dist-packages (from openai) (4.66.1)\n",
      "Requirement already satisfied: typing-extensions<5,>=4.5 in /usr/local/lib/python3.10/dist-packages (from openai) (4.5.0)\n",
      "Requirement already satisfied: idna>=2.8 in /usr/local/lib/python3.10/dist-packages (from anyio<4,>=3.5.0->openai) (3.6)\n",
      "Requirement already satisfied: exceptiongroup in /usr/local/lib/python3.10/dist-packages (from anyio<4,>=3.5.0->openai) (1.2.0)\n",
      "Requirement already satisfied: certifi in /usr/local/lib/python3.10/dist-packages (from httpx<1,>=0.23.0->openai) (2023.11.17)\n",
      "Collecting httpcore==1.* (from httpx<1,>=0.23.0->openai)\n",
      "  Downloading httpcore-1.0.2-py3-none-any.whl (76 kB)\n",
      "\u001b[2K     \u001b[90m━━━━━━━━━━━━━━━━━━━━━━━━━━━━━━━━━━━━━━━━\u001b[0m \u001b[32m76.9/76.9 kB\u001b[0m \u001b[31m5.9 MB/s\u001b[0m eta \u001b[36m0:00:00\u001b[0m\n",
      "\u001b[?25hCollecting h11<0.15,>=0.13 (from httpcore==1.*->httpx<1,>=0.23.0->openai)\n",
      "  Downloading h11-0.14.0-py3-none-any.whl (58 kB)\n",
      "\u001b[2K     \u001b[90m━━━━━━━━━━━━━━━━━━━━━━━━━━━━━━━━━━━━━━━━\u001b[0m \u001b[32m58.3/58.3 kB\u001b[0m \u001b[31m4.3 MB/s\u001b[0m eta \u001b[36m0:00:00\u001b[0m\n",
      "\u001b[?25hInstalling collected packages: h11, httpcore, httpx, openai\n",
      "\u001b[31mERROR: pip's dependency resolver does not currently take into account all the packages that are installed. This behaviour is the source of the following dependency conflicts.\n",
      "llmx 0.0.15a0 requires cohere, which is not installed.\n",
      "llmx 0.0.15a0 requires tiktoken, which is not installed.\u001b[0m\u001b[31m\n",
      "\u001b[0mSuccessfully installed h11-0.14.0 httpcore-1.0.2 httpx-0.25.2 openai-1.3.7\n"
     ]
    }
   ],
   "source": [
    "pip install openai"
   ]
  },
  {
   "cell_type": "code",
   "execution_count": null,
   "metadata": {
    "id": "SNH2MTzNZ7oL"
   },
   "outputs": [],
   "source": [
    "import openai\n",
    "api_key = \n",
    "openai.api_key = api_key"
   ]
  },
  {
   "cell_type": "code",
   "execution_count": null,
   "metadata": {
    "id": "-FGhELn0xnKE"
   },
   "outputs": [],
   "source": [
    "def meeting_minutes(transcription):\n",
    "    abstract_summary = abstract_summary_extraction(transcription)\n",
    "    key_points = key_points_extraction(transcription)\n",
    "    action_items = action_item_extraction(transcription)\n",
    "    sentiment = sentiment_analysis(transcription)\n",
    "    return {\n",
    "        'abstract_summary': abstract_summary,\n",
    "        'key_points': key_points,\n",
    "        'action_items': action_items,\n",
    "        'sentiment': sentiment\n",
    "    }"
   ]
  },
  {
   "cell_type": "code",
   "execution_count": null,
   "metadata": {
    "colab": {
     "base_uri": "https://localhost:8080/",
     "height": 304
    },
    "id": "4nvs3QQnyObZ",
    "outputId": "00ebcf9c-ee09-4f09-9fb1-36da28728afb"
   },
   "outputs": [
    {
     "ename": "NameError",
     "evalue": "ignored",
     "output_type": "error",
     "traceback": [
      "\u001b[0;31m---------------------------------------------------------------------------\u001b[0m",
      "\u001b[0;31mNameError\u001b[0m                                 Traceback (most recent call last)",
      "\u001b[0;32m<ipython-input-44-e8dc874c98bb>\u001b[0m in \u001b[0;36m<cell line: 1>\u001b[0;34m()\u001b[0m\n\u001b[0;32m----> 1\u001b[0;31m \u001b[0mmeeting_minutes\u001b[0m\u001b[0;34m(\u001b[0m\u001b[0mtext002\u001b[0m\u001b[0;34m)\u001b[0m\u001b[0;34m\u001b[0m\u001b[0;34m\u001b[0m\u001b[0m\n\u001b[0m",
      "\u001b[0;32m<ipython-input-43-07e48639cb91>\u001b[0m in \u001b[0;36mmeeting_minutes\u001b[0;34m(transcription)\u001b[0m\n\u001b[1;32m      1\u001b[0m \u001b[0;32mdef\u001b[0m \u001b[0mmeeting_minutes\u001b[0m\u001b[0;34m(\u001b[0m\u001b[0mtranscription\u001b[0m\u001b[0;34m)\u001b[0m\u001b[0;34m:\u001b[0m\u001b[0;34m\u001b[0m\u001b[0;34m\u001b[0m\u001b[0m\n\u001b[0;32m----> 2\u001b[0;31m     \u001b[0mabstract_summary\u001b[0m \u001b[0;34m=\u001b[0m \u001b[0mabstract_summary_extraction\u001b[0m\u001b[0;34m(\u001b[0m\u001b[0mtranscription\u001b[0m\u001b[0;34m)\u001b[0m\u001b[0;34m\u001b[0m\u001b[0;34m\u001b[0m\u001b[0m\n\u001b[0m\u001b[1;32m      3\u001b[0m     \u001b[0mkey_points\u001b[0m \u001b[0;34m=\u001b[0m \u001b[0mkey_points_extraction\u001b[0m\u001b[0;34m(\u001b[0m\u001b[0mtranscription\u001b[0m\u001b[0;34m)\u001b[0m\u001b[0;34m\u001b[0m\u001b[0;34m\u001b[0m\u001b[0m\n\u001b[1;32m      4\u001b[0m     \u001b[0maction_items\u001b[0m \u001b[0;34m=\u001b[0m \u001b[0maction_item_extraction\u001b[0m\u001b[0;34m(\u001b[0m\u001b[0mtranscription\u001b[0m\u001b[0;34m)\u001b[0m\u001b[0;34m\u001b[0m\u001b[0;34m\u001b[0m\u001b[0m\n\u001b[1;32m      5\u001b[0m     \u001b[0msentiment\u001b[0m \u001b[0;34m=\u001b[0m \u001b[0msentiment_analysis\u001b[0m\u001b[0;34m(\u001b[0m\u001b[0mtranscription\u001b[0m\u001b[0;34m)\u001b[0m\u001b[0;34m\u001b[0m\u001b[0;34m\u001b[0m\u001b[0m\n",
      "\u001b[0;31mNameError\u001b[0m: name 'abstract_summary_extraction' is not defined"
     ]
    }
   ],
   "source": [
    "meeting_minutes(text002)"
   ]
  },
  {
   "cell_type": "code",
   "execution_count": null,
   "metadata": {
    "id": "H9FemPr2rjQm"
   },
   "outputs": [],
   "source": [
    "def summarize(system, text):\n",
    "  import openai\n",
    "\n",
    "  response = openai.Completion.create(\n",
    "    model=\"gpt-4\",\n",
    "    prompt=system+\"\\n\\n\"+text,\n",
    "    temperature=0.7,\n",
    "    max_tokens=100,\n",
    "    top_p=1.0,\n",
    "    frequency_penalty=0.0,\n",
    "    presence_penalty=0.0\n",
    "  )\n",
    "  return print(response[\"choices\"][0][\"text\"])"
   ]
  },
  {
   "cell_type": "code",
   "execution_count": null,
   "metadata": {
    "colab": {
     "base_uri": "https://localhost:8080/",
     "height": 506
    },
    "id": "pqEEq0xFXX11",
    "outputId": "cbdbf3b9-90fa-4a07-a80d-8ce74a688702"
   },
   "outputs": [
    {
     "ename": "APIRemovedInV1",
     "evalue": "ignored",
     "output_type": "error",
     "traceback": [
      "\u001b[0;31m---------------------------------------------------------------------------\u001b[0m",
      "\u001b[0;31mAPIRemovedInV1\u001b[0m                            Traceback (most recent call last)",
      "\u001b[0;32m<ipython-input-40-17a27f8adedf>\u001b[0m in \u001b[0;36m<cell line: 5>\u001b[0;34m()\u001b[0m\n\u001b[1;32m      3\u001b[0m \u001b[0mtext\u001b[0m\u001b[0;34m=\u001b[0m \u001b[0mtext002\u001b[0m\u001b[0;34m\u001b[0m\u001b[0;34m\u001b[0m\u001b[0m\n\u001b[1;32m      4\u001b[0m \u001b[0;34m\u001b[0m\u001b[0m\n\u001b[0;32m----> 5\u001b[0;31m \u001b[0msummarize\u001b[0m\u001b[0;34m(\u001b[0m\u001b[0msystem\u001b[0m\u001b[0;34m,\u001b[0m \u001b[0mtext\u001b[0m\u001b[0;34m)\u001b[0m\u001b[0;34m\u001b[0m\u001b[0;34m\u001b[0m\u001b[0m\n\u001b[0m",
      "\u001b[0;32m<ipython-input-39-0ec44a2e7530>\u001b[0m in \u001b[0;36msummarize\u001b[0;34m(system, text)\u001b[0m\n\u001b[1;32m      2\u001b[0m   \u001b[0;32mimport\u001b[0m \u001b[0mopenai\u001b[0m\u001b[0;34m\u001b[0m\u001b[0;34m\u001b[0m\u001b[0m\n\u001b[1;32m      3\u001b[0m \u001b[0;34m\u001b[0m\u001b[0m\n\u001b[0;32m----> 4\u001b[0;31m   response = openai.Completion.create(\n\u001b[0m\u001b[1;32m      5\u001b[0m     \u001b[0mmodel\u001b[0m\u001b[0;34m=\u001b[0m\u001b[0;34m\"gpt-4\"\u001b[0m\u001b[0;34m,\u001b[0m\u001b[0;34m\u001b[0m\u001b[0;34m\u001b[0m\u001b[0m\n\u001b[1;32m      6\u001b[0m     \u001b[0mprompt\u001b[0m\u001b[0;34m=\u001b[0m\u001b[0msystem\u001b[0m\u001b[0;34m+\u001b[0m\u001b[0;34m\"\\n\\n\"\u001b[0m\u001b[0;34m+\u001b[0m\u001b[0mtext\u001b[0m\u001b[0;34m,\u001b[0m\u001b[0;34m\u001b[0m\u001b[0;34m\u001b[0m\u001b[0m\n",
      "\u001b[0;32m/usr/local/lib/python3.10/dist-packages/openai/lib/_old_api.py\u001b[0m in \u001b[0;36m__call__\u001b[0;34m(self, *_args, **_kwargs)\u001b[0m\n\u001b[1;32m     37\u001b[0m \u001b[0;34m\u001b[0m\u001b[0m\n\u001b[1;32m     38\u001b[0m     \u001b[0;32mdef\u001b[0m \u001b[0m__call__\u001b[0m\u001b[0;34m(\u001b[0m\u001b[0mself\u001b[0m\u001b[0;34m,\u001b[0m \u001b[0;34m*\u001b[0m\u001b[0m_args\u001b[0m\u001b[0;34m:\u001b[0m \u001b[0mAny\u001b[0m\u001b[0;34m,\u001b[0m \u001b[0;34m**\u001b[0m\u001b[0m_kwargs\u001b[0m\u001b[0;34m:\u001b[0m \u001b[0mAny\u001b[0m\u001b[0;34m)\u001b[0m \u001b[0;34m->\u001b[0m \u001b[0mAny\u001b[0m\u001b[0;34m:\u001b[0m\u001b[0;34m\u001b[0m\u001b[0;34m\u001b[0m\u001b[0m\n\u001b[0;32m---> 39\u001b[0;31m         \u001b[0;32mraise\u001b[0m \u001b[0mAPIRemovedInV1\u001b[0m\u001b[0;34m(\u001b[0m\u001b[0msymbol\u001b[0m\u001b[0;34m=\u001b[0m\u001b[0mself\u001b[0m\u001b[0;34m.\u001b[0m\u001b[0m_symbol\u001b[0m\u001b[0;34m)\u001b[0m\u001b[0;34m\u001b[0m\u001b[0;34m\u001b[0m\u001b[0m\n\u001b[0m\u001b[1;32m     40\u001b[0m \u001b[0;34m\u001b[0m\u001b[0m\n\u001b[1;32m     41\u001b[0m \u001b[0;34m\u001b[0m\u001b[0m\n",
      "\u001b[0;31mAPIRemovedInV1\u001b[0m: \n\nYou tried to access openai.Completion, but this is no longer supported in openai>=1.0.0 - see the README at https://github.com/openai/openai-python for the API.\n\nYou can run `openai migrate` to automatically upgrade your codebase to use the 1.0.0 interface. \n\nAlternatively, you can pin your installation to the old version, e.g. `pip install openai==0.28`\n\nA detailed migration guide is available here: https://github.com/openai/openai-python/discussions/742\n"
     ]
    }
   ],
   "source": [
    "system= \"Summarize this  with three main arguments:\"\n",
    "\n",
    "text= text002\n",
    "\n",
    "summarize(system, text)"
   ]
  },
  {
   "cell_type": "code",
   "execution_count": null,
   "metadata": {
    "id": "2KiIrWwaXXpO"
   },
   "outputs": [],
   "source": [
    "// pip3 install requests\n",
    "import requests\n",
    "\n",
    "// pip3 install beautifulsoup4\n",
    "from bs4 import BeautifulSoup\n",
    "\n",
    "// pip3 install pandas\n",
    "import pandas as pd\n",
    "\n",
    "books = []\n",
    "\n",
    "for i in range(1,5):\n",
    "  url = f\"https://books.toscrape.com/catalogue/page-{i}.html\"\n",
    "  response = requests.get(url)\n",
    "  response = response.content\n",
    "  soup = BeautifulSoup(response, 'html.parser')\n",
    "  ol = soup.find('ol')\n",
    "  articles = ol.find_all('article', class_='product_pod')\n",
    "  for article in articles:\n",
    "    image = article.find('img')\n",
    "    title = image.attrs['alt']\n",
    "    starTag = article.find('p')\n",
    "    star = starTag['class'][1]\n",
    "    price = article.find('p', class_='price_color').text\n",
    "    price = float(price[1:])\n",
    "    books.append([title, star, price])\n",
    "    \n",
    "\n",
    "df = pd.DataFrame(books, columns=['Title', 'Star Rating', 'Price'])\n",
    "df.to_csv('books.csv')"
   ]
  }
 ],
 "metadata": {
  "colab": {
   "provenance": []
  },
  "kernelspec": {
   "display_name": "Python 3 (ipykernel)",
   "language": "python",
   "name": "python3"
  },
  "language_info": {
   "codemirror_mode": {
    "name": "ipython",
    "version": 3
   },
   "file_extension": ".py",
   "mimetype": "text/x-python",
   "name": "python",
   "nbconvert_exporter": "python",
   "pygments_lexer": "ipython3",
   "version": "3.11.4"
  }
 },
 "nbformat": 4,
 "nbformat_minor": 1
}
