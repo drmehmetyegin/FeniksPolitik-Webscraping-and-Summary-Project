{
 "cells": [
  {
   "cell_type": "code",
   "execution_count": 41,
   "metadata": {
    "scrolled": true
   },
   "outputs": [],
   "source": [
    "\n",
    "import requests"
   ]
  },
  {
   "cell_type": "code",
   "execution_count": 42,
   "metadata": {},
   "outputs": [],
   "source": [
    "from bs4 import BeautifulSoup"
   ]
  },
  {
   "cell_type": "code",
   "execution_count": 43,
   "metadata": {},
   "outputs": [],
   "source": [
    "import pandas as pd"
   ]
  },
  {
   "cell_type": "code",
   "execution_count": 49,
   "metadata": {},
   "outputs": [],
   "source": [
    "url_list1=['https://www.sabah.com.tr/yazarlar/melihaltinok/2023/12/08/johnsonin-ozru-kabahatinden-buyuk','https://www.sabah.com.tr/yazarlar/melihaltinok/2023/12/06/2019-ile-2024-istanbul-secimleri-arasindaki-farklar','https://www.sabah.com.tr/yazarlar/melihaltinok/2023/12/04/carsi-buna-karsi-degil-mi','https://www.sabah.com.tr/yazarlar/melihaltinok/2023/12/03/secil-erzan-davasinda-magdur-yok-gibi','https://www.sabah.com.tr/yazarlar/melihaltinok/2023/12/02/o-karedeki-tek-selanikli-ataturk-o-da','https://www.sabah.com.tr/yazarlar/melihaltinok/2023/12/01/elon-musk-hata-yaptiginin-farkinda']"
   ]
  },
  {
   "cell_type": "code",
   "execution_count": 51,
   "metadata": {},
   "outputs": [
    {
     "name": "stdout",
     "output_type": "stream",
     "text": [
      "[['MELİH ALTINOK', 'Johnson’ın özrü kabahatinden büyük', '08 Aralık 2023', '\\nİngiltere\\'nin eski Başbakanı Boris Johnson, dün halkından pandemi politikaları için özür diliyordu.\\r\\nYok, serbest piyasanın piri Adam Smith\\'in memleketinde piyasalara müdahale ettiği, aşırı tedbirlerle ticareti sınırlandırdığı, ekonomiyi mahvettiği için değil. Özrünün dayatmalarla, yasaklarla, evrensel insan haklarını ihlal etmesiyle de alakası yok.\\r\\nSabık başbakan, meğer Kovid- 19\\'un Britanya için \"tam bir felaket\" olacağını zamanında fark edemediği için çok pişmanmış.\\r\\nBayram değil seyran değil nereden icap ettiyse?\\r\\nKendisinin, pandemi tedbirlerine uymayacağını açıkladıktan hemen sonra müstakbel Kral Charles\\'la birlikte \"mevsimsel gribe\" yakalandığını hatırlıyoruz.\\n\\n\\n\\r\\n70 milyonluk ülkede herkesten önce, ıssız taşradaki şatolarda yaşayan, en sıkı izolasyon tedbirleriyle korunan 1 ve 2 numaranın koronaya yakalanması dünyayı şaşırmıştı.\\r\\nArdından Johnson iyileşmeyi beklemeden, ağzında maskesi olduğu hâlde kameraların karşısına geçmişti. Kraliçe\\'nin parlamentodaki nazik veto desteği sayesinde çıkardığı Brexit kararıyla karşısına aldığı küreselcilere adeta \"pes\" diyordu.\\r\\nRadikal kararından radikal bir şekilde dönmüştü. \"Aşıyı da dayatacağım, maskeyi de... Kapanma tedbirlerini, tedavi protokollerini DSÖ\\'ye devredeceğim\" diyerek nedamet getiriyordu.\\r\\nGelin görün ki işe yaramadı. Koltuğunu kaybetti.\\r\\nİngiltere\\'de o gündür bugündür dikiş tutmuyor. Kaçıncı başbakanları sayamadık. Basında \"Buzdolabındaki marul bile başbakanlarımızdan daha uzun dayanıyor\" geyikleri çevriliyor.\\r\\nAnlıyoruz, Johnson da hâlâ siyasetteki iddiasını kaybetmemiş. Bir şans daha istiyor. Normaldir.\\r\\nNe var ki bunu zamanında kendisini başbakan seçen İngiliz halkından değil, başını yiyenlerden istiyor.\\r\\nHâliyle de talep ettiği şey artık İngiltere\\'nin iktidarı değil sömürge valiliği koltuğu.\\r\\nÖyle ya adamlar zaten İngiltere\\'ye, kökü Hindistan\\'ın sömürge soylularına dayanan bir yediemin atadılar. AB\\'nin sığ limanından demir alıp üçüncü yol okyanusuna yelken açmaya cüret eden İngiltere\\'nin yeniden entegrasyonu projesini bizzat kendi adamlarıyla yürütüyorlar.\\r\\nAli Kemal\\'in torunu Boris Bey\\'in daha fazla sadakat göstereceğine neden inansınlar ki?\\r\\nSizce de \"Üzerinde güneş batmayan imparatorluk\" için acıklı, bağımsızlığını arayan tüm ulus devletler içinse ibretlik bir akıbet değil mi?\\n***\\n\\nAĞANIN MALI ÇIKAR UŞAĞIN CANI\\r\\nİyi Parti\\'nin yerel seçimlere bağımsız girme kararını açıklamasının ardından, bağımsız gazeteci pozlarıyla tanıdığımız CHP\\'li arzuhalcileri izliyor musunuz?\\r\\nAçık açık köşelerinden İyi Partili siyasetçileri tehdit ediyorlar. Seçilmiş siyasilere \"Trol\" diyorlar.\\r\\nSukutuhayale uğrayan CHP ve belediye başkan adayları bile, ekranda \"Bana giren çıkan yok\" diye ağzını bozan gazeteciler kadar sinirli görünmüyorlar.\\n\\n\\n\\r\\nEvet, bir süredir bu hâldeler. Seçim öncesi de Kemal Bey\\'i terbiyesizce hırpalıyorlardı. O çok sevdikleri tarafsızlık numarasını bile yapamayacak kadar kontrolü kaybettiler.\\r\\nSizce neden?\\n\"İktidar hayalleri suya düştü, belediye mamaları da kesilecek ya, amatörleşmeleri ondan\" diyoruz, kızıyorlar.\\r\\n\"Peki neden o hâlde?\" diye ısrar ediyoruz.\\r\\n\"CHP\\'nin, muhalefetin iyiliği için\" diyorlar.\\r\\nAman, \"Peki ya iktidar taraftarlarının iyiliği ne olacak?\" diye sormayın.\\r\\n\"Yandaş\" derler.\\r\\nBiz bu uşaklarla ne yapacağız?\\n***\\n\\nBÜYÜKERŞEN\\'İN SUÇU NE?\\r\\nHerkes Eskişehir Büyükşehir Belediye Başkanı Yılmaz Büyükerşen\\'in yeniden aday gösterilmesini eleştiriyor.\\n86 yaşında olan Büyükerşen ise \"İnsan kendisini hissettiği yaşta sayar. Kendimi hiçbir zaman yaşlı hissetmedim\" diyor ve devam ediyor:\\r\\n\"1999\\'da siyasete girdim. Artan oy oranıyla 5 dönem seçimi kazandım. Son seçimde oy oranım yüzde 52.8, partimizin Eskişehir\\'de genelde oyu yüzde 25-30 arasında oynar. Türkiye\\'de muhalefet partileri içinde oy yüzdesi en yüksek olanlardan birisiyim.\"\\n\\n\\n\\r\\nBüyükerşen gayet dinç görünüyor. Yaşam enerjisini çalışmaktan aldığı ortada. Eleştirilere rağmen son tahlilde de Eskişehir halkını ikna etmeyi, sandıktan çıkmayı başarıyor. Kim ne diyebilir?\\r\\nBüyükerşen\\'in yerinde olsam, \"Söz, deneyimimi acemi rakiplerimin aleyhine kullanmayacağım\" der, güler geçerim.\\r\\nGerisini, genç olduğu hâlde bir ihtiyarı deviremeyen rakipleri düşünsün.\\n'], ['MELİH ALTINOK', '2019 ile 2024 İstanbul seçimleri arasındaki farklar', '06 Aralık 2023, Ça', '\\nİyi Parti\\'nin 2024 yerel seçimlerine bağımsız girme kararı pek çok ilde, özellikle de İstanbul\\'da CHP adaylarının işini çok zorlaştırıyor.\\r\\nMart 2019 yerel seçimlerinde İmamoğlu yüzde 48.80, Cumhur İttifakı\\'nın adayı Binali Yıldırım ise yüzde 48.55 oy almıştı.\\r\\nİmamoğlu\\'nun oyunu yüzde 54\\'e çıkardığı, Yıldırım\\'ın ise yüzde 45\\'e düştüğü seçimin ikinci turunu baz alamayız. Zira bu dramatik fark, YSK\\'nın seçimin yenilenmesi kararının AK Parti seçmeni de dâhil kamuoyunda hoş karşılanmamasından kaynaklanıyordu. Olağanüstü bir durum oluşmuştu.\\r\\nMart 2019\\'da İmamoğlu\\'nu destekleyen İyi Parti\\'nin İstanbul\\'daki oyunu tahmin etmek için elimizdeki son veri de 2023 milletvekili seçim sonuçları. Yerel ve genel seçimde seçmen refleksleri farklı olsa da bu sayılar bize kabataslak bir fikir verebilir.\\r\\nİyi Parti\\'nin İstanbul\\'da yüzde 8 civarında bir oyu var. İyi Partili seçmenin yarısı bile Genel Merkez\\'in kararını desteklese denge rahat rahat Cumhur İttifakı\\'nın lehine dönebilir.\\n\\n\\n\\r\\nPotansiyel İmamoğlu seçmenini barındıran Gelecek, DEVA, Saadet, Memleket ve Zafer Partisi de henüz son sözlerini söylemediler.\\r\\nOnlar da tıpkı İyi Parti gibi bu kez, CHP\\'ye seçim kazandırma hedefinin payandası olmak istemeyebilirler. Çünkü taraftarlarını iktidar perspektifiyle bir arada tutan hiçbir parti, örgütünü, siyasi literatürde adı \"kuyrukçuluk\" olan bir politikayla motive edemez.\\r\\nGeçen seçimlerde İyi Parti gibi, İmamoğlu\\'nun kazanmasında etkili olan HEDEP\\'e gelince... Partinin MYK\\'sı 81 ilde kendi adaylarıyla seçime gidilmesine karar verdi. Bu konuda son sözü Parti Meclisi söyleyecek.\\r\\nElbette 2024\\'ün 2019 seçimlerinden farkları arasında en hayati konu AK Parti\\'nin adayı olacak.\\r\\nHatırlayın, 2019 seçimlerinde İmamoğlu yeni bir isim olarak heyecanla kampanyasını yürütüyordu. Binali Yıldırım ise adaylığa pek hevesli değildi. Ununu elemiş, eleğini asmış, \"Meclis Başkanı olmuşken bu iş de nereden çıktı\" dercesine bir ruh hâlindeydi.\\r\\nBu havaya rağmen yarış 0.25\\'lik bir farkla bitti.\\r\\nAK Parti bu kez, 5 yıllık hakkını kullanmış, doğru düzgün tek bir vaadini gerçekleştirememiş, rüzgârını kaybetmiş İmamoğlu karşısında yarışmaya istekli bir isimle İstanbul\\'da şansını katlayabilir.\\n***\\n\\nİYİ PARTİ\\'NİN KARARI CHP\\'DEN ÇOK MERDAN BEY\\'İ YIKTI\\nKürşad Zorlu\\'yu biliyoruz. On binlerce seçmenin milletvekili. İyi Parti\\'nin sözcüsü.\\r\\nİşi, meşruiyeti ortada.\\r\\nPeki, İyi Parti Genel İdare Kurulu\\'nun seçimlere tek başına girme kararını açıklayan sözcü Zorlu\\'ya sinirlenip ekrandan \"trol\" diyen Merdan Yanardağ kim?\\n\\n\\n\\r\\nSürekli \"Gazeteciyim\" diye hatırlatma ihtiyacı duyan biri. Durup durup gazetecilere sınırlarını hatırlatarak sağa sola \"yandaş\" diye bulaşıyor.\\r\\nOysa yalnızca mahkemede inkâr edeceği sözleriyle gündem olabiliyor. Ya da şimdi olduğu gibi sırf CHP\\'nin aleyhine olan bir kararı açıkladı diye bir siyasi parti sözcüsüne hakaret ederek...\\r\\nEğer ortada bir trol varsa sizce bu sıfat hangisine daha çok yakışır?\\n***\\n\\nMURO OLSUN!\\r\\nBasında okuduğum kadarıyla HEDEP\\'in İstanbul Belediye Başkan adayları arasında iki isim öne çıkıyor.\\n\\n\\n\\r\\n1- Selahattin Demirtaş.\\r\\n2- Pelin Batu.\\r\\nKurtlar Vadisi dizisinde Mustafa Üstündağ\\'ın canlandırdığı \"Muro\" karakterini henüz öneren çıkmadı.\\r\\nAma HEDEP tabanının, Muro\\'nun dediği gibi \"Lanet olsun koskoca Kürt siyasal hareketini bu hâle düşürenlere\" dediğini çok sık duyar oldum.\\n***\\n\\nSANCHEZ RAHAT DURMUYOR\\r\\nGeçtiğimiz günlerde Refah Sınır Kapısı\\'na kadar giden İspanya Başbakanı Pedro Sanchez, mevkidaşları gibi rahat durmuyor...\\r\\nHer gün Gazze\\'yi gündemde tutarak samimiyetini perçinliyor.\\n\\n\\n\\r\\nDün de \"Beni asıl endişelendiren, İsrail\\'le yaşadığımız diplomatik kriz değil, Gazze\\'de öldürülen siviller\" diye haykırıyordu.\\r\\nİstisnalar hariç Türkiye\\'deki sola bakıp solculuğu ürkek İsrail muhipliği sanan, böyle öğrenen genç arkadaşlara, Sosyalist İşçi Partisi\\'nin başındaki Sanchez\\'i takip etmelerini öneririm.\\n'], ['MELİH ALTINOK', 'Çarşı buna karşı değil mi?', '04 Aralık 2023, Paz', '\\nYer, Beşiktaş Spor Kulübü\\'nün bir toplantısı...\\r\\nKürsüye gelen yönetici, toplantı sürerken binlerce çocuğun öldürüldüğü Gazze için iki çift laf etmeye kalkıyor.\\r\\nBir anda salondan ıslıklar yükseliyor.\\r\\nToplantıyı yöneten biri de \"kısa kesin\" diyor.\\r\\nYetmiyor, kulübün gediklisi kürsüye gelip konuşmacıyı çocukların öldürülmesinden daha fazla bahsetmemesi için \"itidale\" davet ediyor.\\r\\nBöğürtülerinden tanıdığımız bu güruha, Gazze için sokakta yatıp kalkan solcuları, \"gavurun\" her etkinlikte Gazzelileri anan futbol takımlarını falan hatırlatmayacağım.\\n\\n\\n\\r\\nGörmüyorlar mı olan biteni?\\r\\nGörüyorlar elbette. Yüzyılın trajedisinden bahseden hatibi tüzüğün arkasına sığınarak susturmaya çalışmaları bu yüzden.\\r\\nKolu, bacağı, kafası koparak öldürülen çocukların katiline \"faşist\" diyene, şöyle ağız dolusu \"Oh olsun, İsrail iyi yapıyor\" demeye utandıkları için \"süremiz yok\" diye geveliyorlar.\\r\\nMuhtemelen biraz üzerlerine gitseniz, medyadaki, siyasetteki türdeşleri gibi \"Büyük büyük dedeleri de topraklarını Yahudilere satmasalardı\" diye başlarlar.\\n\\n\\n\\r\\nHepsinin yüzünü görmesek de tümünü tanıyoruz.\\r\\nEvet, bunlar, hastanelerin bombalandığı Gazze\\'den tedavi için Türkiye\\'ye getirilen 5 yaşındaki çocuğun hastanede sırasını almasından korktuğunu söyleyen zombilerden.\\r\\nPeki \"Her şeye karşı\" Çarşı, bu olan bitene razı mı?\\r\\nBeşiktaş\\'ın en devrimci taraftar grubunun Gezi\\'deki gibi kepçeye atlayıp o toplantıya dalmasınını beklemiyoruz elbette.\\r\\nAma hiç olmazsa ilk maçta Gazze halkına herkesin duyacağı ve unutmayacağı bir selam da mı gönderemezler?\\r\\nYoksa onlar da kravatlı, döpiyesli zombiler gibi \"ama tüzük\" demeye mi başladılar?\\n***\\nSİYASET FİLOZOFU\\n\\r\\nFelsefeci, tarihçi ve sosyologlarla oturup kalktığını aktaran Kılıçdaroğlu ofis günlerini anlatıyor:\\n\\n\\n\\n\"Sıcak siyasetin içinde sorgulamalar ve konulara derinlemesine inilmesi pek mümkün olmuyordu. Oysa bu tür görüşmeler son derece önemli. Hele vakit yönünden bir sıkıntınız yoksa...\"\\n***\\nİSRAİL REKORLARA DOYMUYOR\\n\\nİsrail\\'in son saldırısında Gazze\\'de görev yapan kameramanları Muntasır es-Savvaf\\'ı kaybeden Anadolu Ajansı\\'nın aktardığı veriler korkunç...\\r\\nİsrail saldırılarında 55 günde 73 basın çalışanını öldürmüş. Buna göre, Filistin ve Lübnan\\'da her gün en az 1 basın mensubu İsrail tarafından öldürülmüş oluyor.\\r\\nİsrail güçlerinin Gazze Şeridi\\'nde yaklaşık iki ayda öldürdüğü medya mensubunun sayısı İkinci Dünya Savaşı\\'ndaki (1939-1945) bilançoyu bile geçmiş durumda.\\r\\nİkinci Dünya Savaşı\\'nda 6 yılda 69 gazeteci öldürülmüş.\\n\\n\\n\\r\\n20 yıl devam eden ABD\\'nin Vietnam\\'ı işgali sırasındaki savaşta 63, 3 yıl süren Kore Savaşı\\'nda ise 17 basın mensubu hayatını kaybetmiş...\\r\\nMerkezi New York\\'ta bulunan Gazetecileri Koruma Komitesi\\'ne (CPJ) verilerine göre, iki yıldır devam eden Rusya ile Ukrayna savaşı boyunca yaşamını yitiren gazeteci sayısı 17.\\r\\nTablo bu kadar dramatikken Türkiye\\'dekiler de dahil dünyadaki gazeteci örgütleri niçin yeri göğü inletmiyor?\\n\"Faşizm konuşma yasağı değil söyleme mecburiyetidir\" falan demeyin...\\r\\nBugün konuşmayacaklar da ne zaman seslerini yükseltecekler? Meslek örgütünün, sivil toplum kuruluşunun işi ne?\\r\\nHaklısınız, tam olarak bu!\\r\\nMuhalefet alanlarını, kurumlarını bir örümcek ağı gibi sarıp, küreselcilere vekaleten işgal edip etkisizleştirmek.\\n'], ['MELİH ALTINOK', 'Seçil Erzan davasında mağdur yok gibi', '03 Aralık 2023,', '\\nTürkiye bir haftadır futbol camiasının ünlülerinden yüksek kâr vaadiyle milyon dolarlar topladığı ve geri ödemediği iddia edilen Seçil Erzan vakasını konuşuyor.\\r\\nHakkında 216 yıl hapis istenen Erzan suçlu, para verenlerse peşinen mağdur ilan edildi. Ama düğmeleri baştan yanlış ilikliyoruz gibi.\\r\\nZira, basında aksini iddia edenler olsa da Milli Takım\\'ı çalıştıran, dünyanın en önemli takımlarında forma giyen bu isimlerin tıbben geri zekâlı olduklarını düşünemeyiz. Resmi dolar faizi belliyken, kendilerine astronomik kârlar teklif edilmesinin yasadışı olduğunu bilmiyor olamazlar ya.\\r\\nBavullara, siyah naylon poşetlere koydukları milyon dolarları pastane köşelerinde \"elden\" vermeleri bunun en net kanıtı.\\r\\nÖyle ya, keşke sorsa da kimsenin zaten \"Nereden buldun?\" dediği de yok.\\r\\nÖyleyse \"vergisini ödediğin, temiz paranı\" yangından mal kaçırır gibi dekontsuz, belgesiz elin kadınına teslim etmenin sebebi ne?\\r\\nEn azından Emre Belözoğlu ve Volkan Bahçekapılı, bankada teslim ettikleri paralarına karşılık bir değil, iki imzalı dekont almışlar. Gerçi banka bu eylemin hukuken kötü niyetli olduğunu kanıtlarsa sorumluluktan kurtulabilir. Ama hiç olmazsa diğerlerine dediği kadar rahat şekilde \"Haberim yok, paranızı ödemiyorum\" diyemez.\\r\\nPeki ya, Fatih Terim\\'in olayın başından beri ıslık çalması... Seçil Erzan\\'ın evinden çıkan belgelerde yalnızca kendisinin değil, şoförünün bile \"gizli fona\" para verdiği yazıyor. O halde Terim\\'in, boy boy fotoğraflarına rağmen Seçil Erzan için \"İşim olmaz\" demesinin sebebi ne?\\r\\nEvet, bu davada hedef tahtasının göbeğine oturtulan Seçil Erzan\\'ın tek başına sorumlu olduğu bir dolandırıcılık yok.\\r\\nO sadece, herkesin hukuksuzluğu bile bile göze aldığı, parasını kurtarmak isteyenin başkasını çukura çektiği bu çarkın hevesli mutemedi.\\n***\\n\\nGAZZELİLER DEĞİL BİZ İŞGAL ALTINDAYIZ\\r\\nÇevirmen Ayçin Kantoğlu\\'nun bir paneldeki harika konuşmasına denk geldim.\\r\\n20 dakikanın her anı doluydu. Gazze konusundaki çaresizliğimizin resmini çizdiği şu cümlesiyse tek başına gerçekliğimizi insanın yüzüne çarpmaya yetiyor:\\n\\n\\n\\r\\n\"Gazze dışında dünyada her yer işgal altında, hepimiz işgal edildik.\"\\r\\nVideonun tamamı X\\'te var, tavsiye ederim.\\n***\\n\\nBUGÜNLERDE TEK İŞİM TARİHE DAİR ÖĞRETTİKLERİNİ UNUTMAK\\r\\nAkşener ve Özel\\'in Atatürk portresi önünde çektirdikleri fotoğrafı değerlendirdiğim dünkü \"O karedeki tek Selanikli Atatürk, o da...\" başlıklı yazıma Metin Bey\\'in itirazı var.\\r\\n\"Mustafa Kemal aslen Manastır ilinin Korucuk Köyü\\'nden. Yani aslında o karede hiç Selanikli yok\" diyor.\\r\\nKendisine cevaben, \"Olsun, TBMM kararıyla düzenlenen nüfus cüzdanında doğum yeri Selanik yazıyor hiç olmazsa\" dedim.\\r\\nTeskin edemedim. Bu kez de \"Ona bakarsanız herkes onu 1881 doğumlu bilir, buyurun Cumhuriyet dönemi pullarında 1880 doğumlu\" demesin mi?\\n\\n\\n\\r\\nŞimdi yine \"Niye deşiyorsun, eline ne geçiyor?\" diyecekler.\\r\\nDesinler de acaba Atatürkçüler bize niçin yıllardır başka bir Atatürk anlattılar diye hiç mi merak etmiyorlar?\\r\\nHadi görüşlerini, yaşamını çarpıtmalarını geçtim, Atatürk\\'ün gerçek doğum tarihiyle niye oynarsın ki arkadaş?\\r\\nEvet bugünlerde, yıllardır öğrettikleri tarihin neresini tutsak elimizde kalıyor.\\r\\nBen pandemiden beri hafızamı temizlemeye çalışıyorum, size de tavsiye derim. Hafifleyeceksiniz.\\n***\\n\\n3 ÇOCUK DA NE, PUTİN \\'7-8 TANE YAPIN\\' DİYOR!\\r\\nGerçi Cumhurbaşkanı Erdoğan da revize etti, 3 çocuk tavsiyesini 4\\'e çıkardı ama siz asıl Putin\\'e bakın.\\r\\nGeçtiğimiz günlerde yaptığı bir konuşmada, \"Rus ailelerde büyükannelerimizin 7-8 çocuğu olduğunu hatırlayın. Bu gelenekleri koruyalım ve canlandıralım. Çok çocuk sahibi olmak, geniş bir aileye sahip olmak, Rusya\\'nın tüm halkları için bir norm, bir yaşam biçimi haline gelmeli\" diyordu.\\n\\n\\n\\r\\nBatı basını onu şimdiden \"popülist\" ilan etti bile.\\r\\nDüdüklerini, insan popülasyonunu \"makul bir seviyeye\" indirmeye çalışanlar öttürüyor ya.\\n'], ['MELİH ALTINOK', 'O karedeki tek Selanikli Atatürk, o da...', '02 Aralık 2023, Cum', '\\nGazeteci Şaban Sevinç, Özgür Özel ve Meral Akşener\\'in geçtiğimiz gün Atatürk portresi önünde verdikleri pozu paylaşıp altına \"3 Selanikli\" notunu iliştirmiş.\\r\\nSevinç\\'in, İzmitli Akşener\\'e neden Selanikli dediği meçhul.\\r\\nZira Meral Hanım\\'ın kendi beyanatına göre baba tarafı, Diyarbakır\\'ın Küçükkadı Köyü ve bölgenin sayılı Alevi Türkmen köylerinden olan Büyükkadı\\'dan Drama\\'ya göç ettirilmiş bir aileden gelmekteymiş.\\nManisa doğumlu Özgür Özel\\'in durumu da farklı değil. O da sülalesinin Üsküp\\'e dayandığını anlatıyor.\\r\\nSevinç, Balkanlar dese anlayacağız da Selanik nereden çıktı?\\r\\nKaredeki Selanikli olan tek kişi Mustafa Kemal Atatürk.\\n\\n\\n\\r\\nİmtiyazlı bir sosyal sınıftan gelmiyor. Kentin Müslüman ailelerinden birinin çocuğu.\\r\\nKerameti Selanikli olması değil, kendini Anadolu\\'ya çıkınca yeniden bulması, onunla özdeşleşmesi. Selanik\\'e uğramazken, ölünceye kadar burada kalması, Ankara\\'ya gömülmesi...\\r\\nVe hatta en önemlisi, devleti Osmanlı hanedanının elinden değil asıl \"Selanikli\" diye anılan İttihat ve Terakki tayfasının elinden alması.\\r\\nÖyle ya Meral Akşener\\'in \"mirasçısıyız\" dediği 1908 darbesinden Cumhuriyet devrimine kadar iktidar kimin elindeydi?\\r\\nTabii ki, ülkeyi içine soktukları savaşla neticelenen maceraların tüm faturasını esir alınmış bir padişaha yıkıp yurtdışına topuklayan \"Selaniklilerin\".\\r\\nAlman muhiplerinin ya da Batı teknolojisinin yanı sıra kültürünün ağzı açık hayranlarının da diyebiliriz.\\r\\nPeki şimdi kendine Atatürkçüyüm diyenlerin, kerameti Selanik\\'te aramalarının sebebi ne?\\r\\nBu anlattıklarımı onlar da bilmiyorlar mı?\\r\\nEvet, bilmiyorlar.\\r\\nBu yüzden de aradıkları prestije zaten sahip olduklarının, yaşadıkları toprakların dünyanın en köklü medeniyetlerine ev sahipliği yaptığının farkında değiller.\\r\\nSülalelerini, Avrupa kıtasının vasat bir şehriyle ilişkilendirirlerse daha köklü görüneceklerini sanıyorlar.\\r\\nBu arada, niye daha büyük hayaller kurmuyorlar, mesela \"Büyük babaannem Roma göçmeni\" demiyorlar o da ayrı bir mevzu.\\r\\nNeyse... Siz söyleyin, bilseler yaparlar mı, kendilerini böyle komik bir pozisyona düşürürler mi?\\n***\\n\\nBÜYÜK MANİPÜLATÖRLERİN SONUNCUSU HENRY KİSSİNGER\\r\\n100 yaşında hayatını kaybeden Henry Kissinger, yüzyılın en büyük manipülatörlerindendi.\\r\\nYeteneği, New York\\'lu, göçmen bir Yahudi ailenin çocuğu olarak doğup dünyanın kaderiyle oynayan bir pozisyona gelmesinde çok işine yaradı.\\r\\nHangi ülkede görünse orada ya darbe oluyordu ya iç savaş çıkıyordu.\\r\\nÖmrü bir dünya savaşı daha çıkarmaya yetmedi ama elinden gelenin fazlasını yaptı.\\n\\n\\n\\r\\nHatta \"Nobel Barış Ödülü\" bile aldı.\\r\\nEvet o bir manipülatördü.\\r\\nAma bu işin tescilli piri Soros\\'tan farkı serbest değil, devletle çalışmasıydı.\\r\\nGücü parasından değil, bürokrasideki nüfuzundan kaynaklanıyordu.\\r\\nBu yüzden kaybetse de zararı cebinden ödemiyordu.\\r\\nŞimdi dünyadaki hesabı kapandı.\\n\\nBu köşe yazısını aşağıdaki linke tıklayarak sesli bir şekilde dinleyebilirsiniz\\nMelih Altınok | O karedeki tek Selanikli Atatürk, o da...\\n\\n \\n\\n\\n'], ['MELİH ALTINOK', 'Elon Musk hata yaptığının farkında', '01 Aralık 2023', '\\nFilistin meselesinde de hakkaniyetli bir tavır sergileyen Elon Musk\\'ın İsrail ziyareti karizmasını çizmişti.\\r\\nDün Musk\\'ın İsrail\\'in talebi üzerine aldığı Gazze\\'ye internet erişimini sınırlandırma kararını revize etmesini beklediğimi yazmıştım.\\r\\nMusk\\'a açtığım kredinin sebebini merak ettiğini söyleyip eleştirenler var.\\r\\nKüresel merkez medyanın ezberlerinin dışındaki dünya gündemini dikkatli takip eden okurlar için tekrar olacak ama...\\r\\nÖncelikle Musk pandemiden beri dönüm noktası sayılacak pek çok küresel krizde ifade özgürlüğünün, insan haklarının, tekçilik karşıtlığının safında yer aldı. Sermayenin baskısının yanı sıra ABD hükümetinin ve derin Amerika\\'nın tehditlerine de pabuç bırakmadı.\\n\\n\\n\\r\\nŞimdi de küreselcilerin değil insanlığın yanında durmasını beklememiz gayet doğal.\\r\\nKaldı ki Gazze\\'deki soykırım başladığında da sahibi olduğu X\\'te (Twitter) İsrail\\'in ve ortaklarının sansür taleplerini cesurca reddetti.\\r\\nİsrail\\'in, Musk\\'ın Filistin\\'de internet sınırlaması taleplerine yeşil ışık yaktığını açıklamasına rağmen hâlâ Gazze\\'den dünyaya enformasyon akışı da devam ediyor. X\\'te de Facebook, Instagram gibi bir sansür yok.\\r\\nMusk\\'ın, İsrail dönüşü hayal kırıklığı eleştirileri yoğunlaşmışken katıldığı bir yayında söyledikleri ise pişmanlığın göstergesi. Kendisini boykotla tehdit eden çevrelere aynen şunları söyledi:\\r\\n\"Vermeyin reklam. Birisi bana reklamla şantaj yapacaksa, parayla şantaj yapacaksa, s... gidin. S... gidin. Açık mı? Umarım öyledir.\"\\r\\n\"Ama çok parası var\", \"Ama Amerikalı\" gibi özcü sınıflandırmalar ya da müzmin karamsarlığın ifadesi olan \"danışıklı dövüş\" teorileriyle olan biteni anlayamazsınız.\\r\\nDaha kötüsü, tek gücü imajı olan 2. Dünya Savaşı kurulmuş müesses nizamın \"kusursuzluk\" illüzyonuna hizmet etmiş olursunuz.\\r\\nBöyle gelmiş böyle gitmez.\\n***\\n\\nOLMUYOR, İLERİDE OLACAK GİBİ DE GÖRÜNMÜYOR\\r\\nCHP\\'nin yeni Genel Başkanı Özgür Özel, imaları bırakıp Cumhurbaşkanı Erdoğan\\'a doğrudan hitaplara başladı.\\r\\nGeçtiğimiz gün de Gazze meselesiyle ilgili yaptığı grup konuşmasında, \"Erdoğan, çağrım sanadır\" diyerek Cumhurbaşkanı\\'na sesleniyordu.\\r\\nNe var ki Özel\\'in, Erdoğan\\'ın karşısındaki küfeye tek başına çıkma çabaları fazlasıyla sakil kalıyor.\\r\\nKılıçdaroğlu\\'nun Erdoğan\\'a yönelik şahsi salvolarını bile aratıyor.\\n\\n\\n\\r\\nÜstelik Özgür Özel, İmamoğlu gibi son beş yılda ortaya çıkıp tanınmayı başarmış bir karakter değil.\\r\\nEn az 10 yıldır CHP\\'nin en tanınmış simalarından. Ama genel başkan olunca grup başkanvekilliğindeki performansının açıkça gerisine düştü. Eskiden sözünün özgül ağırlığı daha fazlaydı.\\r\\nBelli mi olur, belki zamanla deneyimi artar, Kemal Bey\\'in seviyesini yakalar.\\r\\nBence bu süre zarfında Erdoğan\\'ı doğrudan muhatap alacağı konuşmalarında İmamoğlu\\'nu da kürsüde yanına almasında fayda var.\\r\\nTabii eğer kürsüyü kaptırmamayı başarırsa.\\n***\\n\\nMERAL HANIM\\'IN ZOR ANLARI\\r\\nBir süredir parti içinde istifalarla, skandallarla başı dertte olan Meral Akşener dün yine gergindi.\\r\\nÖzgür Özel\\'le kameraların karşısına geçen Akşener, CHP\\'nin yerel seçim ittifakı taleplerini partililere anlatırken derelerden dolaşıyordu.\\n\\n\\n\\r\\nHaklı, daha iki gün önce \"tartışmayız bile\" dediği ittifaka evet dese bir dert, demese ayrı dert.\\r\\nZira seçim sonrası yediği operasyonu durdurmak, partiyi böldürmemek için iki seçeneğin de işe yaramayacağını çok iyi biliyor.\\r\\n\"Üçüncü yol\" içinse henüz cesareti yok.\\n']]\n"
     ]
    }
   ],
   "source": [
    "rows1=[]\n",
    "for i in url_list1:\n",
    "    response = requests.get(i)\n",
    "    response = response.content\n",
    "    soup = BeautifulSoup(response, 'html.parser')\n",
    "    author=soup.find('strong', class_='postTitle').text\n",
    "    title=soup.find('h1').text\n",
    "    date=soup.find('span', class_='postInfo').text[:-6]\n",
    "    text=soup.find('div',class_='newsBox').text\n",
    "    rows1.append([author,title, date, text])\n",
    "print(rows1) "
   ]
  },
  {
   "cell_type": "code",
   "execution_count": 52,
   "metadata": {},
   "outputs": [],
   "source": [
    "df = pd.DataFrame(rows1, columns=['author', 'title', 'date','text'])\n",
    "df.to_csv('rows1.csv')"
   ]
  },
  {
   "cell_type": "code",
   "execution_count": 53,
   "metadata": {},
   "outputs": [
    {
     "data": {
      "text/html": [
       "<div>\n",
       "<style scoped>\n",
       "    .dataframe tbody tr th:only-of-type {\n",
       "        vertical-align: middle;\n",
       "    }\n",
       "\n",
       "    .dataframe tbody tr th {\n",
       "        vertical-align: top;\n",
       "    }\n",
       "\n",
       "    .dataframe thead th {\n",
       "        text-align: right;\n",
       "    }\n",
       "</style>\n",
       "<table border=\"1\" class=\"dataframe\">\n",
       "  <thead>\n",
       "    <tr style=\"text-align: right;\">\n",
       "      <th></th>\n",
       "      <th>Unnamed: 0</th>\n",
       "      <th>author</th>\n",
       "      <th>title</th>\n",
       "      <th>date</th>\n",
       "      <th>text</th>\n",
       "    </tr>\n",
       "  </thead>\n",
       "  <tbody>\n",
       "    <tr>\n",
       "      <th>0</th>\n",
       "      <td>0</td>\n",
       "      <td>MELİH ALTINOK</td>\n",
       "      <td>Johnson’ın özrü kabahatinden büyük</td>\n",
       "      <td>08 Aralık 2023</td>\n",
       "      <td>\\nİngiltere'nin eski Başbakanı Boris Johnson, ...</td>\n",
       "    </tr>\n",
       "    <tr>\n",
       "      <th>1</th>\n",
       "      <td>1</td>\n",
       "      <td>MELİH ALTINOK</td>\n",
       "      <td>2019 ile 2024 İstanbul seçimleri arasındaki fa...</td>\n",
       "      <td>06 Aralık 2023, Ça</td>\n",
       "      <td>\\nİyi Parti'nin 2024 yerel seçimlerine bağımsı...</td>\n",
       "    </tr>\n",
       "    <tr>\n",
       "      <th>2</th>\n",
       "      <td>2</td>\n",
       "      <td>MELİH ALTINOK</td>\n",
       "      <td>Çarşı buna karşı değil mi?</td>\n",
       "      <td>04 Aralık 2023, Paz</td>\n",
       "      <td>\\nYer, Beşiktaş Spor Kulübü'nün bir toplantısı...</td>\n",
       "    </tr>\n",
       "    <tr>\n",
       "      <th>3</th>\n",
       "      <td>3</td>\n",
       "      <td>MELİH ALTINOK</td>\n",
       "      <td>Seçil Erzan davasında mağdur yok gibi</td>\n",
       "      <td>03 Aralık 2023,</td>\n",
       "      <td>\\nTürkiye bir haftadır futbol camiasının ünlül...</td>\n",
       "    </tr>\n",
       "    <tr>\n",
       "      <th>4</th>\n",
       "      <td>4</td>\n",
       "      <td>MELİH ALTINOK</td>\n",
       "      <td>O karedeki tek Selanikli Atatürk, o da...</td>\n",
       "      <td>02 Aralık 2023, Cum</td>\n",
       "      <td>\\nGazeteci Şaban Sevinç, Özgür Özel ve Meral A...</td>\n",
       "    </tr>\n",
       "    <tr>\n",
       "      <th>5</th>\n",
       "      <td>5</td>\n",
       "      <td>MELİH ALTINOK</td>\n",
       "      <td>Elon Musk hata yaptığının farkında</td>\n",
       "      <td>01 Aralık 2023</td>\n",
       "      <td>\\nFilistin meselesinde de hakkaniyetli bir tav...</td>\n",
       "    </tr>\n",
       "  </tbody>\n",
       "</table>\n",
       "</div>"
      ],
      "text/plain": [
       "   Unnamed: 0         author  \\\n",
       "0           0  MELİH ALTINOK   \n",
       "1           1  MELİH ALTINOK   \n",
       "2           2  MELİH ALTINOK   \n",
       "3           3  MELİH ALTINOK   \n",
       "4           4  MELİH ALTINOK   \n",
       "5           5  MELİH ALTINOK   \n",
       "\n",
       "                                               title                 date  \\\n",
       "0                 Johnson’ın özrü kabahatinden büyük       08 Aralık 2023   \n",
       "1  2019 ile 2024 İstanbul seçimleri arasındaki fa...   06 Aralık 2023, Ça   \n",
       "2                         Çarşı buna karşı değil mi?  04 Aralık 2023, Paz   \n",
       "3              Seçil Erzan davasında mağdur yok gibi      03 Aralık 2023,   \n",
       "4          O karedeki tek Selanikli Atatürk, o da...  02 Aralık 2023, Cum   \n",
       "5                 Elon Musk hata yaptığının farkında       01 Aralık 2023   \n",
       "\n",
       "                                                text  \n",
       "0  \\nİngiltere'nin eski Başbakanı Boris Johnson, ...  \n",
       "1  \\nİyi Parti'nin 2024 yerel seçimlerine bağımsı...  \n",
       "2  \\nYer, Beşiktaş Spor Kulübü'nün bir toplantısı...  \n",
       "3  \\nTürkiye bir haftadır futbol camiasının ünlül...  \n",
       "4  \\nGazeteci Şaban Sevinç, Özgür Özel ve Meral A...  \n",
       "5  \\nFilistin meselesinde de hakkaniyetli bir tav...  "
      ]
     },
     "execution_count": 53,
     "metadata": {},
     "output_type": "execute_result"
    }
   ],
   "source": [
    "df=pd.read_csv('rows1.csv')\n",
    "df.head(6)"
   ]
  },
  {
   "cell_type": "code",
   "execution_count": 34,
   "metadata": {},
   "outputs": [],
   "source": [
    "url='https://www.sabah.com.tr/yazarlar/melihaltinok/2023/12/08/johnsonin-ozru-kabahatinden-buyuk'\n",
    "response = requests.get(url)\n",
    "response = response.content\n",
    "soup = BeautifulSoup(response, 'html.parser')"
   ]
  },
  {
   "cell_type": "code",
   "execution_count": 36,
   "metadata": {},
   "outputs": [
    {
     "data": {
      "text/plain": [
       "'MELİH ALTINOK'"
      ]
     },
     "execution_count": 36,
     "metadata": {},
     "output_type": "execute_result"
    }
   ],
   "source": [
    "author=soup.find('strong', class_='postTitle').text\n",
    "author"
   ]
  },
  {
   "cell_type": "code",
   "execution_count": 37,
   "metadata": {},
   "outputs": [
    {
     "data": {
      "text/plain": [
       "'Johnson’ın özrü kabahatinden büyük'"
      ]
     },
     "execution_count": 37,
     "metadata": {},
     "output_type": "execute_result"
    }
   ],
   "source": [
    "title=soup.find('h1').text\n",
    "title"
   ]
  },
  {
   "cell_type": "code",
   "execution_count": 38,
   "metadata": {},
   "outputs": [
    {
     "data": {
      "text/plain": [
       "'08 Aralık 2023'"
      ]
     },
     "execution_count": 38,
     "metadata": {},
     "output_type": "execute_result"
    }
   ],
   "source": [
    "date=soup.find('span', class_='postInfo').text[:-6]\n",
    "date"
   ]
  },
  {
   "cell_type": "code",
   "execution_count": 39,
   "metadata": {},
   "outputs": [
    {
     "data": {
      "text/plain": [
       "'\\nİngiltere\\'nin eski Başbakanı Boris Johnson, dün halkından pandemi politikaları için özür diliyordu.\\r\\nYok, serbest piyasanın piri Adam Smith\\'in memleketinde piyasalara müdahale ettiği, aşırı tedbirlerle ticareti sınırlandırdığı, ekonomiyi mahvettiği için değil. Özrünün dayatmalarla, yasaklarla, evrensel insan haklarını ihlal etmesiyle de alakası yok.\\r\\nSabık başbakan, meğer Kovid- 19\\'un Britanya için \"tam bir felaket\" olacağını zamanında fark edemediği için çok pişmanmış.\\r\\nBayram değil seyran değil nereden icap ettiyse?\\r\\nKendisinin, pandemi tedbirlerine uymayacağını açıkladıktan hemen sonra müstakbel Kral Charles\\'la birlikte \"mevsimsel gribe\" yakalandığını hatırlıyoruz.\\n\\n\\n\\r\\n70 milyonluk ülkede herkesten önce, ıssız taşradaki şatolarda yaşayan, en sıkı izolasyon tedbirleriyle korunan 1 ve 2 numaranın koronaya yakalanması dünyayı şaşırmıştı.\\r\\nArdından Johnson iyileşmeyi beklemeden, ağzında maskesi olduğu hâlde kameraların karşısına geçmişti. Kraliçe\\'nin parlamentodaki nazik veto desteği sayesinde çıkardığı Brexit kararıyla karşısına aldığı küreselcilere adeta \"pes\" diyordu.\\r\\nRadikal kararından radikal bir şekilde dönmüştü. \"Aşıyı da dayatacağım, maskeyi de... Kapanma tedbirlerini, tedavi protokollerini DSÖ\\'ye devredeceğim\" diyerek nedamet getiriyordu.\\r\\nGelin görün ki işe yaramadı. Koltuğunu kaybetti.\\r\\nİngiltere\\'de o gündür bugündür dikiş tutmuyor. Kaçıncı başbakanları sayamadık. Basında \"Buzdolabındaki marul bile başbakanlarımızdan daha uzun dayanıyor\" geyikleri çevriliyor.\\r\\nAnlıyoruz, Johnson da hâlâ siyasetteki iddiasını kaybetmemiş. Bir şans daha istiyor. Normaldir.\\r\\nNe var ki bunu zamanında kendisini başbakan seçen İngiliz halkından değil, başını yiyenlerden istiyor.\\r\\nHâliyle de talep ettiği şey artık İngiltere\\'nin iktidarı değil sömürge valiliği koltuğu.\\r\\nÖyle ya adamlar zaten İngiltere\\'ye, kökü Hindistan\\'ın sömürge soylularına dayanan bir yediemin atadılar. AB\\'nin sığ limanından demir alıp üçüncü yol okyanusuna yelken açmaya cüret eden İngiltere\\'nin yeniden entegrasyonu projesini bizzat kendi adamlarıyla yürütüyorlar.\\r\\nAli Kemal\\'in torunu Boris Bey\\'in daha fazla sadakat göstereceğine neden inansınlar ki?\\r\\nSizce de \"Üzerinde güneş batmayan imparatorluk\" için acıklı, bağımsızlığını arayan tüm ulus devletler içinse ibretlik bir akıbet değil mi?\\n***\\n\\nAĞANIN MALI ÇIKAR UŞAĞIN CANI\\r\\nİyi Parti\\'nin yerel seçimlere bağımsız girme kararını açıklamasının ardından, bağımsız gazeteci pozlarıyla tanıdığımız CHP\\'li arzuhalcileri izliyor musunuz?\\r\\nAçık açık köşelerinden İyi Partili siyasetçileri tehdit ediyorlar. Seçilmiş siyasilere \"Trol\" diyorlar.\\r\\nSukutuhayale uğrayan CHP ve belediye başkan adayları bile, ekranda \"Bana giren çıkan yok\" diye ağzını bozan gazeteciler kadar sinirli görünmüyorlar.\\n\\n\\n\\r\\nEvet, bir süredir bu hâldeler. Seçim öncesi de Kemal Bey\\'i terbiyesizce hırpalıyorlardı. O çok sevdikleri tarafsızlık numarasını bile yapamayacak kadar kontrolü kaybettiler.\\r\\nSizce neden?\\n\"İktidar hayalleri suya düştü, belediye mamaları da kesilecek ya, amatörleşmeleri ondan\" diyoruz, kızıyorlar.\\r\\n\"Peki neden o hâlde?\" diye ısrar ediyoruz.\\r\\n\"CHP\\'nin, muhalefetin iyiliği için\" diyorlar.\\r\\nAman, \"Peki ya iktidar taraftarlarının iyiliği ne olacak?\" diye sormayın.\\r\\n\"Yandaş\" derler.\\r\\nBiz bu uşaklarla ne yapacağız?\\n***\\n\\nBÜYÜKERŞEN\\'İN SUÇU NE?\\r\\nHerkes Eskişehir Büyükşehir Belediye Başkanı Yılmaz Büyükerşen\\'in yeniden aday gösterilmesini eleştiriyor.\\n86 yaşında olan Büyükerşen ise \"İnsan kendisini hissettiği yaşta sayar. Kendimi hiçbir zaman yaşlı hissetmedim\" diyor ve devam ediyor:\\r\\n\"1999\\'da siyasete girdim. Artan oy oranıyla 5 dönem seçimi kazandım. Son seçimde oy oranım yüzde 52.8, partimizin Eskişehir\\'de genelde oyu yüzde 25-30 arasında oynar. Türkiye\\'de muhalefet partileri içinde oy yüzdesi en yüksek olanlardan birisiyim.\"\\n\\n\\n\\r\\nBüyükerşen gayet dinç görünüyor. Yaşam enerjisini çalışmaktan aldığı ortada. Eleştirilere rağmen son tahlilde de Eskişehir halkını ikna etmeyi, sandıktan çıkmayı başarıyor. Kim ne diyebilir?\\r\\nBüyükerşen\\'in yerinde olsam, \"Söz, deneyimimi acemi rakiplerimin aleyhine kullanmayacağım\" der, güler geçerim.\\r\\nGerisini, genç olduğu hâlde bir ihtiyarı deviremeyen rakipleri düşünsün.\\n'"
      ]
     },
     "execution_count": 39,
     "metadata": {},
     "output_type": "execute_result"
    }
   ],
   "source": [
    "text=soup.find('div',class_='newsBox').text\n",
    "text\n"
   ]
  }
 ],
 "metadata": {
  "colab": {
   "provenance": []
  },
  "kernelspec": {
   "display_name": "Python 3 (ipykernel)",
   "language": "python",
   "name": "python3"
  },
  "language_info": {
   "codemirror_mode": {
    "name": "ipython",
    "version": 3
   },
   "file_extension": ".py",
   "mimetype": "text/x-python",
   "name": "python",
   "nbconvert_exporter": "python",
   "pygments_lexer": "ipython3",
   "version": "3.11.4"
  }
 },
 "nbformat": 4,
 "nbformat_minor": 1
}
