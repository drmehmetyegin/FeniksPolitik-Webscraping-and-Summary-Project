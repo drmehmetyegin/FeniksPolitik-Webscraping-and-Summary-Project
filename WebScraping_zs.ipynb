{
 "cells": [
  {
   "cell_type": "code",
   "execution_count": 61,
   "metadata": {
    "scrolled": true
   },
   "outputs": [],
   "source": [
    "import requests"
   ]
  },
  {
   "cell_type": "code",
   "execution_count": 62,
   "metadata": {},
   "outputs": [],
   "source": [
    "from bs4 import BeautifulSoup"
   ]
  },
  {
   "cell_type": "code",
   "execution_count": 63,
   "metadata": {},
   "outputs": [],
   "source": [
    "import pandas as pd"
   ]
  },
  {
   "cell_type": "code",
   "execution_count": 64,
   "metadata": {},
   "outputs": [],
   "source": [
    "url_list3=['https://www.milliyet.com.tr/yazarlar/zafer-sahin/mesele-gazze-degil-sen-hala-anlamadin-mi-7046205','https://www.milliyet.com.tr/yazarlar/zafer-sahin/anketteki-israil-catlagi-7044561']"
   ]
  },
  {
   "cell_type": "code",
   "execution_count": 71,
   "metadata": {},
   "outputs": [
    {
     "name": "stdout",
     "output_type": "stream",
     "text": [
      "[['Zafer Şahin', 'Mesele Gazze değil sen hala anlamadın mı?', '08 Aralık 2023', 'İsrail Cumhurbaşkanı Herzog’un niyeyse üstünde pek durulmayan şu açıklaması Gazze meselesinin özü aslında…“Gazze Şeridi’ndeki savaş yalnızca Hamas ve ve İsrail arasındaki bir savaş değil. Aynı zamanda Batı’yı kurtarmak için savaşıyoruz!”Nasıl yani? Gazze’nin güzel çocuklarını Batı’yı ayakta tutmak için mi katlediyor bu caniler?Tam olarak öyle değil.. Herzog’un açıklamasının alt metninde bir kirli planın ifşası var…Batı tam 500 yıldır dünyayı sömürüyor.. Mazlum milletlerin sahip oldukları zenginliklere zorla çöküyor. Sözde medeniyetlerini milyonlarca masumun canını alarak, kanını dökerek ayakta tutuyor.Haberin Devamıİngiliz medyasında yayınlanan, açık kaynaklardan rahatlıkla ulaşacağınız “Filistin’de Çevresel Yıkım ve Savaş” başlıklı makaleyi okuyun. Herzog’un ne demek istediğini anlayacaksınız.Birleşmiş Milletler raporlarına göre tüm Levant Havzası boyunca bulunan petrol ve doğal gaz rezervlerinin toplam değeri 524 milyar dolar olarak tahmin ediliyor.Geçen yüzyılda Ortadoğu’nun petrolüne el koyan Batı, bu yüzyılda kan ve gözyaşı üzerine inşa ettiği refah toplumunu Doğu Akdeniz’in enerjisi ile finanse etmek istiyor. İsrail’e verdikleri koşulsuz desteğin sebebi tam olarak bu.İsrail’in Batı’ya yaptığı bu hatırlatma her açıdan kritik. “Bizi yalnız bırakırsanız siz de kaybedeceksiniz” diyor Herzog!Mesele kesinlikle Gazze değil. Önümüzdeki 100 yılın büyük paylaşım savaşına Gazze’den start verdiler.Ama başaramayacaklar… Bu kez insanlık kazanacak…Biden İttifakı dağılıyor mu?İyi Parti’nin yerel seçime kendi adaylarıyla girme kararını hem iktidar hem de muhalefet cenahı yanlış okuyor.Muhalefet mahallesinde gereksiz bir hüzün, iktidar mahallesinde ise anlamsız bir bayram havası esiyor!Maalesef balık hafızalı bir toplumuz. Siyasi okumalarımız da bu yüzden hep eksik kalıyor.AK Parti ve MHP’nin omurgasını oluşturduğu Cumhur İttifakını geriletmek, Türkiye’de muhalefeti destekleyerek iktidarı değiştirmek projesinin mimarı kim?2018 seçimlerinden itibaren birbirine hiç benzemeyen, ideolojik olarak herhangi bir konuda uzlaşma imkanı olmayan partileri sırf Erdoğan’ı devirmek için aynı masada buluşturan üst akıl sizce o projeden vaz mı geçti?Haberin DevamıBiden’in daha ABD Başkanı olmadan Türkiye’deki muhalefeti dizayn etmeye soyunması sebepsiz miydi?Akşener’e 2018’de “Abdullah Gül’ün Cumhurbaşkanlığında birleşin” diyenler kimdi? 2023’te “Kumar masası” yakıştırmasında bulunduğu ittifaka 48 saat içinde neden ve nasıl kesin dönüş yaptı?Gerçekçi olalım… Akşener’in partisini ayakta tutmak için aldığı karar önemli. Ancak dışarıdan HDP’nin destek verdiği bu ittifakın dağılmasına karar verecek olanlar başkaları…Gerekirse Akşener’i tasfiye eder, başka aktörlerle İyi Parti’yi ittifakta tutarlar. Resmiyette olmasa da fiiliyatta bunu gerçekleştirmek için her yola başvururlar…Şu aşamada ne HDP’nin “81 ilde kendi adaylarımızı çıkaracağız” açıklaması ne de İyi Parti’nin son kararı siyaseten pek bir şey ifade etmiyor.Bu ittifakı kuranlar henüz son sözünü söylemedi…Muhalefette onlar ne derse o olur.StajyerRobert De Niro’nun 70 yaşındaki emekli Ben Whittaker karakterini canlandırdığı Stajyer filminin iş görüşmesi sahnesi.. İnsan Kaynakları Uzmanının, Whittaker’e “10 yıl sonra kendinizi nerede görmeyi hedefliyorsunuz” diye sorması! De Niro’nun verdiği cevap ve muhteşem mimikleri…Haberin DevamıDün Eskişehir’de 6.kez adaylık başvurusu yapan Yılmaz Büyükerşen’in yaşıyla ilgili eleştirilere verdiği cevabı okurken aklıma hemen o sahne geldi..Allah uzun ömürler versin ama Yılmaz Bey tam 87 yaşında. Ve hâlâ “Bitirmem gereken işler var” diyor!Belli ki kendisini 5 yıl sonra da Büyükşehir Belediye Başkanı olarak görmeyi hayal ediyor.Kimse de çıkıp 25 yıldır elinizi tutan mı vardı Yılmaz Bey? Çeyrek yüzyılda hangi projeleri, neden tamamlayamadınız diye sormuyor!Avrupa’nın en genç nüfusuna sahip ülkesinin üniversiteler kenti Eskişehir’i 1999’dan beri yönetiyor Büyükerşen.. Sanıyorum yakın çevresinde kendisine “Artık yeter” deme cesaretini gösterecek kimse yok.O yüzden sorumluluğu üstüme alıyor ve Yılmaz Bey’e “Koltukla vedalaşma zamanız gelmiş, hatta biraz da geçmiş” uyarısında bulunuyorum. Malum, gençlerin önünü açmak lazım… Özellikle de siyasette..'], ['Zafer Şahin', 'Anketteki İsrail çatlağı', '05 Aralık 2023', 'İstanbul merkezli İVEM Araştırma’nın Aralık ayı Türkiye siyasi gündem araştırmasına göre Türk halkının yüzde 75,9’u İsrail’in Gazze’de bir katliam yaptığını düşünüyor. Yüzde 1,9’luk bir kesim ise “İsrail, Hamas’ın saldırısına karşılık veriyor” diyor!Bu iki rakam sizi yanıltmasın. Türkiye’de Filistin meselesine dair toplumun tamamının sağlam bir mutabakat içinde olduğunu söylemek maalesef zor. Ankette vatandaşa yöneltilen “Yıllardır bitmeyen İsrail-Filistin krizinde kim haklı” sorusuna gelen cevaplar düşündürücü. Yüzde 75,9’a göre haklı olan Filistinliler… Yüzde 5,4’lük bir kesim ise İsrail’i haklı buluyor! “İkisi de haklı” diyen 5,6’yı, ikisini de haksız bulan yüzde 3’ü, kararsızlar ve fikri olmayanları da kattığımızda yaklaşık yüzde 25’lik bir kesimin Gazze’deki büyük insanlık dramına Fransız kaldığı rahatlıkla söylenebilir.Haberin DevamıAK Partililerin yüzde 80,3’ü, CHP’lilerin 74,3, MHP’lilerin 75,9’u İsrail’in katliam yaptığı konusunda hemfikir. Ancak bu oran TİP seçmeninde yüzde 68,5, Zafer Partisi seçmeninde ise yüzde 62,9’a kadar düşüyor. AK Partililerin yüzde 86,6’sı, CHP’lilerin yüzde 64,8’i, MHP’lilerin 83,2’si, İyi Partililerin 76,3’ü HEDEP’lilerin 72,3’ü Filistinlileri haklı buluyor. İsrail’i haklı bulan HEDEP’lilerin oranı 12,5, Zafer Partililerin oranı ise 11,2!Ankete katılanların yüzde 29,7’sine göre Hamas bir terör örgütü.. Yüzde 51,6’sına göre ise Filistin halkı için mücadele eden bir örgüt. CHP’lilerin yüzde 43,6’sı, İyi Partililerin yüzde 37,6’sı, HEDEP’lilerin 43,3’ü, Zafer Partililerin 55,7’si ve TİP’lilerin yüzde 71.9’u Hamas’ı terör örgütü olarak görüyor!Elbette ki herkes her konuda aynı şeyi düşünmek zorunda değil. Ancak ortada böylesine bir katliam varken, İsrail dünyanın gözü önünde soykırım suçu işlerken bile ortak bir paydada buluşamayacaksak ne zaman buluşacağız?Acı ama gerçek… Toplumun neredeyse dörtte birinin ne Gazze umurunda ne de öldürülen çocuklar!Ankette Gazze meselesine dair Türkiye’nin tutumu da sorulmuş. Ankete katılanların yüzde 36,4’ü “Türkiye zaten elinden geleni yapıyor, buna devam etmeli. Askeri müdahale 3.Dünya Savaşına neden olabilir” diyor. Yüzde 30,3’lük bir kesim ise Türkiye’nin bütün alanlarda İsrail’i protesto ederek Filistin’e desteğini artırması gerektiğini savunuyor. Bu kesim de askeri müdahaleyi yanlış buluyor. Ankete katılanların yüzde 16,6’sı ise Türkiye’nin bazı ülkelerle anlaşarak askeri müdahalede bulunması gerektiğini düşünüyor.Haberin DevamıAnketteki “Cumhurbaşkanı Erdoğan’ın İsrail-Filistin meselesine yaklaşımını nasıl karşılıyorsunuz” sorusuna “Destekliyorum” diyenlerin oranı yüzde 49,8. “Kesinlikle destekliyorum” diyenlerin oranı ise yüzde 13,9’. “Desteklemiyorum” diyenlerin oranı 23,8 “Kesinlikle desteklemiyorum” diyenlerin oranı 3,8.Özel’in yolu uzunSiyasi gündem araştırmasında CHP’deki değişim de sorulmuş. “Sizce CHP’de genel başkanın değişmesi partinin oyunu artırır mı?” sorusuna “Evet” diyenlerin oranı yüzde 37’de kalmış. Yüzde 48’lik bir kesim ise “CHP oylarında bir değişiklik olmaz” düşüncesinde. Özgür Özel’in CHP politikalarını değiştireceğini düşünenlerin oranı 41,8. Kılıçdaroğlu ile aynı politikaları takip edeceğini söyleyenlerin oranı ise 35,2.Haberin Devamı“Özgür Özel, Kılıçdaroğlu’ndan farklı politikalar izlerse oyunuz değişir mi?” sorusuna ise yüzde 27,7 “Evet” cevabını veriyor. “Hayır oyum değişmez” diyenlerin oranı ise 57,6. Bu rakamlar CHP’nin yeni genel başkanının değişim konusunda seçmeni ikna etmek için çok çalışması gerektiğini gösteriyor.Seçmen ittifaka soğukAnkete göre vatandaşların yüzde 48,9’u oy verdiği partinin yerel seçime her yerde kendi adaylarıyla girmesini istiyor. Yüzde 40,1’lik bir kesim ise bazı il ve ilçelerde ittifakla girmesinden yana. Bu konuda fikri olmadığını söyleyenlerin oranı 11. Yerel seçimde oyunu adaya göre kullanacağını söyleyenlerin oranı 47,7. Partiye göre kullanacağını belirtenlerin oranı 40,7. Yüzde 6,9 luk bir kesim ise henüz kararının vermediğini söylüyor.AK Parti öndeAnkete göre kararsızlar dağıtıldıktan sonra AK Parti’nin oyu yüzde 37..AK Parti’yi yüzde 27,9 ile CHP, yüzde 9,9 ile HEDEP, yüzde 7 ile MHP, yüzde 6,6 ile İyi Parti, yüzde 2,6 ile Zafer Partisi ve yüzde 2,4 ile YRP takip ediyor. Ankette Türkiye’nin en önemli sorunu olarak yüzde 65 ile ekonomi çıkmış. Onu yüzde 4,9 ile göç ve mülteciler, 4,7 ile adalet ve 3,2 ile muhalefet partileri takip ediyor. Vatandaş bu sorunları kim çözer sorusuna ise yüzde 27,1 ile AK Parti, 16,2 ile CHP cevabını veriyor. Hiçbir siyasi partinin sorunları çözemeyeceğini düşünenlerin oranı 23,1.']]\n"
     ]
    }
   ],
   "source": [
    "rows_zs=[]\n",
    "for i in url_list3:\n",
    "    response = requests.get(i)\n",
    "    response = response.content\n",
    "    soup = BeautifulSoup(response, 'html.parser')\n",
    "    author=soup.find('h2', class_='author-name').text\n",
    "    title=soup.find('h1').text\n",
    "    date=soup.find('time').text\n",
    "    text=soup.find('div',class_='author-content news-content readingTime').text\n",
    "    rows_zs.append([author,title, date, text])\n",
    "print(rows_zs) "
   ]
  },
  {
   "cell_type": "code",
   "execution_count": 72,
   "metadata": {},
   "outputs": [],
   "source": [
    "df = pd.DataFrame(rows_zs, columns=['author', 'title', 'date','text'])\n",
    "df.to_csv('rows_zs.csv')"
   ]
  },
  {
   "cell_type": "code",
   "execution_count": 73,
   "metadata": {},
   "outputs": [
    {
     "data": {
      "text/html": [
       "<div>\n",
       "<style scoped>\n",
       "    .dataframe tbody tr th:only-of-type {\n",
       "        vertical-align: middle;\n",
       "    }\n",
       "\n",
       "    .dataframe tbody tr th {\n",
       "        vertical-align: top;\n",
       "    }\n",
       "\n",
       "    .dataframe thead th {\n",
       "        text-align: right;\n",
       "    }\n",
       "</style>\n",
       "<table border=\"1\" class=\"dataframe\">\n",
       "  <thead>\n",
       "    <tr style=\"text-align: right;\">\n",
       "      <th></th>\n",
       "      <th>Unnamed: 0</th>\n",
       "      <th>author</th>\n",
       "      <th>title</th>\n",
       "      <th>date</th>\n",
       "      <th>text</th>\n",
       "    </tr>\n",
       "  </thead>\n",
       "  <tbody>\n",
       "    <tr>\n",
       "      <th>0</th>\n",
       "      <td>0</td>\n",
       "      <td>Zafer Şahin</td>\n",
       "      <td>Mesele Gazze değil sen hala anlamadın mı?</td>\n",
       "      <td>08 Aralık 2023</td>\n",
       "      <td>İsrail Cumhurbaşkanı Herzog’un niyeyse üstünde...</td>\n",
       "    </tr>\n",
       "    <tr>\n",
       "      <th>1</th>\n",
       "      <td>1</td>\n",
       "      <td>Zafer Şahin</td>\n",
       "      <td>Anketteki İsrail çatlağı</td>\n",
       "      <td>05 Aralık 2023</td>\n",
       "      <td>İstanbul merkezli İVEM Araştırma’nın Aralık ay...</td>\n",
       "    </tr>\n",
       "  </tbody>\n",
       "</table>\n",
       "</div>"
      ],
      "text/plain": [
       "   Unnamed: 0       author                                      title  \\\n",
       "0           0  Zafer Şahin  Mesele Gazze değil sen hala anlamadın mı?   \n",
       "1           1  Zafer Şahin                   Anketteki İsrail çatlağı   \n",
       "\n",
       "             date                                               text  \n",
       "0  08 Aralık 2023  İsrail Cumhurbaşkanı Herzog’un niyeyse üstünde...  \n",
       "1  05 Aralık 2023  İstanbul merkezli İVEM Araştırma’nın Aralık ay...  "
      ]
     },
     "execution_count": 73,
     "metadata": {},
     "output_type": "execute_result"
    }
   ],
   "source": [
    "df=pd.read_csv('rows_zs.csv')\n",
    "df.head(6)"
   ]
  },
  {
   "cell_type": "code",
   "execution_count": 34,
   "metadata": {},
   "outputs": [],
   "source": [
    "url='https://www.sabah.com.tr/yazarlar/melihaltinok/2023/12/08/johnsonin-ozru-kabahatinden-buyuk'\n",
    "response = requests.get(url)\n",
    "response = response.content\n",
    "soup = BeautifulSoup(response, 'html.parser')"
   ]
  },
  {
   "cell_type": "code",
   "execution_count": 36,
   "metadata": {},
   "outputs": [
    {
     "data": {
      "text/plain": [
       "'MELİH ALTINOK'"
      ]
     },
     "execution_count": 36,
     "metadata": {},
     "output_type": "execute_result"
    }
   ],
   "source": [
    "author=soup.find('strong', class_='postTitle').text\n",
    "author"
   ]
  },
  {
   "cell_type": "code",
   "execution_count": 37,
   "metadata": {},
   "outputs": [
    {
     "data": {
      "text/plain": [
       "'Johnson’ın özrü kabahatinden büyük'"
      ]
     },
     "execution_count": 37,
     "metadata": {},
     "output_type": "execute_result"
    }
   ],
   "source": [
    "title=soup.find('h1').text\n",
    "title"
   ]
  },
  {
   "cell_type": "code",
   "execution_count": 38,
   "metadata": {},
   "outputs": [
    {
     "data": {
      "text/plain": [
       "'08 Aralık 2023'"
      ]
     },
     "execution_count": 38,
     "metadata": {},
     "output_type": "execute_result"
    }
   ],
   "source": [
    "date=soup.find('span', class_='postInfo').text[:-6]\n",
    "date"
   ]
  },
  {
   "cell_type": "code",
   "execution_count": 39,
   "metadata": {},
   "outputs": [
    {
     "data": {
      "text/plain": [
       "'\\nİngiltere\\'nin eski Başbakanı Boris Johnson, dün halkından pandemi politikaları için özür diliyordu.\\r\\nYok, serbest piyasanın piri Adam Smith\\'in memleketinde piyasalara müdahale ettiği, aşırı tedbirlerle ticareti sınırlandırdığı, ekonomiyi mahvettiği için değil. Özrünün dayatmalarla, yasaklarla, evrensel insan haklarını ihlal etmesiyle de alakası yok.\\r\\nSabık başbakan, meğer Kovid- 19\\'un Britanya için \"tam bir felaket\" olacağını zamanında fark edemediği için çok pişmanmış.\\r\\nBayram değil seyran değil nereden icap ettiyse?\\r\\nKendisinin, pandemi tedbirlerine uymayacağını açıkladıktan hemen sonra müstakbel Kral Charles\\'la birlikte \"mevsimsel gribe\" yakalandığını hatırlıyoruz.\\n\\n\\n\\r\\n70 milyonluk ülkede herkesten önce, ıssız taşradaki şatolarda yaşayan, en sıkı izolasyon tedbirleriyle korunan 1 ve 2 numaranın koronaya yakalanması dünyayı şaşırmıştı.\\r\\nArdından Johnson iyileşmeyi beklemeden, ağzında maskesi olduğu hâlde kameraların karşısına geçmişti. Kraliçe\\'nin parlamentodaki nazik veto desteği sayesinde çıkardığı Brexit kararıyla karşısına aldığı küreselcilere adeta \"pes\" diyordu.\\r\\nRadikal kararından radikal bir şekilde dönmüştü. \"Aşıyı da dayatacağım, maskeyi de... Kapanma tedbirlerini, tedavi protokollerini DSÖ\\'ye devredeceğim\" diyerek nedamet getiriyordu.\\r\\nGelin görün ki işe yaramadı. Koltuğunu kaybetti.\\r\\nİngiltere\\'de o gündür bugündür dikiş tutmuyor. Kaçıncı başbakanları sayamadık. Basında \"Buzdolabındaki marul bile başbakanlarımızdan daha uzun dayanıyor\" geyikleri çevriliyor.\\r\\nAnlıyoruz, Johnson da hâlâ siyasetteki iddiasını kaybetmemiş. Bir şans daha istiyor. Normaldir.\\r\\nNe var ki bunu zamanında kendisini başbakan seçen İngiliz halkından değil, başını yiyenlerden istiyor.\\r\\nHâliyle de talep ettiği şey artık İngiltere\\'nin iktidarı değil sömürge valiliği koltuğu.\\r\\nÖyle ya adamlar zaten İngiltere\\'ye, kökü Hindistan\\'ın sömürge soylularına dayanan bir yediemin atadılar. AB\\'nin sığ limanından demir alıp üçüncü yol okyanusuna yelken açmaya cüret eden İngiltere\\'nin yeniden entegrasyonu projesini bizzat kendi adamlarıyla yürütüyorlar.\\r\\nAli Kemal\\'in torunu Boris Bey\\'in daha fazla sadakat göstereceğine neden inansınlar ki?\\r\\nSizce de \"Üzerinde güneş batmayan imparatorluk\" için acıklı, bağımsızlığını arayan tüm ulus devletler içinse ibretlik bir akıbet değil mi?\\n***\\n\\nAĞANIN MALI ÇIKAR UŞAĞIN CANI\\r\\nİyi Parti\\'nin yerel seçimlere bağımsız girme kararını açıklamasının ardından, bağımsız gazeteci pozlarıyla tanıdığımız CHP\\'li arzuhalcileri izliyor musunuz?\\r\\nAçık açık köşelerinden İyi Partili siyasetçileri tehdit ediyorlar. Seçilmiş siyasilere \"Trol\" diyorlar.\\r\\nSukutuhayale uğrayan CHP ve belediye başkan adayları bile, ekranda \"Bana giren çıkan yok\" diye ağzını bozan gazeteciler kadar sinirli görünmüyorlar.\\n\\n\\n\\r\\nEvet, bir süredir bu hâldeler. Seçim öncesi de Kemal Bey\\'i terbiyesizce hırpalıyorlardı. O çok sevdikleri tarafsızlık numarasını bile yapamayacak kadar kontrolü kaybettiler.\\r\\nSizce neden?\\n\"İktidar hayalleri suya düştü, belediye mamaları da kesilecek ya, amatörleşmeleri ondan\" diyoruz, kızıyorlar.\\r\\n\"Peki neden o hâlde?\" diye ısrar ediyoruz.\\r\\n\"CHP\\'nin, muhalefetin iyiliği için\" diyorlar.\\r\\nAman, \"Peki ya iktidar taraftarlarının iyiliği ne olacak?\" diye sormayın.\\r\\n\"Yandaş\" derler.\\r\\nBiz bu uşaklarla ne yapacağız?\\n***\\n\\nBÜYÜKERŞEN\\'İN SUÇU NE?\\r\\nHerkes Eskişehir Büyükşehir Belediye Başkanı Yılmaz Büyükerşen\\'in yeniden aday gösterilmesini eleştiriyor.\\n86 yaşında olan Büyükerşen ise \"İnsan kendisini hissettiği yaşta sayar. Kendimi hiçbir zaman yaşlı hissetmedim\" diyor ve devam ediyor:\\r\\n\"1999\\'da siyasete girdim. Artan oy oranıyla 5 dönem seçimi kazandım. Son seçimde oy oranım yüzde 52.8, partimizin Eskişehir\\'de genelde oyu yüzde 25-30 arasında oynar. Türkiye\\'de muhalefet partileri içinde oy yüzdesi en yüksek olanlardan birisiyim.\"\\n\\n\\n\\r\\nBüyükerşen gayet dinç görünüyor. Yaşam enerjisini çalışmaktan aldığı ortada. Eleştirilere rağmen son tahlilde de Eskişehir halkını ikna etmeyi, sandıktan çıkmayı başarıyor. Kim ne diyebilir?\\r\\nBüyükerşen\\'in yerinde olsam, \"Söz, deneyimimi acemi rakiplerimin aleyhine kullanmayacağım\" der, güler geçerim.\\r\\nGerisini, genç olduğu hâlde bir ihtiyarı deviremeyen rakipleri düşünsün.\\n'"
      ]
     },
     "execution_count": 39,
     "metadata": {},
     "output_type": "execute_result"
    }
   ],
   "source": [
    "text=soup.find('div',class_='newsBox').text\n",
    "text\n"
   ]
  }
 ],
 "metadata": {
  "colab": {
   "provenance": []
  },
  "kernelspec": {
   "display_name": "Python 3 (ipykernel)",
   "language": "python",
   "name": "python3"
  },
  "language_info": {
   "codemirror_mode": {
    "name": "ipython",
    "version": 3
   },
   "file_extension": ".py",
   "mimetype": "text/x-python",
   "name": "python",
   "nbconvert_exporter": "python",
   "pygments_lexer": "ipython3",
   "version": "3.11.4"
  }
 },
 "nbformat": 4,
 "nbformat_minor": 1
}
